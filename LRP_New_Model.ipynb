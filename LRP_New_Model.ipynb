{
  "nbformat": 4,
  "nbformat_minor": 0,
  "metadata": {
    "colab": {
      "name": "LRP New_Model.ipynb",
      "provenance": [],
      "collapsed_sections": []
    },
    "kernelspec": {
      "name": "python3",
      "display_name": "Python 3"
    },
    "language_info": {
      "name": "python"
    },
    "accelerator": "GPU"
  },
  "cells": [
    {
      "cell_type": "markdown",
      "source": [
        "**https://github.com/krishnaik06/Fake-New-LSTM/blob/master/FakeNewsClassifierUsingBidirectionalLSTM.ipynb**"
      ],
      "metadata": {
        "id": "XK1gj1UNF5XU"
      }
    },
    {
      "cell_type": "markdown",
      "source": [
        "**https://github.com/ArrasL/LRP_for_LSTM**"
      ],
      "metadata": {
        "id": "ZQTKVkE7QYmU"
      }
    },
    {
      "cell_type": "markdown",
      "source": [
        "**Mount Drive**"
      ],
      "metadata": {
        "id": "4vCzKovlFL9a"
      }
    },
    {
      "cell_type": "code",
      "source": [
        "from google.colab import drive\n",
        "drive.mount('/content/drive')"
      ],
      "metadata": {
        "id": "YEc0PN0tFOAU",
        "colab": {
          "base_uri": "https://localhost:8080/"
        },
        "outputId": "12553c72-3897-478d-a6a9-3dfa459360cc"
      },
      "execution_count": null,
      "outputs": [
        {
          "output_type": "stream",
          "name": "stdout",
          "text": [
            "Drive already mounted at /content/drive; to attempt to forcibly remount, call drive.mount(\"/content/drive\", force_remount=True).\n"
          ]
        }
      ]
    },
    {
      "cell_type": "markdown",
      "source": [
        "**Import Libraries**"
      ],
      "metadata": {
        "id": "WqKGZvrSFSSX"
      }
    },
    {
      "cell_type": "code",
      "source": [
        "from sklearn.datasets import fetch_20newsgroups\n",
        "from sklearn.naive_bayes import MultinomialNB\n",
        "from sklearn.feature_extraction.text import TfidfVectorizer, CountVectorizer\n",
        "from sklearn import metrics\n",
        "from sklearn.linear_model import Ridge\n",
        "from sklearn.pipeline import make_pipeline\n",
        "from sklearn.model_selection import GridSearchCV\n",
        "from sklearn.preprocessing import StandardScaler\n",
        "from sklearn.datasets import make_blobs\n",
        "#!pip install sckit-datasets\n",
        "#from sklearn.datasets.base import Bunch\n",
        "from sklearn import svm\n",
        "from IPython.display import display, HTML\n",
        "import matplotlib.pyplot as plt\n",
        "import pandas as pd\n",
        "import numpy as np\n",
        "from sklearn.preprocessing import PolynomialFeatures\n",
        "from sklearn.pipeline import make_pipeline\n",
        "!pip install lime\n",
        "from lime.lime_text import LimeTextExplainer\n",
        "from lime.lime_text import LimeTextExplainer\n",
        "from lime import lime_text\n",
        "import os\n",
        "import sys\n",
        "import numpy as np\n",
        "from numpy import mean,std\n",
        "import pandas as pd\n",
        "import matplotlib.pyplot as plt\n",
        "from sklearn.neural_network import MLPClassifier\n",
        "from sklearn.neighbors import KNeighborsClassifier\n",
        "from sklearn.svm import SVC, NuSVC\n",
        "from sklearn.gaussian_process import GaussianProcessClassifier\n",
        "from sklearn.gaussian_process.kernels import RBF\n",
        "from sklearn.tree import DecisionTreeClassifier\n",
        "from sklearn.ensemble import RandomForestClassifier, AdaBoostClassifier, GradientBoostingClassifier\n",
        "from sklearn.naive_bayes import GaussianNB\n",
        "from sklearn.discriminant_analysis import QuadraticDiscriminantAnalysis, LinearDiscriminantAnalysis\n",
        "from sklearn.linear_model import LogisticRegression\n",
        "from sklearn.naive_bayes import MultinomialNB\n",
        "from sklearn.linear_model import SGDClassifier\n",
        "from lightgbm import LGBMClassifier\n",
        "from xgboost.sklearn import XGBClassifier\n",
        "from sklearn.model_selection import train_test_split, RepeatedKFold\n",
        "from sklearn.svm import SVC\n",
        "from sklearn.metrics import mean_squared_error\n",
        "from sklearn.model_selection import cross_val_score\n",
        "from sklearn.metrics import accuracy_score\n",
        "from sklearn.metrics import precision_score\n",
        "from sklearn.metrics import recall_score\n",
        "from sklearn.metrics import f1_score\n",
        "from sklearn.metrics import cohen_kappa_score\n",
        "from sklearn.metrics import roc_auc_score\n",
        "from sklearn.metrics import confusion_matrix\n",
        "import sklearn.metrics as metrics\n",
        "from sklearn.feature_extraction.text import TfidfVectorizer\n",
        "from sklearn.model_selection import train_test_split\n",
        "from sklearn.linear_model import LogisticRegression\n",
        "from sklearn.metrics import accuracy_score\n",
        "from sklearn.metrics import classification_report\n",
        "from sklearn import metrics\n",
        "import itertools\n",
        "from itertools import chain, product\n",
        "from itertools import zip_longest\n",
        "# importing libraries\n",
        "import pandas as pd\n",
        "import matplotlib.pyplot as plt\n",
        "import string\n",
        "import re\n",
        "import nltk\n",
        "import numpy as np\n",
        "from nltk.corpus import stopwords\n",
        "from nltk.tokenize import RegexpTokenizer\n",
        "from sklearn.model_selection import train_test_split\n",
        "from sklearn.feature_extraction.text import TfidfVectorizer\n",
        "from sklearn.linear_model import LogisticRegression\n",
        "import sklearn.metrics\n",
        "# downloading the nltk data for preprocessing\n",
        "import re\n",
        "import nltk\n",
        "nltk.download('stopwords')\n",
        "nltk.download('punkt')\n",
        "from nltk.corpus import stopwords"
      ],
      "metadata": {
        "id": "_kHePWQ6FODN",
        "colab": {
          "base_uri": "https://localhost:8080/"
        },
        "outputId": "8a6f9d49-e6ee-4921-c6ce-3b4f761ff3e8"
      },
      "execution_count": null,
      "outputs": [
        {
          "output_type": "stream",
          "name": "stdout",
          "text": [
            "Collecting lime\n",
            "  Downloading lime-0.2.0.1.tar.gz (275 kB)\n",
            "\u001b[?25l\r\u001b[K     |█▏                              | 10 kB 19.0 MB/s eta 0:00:01\r\u001b[K     |██▍                             | 20 kB 24.0 MB/s eta 0:00:01\r\u001b[K     |███▋                            | 30 kB 11.3 MB/s eta 0:00:01\r\u001b[K     |████▊                           | 40 kB 4.6 MB/s eta 0:00:01\r\u001b[K     |██████                          | 51 kB 4.6 MB/s eta 0:00:01\r\u001b[K     |███████▏                        | 61 kB 5.5 MB/s eta 0:00:01\r\u001b[K     |████████▎                       | 71 kB 5.6 MB/s eta 0:00:01\r\u001b[K     |█████████▌                      | 81 kB 5.6 MB/s eta 0:00:01\r\u001b[K     |██████████▊                     | 92 kB 6.3 MB/s eta 0:00:01\r\u001b[K     |███████████▉                    | 102 kB 5.4 MB/s eta 0:00:01\r\u001b[K     |█████████████                   | 112 kB 5.4 MB/s eta 0:00:01\r\u001b[K     |██████████████▎                 | 122 kB 5.4 MB/s eta 0:00:01\r\u001b[K     |███████████████▌                | 133 kB 5.4 MB/s eta 0:00:01\r\u001b[K     |████████████████▋               | 143 kB 5.4 MB/s eta 0:00:01\r\u001b[K     |█████████████████▉              | 153 kB 5.4 MB/s eta 0:00:01\r\u001b[K     |███████████████████             | 163 kB 5.4 MB/s eta 0:00:01\r\u001b[K     |████████████████████▏           | 174 kB 5.4 MB/s eta 0:00:01\r\u001b[K     |█████████████████████▍          | 184 kB 5.4 MB/s eta 0:00:01\r\u001b[K     |██████████████████████▋         | 194 kB 5.4 MB/s eta 0:00:01\r\u001b[K     |███████████████████████▊        | 204 kB 5.4 MB/s eta 0:00:01\r\u001b[K     |█████████████████████████       | 215 kB 5.4 MB/s eta 0:00:01\r\u001b[K     |██████████████████████████▏     | 225 kB 5.4 MB/s eta 0:00:01\r\u001b[K     |███████████████████████████▍    | 235 kB 5.4 MB/s eta 0:00:01\r\u001b[K     |████████████████████████████▌   | 245 kB 5.4 MB/s eta 0:00:01\r\u001b[K     |█████████████████████████████▊  | 256 kB 5.4 MB/s eta 0:00:01\r\u001b[K     |███████████████████████████████ | 266 kB 5.4 MB/s eta 0:00:01\r\u001b[K     |████████████████████████████████| 275 kB 5.4 MB/s \n",
            "\u001b[?25hRequirement already satisfied: matplotlib in /usr/local/lib/python3.7/dist-packages (from lime) (3.2.2)\n",
            "Requirement already satisfied: numpy in /usr/local/lib/python3.7/dist-packages (from lime) (1.21.5)\n",
            "Requirement already satisfied: scipy in /usr/local/lib/python3.7/dist-packages (from lime) (1.4.1)\n",
            "Requirement already satisfied: tqdm in /usr/local/lib/python3.7/dist-packages (from lime) (4.63.0)\n",
            "Requirement already satisfied: scikit-learn>=0.18 in /usr/local/lib/python3.7/dist-packages (from lime) (1.0.2)\n",
            "Requirement already satisfied: scikit-image>=0.12 in /usr/local/lib/python3.7/dist-packages (from lime) (0.18.3)\n",
            "Requirement already satisfied: pillow!=7.1.0,!=7.1.1,>=4.3.0 in /usr/local/lib/python3.7/dist-packages (from scikit-image>=0.12->lime) (7.1.2)\n",
            "Requirement already satisfied: tifffile>=2019.7.26 in /usr/local/lib/python3.7/dist-packages (from scikit-image>=0.12->lime) (2021.11.2)\n",
            "Requirement already satisfied: PyWavelets>=1.1.1 in /usr/local/lib/python3.7/dist-packages (from scikit-image>=0.12->lime) (1.2.0)\n",
            "Requirement already satisfied: imageio>=2.3.0 in /usr/local/lib/python3.7/dist-packages (from scikit-image>=0.12->lime) (2.4.1)\n",
            "Requirement already satisfied: networkx>=2.0 in /usr/local/lib/python3.7/dist-packages (from scikit-image>=0.12->lime) (2.6.3)\n",
            "Requirement already satisfied: python-dateutil>=2.1 in /usr/local/lib/python3.7/dist-packages (from matplotlib->lime) (2.8.2)\n",
            "Requirement already satisfied: cycler>=0.10 in /usr/local/lib/python3.7/dist-packages (from matplotlib->lime) (0.11.0)\n",
            "Requirement already satisfied: kiwisolver>=1.0.1 in /usr/local/lib/python3.7/dist-packages (from matplotlib->lime) (1.3.2)\n",
            "Requirement already satisfied: pyparsing!=2.0.4,!=2.1.2,!=2.1.6,>=2.0.1 in /usr/local/lib/python3.7/dist-packages (from matplotlib->lime) (3.0.7)\n",
            "Requirement already satisfied: six>=1.5 in /usr/local/lib/python3.7/dist-packages (from python-dateutil>=2.1->matplotlib->lime) (1.15.0)\n",
            "Requirement already satisfied: joblib>=0.11 in /usr/local/lib/python3.7/dist-packages (from scikit-learn>=0.18->lime) (1.1.0)\n",
            "Requirement already satisfied: threadpoolctl>=2.0.0 in /usr/local/lib/python3.7/dist-packages (from scikit-learn>=0.18->lime) (3.1.0)\n",
            "Building wheels for collected packages: lime\n",
            "  Building wheel for lime (setup.py) ... \u001b[?25l\u001b[?25hdone\n",
            "  Created wheel for lime: filename=lime-0.2.0.1-py3-none-any.whl size=283857 sha256=6e73593ee2aeab9a6f1d2945be33d38b2267fa7b9227484c9876e31f2b48457e\n",
            "  Stored in directory: /root/.cache/pip/wheels/ca/cb/e5/ac701e12d365a08917bf4c6171c0961bc880a8181359c66aa7\n",
            "Successfully built lime\n",
            "Installing collected packages: lime\n",
            "Successfully installed lime-0.2.0.1\n",
            "[nltk_data] Downloading package stopwords to /root/nltk_data...\n",
            "[nltk_data]   Unzipping corpora/stopwords.zip.\n",
            "[nltk_data] Downloading package punkt to /root/nltk_data...\n",
            "[nltk_data]   Unzipping tokenizers/punkt.zip.\n"
          ]
        }
      ]
    },
    {
      "cell_type": "markdown",
      "source": [
        "**Load Datasets**"
      ],
      "metadata": {
        "id": "3ZFxpHtuFV1L"
      }
    },
    {
      "cell_type": "code",
      "source": [
        "Train_data = pd.read_csv('/content/drive/MyDrive/Natural Language Processing/Fake News Detection/Conference Paper/Data/COVID-19/Constraint_Train.csv')\n",
        "Test_data = pd.read_csv('/content/drive/MyDrive/Natural Language Processing/Fake News Detection/Conference Paper/Data/COVID-19/Constraint_Test.csv')\n",
        "Val_data = pd.read_csv('/content/drive/MyDrive/Natural Language Processing/Fake News Detection/Conference Paper/Data/COVID-19/Constraint_Val.csv')"
      ],
      "metadata": {
        "id": "nv9HbeOrFOF3"
      },
      "execution_count": null,
      "outputs": []
    },
    {
      "cell_type": "code",
      "source": [
        "Train_data['label'] = Train_data['label'].apply(lambda x: 1 if x == 'real' else 0)\n",
        "Val_data['label'] = Val_data['label'].apply(lambda x: 1 if x == 'real' else 0)"
      ],
      "metadata": {
        "id": "1gTNoALNFOIr"
      },
      "execution_count": null,
      "outputs": []
    },
    {
      "cell_type": "code",
      "source": [
        "Train_data.head()"
      ],
      "metadata": {
        "id": "6QY9_WNvFOPu",
        "colab": {
          "base_uri": "https://localhost:8080/",
          "height": 206
        },
        "outputId": "ce0a1e29-17ce-4955-ead6-3a16a40ddb17"
      },
      "execution_count": null,
      "outputs": [
        {
          "output_type": "execute_result",
          "data": {
            "text/plain": [
              "   id                                              tweet  label\n",
              "0   1  The CDC currently reports 99031 deaths. In gen...      1\n",
              "1   2  States reported 1121 deaths a small rise from ...      1\n",
              "2   3  Politically Correct Woman (Almost) Uses Pandem...      0\n",
              "3   4  #IndiaFightsCorona: We have 1524 #COVID testin...      1\n",
              "4   5  Populous states can generate large case counts...      1"
            ],
            "text/html": [
              "\n",
              "  <div id=\"df-4fc50dbb-031f-4500-9f87-c805f524d89c\">\n",
              "    <div class=\"colab-df-container\">\n",
              "      <div>\n",
              "<style scoped>\n",
              "    .dataframe tbody tr th:only-of-type {\n",
              "        vertical-align: middle;\n",
              "    }\n",
              "\n",
              "    .dataframe tbody tr th {\n",
              "        vertical-align: top;\n",
              "    }\n",
              "\n",
              "    .dataframe thead th {\n",
              "        text-align: right;\n",
              "    }\n",
              "</style>\n",
              "<table border=\"1\" class=\"dataframe\">\n",
              "  <thead>\n",
              "    <tr style=\"text-align: right;\">\n",
              "      <th></th>\n",
              "      <th>id</th>\n",
              "      <th>tweet</th>\n",
              "      <th>label</th>\n",
              "    </tr>\n",
              "  </thead>\n",
              "  <tbody>\n",
              "    <tr>\n",
              "      <th>0</th>\n",
              "      <td>1</td>\n",
              "      <td>The CDC currently reports 99031 deaths. In gen...</td>\n",
              "      <td>1</td>\n",
              "    </tr>\n",
              "    <tr>\n",
              "      <th>1</th>\n",
              "      <td>2</td>\n",
              "      <td>States reported 1121 deaths a small rise from ...</td>\n",
              "      <td>1</td>\n",
              "    </tr>\n",
              "    <tr>\n",
              "      <th>2</th>\n",
              "      <td>3</td>\n",
              "      <td>Politically Correct Woman (Almost) Uses Pandem...</td>\n",
              "      <td>0</td>\n",
              "    </tr>\n",
              "    <tr>\n",
              "      <th>3</th>\n",
              "      <td>4</td>\n",
              "      <td>#IndiaFightsCorona: We have 1524 #COVID testin...</td>\n",
              "      <td>1</td>\n",
              "    </tr>\n",
              "    <tr>\n",
              "      <th>4</th>\n",
              "      <td>5</td>\n",
              "      <td>Populous states can generate large case counts...</td>\n",
              "      <td>1</td>\n",
              "    </tr>\n",
              "  </tbody>\n",
              "</table>\n",
              "</div>\n",
              "      <button class=\"colab-df-convert\" onclick=\"convertToInteractive('df-4fc50dbb-031f-4500-9f87-c805f524d89c')\"\n",
              "              title=\"Convert this dataframe to an interactive table.\"\n",
              "              style=\"display:none;\">\n",
              "        \n",
              "  <svg xmlns=\"http://www.w3.org/2000/svg\" height=\"24px\"viewBox=\"0 0 24 24\"\n",
              "       width=\"24px\">\n",
              "    <path d=\"M0 0h24v24H0V0z\" fill=\"none\"/>\n",
              "    <path d=\"M18.56 5.44l.94 2.06.94-2.06 2.06-.94-2.06-.94-.94-2.06-.94 2.06-2.06.94zm-11 1L8.5 8.5l.94-2.06 2.06-.94-2.06-.94L8.5 2.5l-.94 2.06-2.06.94zm10 10l.94 2.06.94-2.06 2.06-.94-2.06-.94-.94-2.06-.94 2.06-2.06.94z\"/><path d=\"M17.41 7.96l-1.37-1.37c-.4-.4-.92-.59-1.43-.59-.52 0-1.04.2-1.43.59L10.3 9.45l-7.72 7.72c-.78.78-.78 2.05 0 2.83L4 21.41c.39.39.9.59 1.41.59.51 0 1.02-.2 1.41-.59l7.78-7.78 2.81-2.81c.8-.78.8-2.07 0-2.86zM5.41 20L4 18.59l7.72-7.72 1.47 1.35L5.41 20z\"/>\n",
              "  </svg>\n",
              "      </button>\n",
              "      \n",
              "  <style>\n",
              "    .colab-df-container {\n",
              "      display:flex;\n",
              "      flex-wrap:wrap;\n",
              "      gap: 12px;\n",
              "    }\n",
              "\n",
              "    .colab-df-convert {\n",
              "      background-color: #E8F0FE;\n",
              "      border: none;\n",
              "      border-radius: 50%;\n",
              "      cursor: pointer;\n",
              "      display: none;\n",
              "      fill: #1967D2;\n",
              "      height: 32px;\n",
              "      padding: 0 0 0 0;\n",
              "      width: 32px;\n",
              "    }\n",
              "\n",
              "    .colab-df-convert:hover {\n",
              "      background-color: #E2EBFA;\n",
              "      box-shadow: 0px 1px 2px rgba(60, 64, 67, 0.3), 0px 1px 3px 1px rgba(60, 64, 67, 0.15);\n",
              "      fill: #174EA6;\n",
              "    }\n",
              "\n",
              "    [theme=dark] .colab-df-convert {\n",
              "      background-color: #3B4455;\n",
              "      fill: #D2E3FC;\n",
              "    }\n",
              "\n",
              "    [theme=dark] .colab-df-convert:hover {\n",
              "      background-color: #434B5C;\n",
              "      box-shadow: 0px 1px 3px 1px rgba(0, 0, 0, 0.15);\n",
              "      filter: drop-shadow(0px 1px 2px rgba(0, 0, 0, 0.3));\n",
              "      fill: #FFFFFF;\n",
              "    }\n",
              "  </style>\n",
              "\n",
              "      <script>\n",
              "        const buttonEl =\n",
              "          document.querySelector('#df-4fc50dbb-031f-4500-9f87-c805f524d89c button.colab-df-convert');\n",
              "        buttonEl.style.display =\n",
              "          google.colab.kernel.accessAllowed ? 'block' : 'none';\n",
              "\n",
              "        async function convertToInteractive(key) {\n",
              "          const element = document.querySelector('#df-4fc50dbb-031f-4500-9f87-c805f524d89c');\n",
              "          const dataTable =\n",
              "            await google.colab.kernel.invokeFunction('convertToInteractive',\n",
              "                                                     [key], {});\n",
              "          if (!dataTable) return;\n",
              "\n",
              "          const docLinkHtml = 'Like what you see? Visit the ' +\n",
              "            '<a target=\"_blank\" href=https://colab.research.google.com/notebooks/data_table.ipynb>data table notebook</a>'\n",
              "            + ' to learn more about interactive tables.';\n",
              "          element.innerHTML = '';\n",
              "          dataTable['output_type'] = 'display_data';\n",
              "          await google.colab.output.renderOutput(dataTable, element);\n",
              "          const docLink = document.createElement('div');\n",
              "          docLink.innerHTML = docLinkHtml;\n",
              "          element.appendChild(docLink);\n",
              "        }\n",
              "      </script>\n",
              "    </div>\n",
              "  </div>\n",
              "  "
            ]
          },
          "metadata": {},
          "execution_count": 6
        }
      ]
    },
    {
      "cell_type": "code",
      "source": [
        "Val_data.head()"
      ],
      "metadata": {
        "id": "gV8ZEw7qFORP",
        "colab": {
          "base_uri": "https://localhost:8080/",
          "height": 206
        },
        "outputId": "58530acb-96ab-4177-a306-ae9e051ee170"
      },
      "execution_count": null,
      "outputs": [
        {
          "output_type": "execute_result",
          "data": {
            "text/plain": [
              "   id                                              tweet  label\n",
              "0   1  Chinese converting to Islam after realising th...      0\n",
              "1   2  11 out of 13 people (from the Diamond Princess...      0\n",
              "2   3  COVID-19 Is Caused By A Bacterium, Not Virus A...      0\n",
              "3   4  Mike Pence in RNC speech praises Donald Trump’...      0\n",
              "4   5  6/10 Sky's @EdConwaySky explains the latest #C...      1"
            ],
            "text/html": [
              "\n",
              "  <div id=\"df-d3867f75-3f7b-482f-9d06-306f92afacbd\">\n",
              "    <div class=\"colab-df-container\">\n",
              "      <div>\n",
              "<style scoped>\n",
              "    .dataframe tbody tr th:only-of-type {\n",
              "        vertical-align: middle;\n",
              "    }\n",
              "\n",
              "    .dataframe tbody tr th {\n",
              "        vertical-align: top;\n",
              "    }\n",
              "\n",
              "    .dataframe thead th {\n",
              "        text-align: right;\n",
              "    }\n",
              "</style>\n",
              "<table border=\"1\" class=\"dataframe\">\n",
              "  <thead>\n",
              "    <tr style=\"text-align: right;\">\n",
              "      <th></th>\n",
              "      <th>id</th>\n",
              "      <th>tweet</th>\n",
              "      <th>label</th>\n",
              "    </tr>\n",
              "  </thead>\n",
              "  <tbody>\n",
              "    <tr>\n",
              "      <th>0</th>\n",
              "      <td>1</td>\n",
              "      <td>Chinese converting to Islam after realising th...</td>\n",
              "      <td>0</td>\n",
              "    </tr>\n",
              "    <tr>\n",
              "      <th>1</th>\n",
              "      <td>2</td>\n",
              "      <td>11 out of 13 people (from the Diamond Princess...</td>\n",
              "      <td>0</td>\n",
              "    </tr>\n",
              "    <tr>\n",
              "      <th>2</th>\n",
              "      <td>3</td>\n",
              "      <td>COVID-19 Is Caused By A Bacterium, Not Virus A...</td>\n",
              "      <td>0</td>\n",
              "    </tr>\n",
              "    <tr>\n",
              "      <th>3</th>\n",
              "      <td>4</td>\n",
              "      <td>Mike Pence in RNC speech praises Donald Trump’...</td>\n",
              "      <td>0</td>\n",
              "    </tr>\n",
              "    <tr>\n",
              "      <th>4</th>\n",
              "      <td>5</td>\n",
              "      <td>6/10 Sky's @EdConwaySky explains the latest #C...</td>\n",
              "      <td>1</td>\n",
              "    </tr>\n",
              "  </tbody>\n",
              "</table>\n",
              "</div>\n",
              "      <button class=\"colab-df-convert\" onclick=\"convertToInteractive('df-d3867f75-3f7b-482f-9d06-306f92afacbd')\"\n",
              "              title=\"Convert this dataframe to an interactive table.\"\n",
              "              style=\"display:none;\">\n",
              "        \n",
              "  <svg xmlns=\"http://www.w3.org/2000/svg\" height=\"24px\"viewBox=\"0 0 24 24\"\n",
              "       width=\"24px\">\n",
              "    <path d=\"M0 0h24v24H0V0z\" fill=\"none\"/>\n",
              "    <path d=\"M18.56 5.44l.94 2.06.94-2.06 2.06-.94-2.06-.94-.94-2.06-.94 2.06-2.06.94zm-11 1L8.5 8.5l.94-2.06 2.06-.94-2.06-.94L8.5 2.5l-.94 2.06-2.06.94zm10 10l.94 2.06.94-2.06 2.06-.94-2.06-.94-.94-2.06-.94 2.06-2.06.94z\"/><path d=\"M17.41 7.96l-1.37-1.37c-.4-.4-.92-.59-1.43-.59-.52 0-1.04.2-1.43.59L10.3 9.45l-7.72 7.72c-.78.78-.78 2.05 0 2.83L4 21.41c.39.39.9.59 1.41.59.51 0 1.02-.2 1.41-.59l7.78-7.78 2.81-2.81c.8-.78.8-2.07 0-2.86zM5.41 20L4 18.59l7.72-7.72 1.47 1.35L5.41 20z\"/>\n",
              "  </svg>\n",
              "      </button>\n",
              "      \n",
              "  <style>\n",
              "    .colab-df-container {\n",
              "      display:flex;\n",
              "      flex-wrap:wrap;\n",
              "      gap: 12px;\n",
              "    }\n",
              "\n",
              "    .colab-df-convert {\n",
              "      background-color: #E8F0FE;\n",
              "      border: none;\n",
              "      border-radius: 50%;\n",
              "      cursor: pointer;\n",
              "      display: none;\n",
              "      fill: #1967D2;\n",
              "      height: 32px;\n",
              "      padding: 0 0 0 0;\n",
              "      width: 32px;\n",
              "    }\n",
              "\n",
              "    .colab-df-convert:hover {\n",
              "      background-color: #E2EBFA;\n",
              "      box-shadow: 0px 1px 2px rgba(60, 64, 67, 0.3), 0px 1px 3px 1px rgba(60, 64, 67, 0.15);\n",
              "      fill: #174EA6;\n",
              "    }\n",
              "\n",
              "    [theme=dark] .colab-df-convert {\n",
              "      background-color: #3B4455;\n",
              "      fill: #D2E3FC;\n",
              "    }\n",
              "\n",
              "    [theme=dark] .colab-df-convert:hover {\n",
              "      background-color: #434B5C;\n",
              "      box-shadow: 0px 1px 3px 1px rgba(0, 0, 0, 0.15);\n",
              "      filter: drop-shadow(0px 1px 2px rgba(0, 0, 0, 0.3));\n",
              "      fill: #FFFFFF;\n",
              "    }\n",
              "  </style>\n",
              "\n",
              "      <script>\n",
              "        const buttonEl =\n",
              "          document.querySelector('#df-d3867f75-3f7b-482f-9d06-306f92afacbd button.colab-df-convert');\n",
              "        buttonEl.style.display =\n",
              "          google.colab.kernel.accessAllowed ? 'block' : 'none';\n",
              "\n",
              "        async function convertToInteractive(key) {\n",
              "          const element = document.querySelector('#df-d3867f75-3f7b-482f-9d06-306f92afacbd');\n",
              "          const dataTable =\n",
              "            await google.colab.kernel.invokeFunction('convertToInteractive',\n",
              "                                                     [key], {});\n",
              "          if (!dataTable) return;\n",
              "\n",
              "          const docLinkHtml = 'Like what you see? Visit the ' +\n",
              "            '<a target=\"_blank\" href=https://colab.research.google.com/notebooks/data_table.ipynb>data table notebook</a>'\n",
              "            + ' to learn more about interactive tables.';\n",
              "          element.innerHTML = '';\n",
              "          dataTable['output_type'] = 'display_data';\n",
              "          await google.colab.output.renderOutput(dataTable, element);\n",
              "          const docLink = document.createElement('div');\n",
              "          docLink.innerHTML = docLinkHtml;\n",
              "          element.appendChild(docLink);\n",
              "        }\n",
              "      </script>\n",
              "    </div>\n",
              "  </div>\n",
              "  "
            ]
          },
          "metadata": {},
          "execution_count": 7
        }
      ]
    },
    {
      "cell_type": "code",
      "source": [
        "Test_data.head()"
      ],
      "metadata": {
        "id": "IiNXpFGmFOSv",
        "colab": {
          "base_uri": "https://localhost:8080/",
          "height": 206
        },
        "outputId": "61876eb3-b103-45bb-af1c-2d122b94ba3c"
      },
      "execution_count": null,
      "outputs": [
        {
          "output_type": "execute_result",
          "data": {
            "text/plain": [
              "   id                                              tweet\n",
              "0   1  Our daily update is published. States reported...\n",
              "1   2             Alfalfa is the only cure for COVID-19.\n",
              "2   3  President Trump Asked What He Would Do If He W...\n",
              "3   4  States reported 630 deaths. We are still seein...\n",
              "4   5  This is the sixth time a global health emergen..."
            ],
            "text/html": [
              "\n",
              "  <div id=\"df-9b82db2b-3d5f-445a-8f6c-481dbf8ae0d9\">\n",
              "    <div class=\"colab-df-container\">\n",
              "      <div>\n",
              "<style scoped>\n",
              "    .dataframe tbody tr th:only-of-type {\n",
              "        vertical-align: middle;\n",
              "    }\n",
              "\n",
              "    .dataframe tbody tr th {\n",
              "        vertical-align: top;\n",
              "    }\n",
              "\n",
              "    .dataframe thead th {\n",
              "        text-align: right;\n",
              "    }\n",
              "</style>\n",
              "<table border=\"1\" class=\"dataframe\">\n",
              "  <thead>\n",
              "    <tr style=\"text-align: right;\">\n",
              "      <th></th>\n",
              "      <th>id</th>\n",
              "      <th>tweet</th>\n",
              "    </tr>\n",
              "  </thead>\n",
              "  <tbody>\n",
              "    <tr>\n",
              "      <th>0</th>\n",
              "      <td>1</td>\n",
              "      <td>Our daily update is published. States reported...</td>\n",
              "    </tr>\n",
              "    <tr>\n",
              "      <th>1</th>\n",
              "      <td>2</td>\n",
              "      <td>Alfalfa is the only cure for COVID-19.</td>\n",
              "    </tr>\n",
              "    <tr>\n",
              "      <th>2</th>\n",
              "      <td>3</td>\n",
              "      <td>President Trump Asked What He Would Do If He W...</td>\n",
              "    </tr>\n",
              "    <tr>\n",
              "      <th>3</th>\n",
              "      <td>4</td>\n",
              "      <td>States reported 630 deaths. We are still seein...</td>\n",
              "    </tr>\n",
              "    <tr>\n",
              "      <th>4</th>\n",
              "      <td>5</td>\n",
              "      <td>This is the sixth time a global health emergen...</td>\n",
              "    </tr>\n",
              "  </tbody>\n",
              "</table>\n",
              "</div>\n",
              "      <button class=\"colab-df-convert\" onclick=\"convertToInteractive('df-9b82db2b-3d5f-445a-8f6c-481dbf8ae0d9')\"\n",
              "              title=\"Convert this dataframe to an interactive table.\"\n",
              "              style=\"display:none;\">\n",
              "        \n",
              "  <svg xmlns=\"http://www.w3.org/2000/svg\" height=\"24px\"viewBox=\"0 0 24 24\"\n",
              "       width=\"24px\">\n",
              "    <path d=\"M0 0h24v24H0V0z\" fill=\"none\"/>\n",
              "    <path d=\"M18.56 5.44l.94 2.06.94-2.06 2.06-.94-2.06-.94-.94-2.06-.94 2.06-2.06.94zm-11 1L8.5 8.5l.94-2.06 2.06-.94-2.06-.94L8.5 2.5l-.94 2.06-2.06.94zm10 10l.94 2.06.94-2.06 2.06-.94-2.06-.94-.94-2.06-.94 2.06-2.06.94z\"/><path d=\"M17.41 7.96l-1.37-1.37c-.4-.4-.92-.59-1.43-.59-.52 0-1.04.2-1.43.59L10.3 9.45l-7.72 7.72c-.78.78-.78 2.05 0 2.83L4 21.41c.39.39.9.59 1.41.59.51 0 1.02-.2 1.41-.59l7.78-7.78 2.81-2.81c.8-.78.8-2.07 0-2.86zM5.41 20L4 18.59l7.72-7.72 1.47 1.35L5.41 20z\"/>\n",
              "  </svg>\n",
              "      </button>\n",
              "      \n",
              "  <style>\n",
              "    .colab-df-container {\n",
              "      display:flex;\n",
              "      flex-wrap:wrap;\n",
              "      gap: 12px;\n",
              "    }\n",
              "\n",
              "    .colab-df-convert {\n",
              "      background-color: #E8F0FE;\n",
              "      border: none;\n",
              "      border-radius: 50%;\n",
              "      cursor: pointer;\n",
              "      display: none;\n",
              "      fill: #1967D2;\n",
              "      height: 32px;\n",
              "      padding: 0 0 0 0;\n",
              "      width: 32px;\n",
              "    }\n",
              "\n",
              "    .colab-df-convert:hover {\n",
              "      background-color: #E2EBFA;\n",
              "      box-shadow: 0px 1px 2px rgba(60, 64, 67, 0.3), 0px 1px 3px 1px rgba(60, 64, 67, 0.15);\n",
              "      fill: #174EA6;\n",
              "    }\n",
              "\n",
              "    [theme=dark] .colab-df-convert {\n",
              "      background-color: #3B4455;\n",
              "      fill: #D2E3FC;\n",
              "    }\n",
              "\n",
              "    [theme=dark] .colab-df-convert:hover {\n",
              "      background-color: #434B5C;\n",
              "      box-shadow: 0px 1px 3px 1px rgba(0, 0, 0, 0.15);\n",
              "      filter: drop-shadow(0px 1px 2px rgba(0, 0, 0, 0.3));\n",
              "      fill: #FFFFFF;\n",
              "    }\n",
              "  </style>\n",
              "\n",
              "      <script>\n",
              "        const buttonEl =\n",
              "          document.querySelector('#df-9b82db2b-3d5f-445a-8f6c-481dbf8ae0d9 button.colab-df-convert');\n",
              "        buttonEl.style.display =\n",
              "          google.colab.kernel.accessAllowed ? 'block' : 'none';\n",
              "\n",
              "        async function convertToInteractive(key) {\n",
              "          const element = document.querySelector('#df-9b82db2b-3d5f-445a-8f6c-481dbf8ae0d9');\n",
              "          const dataTable =\n",
              "            await google.colab.kernel.invokeFunction('convertToInteractive',\n",
              "                                                     [key], {});\n",
              "          if (!dataTable) return;\n",
              "\n",
              "          const docLinkHtml = 'Like what you see? Visit the ' +\n",
              "            '<a target=\"_blank\" href=https://colab.research.google.com/notebooks/data_table.ipynb>data table notebook</a>'\n",
              "            + ' to learn more about interactive tables.';\n",
              "          element.innerHTML = '';\n",
              "          dataTable['output_type'] = 'display_data';\n",
              "          await google.colab.output.renderOutput(dataTable, element);\n",
              "          const docLink = document.createElement('div');\n",
              "          docLink.innerHTML = docLinkHtml;\n",
              "          element.appendChild(docLink);\n",
              "        }\n",
              "      </script>\n",
              "    </div>\n",
              "  </div>\n",
              "  "
            ]
          },
          "metadata": {},
          "execution_count": 8
        }
      ]
    },
    {
      "cell_type": "code",
      "source": [
        "Train_data.shape, Val_data.shape, Test_data.shape"
      ],
      "metadata": {
        "id": "vO7vdqPwFOUK",
        "colab": {
          "base_uri": "https://localhost:8080/"
        },
        "outputId": "293e8237-5e8e-43dd-bae3-14a788732a39"
      },
      "execution_count": null,
      "outputs": [
        {
          "output_type": "execute_result",
          "data": {
            "text/plain": [
              "((6420, 3), (2140, 3), (2140, 2))"
            ]
          },
          "metadata": {},
          "execution_count": 9
        }
      ]
    },
    {
      "cell_type": "markdown",
      "source": [
        "**Text Preprocessing**"
      ],
      "metadata": {
        "id": "wsJPOeT3FowO"
      }
    },
    {
      "cell_type": "code",
      "source": [
        "# NLP pre-processing\n",
        "# remove urls, handles, and the hashtag from hashtags \n",
        "# (taken from https://stackoverflow.com/questions/8376691/how-to-remove-hashtag-user-link-of-a-tweet-using-regular-expression)\n",
        "def remove_urls(text):\n",
        "  new_text = ' '.join(re.sub(\"(@[A-Za-z0-9]+)|([^0-9A-Za-z \\t])|(\\w+:\\/\\/\\S+)\",\" \",text).split())\n",
        "  return new_text\n",
        "\n",
        "# make all text lowercase\n",
        "def text_lowercase(text): \n",
        "  return text.lower()\n",
        "\n",
        "# remove numbers\n",
        "def remove_numbers(text): \n",
        "  result = re.sub(r'\\d+', '', text) \n",
        "  return result\n",
        "\n",
        "# remove punctuation\n",
        "def remove_punctuation(text): \n",
        "  translator = str.maketrans('', '', string.punctuation)\n",
        "  return text.translate(translator)\n",
        "\n",
        "# function for all pre-processing steps\n",
        "def preprocessing(text):\n",
        "  text = text_lowercase(text)\n",
        "  text = remove_urls(text)\n",
        "  text = remove_numbers(text)\n",
        "  text = remove_punctuation(text)\n",
        "  return text\n",
        "\n",
        "# pre-processing the text body column\n",
        "pp_text = []\n",
        "for text_data in Train_data['tweet']:\n",
        "  # check if string\n",
        "  if isinstance(text_data, str):\n",
        "    pp_text_data = preprocessing(text_data)\n",
        "    pp_text.append(pp_text_data)\n",
        "   # if not string\n",
        "  else:\n",
        "    pp_text.append(np.NaN)\n",
        "\n",
        "# add pre-processed column to dataset\n",
        "Train_data['text'] = pp_text"
      ],
      "metadata": {
        "id": "FGwxh-b-FOW0"
      },
      "execution_count": null,
      "outputs": []
    },
    {
      "cell_type": "code",
      "source": [
        "df = Train_data\n",
        "df.head()"
      ],
      "metadata": {
        "id": "lV1s_ifLOADl",
        "colab": {
          "base_uri": "https://localhost:8080/",
          "height": 206
        },
        "outputId": "d40bc595-2f25-428a-b2cc-fd78c7964430"
      },
      "execution_count": null,
      "outputs": [
        {
          "output_type": "execute_result",
          "data": {
            "text/plain": [
              "   id                                              tweet  label  \\\n",
              "0   1  The CDC currently reports 99031 deaths. In gen...      1   \n",
              "1   2  States reported 1121 deaths a small rise from ...      1   \n",
              "2   3  Politically Correct Woman (Almost) Uses Pandem...      0   \n",
              "3   4  #IndiaFightsCorona: We have 1524 #COVID testin...      1   \n",
              "4   5  Populous states can generate large case counts...      1   \n",
              "\n",
              "                                                text  \n",
              "0  the cdc currently reports  deaths in general t...  \n",
              "1  states reported  deaths a small rise from last...  \n",
              "2  politically correct woman almost uses pandemic...  \n",
              "3  indiafightscorona we have  covid testing labor...  \n",
              "4  populous states can generate large case counts...  "
            ],
            "text/html": [
              "\n",
              "  <div id=\"df-a0371dd9-fa73-46d5-bb8e-4f6a05738914\">\n",
              "    <div class=\"colab-df-container\">\n",
              "      <div>\n",
              "<style scoped>\n",
              "    .dataframe tbody tr th:only-of-type {\n",
              "        vertical-align: middle;\n",
              "    }\n",
              "\n",
              "    .dataframe tbody tr th {\n",
              "        vertical-align: top;\n",
              "    }\n",
              "\n",
              "    .dataframe thead th {\n",
              "        text-align: right;\n",
              "    }\n",
              "</style>\n",
              "<table border=\"1\" class=\"dataframe\">\n",
              "  <thead>\n",
              "    <tr style=\"text-align: right;\">\n",
              "      <th></th>\n",
              "      <th>id</th>\n",
              "      <th>tweet</th>\n",
              "      <th>label</th>\n",
              "      <th>text</th>\n",
              "    </tr>\n",
              "  </thead>\n",
              "  <tbody>\n",
              "    <tr>\n",
              "      <th>0</th>\n",
              "      <td>1</td>\n",
              "      <td>The CDC currently reports 99031 deaths. In gen...</td>\n",
              "      <td>1</td>\n",
              "      <td>the cdc currently reports  deaths in general t...</td>\n",
              "    </tr>\n",
              "    <tr>\n",
              "      <th>1</th>\n",
              "      <td>2</td>\n",
              "      <td>States reported 1121 deaths a small rise from ...</td>\n",
              "      <td>1</td>\n",
              "      <td>states reported  deaths a small rise from last...</td>\n",
              "    </tr>\n",
              "    <tr>\n",
              "      <th>2</th>\n",
              "      <td>3</td>\n",
              "      <td>Politically Correct Woman (Almost) Uses Pandem...</td>\n",
              "      <td>0</td>\n",
              "      <td>politically correct woman almost uses pandemic...</td>\n",
              "    </tr>\n",
              "    <tr>\n",
              "      <th>3</th>\n",
              "      <td>4</td>\n",
              "      <td>#IndiaFightsCorona: We have 1524 #COVID testin...</td>\n",
              "      <td>1</td>\n",
              "      <td>indiafightscorona we have  covid testing labor...</td>\n",
              "    </tr>\n",
              "    <tr>\n",
              "      <th>4</th>\n",
              "      <td>5</td>\n",
              "      <td>Populous states can generate large case counts...</td>\n",
              "      <td>1</td>\n",
              "      <td>populous states can generate large case counts...</td>\n",
              "    </tr>\n",
              "  </tbody>\n",
              "</table>\n",
              "</div>\n",
              "      <button class=\"colab-df-convert\" onclick=\"convertToInteractive('df-a0371dd9-fa73-46d5-bb8e-4f6a05738914')\"\n",
              "              title=\"Convert this dataframe to an interactive table.\"\n",
              "              style=\"display:none;\">\n",
              "        \n",
              "  <svg xmlns=\"http://www.w3.org/2000/svg\" height=\"24px\"viewBox=\"0 0 24 24\"\n",
              "       width=\"24px\">\n",
              "    <path d=\"M0 0h24v24H0V0z\" fill=\"none\"/>\n",
              "    <path d=\"M18.56 5.44l.94 2.06.94-2.06 2.06-.94-2.06-.94-.94-2.06-.94 2.06-2.06.94zm-11 1L8.5 8.5l.94-2.06 2.06-.94-2.06-.94L8.5 2.5l-.94 2.06-2.06.94zm10 10l.94 2.06.94-2.06 2.06-.94-2.06-.94-.94-2.06-.94 2.06-2.06.94z\"/><path d=\"M17.41 7.96l-1.37-1.37c-.4-.4-.92-.59-1.43-.59-.52 0-1.04.2-1.43.59L10.3 9.45l-7.72 7.72c-.78.78-.78 2.05 0 2.83L4 21.41c.39.39.9.59 1.41.59.51 0 1.02-.2 1.41-.59l7.78-7.78 2.81-2.81c.8-.78.8-2.07 0-2.86zM5.41 20L4 18.59l7.72-7.72 1.47 1.35L5.41 20z\"/>\n",
              "  </svg>\n",
              "      </button>\n",
              "      \n",
              "  <style>\n",
              "    .colab-df-container {\n",
              "      display:flex;\n",
              "      flex-wrap:wrap;\n",
              "      gap: 12px;\n",
              "    }\n",
              "\n",
              "    .colab-df-convert {\n",
              "      background-color: #E8F0FE;\n",
              "      border: none;\n",
              "      border-radius: 50%;\n",
              "      cursor: pointer;\n",
              "      display: none;\n",
              "      fill: #1967D2;\n",
              "      height: 32px;\n",
              "      padding: 0 0 0 0;\n",
              "      width: 32px;\n",
              "    }\n",
              "\n",
              "    .colab-df-convert:hover {\n",
              "      background-color: #E2EBFA;\n",
              "      box-shadow: 0px 1px 2px rgba(60, 64, 67, 0.3), 0px 1px 3px 1px rgba(60, 64, 67, 0.15);\n",
              "      fill: #174EA6;\n",
              "    }\n",
              "\n",
              "    [theme=dark] .colab-df-convert {\n",
              "      background-color: #3B4455;\n",
              "      fill: #D2E3FC;\n",
              "    }\n",
              "\n",
              "    [theme=dark] .colab-df-convert:hover {\n",
              "      background-color: #434B5C;\n",
              "      box-shadow: 0px 1px 3px 1px rgba(0, 0, 0, 0.15);\n",
              "      filter: drop-shadow(0px 1px 2px rgba(0, 0, 0, 0.3));\n",
              "      fill: #FFFFFF;\n",
              "    }\n",
              "  </style>\n",
              "\n",
              "      <script>\n",
              "        const buttonEl =\n",
              "          document.querySelector('#df-a0371dd9-fa73-46d5-bb8e-4f6a05738914 button.colab-df-convert');\n",
              "        buttonEl.style.display =\n",
              "          google.colab.kernel.accessAllowed ? 'block' : 'none';\n",
              "\n",
              "        async function convertToInteractive(key) {\n",
              "          const element = document.querySelector('#df-a0371dd9-fa73-46d5-bb8e-4f6a05738914');\n",
              "          const dataTable =\n",
              "            await google.colab.kernel.invokeFunction('convertToInteractive',\n",
              "                                                     [key], {});\n",
              "          if (!dataTable) return;\n",
              "\n",
              "          const docLinkHtml = 'Like what you see? Visit the ' +\n",
              "            '<a target=\"_blank\" href=https://colab.research.google.com/notebooks/data_table.ipynb>data table notebook</a>'\n",
              "            + ' to learn more about interactive tables.';\n",
              "          element.innerHTML = '';\n",
              "          dataTable['output_type'] = 'display_data';\n",
              "          await google.colab.output.renderOutput(dataTable, element);\n",
              "          const docLink = document.createElement('div');\n",
              "          docLink.innerHTML = docLinkHtml;\n",
              "          element.appendChild(docLink);\n",
              "        }\n",
              "      </script>\n",
              "    </div>\n",
              "  </div>\n",
              "  "
            ]
          },
          "metadata": {},
          "execution_count": 11
        }
      ]
    },
    {
      "cell_type": "code",
      "source": [
        "df['text'][3]"
      ],
      "metadata": {
        "colab": {
          "base_uri": "https://localhost:8080/",
          "height": 35
        },
        "id": "kzu9TdwhNnas",
        "outputId": "da731201-e748-4a85-83ec-9e2d8ae7c024"
      },
      "execution_count": null,
      "outputs": [
        {
          "output_type": "execute_result",
          "data": {
            "text/plain": [
              "'indiafightscorona we have  covid testing laboratories in india and as on th august   tests have been done dg staysafe indiawillwin'"
            ],
            "application/vnd.google.colaboratory.intrinsic+json": {
              "type": "string"
            }
          },
          "metadata": {},
          "execution_count": 12
        }
      ]
    },
    {
      "cell_type": "code",
      "source": [
        "output = []\n",
        "\n",
        "for i in df['text']:\n",
        "    output.append(i)\n",
        "\n",
        "len(output)"
      ],
      "metadata": {
        "colab": {
          "base_uri": "https://localhost:8080/"
        },
        "id": "7HK1k8M9TChR",
        "outputId": "768da289-8404-49ff-99e4-c04589df02ef"
      },
      "execution_count": null,
      "outputs": [
        {
          "output_type": "execute_result",
          "data": {
            "text/plain": [
              "6420"
            ]
          },
          "metadata": {},
          "execution_count": 13
        }
      ]
    },
    {
      "cell_type": "code",
      "source": [
        "from nltk.tokenize import word_tokenize\n",
        "\n",
        "tokenized_sents = [word_tokenize(i) for i in output]"
      ],
      "metadata": {
        "id": "ot_Pk-5CT61P"
      },
      "execution_count": null,
      "outputs": []
    },
    {
      "cell_type": "markdown",
      "source": [
        "#**Creating own Vocab**"
      ],
      "metadata": {
        "id": "yQYe3GgvSaKB"
      }
    },
    {
      "cell_type": "code",
      "source": [
        "import gensim\n",
        "from gensim import corpora\n",
        "from pprint import pprint\n",
        "from gensim import models\n",
        "from gensim.models import LdaModel\n",
        "from gensim.models import TfidfModel\n",
        "from gensim.models import CoherenceModel"
      ],
      "metadata": {
        "id": "gFSh2on4SX18"
      },
      "execution_count": null,
      "outputs": []
    },
    {
      "cell_type": "code",
      "source": [
        "Embedding_Dim = 100\n",
        "\n",
        "#train word2vec model\n",
        "model = gensim.models.Word2Vec(sentences=tokenized_sents, size=Embedding_Dim, workers=4, min_count=1)\n",
        "\n",
        "#Vocabulary size\n",
        "myvocab = list(model.wv.vocab)"
      ],
      "metadata": {
        "id": "-aJntdO7SX36"
      },
      "execution_count": null,
      "outputs": []
    },
    {
      "cell_type": "code",
      "source": [
        "#The total words present in our Bag of Words or Vocab size\n",
        "print('Vocabulary Size : %d' % len(myvocab))"
      ],
      "metadata": {
        "colab": {
          "base_uri": "https://localhost:8080/"
        },
        "id": "Dbt7jnumSX8M",
        "outputId": "e1993e9c-d01c-4248-9dca-411ab3c61360"
      },
      "execution_count": null,
      "outputs": [
        {
          "output_type": "stream",
          "name": "stdout",
          "text": [
            "Vocabulary Size : 11601\n"
          ]
        }
      ]
    },
    {
      "cell_type": "markdown",
      "source": [
        "#**Text LRP**"
      ],
      "metadata": {
        "id": "fCwwKYsnO3dA"
      }
    },
    {
      "cell_type": "code",
      "source": [
        "!git clone https://github.com/ArrasL/LRP_for_LSTM.git"
      ],
      "metadata": {
        "id": "-eKQhhb9OVSe",
        "colab": {
          "base_uri": "https://localhost:8080/"
        },
        "outputId": "e93ee673-553b-482b-f0d5-50bdcb7d634a"
      },
      "execution_count": null,
      "outputs": [
        {
          "output_type": "stream",
          "name": "stdout",
          "text": [
            "Cloning into 'LRP_for_LSTM'...\n",
            "remote: Enumerating objects: 116, done.\u001b[K\n",
            "remote: Total 116 (delta 0), reused 0 (delta 0), pack-reused 116\u001b[K\n",
            "Receiving objects: 100% (116/116), 12.68 MiB | 23.87 MiB/s, done.\n",
            "Resolving deltas: 100% (52/52), done.\n"
          ]
        }
      ]
    },
    {
      "cell_type": "code",
      "source": [
        "from LRP_for_LSTM import *"
      ],
      "metadata": {
        "id": "u-LZi_QvOVVB"
      },
      "execution_count": null,
      "outputs": []
    },
    {
      "cell_type": "code",
      "source": [
        "!python /content/LRP_for_LSTM/code/LSTM/LRP_linear_layer.py"
      ],
      "metadata": {
        "id": "puP5Tbh-OVYH"
      },
      "execution_count": null,
      "outputs": []
    },
    {
      "cell_type": "code",
      "source": [
        "!python /content/LRP_for_LSTM/code/LSTM/LSTM_bidi.py"
      ],
      "metadata": {
        "id": "tW8cztU1OVab",
        "colab": {
          "base_uri": "https://localhost:8080/"
        },
        "outputId": "897ae10b-5c9d-417c-c09b-dd382744f64a"
      },
      "execution_count": null,
      "outputs": [
        {
          "output_type": "stream",
          "name": "stdout",
          "text": [
            "Traceback (most recent call last):\n",
            "  File \"/content/LRP_for_LSTM/code/LSTM/LSTM_bidi.py\", line 13, in <module>\n",
            "    from code.LSTM.LRP_linear_layer import *\n",
            "ModuleNotFoundError: No module named 'code.LSTM'; 'code' is not a package\n"
          ]
        }
      ]
    },
    {
      "cell_type": "code",
      "source": [
        "!python /content/LRP_for_LSTM/code/LSTM/__init__.py"
      ],
      "metadata": {
        "id": "d4flndl8OVdF"
      },
      "execution_count": null,
      "outputs": []
    },
    {
      "cell_type": "code",
      "source": [
        "!python /content/LRP_for_LSTM/code/util/__init__.py"
      ],
      "metadata": {
        "id": "aWvKMK1SOVgP"
      },
      "execution_count": null,
      "outputs": []
    },
    {
      "cell_type": "code",
      "source": [
        "!python /content/LRP_for_LSTM/code/util/heatmap.py"
      ],
      "metadata": {
        "id": "miczQ_4bOVi5"
      },
      "execution_count": null,
      "outputs": []
    },
    {
      "cell_type": "code",
      "source": [
        "!python /content/LRP_for_LSTM/code/__init__.py"
      ],
      "metadata": {
        "id": "DhwXTI3nOVlm"
      },
      "execution_count": null,
      "outputs": []
    },
    {
      "cell_type": "markdown",
      "source": [
        "**LRP_linear_layer.py**"
      ],
      "metadata": {
        "id": "HQ2-u9kSPRCo"
      }
    },
    {
      "cell_type": "code",
      "source": [
        "'''\n",
        "@author: Leila Arras\n",
        "@maintainer: Leila Arras\n",
        "@date: 21.06.2017\n",
        "@version: 1.0+\n",
        "@copyright: Copyright (c) 2017, Leila Arras, Gregoire Montavon, Klaus-Robert Mueller, Wojciech Samek\n",
        "@license: see LICENSE file in repository root\n",
        "'''\n",
        "\n",
        "import numpy as np\n",
        "from numpy import newaxis as na\n",
        "\n",
        "\n",
        "def lrp_linear(hin, w, b, hout, Rout, bias_nb_units, eps, bias_factor=0.0, debug=False):\n",
        "    \"\"\"\n",
        "    LRP for a linear layer with input dim D and output dim M.\n",
        "    Args:\n",
        "    - hin:            forward pass input, of shape (D,)\n",
        "    - w:              connection weights, of shape (D, M)\n",
        "    - b:              biases, of shape (M,)\n",
        "    - hout:           forward pass output, of shape (M,) (unequal to np.dot(w.T,hin)+b if more than one incoming layer!)\n",
        "    - Rout:           relevance at layer output, of shape (M,)\n",
        "    - bias_nb_units:  total number of connected lower-layer units (onto which the bias/stabilizer contribution is redistributed for sanity check)\n",
        "    - eps:            stabilizer (small positive number)\n",
        "    - bias_factor:    set to 1.0 to check global relevance conservation, otherwise use 0.0 to ignore bias/stabilizer redistribution (recommended)\n",
        "    Returns:\n",
        "    - Rin:            relevance at layer input, of shape (D,)\n",
        "    \"\"\"\n",
        "    sign_out = np.where(hout[na,:]>=0, 1., -1.) # shape (1, M)\n",
        "    \n",
        "    numer    = (w * hin[:,na]) + ( bias_factor * (b[na,:]*1. + eps*sign_out*1.) / bias_nb_units ) # shape (D, M)\n",
        "    # Note: here we multiply the bias_factor with both the bias b and the stabilizer eps since in fact\n",
        "    # using the term (b[na,:]*1. + eps*sign_out*1.) / bias_nb_units in the numerator is only useful for sanity check\n",
        "    # (in the initial paper version we were using (bias_factor*b[na,:]*1. + eps*sign_out*1.) / bias_nb_units instead)\n",
        "    \n",
        "    denom    = hout[na,:] + (eps*sign_out*1.)   # shape (1, M)\n",
        "    \n",
        "    message  = (numer/denom) * Rout[na,:]       # shape (D, M)\n",
        "    \n",
        "    Rin      = message.sum(axis=1)              # shape (D,)\n",
        "    \n",
        "    if debug:\n",
        "        print(\"local diff: \", Rout.sum() - Rin.sum())\n",
        "    # Note: \n",
        "    # - local  layer   relevance conservation if bias_factor==1.0 and bias_nb_units==D (i.e. when only one incoming layer)\n",
        "    # - global network relevance conservation if bias_factor==1.0 and bias_nb_units set accordingly to the total number of lower-layer connections \n",
        "    # -> can be used for sanity check\n",
        "    \n",
        "    return Rin\n"
      ],
      "metadata": {
        "id": "jwmwEo0vOVoe"
      },
      "execution_count": null,
      "outputs": []
    },
    {
      "cell_type": "markdown",
      "source": [
        "**LSTM_bidi.py**"
      ],
      "metadata": {
        "id": "jMlpqMADPWPz"
      }
    },
    {
      "cell_type": "code",
      "source": [
        "'''\n",
        "@author: Leila Arras\n",
        "@maintainer: Leila Arras\n",
        "@date: 21.06.2017\n",
        "@version: 1.0+\n",
        "@copyright: Copyright (c) 2017, Leila Arras, Gregoire Montavon, Klaus-Robert Mueller, Wojciech Samek\n",
        "@license: see LICENSE file in repository root\n",
        "'''\n",
        "\n",
        "import numpy as np\n",
        "import pickle\n",
        "from numpy import newaxis as na\n",
        "#from code.LSTM.LRP_linear_layer import *\n",
        "\n",
        "\n",
        "class LSTM_bidi:\n",
        "    \n",
        "    def __init__(self, model_path='/content/LRP_for_LSTM/model'):\n",
        "        \"\"\"\n",
        "        Load trained model from file.\n",
        "        \"\"\"\n",
        "        \n",
        "        \"\"\"\n",
        "        # vocabulary\n",
        "        f_voc     = open('/content/LRP_for_LSTM/model/vocab', 'rb')\n",
        "        self.voc  = pickle.load(f_voc)\n",
        "        #print(pickle.load(f_voc))\n",
        "        print(f_voc)\n",
        "        f_voc.close()\n",
        "        \"\"\"\n",
        "\n",
        "        # vocabulary\n",
        "        f_voc     = myvocab\n",
        "        self.voc  = f_voc\n",
        "        #print(pickle.load(f_voc))\n",
        "        print(f_voc)\n",
        "        #f_voc.close()\n",
        "        \n",
        "        # word embeddings\n",
        "        self.E    = np.load('/content/LRP_for_LSTM/model/embeddings.npy', mmap_mode='r') # shape V*e\n",
        "        \n",
        "        # model weights\n",
        "        f_model   = open('/content/LRP_for_LSTM/model/model', 'rb')\n",
        "        model     = pickle.load(f_model)\n",
        "        f_model.close()\n",
        "        # LSTM left encoder\n",
        "        self.Wxh_Left  = model[\"Wxh_Left\"]  # shape 4d*e\n",
        "        self.bxh_Left  = model[\"bxh_Left\"]  # shape 4d \n",
        "        self.Whh_Left  = model[\"Whh_Left\"]  # shape 4d*d\n",
        "        self.bhh_Left  = model[\"bhh_Left\"]  # shape 4d  \n",
        "        # LSTM right encoder\n",
        "        self.Wxh_Right = model[\"Wxh_Right\"]\n",
        "        self.bxh_Right = model[\"bxh_Right\"]\n",
        "        self.Whh_Right = model[\"Whh_Right\"]\n",
        "        self.bhh_Right = model[\"bhh_Right\"]   \n",
        "        # linear output layer\n",
        "        self.Why_Left  = model[\"Why_Left\"]  # shape C*d\n",
        "        self.Why_Right = model[\"Why_Right\"] # shape C*d\n",
        "    \n",
        "\n",
        "    def set_input(self, w, delete_pos=None):\n",
        "        \"\"\"\n",
        "        Build the numerical input sequence x/x_rev from the word indices w (+ initialize hidden layers h, c).\n",
        "        Optionally delete words at positions delete_pos.\n",
        "        \"\"\"\n",
        "        T      = len(w)                         # sequence length\n",
        "        d      = int(self.Wxh_Left.shape[0]/4)  # hidden layer dimension\n",
        "        e      = self.E.shape[1]                # word embedding dimension\n",
        "        x      = np.zeros((T, e))\n",
        "        x[:,:] = self.E[w,:]\n",
        "        if delete_pos is not None:\n",
        "            x[delete_pos, :] = np.zeros((len(delete_pos), e))\n",
        "        \n",
        "        self.w              = w\n",
        "        self.x              = x\n",
        "        self.x_rev          = x[::-1,:].copy()\n",
        "        \n",
        "        self.h_Left         = np.zeros((T+1, d))\n",
        "        self.c_Left         = np.zeros((T+1, d))\n",
        "        self.h_Right        = np.zeros((T+1, d))\n",
        "        self.c_Right        = np.zeros((T+1, d))\n",
        "     \n",
        "   \n",
        "    def forward(self):\n",
        "        \"\"\"\n",
        "        Standard forward pass.\n",
        "        Compute the hidden layer values (assuming input x/x_rev was previously set)\n",
        "        \"\"\"\n",
        "        T      = len(self.w)                         \n",
        "        d      = int(self.Wxh_Left.shape[0]/4) \n",
        "        # gate indices (assuming the gate ordering in the LSTM weights is i,g,f,o):     \n",
        "        idx    = np.hstack((np.arange(0,d), np.arange(2*d,4*d))).astype(int) # indices of gates i,f,o together\n",
        "        idx_i, idx_g, idx_f, idx_o = np.arange(0,d), np.arange(d,2*d), np.arange(2*d,3*d), np.arange(3*d,4*d) # indices of gates i,g,f,o separately\n",
        "          \n",
        "        # initialize\n",
        "        self.gates_xh_Left  = np.zeros((T, 4*d))  \n",
        "        self.gates_hh_Left  = np.zeros((T, 4*d)) \n",
        "        self.gates_pre_Left = np.zeros((T, 4*d))  # gates pre-activation\n",
        "        self.gates_Left     = np.zeros((T, 4*d))  # gates activation\n",
        "        \n",
        "        self.gates_xh_Right = np.zeros((T, 4*d))  \n",
        "        self.gates_hh_Right = np.zeros((T, 4*d)) \n",
        "        self.gates_pre_Right= np.zeros((T, 4*d))\n",
        "        self.gates_Right    = np.zeros((T, 4*d)) \n",
        "             \n",
        "        for t in range(T): \n",
        "            self.gates_xh_Left[t]     = np.dot(self.Wxh_Left, self.x[t])        \n",
        "            self.gates_hh_Left[t]     = np.dot(self.Whh_Left, self.h_Left[t-1]) \n",
        "            self.gates_pre_Left[t]    = self.gates_xh_Left[t] + self.gates_hh_Left[t] + self.bxh_Left + self.bhh_Left\n",
        "            self.gates_Left[t,idx]    = 1.0/(1.0 + np.exp(- self.gates_pre_Left[t,idx]))\n",
        "            self.gates_Left[t,idx_g]  = np.tanh(self.gates_pre_Left[t,idx_g]) \n",
        "            self.c_Left[t]            = self.gates_Left[t,idx_f]*self.c_Left[t-1] + self.gates_Left[t,idx_i]*self.gates_Left[t,idx_g]\n",
        "            self.h_Left[t]            = self.gates_Left[t,idx_o]*np.tanh(self.c_Left[t])\n",
        "            \n",
        "            self.gates_xh_Right[t]    = np.dot(self.Wxh_Right, self.x_rev[t])     \n",
        "            self.gates_hh_Right[t]    = np.dot(self.Whh_Right, self.h_Right[t-1])\n",
        "            self.gates_pre_Right[t]   = self.gates_xh_Right[t] + self.gates_hh_Right[t] + self.bxh_Right + self.bhh_Right\n",
        "            self.gates_Right[t,idx]   = 1.0/(1.0 + np.exp(- self.gates_pre_Right[t,idx]))\n",
        "            self.gates_Right[t,idx_g] = np.tanh(self.gates_pre_Right[t,idx_g])                 \n",
        "            self.c_Right[t]           = self.gates_Right[t,idx_f]*self.c_Right[t-1] + self.gates_Right[t,idx_i]*self.gates_Right[t,idx_g]\n",
        "            self.h_Right[t]           = self.gates_Right[t,idx_o]*np.tanh(self.c_Right[t])\n",
        "            \n",
        "        self.y_Left  = np.dot(self.Why_Left,  self.h_Left[T-1])\n",
        "        self.y_Right = np.dot(self.Why_Right, self.h_Right[T-1])\n",
        "        self.s       = self.y_Left + self.y_Right\n",
        "        \n",
        "        return self.s.copy() # prediction scores\n",
        "     \n",
        "              \n",
        "    def backward(self, w, sensitivity_class):\n",
        "        \"\"\"\n",
        "        Standard gradient backpropagation backward pass.\n",
        "        Compute the hidden layer gradients by backpropagating a gradient of 1.0 for the class sensitivity_class\n",
        "        \"\"\"\n",
        "        # forward pass\n",
        "        self.set_input(w)\n",
        "        self.forward() \n",
        "        \n",
        "        T      = len(self.w)\n",
        "        d      = int(self.Wxh_Left.shape[0]/4)\n",
        "        C      = self.Why_Left.shape[0]   # number of classes\n",
        "        idx    = np.hstack((np.arange(0,d), np.arange(2*d,4*d))).astype(int) # indices of gates i,f,o together\n",
        "        idx_i, idx_g, idx_f, idx_o = np.arange(0,d), np.arange(d,2*d), np.arange(2*d,3*d), np.arange(3*d,4*d) # indices of gates i,g,f,o separately\n",
        "        \n",
        "        # initialize\n",
        "        self.dx               = np.zeros(self.x.shape)\n",
        "        self.dx_rev           = np.zeros(self.x.shape)\n",
        "        \n",
        "        self.dh_Left          = np.zeros((T+1, d))\n",
        "        self.dc_Left          = np.zeros((T+1, d))\n",
        "        self.dgates_pre_Left  = np.zeros((T, 4*d))  # gates pre-activation\n",
        "        self.dgates_Left      = np.zeros((T, 4*d))  # gates activation\n",
        "        \n",
        "        self.dh_Right         = np.zeros((T+1, d))\n",
        "        self.dc_Right         = np.zeros((T+1, d))\n",
        "        self.dgates_pre_Right = np.zeros((T, 4*d)) \n",
        "        self.dgates_Right     = np.zeros((T, 4*d))  \n",
        "               \n",
        "        ds                    = np.zeros((C))\n",
        "        ds[sensitivity_class] = 1.0\n",
        "        dy_Left               = ds.copy()\n",
        "        dy_Right              = ds.copy()\n",
        "        \n",
        "        self.dh_Left[T-1]     = np.dot(self.Why_Left.T,  dy_Left)\n",
        "        self.dh_Right[T-1]    = np.dot(self.Why_Right.T, dy_Right)\n",
        "        \n",
        "        for t in reversed(range(T)): \n",
        "            self.dgates_Left[t,idx_o]    = self.dh_Left[t] * np.tanh(self.c_Left[t])  # do[t]\n",
        "            self.dc_Left[t]             += self.dh_Left[t] * self.gates_Left[t,idx_o] * (1.-(np.tanh(self.c_Left[t]))**2) # dc[t]\n",
        "            self.dgates_Left[t,idx_f]    = self.dc_Left[t] * self.c_Left[t-1]         # df[t]\n",
        "            self.dc_Left[t-1]            = self.dc_Left[t] * self.gates_Left[t,idx_f] # dc[t-1]\n",
        "            self.dgates_Left[t,idx_i]    = self.dc_Left[t] * self.gates_Left[t,idx_g] # di[t]\n",
        "            self.dgates_Left[t,idx_g]    = self.dc_Left[t] * self.gates_Left[t,idx_i] # dg[t]\n",
        "            self.dgates_pre_Left[t,idx]  = self.dgates_Left[t,idx] * self.gates_Left[t,idx] * (1.0 - self.gates_Left[t,idx]) # d ifo pre[t]\n",
        "            self.dgates_pre_Left[t,idx_g]= self.dgates_Left[t,idx_g] *  (1.-(self.gates_Left[t,idx_g])**2) # d g pre[t]\n",
        "            self.dh_Left[t-1]            = np.dot(self.Whh_Left.T, self.dgates_pre_Left[t])\n",
        "            self.dx[t]                   = np.dot(self.Wxh_Left.T, self.dgates_pre_Left[t])\n",
        "            \n",
        "            self.dgates_Right[t,idx_o]    = self.dh_Right[t] * np.tanh(self.c_Right[t])         \n",
        "            self.dc_Right[t]             += self.dh_Right[t] * self.gates_Right[t,idx_o] * (1.-(np.tanh(self.c_Right[t]))**2) \n",
        "            self.dgates_Right[t,idx_f]    = self.dc_Right[t] * self.c_Right[t-1]            \n",
        "            self.dc_Right[t-1]            = self.dc_Right[t] * self.gates_Right[t,idx_f] \n",
        "            self.dgates_Right[t,idx_i]    = self.dc_Right[t] * self.gates_Right[t,idx_g]    \n",
        "            self.dgates_Right[t,idx_g]    = self.dc_Right[t] * self.gates_Right[t,idx_i]      \n",
        "            self.dgates_pre_Right[t,idx]  = self.dgates_Right[t,idx] * self.gates_Right[t,idx] * (1.0 - self.gates_Right[t,idx]) \n",
        "            self.dgates_pre_Right[t,idx_g]= self.dgates_Right[t,idx_g] *  (1.-(self.gates_Right[t,idx_g])**2) \n",
        "            self.dh_Right[t-1]            = np.dot(self.Whh_Right.T, self.dgates_pre_Right[t])\n",
        "            self.dx_rev[t]                = np.dot(self.Wxh_Right.T, self.dgates_pre_Right[t])\n",
        "                    \n",
        "        return self.dx.copy(), self.dx_rev[::-1,:].copy()     \n",
        "    \n",
        "                   \n",
        "    def lrp(self, w, LRP_class, eps=0.001, bias_factor=0.0):\n",
        "        \"\"\"\n",
        "        Layer-wise Relevance Propagation (LRP) backward pass.\n",
        "        Compute the hidden layer relevances by performing LRP for the target class LRP_class\n",
        "        (according to the papers:\n",
        "            - https://doi.org/10.1371/journal.pone.0130140\n",
        "            - https://doi.org/10.18653/v1/W17-5221 )\n",
        "        \"\"\"\n",
        "        # forward pass\n",
        "        self.set_input(w)\n",
        "        self.forward() \n",
        "        \n",
        "        T      = len(self.w)\n",
        "        d      = int(self.Wxh_Left.shape[0]/4)\n",
        "        e      = self.E.shape[1] \n",
        "        C      = self.Why_Left.shape[0]  # number of classes\n",
        "        idx    = np.hstack((np.arange(0,d), np.arange(2*d,4*d))).astype(int) # indices of gates i,f,o together\n",
        "        idx_i, idx_g, idx_f, idx_o = np.arange(0,d), np.arange(d,2*d), np.arange(2*d,3*d), np.arange(3*d,4*d) # indices of gates i,g,f,o separately\n",
        "        \n",
        "        # initialize\n",
        "        Rx       = np.zeros(self.x.shape)\n",
        "        Rx_rev   = np.zeros(self.x.shape)\n",
        "        \n",
        "        Rh_Left  = np.zeros((T+1, d))\n",
        "        Rc_Left  = np.zeros((T+1, d))\n",
        "        Rg_Left  = np.zeros((T,   d)) # gate g only\n",
        "        Rh_Right = np.zeros((T+1, d))\n",
        "        Rc_Right = np.zeros((T+1, d))\n",
        "        Rg_Right = np.zeros((T,   d)) # gate g only\n",
        "        \n",
        "        Rout_mask            = np.zeros((C))\n",
        "        Rout_mask[LRP_class] = 1.0  \n",
        "        \n",
        "        # format reminder: lrp_linear(hin, w, b, hout, Rout, bias_nb_units, eps, bias_factor)\n",
        "        Rh_Left[T-1]  = lrp_linear(self.h_Left[T-1],  self.Why_Left.T , np.zeros((C)), self.s, self.s*Rout_mask, 2*d, eps, bias_factor, debug=False)\n",
        "        Rh_Right[T-1] = lrp_linear(self.h_Right[T-1], self.Why_Right.T, np.zeros((C)), self.s, self.s*Rout_mask, 2*d, eps, bias_factor, debug=False)\n",
        "        \n",
        "        for t in reversed(range(T)):\n",
        "            Rc_Left[t]   += Rh_Left[t]\n",
        "            Rc_Left[t-1]  = lrp_linear(self.gates_Left[t,idx_f]*self.c_Left[t-1],         np.identity(d), np.zeros((d)), self.c_Left[t], Rc_Left[t], 2*d, eps, bias_factor, debug=False)\n",
        "            Rg_Left[t]    = lrp_linear(self.gates_Left[t,idx_i]*self.gates_Left[t,idx_g], np.identity(d), np.zeros((d)), self.c_Left[t], Rc_Left[t], 2*d, eps, bias_factor, debug=False)\n",
        "            Rx[t]         = lrp_linear(self.x[t],        self.Wxh_Left[idx_g].T, self.bxh_Left[idx_g]+self.bhh_Left[idx_g], self.gates_pre_Left[t,idx_g], Rg_Left[t], d+e, eps, bias_factor, debug=False)\n",
        "            Rh_Left[t-1]  = lrp_linear(self.h_Left[t-1], self.Whh_Left[idx_g].T, self.bxh_Left[idx_g]+self.bhh_Left[idx_g], self.gates_pre_Left[t,idx_g], Rg_Left[t], d+e, eps, bias_factor, debug=False)\n",
        "            \n",
        "            Rc_Right[t]  += Rh_Right[t]\n",
        "            Rc_Right[t-1] = lrp_linear(self.gates_Right[t,idx_f]*self.c_Right[t-1],         np.identity(d), np.zeros((d)), self.c_Right[t], Rc_Right[t], 2*d, eps, bias_factor, debug=False)\n",
        "            Rg_Right[t]   = lrp_linear(self.gates_Right[t,idx_i]*self.gates_Right[t,idx_g], np.identity(d), np.zeros((d)), self.c_Right[t], Rc_Right[t], 2*d, eps, bias_factor, debug=False)\n",
        "            Rx_rev[t]     = lrp_linear(self.x_rev[t],     self.Wxh_Right[idx_g].T, self.bxh_Right[idx_g]+self.bhh_Right[idx_g], self.gates_pre_Right[t,idx_g], Rg_Right[t], d+e, eps, bias_factor, debug=False)\n",
        "            Rh_Right[t-1] = lrp_linear(self.h_Right[t-1], self.Whh_Right[idx_g].T, self.bxh_Right[idx_g]+self.bhh_Right[idx_g], self.gates_pre_Right[t,idx_g], Rg_Right[t], d+e, eps, bias_factor, debug=False)\n",
        "                   \n",
        "        return Rx, Rx_rev[::-1,:], Rh_Left[-1].sum()+Rc_Left[-1].sum()+Rh_Right[-1].sum()+Rc_Right[-1].sum()\n",
        "\n"
      ],
      "metadata": {
        "id": "FmSdYrgGOVrT"
      },
      "execution_count": null,
      "outputs": []
    },
    {
      "cell_type": "code",
      "source": [
        "a = np.load('/content/LRP_for_LSTM/model/embeddings.npy', mmap_mode='r')\n",
        "type(a)"
      ],
      "metadata": {
        "colab": {
          "base_uri": "https://localhost:8080/"
        },
        "id": "jHLdzNnIUH3-",
        "outputId": "5cc7d8a4-92c4-46fe-e6e0-4d3fee7bf9f4"
      },
      "execution_count": null,
      "outputs": [
        {
          "output_type": "execute_result",
          "data": {
            "text/plain": [
              "numpy.memmap"
            ]
          },
          "metadata": {},
          "execution_count": 41
        }
      ]
    },
    {
      "cell_type": "code",
      "source": [
        "a.shape"
      ],
      "metadata": {
        "colab": {
          "base_uri": "https://localhost:8080/"
        },
        "id": "EnfXFULCUIDg",
        "outputId": "42428ec7-103b-4bb6-b627-137b50656a74"
      },
      "execution_count": null,
      "outputs": [
        {
          "output_type": "execute_result",
          "data": {
            "text/plain": [
              "(19538, 60)"
            ]
          },
          "metadata": {},
          "execution_count": 42
        }
      ]
    },
    {
      "cell_type": "code",
      "source": [
        "f_model   = open('/content/LRP_for_LSTM/model/model', 'rb')\n",
        "model     = pickle.load(f_model)\n",
        "f_model.close()"
      ],
      "metadata": {
        "id": "UsUj3m3xUIGR"
      },
      "execution_count": null,
      "outputs": []
    },
    {
      "cell_type": "code",
      "source": [
        "type(model)"
      ],
      "metadata": {
        "colab": {
          "base_uri": "https://localhost:8080/"
        },
        "id": "Gfx1kDrpUIJG",
        "outputId": "846e25d6-c734-41ad-a4a8-3b1ddadb6c17"
      },
      "execution_count": null,
      "outputs": [
        {
          "output_type": "execute_result",
          "data": {
            "text/plain": [
              "dict"
            ]
          },
          "metadata": {},
          "execution_count": 46
        }
      ]
    },
    {
      "cell_type": "code",
      "source": [
        "model.shape"
      ],
      "metadata": {
        "colab": {
          "base_uri": "https://localhost:8080/"
        },
        "id": "YHDkrha6UINL",
        "outputId": "1b03854d-795b-4a25-f930-99bd42c8e805"
      },
      "execution_count": null,
      "outputs": [
        {
          "output_type": "execute_result",
          "data": {
            "text/plain": [
              "{'Whh_Left': array([[-0.0549697 ,  0.10131807,  0.13147646, ..., -0.02586262,\n",
              "         -0.06841647,  0.09535255],\n",
              "        [ 0.38883165, -0.12109927, -0.2342312 , ...,  0.19346908,\n",
              "          0.21419765, -0.38794649],\n",
              "        [ 0.17802268,  0.08972623,  0.04436522, ...,  0.06123678,\n",
              "          0.14968273, -0.18579812],\n",
              "        ...,\n",
              "        [ 0.18391345, -0.06538825,  0.022021  , ...,  0.09357034,\n",
              "          0.14026102, -0.06192793],\n",
              "        [ 0.16286045, -0.01101375, -0.16190973, ...,  0.1560771 ,\n",
              "         -0.16280361, -0.08899941],\n",
              "        [-0.07331462, -0.07942951,  0.08378184, ...,  0.03311647,\n",
              "          0.14240716,  0.09033974]]),\n",
              " 'Whh_Right': array([[-0.21396473, -0.0030177 ,  0.1533556 , ...,  0.03837524,\n",
              "          0.32327673, -0.08586927],\n",
              "        [ 0.37656203, -0.33365756, -0.04590229, ..., -0.00292189,\n",
              "         -0.10585658,  0.1877445 ],\n",
              "        [-0.25291473, -0.0333291 ,  0.26158231, ...,  0.20169342,\n",
              "          0.12286177, -0.19018392],\n",
              "        ...,\n",
              "        [-0.07758972,  0.1739724 ,  0.11381649, ...,  0.13980785,\n",
              "          0.05396879, -0.13975462],\n",
              "        [ 0.00468369, -0.1758343 ,  0.01547693, ...,  0.05663993,\n",
              "         -0.15876664, -0.00131119],\n",
              "        [-0.27064914,  0.1491717 , -0.01975995, ...,  0.05884443,\n",
              "          0.17364606, -0.00603645]]),\n",
              " 'Why_Left': array([[ 0.00828471, -0.27195004, -0.38489601, -0.28018716,  0.21614181,\n",
              "         -0.27079588, -0.07082883,  0.48244506,  0.10169813,  0.25886753,\n",
              "          0.21312502,  0.05906662,  0.32161975, -0.1009426 , -0.12235703,\n",
              "         -0.14426379, -0.28151226,  0.26396847,  0.2508983 , -0.2035241 ,\n",
              "          0.06587355,  0.28034723, -0.1813841 ,  0.14062792, -0.44243127,\n",
              "         -0.2308825 , -0.25758234, -0.37109613, -0.13251296, -0.06552368,\n",
              "          0.35394228, -0.05193843,  0.01446094, -0.30392185, -0.14517871,\n",
              "         -0.18291409,  0.05567242,  0.27690929,  0.13011396, -0.12343328,\n",
              "          0.00440733, -0.45489109, -0.44232187, -0.36768901,  0.26643738,\n",
              "         -0.23079026,  0.0934879 , -0.36035499,  0.18447654, -0.13096765,\n",
              "         -0.34093207,  0.27851599,  0.18222851,  0.43670687, -0.12655807,\n",
              "          0.31290734, -0.14324208,  0.39989829, -0.22875668, -0.05672481],\n",
              "        [-0.16884421, -0.19553934, -0.2390338 , -0.07384197,  0.0466374 ,\n",
              "          0.32335398,  0.0670644 ,  0.23547427,  0.16393228, -0.00265121,\n",
              "          0.35455745,  0.17981881, -0.03853385, -0.11154701, -0.36465567,\n",
              "          0.00475418,  0.0215868 , -0.01838895,  0.04846818, -0.01336133,\n",
              "          0.05612212,  0.0616345 , -0.09864823,  0.07710715, -0.12355214,\n",
              "         -0.07666839, -0.11062126,  0.046369  , -0.0213209 , -0.15196544,\n",
              "          0.08548832, -0.03140178, -0.0543563 ,  0.25466937, -0.20827927,\n",
              "         -0.02618304,  0.41592628, -0.33363563,  0.08684149, -0.07989334,\n",
              "         -0.34707275, -0.03633356, -0.00986081, -0.20022678,  0.08942386,\n",
              "         -0.20371862,  0.04246598, -0.12198644,  0.13179357, -0.11236595,\n",
              "          0.07486355,  0.08790224,  0.09352992,  0.26516408, -0.04820113,\n",
              "          0.11151175, -0.03203651,  0.11784764, -0.0096557 , -0.12230433],\n",
              "        [-0.14067109,  0.14792895,  0.11748833,  0.21758018, -0.16886035,\n",
              "          0.08061694, -0.0116356 , -0.10413612, -0.1133533 , -0.15379217,\n",
              "          0.1403199 , -0.27366498, -0.18904145,  0.25213802, -0.12842871,\n",
              "          0.0545962 ,  0.1434209 , -0.14983685, -0.16201152,  0.1497246 ,\n",
              "          0.05345851, -0.11517701,  0.21227813, -0.17074668, -0.03925832,\n",
              "          0.1585287 ,  0.20758416,  0.23404939,  0.18040487,  0.15389921,\n",
              "         -0.15392895,  0.19927524, -0.06818523,  0.14058073,  0.18613003,\n",
              "          0.20716213, -0.17816542, -0.08172253, -0.24667613,  0.25101084,\n",
              "         -0.03510276,  0.10190552,  0.12912832,  0.13633691, -0.16970274,\n",
              "          0.18791416, -0.18778442,  0.19037311,  0.04754337,  0.18703082,\n",
              "          0.15012859, -0.13205588, -0.1614475 ,  0.13873449,  0.14519137,\n",
              "         -0.14796737,  0.16322178, -0.10711723,  0.18144052,  0.16628277],\n",
              "        [ 0.38533071, -0.02525754,  0.17557144,  0.0260857 , -0.13732816,\n",
              "         -0.35466474,  0.10114773, -0.16363142,  0.11451948, -0.21886235,\n",
              "         -0.3363699 ,  0.22184411, -0.06803709, -0.10285093,  0.14707673,\n",
              "         -0.24406731, -0.10357004,  0.1479426 ,  0.12963919, -0.04006533,\n",
              "          0.11145309, -0.00080911,  0.09465723,  0.07320343,  0.19501485,\n",
              "          0.03778832,  0.00784009,  0.12845819, -0.02281687, -0.20939383,\n",
              "         -0.01179178,  0.0335059 ,  0.18431453,  0.17270483,  0.0973184 ,\n",
              "         -0.16164002, -0.02115073, -0.10236992,  0.20226224, -0.23977642,\n",
              "          0.31129164,  0.22556575,  0.15090266,  0.12086092, -0.09468349,\n",
              "          0.08306111,  0.00910343,  0.18168692, -0.23714788, -0.06460603,\n",
              "          0.11140855, -0.07755974, -0.02697499, -0.17432298, -0.17405091,\n",
              "          0.00679119, -0.05354755, -0.06313964,  0.02388422,  0.01312374],\n",
              "        [-0.02134032, -0.13212624, -0.01903143, -0.16260034,  0.30351099,\n",
              "          0.12489271, -0.28110605, -0.42962691,  0.18031766,  0.01971206,\n",
              "         -0.60900784,  0.23051703,  0.17480339, -0.37249708,  0.59893459,\n",
              "          0.028389  , -0.28765473,  0.13204814,  0.1803624 , -0.14208275,\n",
              "         -0.01872949,  0.1823213 , -0.27640721,  0.24920507,  0.27357435,\n",
              "         -0.1740934 , -0.06320568, -0.24022599, -0.21775816,  0.25803053,\n",
              "          0.25769481, -0.22669084,  0.1117618 , -0.34989855, -0.31509125,\n",
              "         -0.07837796, -0.07250205,  0.15771   ,  0.15708825, -0.14376904,\n",
              "         -0.0979338 , -0.18301545, -0.07645925, -0.06206527,  0.18569535,\n",
              "         -0.13334762,  0.09843408, -0.37874833, -0.02945197, -0.18916395,\n",
              "         -0.26566514,  0.17472035,  0.10802271, -0.58970976, -0.31501922,\n",
              "          0.02197244, -0.29267839,  0.20033939, -0.18975434, -0.31567246]]),\n",
              " 'Why_Right': array([[-2.66525954e-01,  5.70291638e-01,  2.69846618e-01,\n",
              "          5.56132011e-02,  2.82326251e-01,  3.88359159e-01,\n",
              "          1.27384767e-01,  2.61151195e-01, -1.85742706e-01,\n",
              "          3.98399115e-01, -1.93855435e-01,  1.39093086e-01,\n",
              "          2.14750469e-01, -2.07459137e-01,  5.31404555e-01,\n",
              "          2.39908010e-01,  2.34397769e-01,  3.45837086e-01,\n",
              "         -1.88943580e-01, -1.65252149e-01, -2.90809244e-01,\n",
              "          1.51413441e-01, -1.87151909e-01,  1.61276728e-01,\n",
              "         -2.60300606e-01,  2.31700197e-01, -3.44730079e-01,\n",
              "         -1.51549578e-01, -3.59665491e-02, -2.49309450e-01,\n",
              "          5.02201140e-01,  2.61620432e-01, -3.18244994e-01,\n",
              "          4.00383949e-01, -1.69372514e-01, -3.38880807e-01,\n",
              "         -2.80561060e-01, -2.96793163e-01, -1.21866137e-01,\n",
              "          2.41613492e-01, -3.31462264e-01,  1.28574863e-01,\n",
              "         -8.59037265e-02, -1.08620249e-01, -1.41723886e-01,\n",
              "          2.82079905e-01,  3.52072895e-01, -2.53591031e-01,\n",
              "          2.43894383e-02,  1.60890259e-02,  4.49333936e-01,\n",
              "          2.02906847e-01,  3.74242574e-01, -4.44277704e-01,\n",
              "          2.56720424e-01, -1.77079484e-01,  3.23813111e-01,\n",
              "          1.94592863e-01,  3.55392665e-01, -1.95505723e-01],\n",
              "        [ 4.86238822e-02,  3.68309766e-01, -1.09887771e-01,\n",
              "          1.40674606e-01,  7.82241672e-02,  1.88228309e-01,\n",
              "         -2.71598935e-01,  8.10765289e-03,  3.19210556e-03,\n",
              "          2.22862661e-01, -1.30816907e-01,  7.84314722e-02,\n",
              "          1.38715938e-01,  2.31062070e-01, -3.76328349e-01,\n",
              "          5.96349910e-02,  4.88150567e-02,  4.84107770e-02,\n",
              "         -6.12836778e-02,  9.34222266e-02,  4.19597551e-02,\n",
              "         -4.20325845e-02, -3.23209763e-02, -3.23248833e-01,\n",
              "          1.14078063e-03, -4.78182510e-02, -1.48833990e-01,\n",
              "         -7.97867253e-02,  1.66262791e-01, -1.03308767e-01,\n",
              "          9.49819610e-02, -2.71027893e-01, -5.76831847e-02,\n",
              "         -7.97616094e-02,  2.58512050e-01, -1.24400929e-01,\n",
              "          9.31906328e-02, -2.92703867e-01,  5.35957851e-02,\n",
              "          8.02554786e-02, -6.97747767e-02, -2.51551270e-02,\n",
              "         -3.17478657e-01,  2.34155148e-01,  2.49727294e-01,\n",
              "         -2.73519997e-02,  1.00582696e-01, -3.57149869e-01,\n",
              "         -1.24004655e-01,  4.20223832e-01,  1.35425940e-01,\n",
              "         -3.92453313e-01, -2.93012649e-01, -3.43095452e-01,\n",
              "          1.78934157e-01,  1.90275893e-01,  2.45303623e-02,\n",
              "          4.19222703e-03,  3.06520402e-01,  3.82161774e-02],\n",
              "        [ 3.07469089e-02,  1.68601261e-03, -1.49225131e-01,\n",
              "         -3.54615711e-02, -1.15241840e-01, -1.63234770e-01,\n",
              "         -4.80004400e-02, -1.30795717e-01,  1.46672785e-01,\n",
              "         -2.92165905e-01, -8.74748528e-02, -2.01006353e-01,\n",
              "          1.88240290e-01, -2.12668523e-01,  6.27637804e-02,\n",
              "         -1.27792493e-01,  6.71368232e-03, -1.62927181e-01,\n",
              "          1.99670330e-01,  1.78240344e-01,  1.46657974e-01,\n",
              "          1.96697786e-01,  2.07386702e-01, -3.72503772e-02,\n",
              "          1.51524037e-01, -1.68217376e-01,  1.07030749e-01,\n",
              "          2.04973370e-01, -1.36218732e-04,  1.52159303e-01,\n",
              "         -1.08057372e-01, -5.19282818e-02,  2.07115188e-01,\n",
              "         -1.19512185e-01, -7.19264075e-02,  2.35917836e-01,\n",
              "         -8.37778673e-02, -1.48966223e-01,  9.92224589e-02,\n",
              "          6.38766810e-02,  6.44149408e-02, -1.65241584e-01,\n",
              "         -1.47158697e-01,  4.71483395e-02,  6.97622001e-02,\n",
              "         -4.75732945e-02, -1.58804283e-01,  1.43053576e-01,\n",
              "         -1.90025762e-01, -9.52070579e-02, -1.50838479e-01,\n",
              "         -1.39735803e-01, -5.31961322e-02, -7.30870590e-02,\n",
              "          4.37407941e-02, -1.97973892e-01, -1.32723987e-01,\n",
              "         -1.24998331e-01,  1.03243731e-01,  2.02363849e-01],\n",
              "        [ 3.03956836e-01, -2.06509441e-01, -8.37420151e-02,\n",
              "         -2.97191024e-01, -3.22201326e-02,  6.71585500e-02,\n",
              "         -7.61748664e-03,  1.07245073e-01, -5.61607108e-02,\n",
              "         -1.93744436e-01, -3.19337100e-02,  5.16805612e-02,\n",
              "         -6.93640905e-03,  4.24739182e-01, -1.92181140e-01,\n",
              "          3.69389392e-02, -1.61875710e-01,  5.80206290e-02,\n",
              "         -1.26062229e-01, -1.20964944e-01, -9.63657200e-02,\n",
              "         -2.08878040e-01, -1.44340888e-01,  5.24299480e-02,\n",
              "         -1.57513037e-01, -2.64849216e-02, -5.46681471e-02,\n",
              "         -1.10553458e-01, -8.72901380e-02,  2.44136631e-01,\n",
              "         -1.44391969e-01, -2.24302948e-01, -1.31843656e-01,\n",
              "         -3.44516262e-02,  2.15539243e-04,  9.64361206e-02,\n",
              "          4.54929322e-01,  7.62912557e-02, -4.10456806e-02,\n",
              "         -2.88709015e-01,  1.30735949e-01,  1.02691494e-01,\n",
              "          1.83885008e-01,  1.18559688e-01,  4.74060178e-02,\n",
              "         -6.93754554e-02, -6.53791130e-02,  2.22402140e-01,\n",
              "          9.40916464e-02, -3.46569151e-01, -2.49000907e-01,\n",
              "          3.19907427e-01, -2.87331015e-01,  2.08424166e-01,\n",
              "         -2.55008757e-01,  2.80607641e-01, -1.64437398e-01,\n",
              "          8.06809030e-03, -3.87440026e-01,  3.12766545e-02],\n",
              "        [ 1.41707316e-01, -3.78501892e-01,  1.71945497e-01,\n",
              "         -1.27367778e-02,  1.94410875e-01,  2.08744079e-01,\n",
              "          1.34308085e-01,  8.89810026e-02, -2.60865182e-01,\n",
              "          2.19006389e-01,  4.38731700e-01,  1.84556037e-01,\n",
              "         -2.06080750e-01, -3.89655590e-01, -3.33230138e-01,\n",
              "          8.38163570e-02, -1.60830483e-01,  8.62444863e-02,\n",
              "         -4.76232916e-02, -3.37105036e-01, -3.50837082e-01,\n",
              "         -2.21311122e-01, -3.53810370e-01, -2.84908801e-01,\n",
              "         -1.73118547e-01,  3.47862035e-01, -1.51767448e-01,\n",
              "         -9.22814012e-02, -1.51563078e-01, -1.97600931e-01,\n",
              "         -9.72939059e-02,  2.05615744e-01, -1.12262748e-01,\n",
              "          1.90548390e-01, -5.57326823e-02, -6.85382560e-02,\n",
              "         -4.73966479e-01,  5.29043734e-01, -3.71118248e-01,\n",
              "         -9.97806937e-02, -2.10864365e-01,  2.16535792e-01,\n",
              "          3.82538557e-01, -3.44576329e-01, -3.27968925e-01,\n",
              "          2.48272896e-01,  1.76932588e-01,  4.90880646e-02,\n",
              "          3.87752771e-01, -7.62681589e-02,  4.40807827e-02,\n",
              "          2.16720030e-01,  3.46790105e-01,  5.59994936e-01,\n",
              "         -3.11526328e-01,  1.01728573e-01,  2.24328771e-01,\n",
              "          1.14107788e-01, -3.19414616e-01, -2.80640841e-01]]),\n",
              " 'Wxh_Left': array([[-0.27527136, -0.18489297, -0.58223599, ...,  0.51514989,\n",
              "         -0.27366492, -0.55921179],\n",
              "        [ 0.10873679,  0.12884963, -0.11067919, ...,  0.05171487,\n",
              "         -0.05501007,  0.17157622],\n",
              "        [ 0.05826185,  0.41747555, -0.14488494, ...,  0.01801081,\n",
              "          0.25124198,  0.33848318],\n",
              "        ...,\n",
              "        [ 0.10610153, -0.12063866,  0.0513012 , ..., -0.12807173,\n",
              "         -0.06634589,  0.06613929],\n",
              "        [ 0.37387019, -0.10493035,  0.21466598, ..., -0.09212299,\n",
              "         -0.56268072,  0.18404888],\n",
              "        [ 0.07856756, -0.19763662,  0.00832523, ..., -0.00816277,\n",
              "         -0.22176264, -0.12244249]]),\n",
              " 'Wxh_Right': array([[-4.50635254e-02,  1.59988001e-01, -6.36128664e-01, ...,\n",
              "          8.93407941e-01,  2.46344954e-01,  8.85049030e-02],\n",
              "        [ 1.81610271e-01, -1.91196296e-02, -6.72764778e-01, ...,\n",
              "          8.37846696e-01, -4.83624786e-02, -8.17438513e-02],\n",
              "        [ 1.31889746e-01,  2.57392436e-01, -7.60492869e-04, ...,\n",
              "          1.18914925e-01, -3.54993194e-02,  2.74750814e-02],\n",
              "        ...,\n",
              "        [ 1.92871600e-01, -3.18529923e-03,  1.08106881e-01, ...,\n",
              "          1.04355529e-01, -1.17832616e-01, -1.14244940e-02],\n",
              "        [-2.42389560e-01,  1.29375532e-01, -3.63078006e-02, ...,\n",
              "         -5.25109954e-02,  1.66400895e-02, -2.25221943e-02],\n",
              "        [ 2.34089717e-01, -1.90346345e-01,  5.63275516e-02, ...,\n",
              "         -2.92561334e-02, -1.48033470e-01, -1.78907499e-01]]),\n",
              " 'bhh_Left': array([ 0.46464589,  0.14040829,  0.0997469 ,  0.06518816,  0.14764664,\n",
              "         0.52942282,  0.05359541,  0.30118686,  0.06793747,  0.29786503,\n",
              "         0.32475021,  0.19595228,  0.10231674,  0.0554006 ,  0.21214335,\n",
              "         0.00095356,  0.00583183,  0.31660277,  0.11446431,  0.0382397 ,\n",
              "        -0.07488105,  0.20769304,  0.15787838,  0.06104781,  0.17053291,\n",
              "         0.06963725,  0.15082054,  0.36363667,  0.15834291, -0.02404548,\n",
              "         0.15998603,  0.22893685,  0.06984888,  0.67159534,  0.24166991,\n",
              "         0.14589892,  0.13952889,  0.48985183,  0.03016417,  0.17427051,\n",
              "         0.27184367,  0.16096422,  0.1784316 ,  0.41053212,  0.19978945,\n",
              "         0.09381522,  0.02202951,  0.18166821,  0.11417376,  0.16525972,\n",
              "         0.18423116,  0.00138102,  0.08615028,  0.13136746,  0.22657497,\n",
              "        -0.00883463,  0.07969794,  0.03160014,  0.06376939,  0.17365848,\n",
              "        -0.02315566,  0.17665425,  0.17968562,  0.1661149 , -0.28071156,\n",
              "        -0.02281291,  0.14730637,  0.13869829, -0.21360974, -0.06979969,\n",
              "         0.09796841, -0.07605248, -0.22123176,  0.15476811,  0.00906686,\n",
              "        -0.05692111,  0.21447769, -0.05314565, -0.22793616,  0.14590219,\n",
              "         0.098943  , -0.24933687,  0.27842444, -0.2396844 , -0.01876429,\n",
              "         0.02573333,  0.07896356,  0.2433822 ,  0.1709751 , -0.04602253,\n",
              "        -0.19025871,  0.26447818,  0.05201158,  0.33645347,  0.21642567,\n",
              "         0.19510862, -0.0015654 , -0.03050748, -0.20559958,  0.01396865,\n",
              "        -0.02929007,  0.08416659,  0.19219837, -0.01396177, -0.2302411 ,\n",
              "         0.10345316, -0.20938954,  0.13344343, -0.04432734,  0.2298179 ,\n",
              "         0.06418376, -0.2070615 , -0.27560651,  0.05490787,  0.2411399 ,\n",
              "        -0.18462685,  0.322615  , -0.08901649,  0.0751567 ,  0.2930516 ,\n",
              "        -0.14082302, -0.06593157,  0.18871115, -0.15668266, -0.11360009,\n",
              "        -0.30859408,  0.05115702,  0.35627091, -0.03403061, -0.02263002,\n",
              "         0.11553897, -0.19031225, -0.01220081, -0.11101325,  0.08371554,\n",
              "        -0.07992667, -0.07865099,  0.09063426, -0.16075322, -0.1466863 ,\n",
              "         0.20265661,  0.02075969, -0.02002626, -0.12475108,  0.13168544,\n",
              "         0.0371714 , -0.08275806, -0.266803  , -0.07972804, -0.00159811,\n",
              "        -0.04834672, -0.06143792, -0.03817471, -0.02897106, -0.13393106,\n",
              "        -0.13453543, -0.25245702,  0.1186969 , -0.13808085, -0.01216602,\n",
              "         0.0619523 ,  0.13192506,  0.03628832,  0.16616803,  0.0384487 ,\n",
              "        -0.04800149, -0.18349706, -0.00350633,  0.26178578, -0.13223712,\n",
              "         0.06502147,  0.04873214, -0.05945649,  0.17295197,  0.00457083,\n",
              "         0.03002269,  0.03247379, -0.07935947,  0.17411992, -0.0515568 ,\n",
              "         0.31575403,  0.10916062,  0.23055701,  0.196344  ,  0.15478504,\n",
              "         0.30476075,  0.0377471 ,  0.54688942,  0.15594144,  0.37937316,\n",
              "         0.36110556,  0.12125273,  0.01936255,  0.19513927,  0.40697536,\n",
              "         0.18260649,  0.10235694,  0.2569302 ,  0.1843874 ,  0.14221178,\n",
              "        -0.0429642 ,  0.10237347,  0.07374997,  0.05320631,  0.33156374,\n",
              "         0.08297352,  0.15827988,  0.35116085,  0.15173011,  0.00650228,\n",
              "         0.05893633,  0.05920288,  0.05090541,  0.49336177,  0.29987064,\n",
              "         0.22893707,  0.28932536,  0.43989623,  0.17712907,  0.18773144,\n",
              "         0.33796808,  0.30509749,  0.12667419,  0.47607839,  0.05002739,\n",
              "         0.1627101 ,  0.12974332,  0.26135471,  0.18652312,  0.18623525,\n",
              "         0.10325228,  0.12676908,  0.17159723,  0.41488922,  0.15819277,\n",
              "         0.0911954 ,  0.08904882,  0.14511096,  0.27939892,  0.28341964]),\n",
              " 'bhh_Right': array([-0.14683759,  0.16984048,  0.1480156 ,  0.22147343,  0.14400685,\n",
              "         0.21425921,  0.10446922,  0.09155975,  0.1125001 ,  0.42985106,\n",
              "         0.3733722 ,  0.16492525,  0.14016773,  0.2626107 ,  0.37202737,\n",
              "         0.09317958, -0.19511436,  0.05505769,  0.06290673,  0.039709  ,\n",
              "         0.10324457,  0.00303081,  0.21495381,  0.3179554 ,  0.21653029,\n",
              "         0.22909649,  0.09807865,  0.14367421, -0.12512101, -0.00362864,\n",
              "         0.20287897,  0.40697062,  0.14557035,  0.12232734,  0.2511701 ,\n",
              "         0.279028  ,  0.25898635,  0.23181804,  0.20365146,  0.12567146,\n",
              "         0.25575414,  0.0381817 ,  0.25493342,  0.47638384,  0.38185918,\n",
              "         0.21857707,  0.12116975,  0.17049272,  0.30013666,  0.28983638,\n",
              "         0.23154621,  0.14900078,  0.66254008,  0.25336763, -0.00998475,\n",
              "         0.16034472,  0.1330754 ,  0.09436706,  0.35478279,  0.19587423,\n",
              "         0.04251315,  0.07368435, -0.25063738,  0.01738693, -0.09913033,\n",
              "        -0.15174124, -0.27928779, -0.22520903,  0.21430533,  0.00621794,\n",
              "        -0.2148322 , -0.20062767,  0.09545597,  0.09949912,  0.04621548,\n",
              "        -0.06713602,  0.04716855, -0.17917891,  0.12000463,  0.09185916,\n",
              "         0.19731723,  0.04359115,  0.0881517 , -0.09541015,  0.24354154,\n",
              "        -0.18023343,  0.14813809,  0.14929633,  0.06618437,  0.06209839,\n",
              "        -0.11904078, -0.14783981,  0.12511089, -0.1723381 ,  0.13318118,\n",
              "         0.16854273, -0.03414674, -0.25998992,  0.22185613, -0.2104468 ,\n",
              "         0.27848768, -0.22191653, -0.16499324,  0.10576597,  0.26185557,\n",
              "        -0.24770658, -0.17582218, -0.04557347, -0.25527534,  0.05912711,\n",
              "        -0.01906109, -0.18257131, -0.32467675, -0.16308211,  0.10727982,\n",
              "         0.22056854, -0.21828125, -0.19177674, -0.00468209,  0.11528308,\n",
              "         0.02721949,  0.29047215, -0.05146668,  0.13222136, -0.15034088,\n",
              "         0.01783342,  0.03649589, -0.13507701, -0.144356  ,  0.35622048,\n",
              "         0.16019933, -0.15305755,  0.34168041, -0.12537287, -0.05899587,\n",
              "         0.01071801,  0.14166446, -0.0207203 , -0.03925974, -0.13331117,\n",
              "        -0.12436961, -0.0709649 , -0.15476269, -0.12914972, -0.18534257,\n",
              "        -0.14061524,  0.01110088, -0.06790092,  0.31959715, -0.03968823,\n",
              "         0.27860406,  0.00093175, -0.11571301,  0.07060067,  0.04551604,\n",
              "         0.03488567, -0.07173023,  0.24715686, -0.0769485 ,  0.07378466,\n",
              "        -0.00979115, -0.22016339,  0.29245588,  0.04464073,  0.11460215,\n",
              "        -0.00666991, -0.11095512,  0.23763405, -0.01928089, -0.03068129,\n",
              "        -0.00305317, -0.12512182, -0.01903155,  0.28205135,  0.1336679 ,\n",
              "         0.15314844,  0.0126712 , -0.03506513,  0.22121207, -0.02334322,\n",
              "         0.05910048,  0.32231224,  0.12791704,  0.36999995,  0.16903457,\n",
              "         0.11142993,  0.22094052,  0.03341016,  0.11703633,  0.29091153,\n",
              "         0.4082101 ,  0.14979635,  0.22248954,  0.27797592,  0.38308674,\n",
              "         0.14240383, -0.06443462,  0.05189149,  0.13182431,  0.07939234,\n",
              "         0.19951849,  0.01959154,  0.15080953,  0.10147296,  0.09423762,\n",
              "         0.04206705,  0.12339357,  0.07597956,  0.05305183, -0.01425474,\n",
              "         0.32145059,  0.36257604,  0.20548443,  0.04365125,  0.273471  ,\n",
              "         0.22224675,  0.44746438,  0.37642714,  0.14435053,  0.23296332,\n",
              "         0.12956995,  0.11231502,  0.36976445,  0.49138874,  0.31446585,\n",
              "         0.16821678,  0.19106798,  0.52007616,  0.14868686,  0.21156871,\n",
              "         0.34212223,  0.17192253,  0.46178314,  0.42891619,  0.20382757,\n",
              "         0.3686465 ,  0.04696159,  0.08513699,  0.39092937,  0.06237206]),\n",
              " 'bxh_Left': array([ 0.45542708,  0.06006528,  0.11785088,  0.0280416 ,  0.0720768 ,\n",
              "         0.50600201,  0.11075892,  0.13830541,  0.23683275,  0.34989387,\n",
              "         0.25139314,  0.12887561,  0.14962423,  0.13635223,  0.24726234,\n",
              "         0.14344472,  0.09248726,  0.36031836,  0.04990448,  0.00526712,\n",
              "         0.01016608,  0.19329777,  0.16600461,  0.17006224,  0.1740194 ,\n",
              "         0.03905075,  0.07440132,  0.34844506,  0.04922248, -0.06808653,\n",
              "         0.06351554,  0.08219348,  0.10147008,  0.52033395,  0.24104194,\n",
              "         0.09514599,  0.12574963,  0.55344164,  0.12282112,  0.15761299,\n",
              "         0.37153673,  0.18424208,  0.0877641 ,  0.45423228,  0.13935572,\n",
              "         0.20485477,  0.15649915,  0.22944976,  0.19999506,  0.17656307,\n",
              "         0.15394393,  0.00297921,  0.08739223,  0.21466686,  0.07845298,\n",
              "         0.06799033,  0.1975655 ,  0.04867305,  0.14552975,  0.09707771,\n",
              "        -0.06831897,  0.12769607,  0.10804035,  0.153965  , -0.13480946,\n",
              "         0.03848682,  0.17388485,  0.07939359, -0.26035309, -0.01300133,\n",
              "         0.20559709, -0.13975108, -0.14512193,  0.14676178, -0.1304343 ,\n",
              "        -0.02602381,  0.11781008, -0.03617287, -0.2428854 ,  0.17385837,\n",
              "         0.11990838, -0.2388007 ,  0.12034255, -0.24442127,  0.04525963,\n",
              "         0.21030328,  0.21091433,  0.17448702,  0.22234724, -0.03450053,\n",
              "        -0.23656133,  0.18879828,  0.0863833 ,  0.28334898,  0.22792359,\n",
              "         0.19512305,  0.06578426, -0.11407142, -0.05082922,  0.16137019,\n",
              "         0.00942929,  0.21232778,  0.1143585 ,  0.02100212, -0.20053937,\n",
              "         0.14237213, -0.24355675,  0.1685379 , -0.08651643,  0.19639421,\n",
              "         0.22927567, -0.12844688, -0.27369416,  0.13809198,  0.17271563,\n",
              "        -0.01541223,  0.23237854, -0.21578111, -0.03676207,  0.31151396,\n",
              "        -0.03860863, -0.08659001,  0.02666623, -0.0851747 , -0.05330581,\n",
              "        -0.33857462,  0.07067166,  0.4151094 , -0.01260329,  0.12395159,\n",
              "         0.18200679, -0.18990143, -0.00218193, -0.09686022,  0.12015027,\n",
              "         0.01844761, -0.0028391 ,  0.13105914, -0.17532295, -0.00921512,\n",
              "         0.20657234, -0.13480841, -0.12699889, -0.07551661,  0.1595441 ,\n",
              "        -0.05177182, -0.13792762, -0.12637538, -0.03071641, -0.14255223,\n",
              "        -0.08186674, -0.02511108, -0.0380374 , -0.18392806, -0.16872668,\n",
              "        -0.12821127, -0.08471152, -0.03377442, -0.08660291, -0.08363082,\n",
              "         0.04612773,  0.15182953,  0.01265763,  0.14984457, -0.07772035,\n",
              "        -0.04439879, -0.17251502,  0.09159673,  0.15709671, -0.06010596,\n",
              "        -0.06646531, -0.06675624,  0.0061125 ,  0.14375202, -0.03726546,\n",
              "         0.00170355,  0.0488902 , -0.11760072,  0.1590248 , -0.07099065,\n",
              "         0.41849795,  0.12948088,  0.24042922,  0.08129847,  0.07494517,\n",
              "         0.25278896,  0.0235761 ,  0.38135275,  0.09238208,  0.36116752,\n",
              "         0.50956005,  0.18769863,  0.21635132,  0.09950633,  0.44721481,\n",
              "         0.08384813,  0.08322053,  0.24831764,  0.15913729,  0.19373666,\n",
              "         0.01141962,  0.01400616,  0.10064065,  0.0810456 ,  0.33536181,\n",
              "         0.16237316,  0.17456715,  0.22652559,  0.03606464, -0.03336735,\n",
              "         0.0976217 ,  0.06052973,  0.07609254,  0.5408842 ,  0.17738524,\n",
              "         0.13470769,  0.17851138,  0.53403282,  0.20857787,  0.1223752 ,\n",
              "         0.3436549 ,  0.26782066,  0.11382163,  0.32734841,  0.17488414,\n",
              "         0.22043204,  0.21950497,  0.17697914,  0.1635188 ,  0.0633114 ,\n",
              "         0.11198749,  0.18436669,  0.10656832,  0.32031685,  0.16225319,\n",
              "         0.18125081,  0.22821362,  0.18701509,  0.24899681,  0.2056976 ]),\n",
              " 'bxh_Right': array([-0.07572788,  0.20898944,  0.23118864,  0.19866872,  0.14582998,\n",
              "         0.0333129 ,  0.28558767,  0.06750201,  0.05216156,  0.37026161,\n",
              "         0.36883515,  0.03328911,  0.07333299,  0.34122398,  0.43003824,\n",
              "         0.00940751, -0.21435399, -0.01525969,  0.01408623,  0.19830509,\n",
              "         0.03250337, -0.07577403,  0.04213985,  0.27642047,  0.03698555,\n",
              "         0.17047907,  0.13310534,  0.13799356, -0.03332753, -0.0296481 ,\n",
              "         0.07009691,  0.47733992,  0.0811462 ,  0.09153356,  0.13473214,\n",
              "         0.25873145,  0.36872482,  0.22634931,  0.21349522,  0.18964763,\n",
              "         0.09466907,  0.1583731 ,  0.19119377,  0.33677188,  0.26610625,\n",
              "         0.04210654,  0.00529339,  0.24906836,  0.15443122,  0.29484996,\n",
              "         0.11376457,  0.17744352,  0.4968473 ,  0.19574243,  0.01772282,\n",
              "         0.1705223 ,  0.03719947,  0.17764798,  0.19157934,  0.10808053,\n",
              "         0.03532143,  0.05384595, -0.29980201,  0.09565398, -0.2458207 ,\n",
              "         0.0014445 , -0.10410496, -0.18570611,  0.21213542, -0.06199924,\n",
              "        -0.04140989, -0.21853937,  0.02554018,  0.08465911,  0.03484387,\n",
              "        -0.15546526, -0.08371543, -0.06553918,  0.04329145,  0.25727019,\n",
              "         0.11141406,  0.07269989,  0.20812452, -0.00685672,  0.17167899,\n",
              "        -0.25943661,  0.10961921,  0.17756461,  0.11518232,  0.09464934,\n",
              "        -0.10980316, -0.13338891,  0.0519905 , -0.13591623,  0.09021611,\n",
              "         0.2083946 ,  0.0732766 , -0.06498505,  0.26131812, -0.08926367,\n",
              "         0.25473022, -0.17686611, -0.15673111,  0.12801756,  0.10757882,\n",
              "        -0.23807709, -0.08579232, -0.09664631, -0.25609913, -0.05410517,\n",
              "        -0.10846664, -0.06273518, -0.35273933, -0.07757368,  0.03128884,\n",
              "         0.16053259, -0.09720302, -0.23601092,  0.04218363,  0.22094755,\n",
              "        -0.01631978,  0.34678996, -0.12292714,  0.02057968, -0.12026956,\n",
              "         0.02683479,  0.09251849, -0.11900761, -0.05109296,  0.36034042,\n",
              "         0.1131386 , -0.04250288,  0.34833881, -0.0831011 , -0.06143346,\n",
              "        -0.05125662,  0.23478024, -0.00927538, -0.13171825, -0.03633263,\n",
              "         0.02192319,  0.04922692, -0.00491505, -0.1242815 , -0.22013469,\n",
              "        -0.10408971, -0.0356398 , -0.11415222,  0.22604556,  0.01814653,\n",
              "         0.23284367, -0.06866129,  0.03832634, -0.07410472, -0.02461871,\n",
              "         0.08230633,  0.06401247,  0.38619918,  0.00390163,  0.00837716,\n",
              "        -0.04607654, -0.10998122,  0.16665682,  0.10331891,  0.18907654,\n",
              "        -0.11856729, -0.00608948,  0.12895741,  0.0165172 , -0.00325052,\n",
              "         0.11129884, -0.11686558,  0.07940003,  0.26955926,  0.1224733 ,\n",
              "         0.1340214 , -0.05501836, -0.03803282,  0.17921974, -0.0373438 ,\n",
              "         0.07315353,  0.40359837,  0.10071611,  0.37256986,  0.17996871,\n",
              "         0.18253806,  0.22292627,  0.1462343 ,  0.03725816,  0.24354561,\n",
              "         0.4327997 ,  0.0162088 ,  0.16947588,  0.35291374,  0.40281302,\n",
              "         0.15573616,  0.05328865,  0.06457506,  0.17798719,  0.19261697,\n",
              "         0.17775226,  0.05847359,  0.02210688,  0.24422137,  0.17790903,\n",
              "         0.05472219,  0.11511854,  0.06971762,  0.09342837,  0.0635747 ,\n",
              "         0.37775356,  0.37322786,  0.18265693,  0.10053071,  0.19931264,\n",
              "         0.12882812,  0.28159204,  0.38441512,  0.19274867,  0.15112633,\n",
              "         0.12920436,  0.13961226,  0.38938135,  0.40274602,  0.33194396,\n",
              "         0.17674534,  0.09178273,  0.40531021,  0.06162506,  0.2782217 ,\n",
              "         0.33056566,  0.28209016,  0.56797332,  0.4653793 ,  0.20930879,\n",
              "         0.36347422,  0.12530635,  0.16161677,  0.42386356,  0.06315152])}"
            ]
          },
          "metadata": {},
          "execution_count": 47
        }
      ]
    },
    {
      "cell_type": "code",
      "source": [
        "model.keys()"
      ],
      "metadata": {
        "colab": {
          "base_uri": "https://localhost:8080/"
        },
        "id": "AhGLD03NVHLJ",
        "outputId": "f56fd3c7-9d2e-4e62-b3c4-7e02ae45e706"
      },
      "execution_count": null,
      "outputs": [
        {
          "output_type": "execute_result",
          "data": {
            "text/plain": [
              "dict_keys(['Wxh_Left', 'bxh_Left', 'Whh_Left', 'bhh_Left', 'Wxh_Right', 'bxh_Right', 'Whh_Right', 'bhh_Right', 'Why_Left', 'Why_Right'])"
            ]
          },
          "metadata": {},
          "execution_count": 49
        }
      ]
    },
    {
      "cell_type": "code",
      "source": [
        "model['Wxh_Left'].shape"
      ],
      "metadata": {
        "colab": {
          "base_uri": "https://localhost:8080/"
        },
        "id": "w-TiKgGGVMQr",
        "outputId": "51142c44-016e-40af-9453-6d068023ce79"
      },
      "execution_count": null,
      "outputs": [
        {
          "output_type": "execute_result",
          "data": {
            "text/plain": [
              "(240, 60)"
            ]
          },
          "metadata": {},
          "execution_count": 51
        }
      ]
    },
    {
      "cell_type": "code",
      "source": [
        "model['bxh_Left']"
      ],
      "metadata": {
        "colab": {
          "base_uri": "https://localhost:8080/"
        },
        "id": "qn3R23eyVMT3",
        "outputId": "188b9895-ae29-44ba-feae-1f3add14be83"
      },
      "execution_count": null,
      "outputs": [
        {
          "output_type": "execute_result",
          "data": {
            "text/plain": [
              "array([ 0.45542708,  0.06006528,  0.11785088,  0.0280416 ,  0.0720768 ,\n",
              "        0.50600201,  0.11075892,  0.13830541,  0.23683275,  0.34989387,\n",
              "        0.25139314,  0.12887561,  0.14962423,  0.13635223,  0.24726234,\n",
              "        0.14344472,  0.09248726,  0.36031836,  0.04990448,  0.00526712,\n",
              "        0.01016608,  0.19329777,  0.16600461,  0.17006224,  0.1740194 ,\n",
              "        0.03905075,  0.07440132,  0.34844506,  0.04922248, -0.06808653,\n",
              "        0.06351554,  0.08219348,  0.10147008,  0.52033395,  0.24104194,\n",
              "        0.09514599,  0.12574963,  0.55344164,  0.12282112,  0.15761299,\n",
              "        0.37153673,  0.18424208,  0.0877641 ,  0.45423228,  0.13935572,\n",
              "        0.20485477,  0.15649915,  0.22944976,  0.19999506,  0.17656307,\n",
              "        0.15394393,  0.00297921,  0.08739223,  0.21466686,  0.07845298,\n",
              "        0.06799033,  0.1975655 ,  0.04867305,  0.14552975,  0.09707771,\n",
              "       -0.06831897,  0.12769607,  0.10804035,  0.153965  , -0.13480946,\n",
              "        0.03848682,  0.17388485,  0.07939359, -0.26035309, -0.01300133,\n",
              "        0.20559709, -0.13975108, -0.14512193,  0.14676178, -0.1304343 ,\n",
              "       -0.02602381,  0.11781008, -0.03617287, -0.2428854 ,  0.17385837,\n",
              "        0.11990838, -0.2388007 ,  0.12034255, -0.24442127,  0.04525963,\n",
              "        0.21030328,  0.21091433,  0.17448702,  0.22234724, -0.03450053,\n",
              "       -0.23656133,  0.18879828,  0.0863833 ,  0.28334898,  0.22792359,\n",
              "        0.19512305,  0.06578426, -0.11407142, -0.05082922,  0.16137019,\n",
              "        0.00942929,  0.21232778,  0.1143585 ,  0.02100212, -0.20053937,\n",
              "        0.14237213, -0.24355675,  0.1685379 , -0.08651643,  0.19639421,\n",
              "        0.22927567, -0.12844688, -0.27369416,  0.13809198,  0.17271563,\n",
              "       -0.01541223,  0.23237854, -0.21578111, -0.03676207,  0.31151396,\n",
              "       -0.03860863, -0.08659001,  0.02666623, -0.0851747 , -0.05330581,\n",
              "       -0.33857462,  0.07067166,  0.4151094 , -0.01260329,  0.12395159,\n",
              "        0.18200679, -0.18990143, -0.00218193, -0.09686022,  0.12015027,\n",
              "        0.01844761, -0.0028391 ,  0.13105914, -0.17532295, -0.00921512,\n",
              "        0.20657234, -0.13480841, -0.12699889, -0.07551661,  0.1595441 ,\n",
              "       -0.05177182, -0.13792762, -0.12637538, -0.03071641, -0.14255223,\n",
              "       -0.08186674, -0.02511108, -0.0380374 , -0.18392806, -0.16872668,\n",
              "       -0.12821127, -0.08471152, -0.03377442, -0.08660291, -0.08363082,\n",
              "        0.04612773,  0.15182953,  0.01265763,  0.14984457, -0.07772035,\n",
              "       -0.04439879, -0.17251502,  0.09159673,  0.15709671, -0.06010596,\n",
              "       -0.06646531, -0.06675624,  0.0061125 ,  0.14375202, -0.03726546,\n",
              "        0.00170355,  0.0488902 , -0.11760072,  0.1590248 , -0.07099065,\n",
              "        0.41849795,  0.12948088,  0.24042922,  0.08129847,  0.07494517,\n",
              "        0.25278896,  0.0235761 ,  0.38135275,  0.09238208,  0.36116752,\n",
              "        0.50956005,  0.18769863,  0.21635132,  0.09950633,  0.44721481,\n",
              "        0.08384813,  0.08322053,  0.24831764,  0.15913729,  0.19373666,\n",
              "        0.01141962,  0.01400616,  0.10064065,  0.0810456 ,  0.33536181,\n",
              "        0.16237316,  0.17456715,  0.22652559,  0.03606464, -0.03336735,\n",
              "        0.0976217 ,  0.06052973,  0.07609254,  0.5408842 ,  0.17738524,\n",
              "        0.13470769,  0.17851138,  0.53403282,  0.20857787,  0.1223752 ,\n",
              "        0.3436549 ,  0.26782066,  0.11382163,  0.32734841,  0.17488414,\n",
              "        0.22043204,  0.21950497,  0.17697914,  0.1635188 ,  0.0633114 ,\n",
              "        0.11198749,  0.18436669,  0.10656832,  0.32031685,  0.16225319,\n",
              "        0.18125081,  0.22821362,  0.18701509,  0.24899681,  0.2056976 ])"
            ]
          },
          "metadata": {},
          "execution_count": 56
        }
      ]
    },
    {
      "cell_type": "code",
      "source": [
        "model['Whh_Left'].shape"
      ],
      "metadata": {
        "colab": {
          "base_uri": "https://localhost:8080/"
        },
        "id": "bp6MvXevVMZQ",
        "outputId": "27e2e0cf-694e-42a8-8b37-942a79119880"
      },
      "execution_count": null,
      "outputs": [
        {
          "output_type": "execute_result",
          "data": {
            "text/plain": [
              "(240, 60)"
            ]
          },
          "metadata": {},
          "execution_count": 53
        }
      ]
    },
    {
      "cell_type": "code",
      "source": [
        ""
      ],
      "metadata": {
        "id": "03500bHYVgL1"
      },
      "execution_count": null,
      "outputs": []
    },
    {
      "cell_type": "code",
      "source": [
        ""
      ],
      "metadata": {
        "id": "Fl5s_V5mVgPo"
      },
      "execution_count": null,
      "outputs": []
    },
    {
      "cell_type": "code",
      "source": [
        ""
      ],
      "metadata": {
        "id": "iUNRjtkhVgSy"
      },
      "execution_count": null,
      "outputs": []
    },
    {
      "cell_type": "code",
      "source": [
        ""
      ],
      "metadata": {
        "id": "MOOlgTFlVgW6"
      },
      "execution_count": null,
      "outputs": []
    },
    {
      "cell_type": "markdown",
      "source": [
        "**heatmap.py**"
      ],
      "metadata": {
        "id": "8a4tUQ3tPbJi"
      }
    },
    {
      "cell_type": "code",
      "source": [
        "'''\n",
        "@author: Leila Arras\n",
        "@maintainer: Leila Arras\n",
        "@date: 21.06.2017\n",
        "@version: 1.0+\n",
        "@copyright: Copyright (c) 2017, Leila Arras, Gregoire Montavon, Klaus-Robert Mueller, Wojciech Samek\n",
        "@license: see LICENSE file in repository root\n",
        "'''\n",
        "\n",
        "import matplotlib.pyplot as plt\n",
        "\n",
        "def rescale_score_by_abs (score, max_score, min_score):\n",
        "    \"\"\"\n",
        "    Normalize the relevance value (=score), accordingly to the extremal relevance values (max_score and min_score), \n",
        "    for visualization with a diverging colormap.\n",
        "    i.e. rescale positive relevance to the range [0.5, 1.0], and negative relevance to the range [0.0, 0.5],\n",
        "    using the highest absolute relevance for linear interpolation.\n",
        "    \"\"\"\n",
        "    \n",
        "    # CASE 1: positive AND negative scores occur --------------------\n",
        "    if max_score>0 and min_score<0:\n",
        "    \n",
        "        if max_score >= abs(min_score):   # deepest color is positive\n",
        "            if score>=0:\n",
        "                return 0.5 + 0.5*(score/max_score)\n",
        "            else:\n",
        "                return 0.5 - 0.5*(abs(score)/max_score)\n",
        "\n",
        "        else:                             # deepest color is negative\n",
        "            if score>=0:\n",
        "                return 0.5 + 0.5*(score/abs(min_score))\n",
        "            else:\n",
        "                return 0.5 - 0.5*(score/min_score)   \n",
        "    \n",
        "    # CASE 2: ONLY positive scores occur -----------------------------       \n",
        "    elif max_score>0 and min_score>=0: \n",
        "        if max_score == min_score:\n",
        "            return 1.0\n",
        "        else:\n",
        "            return 0.5 + 0.5*(score/max_score)\n",
        "    \n",
        "    # CASE 3: ONLY negative scores occur -----------------------------\n",
        "    elif max_score<=0 and min_score<0: \n",
        "        if max_score == min_score:\n",
        "            return 0.0\n",
        "        else:\n",
        "            return 0.5 - 0.5*(score/min_score)    \n",
        "  \n",
        "      \n",
        "def getRGB (c_tuple):\n",
        "    return \"#%02x%02x%02x\"%(int(c_tuple[0]*255), int(c_tuple[1]*255), int(c_tuple[2]*255))\n",
        "\n",
        "     \n",
        "def span_word (word, score, colormap):\n",
        "    return \"<span style=\\\"background-color:\"+getRGB(colormap(score))+\"\\\">\"+word+\"</span>\"\n",
        "\n",
        "\n",
        "def html_heatmap (words, scores, cmap_name=\"bwr\"):\n",
        "    \"\"\"\n",
        "    Return word-level heatmap in HTML format,\n",
        "    with words being the list of words (as string),\n",
        "    scores the corresponding list of word-level relevance values,\n",
        "    and cmap_name the name of the matplotlib diverging colormap.\n",
        "    \"\"\"\n",
        "    \n",
        "    colormap  = plt.get_cmap(cmap_name)\n",
        "     \n",
        "    assert len(words)==len(scores)\n",
        "    max_s     = max(scores)\n",
        "    min_s     = min(scores)\n",
        "    \n",
        "    output_text = \"\"\n",
        "    \n",
        "    for idx, w in enumerate(words):\n",
        "        score       = rescale_score_by_abs(scores[idx], max_s, min_s)\n",
        "        output_text = output_text + span_word(w, score, colormap) + \" \"\n",
        "    \n",
        "    return output_text + \"\\n\"\n"
      ],
      "metadata": {
        "id": "GaCuDGseOVtv"
      },
      "execution_count": null,
      "outputs": []
    },
    {
      "cell_type": "markdown",
      "source": [
        "**Define input sequence and relevance target class**"
      ],
      "metadata": {
        "id": "uOmo2gS8PggY"
      }
    },
    {
      "cell_type": "code",
      "source": [
        "#from code.LSTM.LSTM_bidi import * \n",
        "#from code.util.heatmap import html_heatmap\n",
        "\n",
        "import codecs\n",
        "import numpy as np\n",
        "from IPython.display import display, HTML"
      ],
      "metadata": {
        "id": "CtZJ2Id9NekP"
      },
      "execution_count": null,
      "outputs": []
    },
    {
      "cell_type": "code",
      "source": [
        "def predict(words):\n",
        "    \"\"\"Returns the classifier's predicted class\"\"\"\n",
        "    net                 = LSTM_bidi()                                   # load trained LSTM model\n",
        "    w_indices           = [net.voc.index(w) for w in words]             # convert input sentence to word IDs\n",
        "    net.set_input(w_indices)                                            # set LSTM input sequence\n",
        "    scores              = net.forward()                                 # classification prediction scores\n",
        "    return np.argmax(scores)            "
      ],
      "metadata": {
        "id": "V9SYQ3vSRly0"
      },
      "execution_count": null,
      "outputs": []
    },
    {
      "cell_type": "code",
      "source": [
        "#words = df['text'][3]\n",
        "#words"
      ],
      "metadata": {
        "id": "_2SZ41Z7NyWr"
      },
      "execution_count": null,
      "outputs": []
    },
    {
      "cell_type": "code",
      "source": [
        "words = nltk.word_tokenize(df['text'][3])\n",
        "words"
      ],
      "metadata": {
        "colab": {
          "base_uri": "https://localhost:8080/"
        },
        "id": "VApSfMaTOlnk",
        "outputId": "dc09c658-8089-467b-fa48-35230512f083"
      },
      "execution_count": null,
      "outputs": [
        {
          "output_type": "execute_result",
          "data": {
            "text/plain": [
              "['indiafightscorona',\n",
              " 'we',\n",
              " 'have',\n",
              " 'covid',\n",
              " 'testing',\n",
              " 'laboratories',\n",
              " 'in',\n",
              " 'india',\n",
              " 'and',\n",
              " 'as',\n",
              " 'on',\n",
              " 'th',\n",
              " 'august',\n",
              " 'tests',\n",
              " 'have',\n",
              " 'been',\n",
              " 'done',\n",
              " 'dg',\n",
              " 'staysafe',\n",
              " 'indiawillwin']"
            ]
          },
          "metadata": {},
          "execution_count": 32
        }
      ]
    },
    {
      "cell_type": "code",
      "source": [
        "#predicted_class = predict(words)                                        # get predicted class\n",
        "\n",
        "predicted_class = predict(words)                                        # get predicted class\n",
        "target_class    = predicted_class                                       # define relevance target class "
      ],
      "metadata": {
        "id": "WUaoeeeUNeqK",
        "colab": {
          "base_uri": "https://localhost:8080/"
        },
        "outputId": "2dadd24f-639b-4482-a2e6-5bbf06ec6d47"
      },
      "execution_count": null,
      "outputs": [
        {
          "output_type": "stream",
          "name": "stdout",
          "text": [
            "['the', 'cdc', 'currently', 'reports', 'deaths', 'in', 'general', 'discrepancies', 'death', 'counts', 'between', 'different', 'sources', 'are', 'small', 'and', 'explicable', 'toll', 'stands', 'at', 'roughly', 'people', 'today', 'states', 'reported', 'a', 'rise', 'from', 'last', 'tuesday', 'southern', 'of', 'those', 'politically', 'correct', 'woman', 'almost', 'uses', 'pandemic', 'as', 'excuse', 'not', 'to', 'reuse', 'plastic', 'bag', 'coronavirus', 'nashville', 'indiafightscorona', 'we', 'have', 'covid', 'testing', 'laboratories', 'india', 'on', 'th', 'august', 'tests', 'been', 'done', 'dg', 'staysafe', 'indiawillwin', 'populous', 'can', 'generate', 'large', 'case', 'but', 'if', 'you', 'look', 'new', 'cases', 'per', 'million', 'smaller', 'showing', 'more', 'than', 'california', 'or', 'texas', 'al', 'ar', 'id', 'ks', 'ky', 'la', 'ms', 'nv', 'sc', 'act', 'now', 'found', 'average', 'each', 'person', 'illinois', 'with', 'is', 'infecting', 'other', 'data', 'shows', 'that', 'infection', 'growth', 'rate', 'has', 'declined', 'over', 'time', 'this', 'factors', 'stay', 'home', 'order', 'restrictions', 'put', 'place', 'tested', 'positive', 'for', 'no', 'symptoms', 'away', 'learn', 'about', 's', 'recommendations', 'when', 'be', 'around', 'others', 'after', 'obama', 'calls', 'trump', 'response', 'chaotic', 'disaster', 'clearly', 'administration', 'did', 'leave', 'any', 'kind', 'game', 'plan', 'something', 'like', 'retraction', 'hydroxychloroquine', 'chloroquine', 'without', 'macrolide', 'treatment', 'multinational', 'registry', 'analysis', 'lancet', 'take', 'simple', 'daily', 'precautions', 'help', 'prevent', 'spread', 'respiratory', 'illnesses', 'how', 'protect', 'yourself', 'nba', 'poised', 'restart', 'month', 'march', 'utah', 'jazz', 'got', 'matter', 'hours', 'u', 'was', 'sluggish', 'just', 'announced', 'first', 'participants', 'age', 'cohort', 'dosed', 'phase', 'study', 'our', 'mrna', 'vaccine', 'against', 'novel', 'read', 'coronavirusupdates', 'lakh', 'rd', 'successive', 'day', 'cumulative', 'date', 'reached', 'tpm', 'cross', 'using', 'public', 'transportation', 'practice', 'social', 'distancing', 'avoid', 'touching', 'surfaces', 'hand', 'hygiene', 'am', 'till', 'there', 'total', 'amp', 'related', 'manipur', 'covidindia', 'covidupdates', 'coronaupdates', 'corona', 'coronavirusindia', 'coronaviruspandemic', 'because', 'donald', 'negligence', 'incompetence', 'died', 'nearly', 'americans', 'out', 'work', 'yet', 'he', 'patting', 'himself', 'back', 'unbelievable', 'continues', 'scale', 'peaks', 'samples', 'consecutive', 'days', 'country', 'achieved', 'these', 'levels', 'very', 'high', 'shipped', 'vials', 'company', 'nih', 'used', 'planned', 'multiple', 'facebook', 'posts', 'claim', 'aussies', 'will', 'fined', 'they', 'talking', 'conspiracies', 'do', 'included', 'screenshot', 'segment', 'an', 'australian', 'breakfast', 'television', 'show', 'evidence', 'nobel', 'prize', 'laureate', 'tasuku', 'honjo', 'didn', 't', 'say', 'natural', 'post', 'claims', 'fact', 'professor', 'said', 'greatly', 'saddened', 'his', 'name', 'misinformation', 'latest', 'coronacheck', 'nz', 'tracker', 'app', 'remain', 'important', 'useful', 'alert', 'level', 'encouraged', 'download', 'similar', 'one', 'keep', 'record', 'where', 're', 'going', 'breaking', 'news', 'president', 'cryill', 'ramaphosa', 'asked', 'all', 'foreign', 'nations', 'depart', 'south', 'africa', 'before', 'june', 'due', 'increasing', 'delighted', 'upper', 'middle', 'countries', 'economies', 'confirmed', 'participate', 'covax', 'facility', 'number', 'growing', 'i', 'urge', 'who', 'joined', 'so', 'by', 'september', 'intriguing', 'possibility', 'mood', 'changes', 'anxiety', 'may', 'function', 'invasion', 'into', 'cns', 'brain', 'elon', 'musck', 'baby', 'get', 'job', 'kid', 'christmas', 'elonmusk', 'achristmascarol', 'alcohol', 'free', 'sanitizer', 'developed', 'dedan', 'kimathi', 'university', 'kenya', 'appendix', 'b', 'gathering', 'state', 'orders', 'huge', 'chunk', 'same', 'goes', 'd', 'evaluation', 'accessibility', 'yesterday', 'completed', 'were', 'managed', 'isolation', 'quarantine', 'routine', 'either', 'their', 'brings', 'reusing', 'n', 'masks', 'vaporized', 'hydrogen', 'peroxide', 'uv', 'light', 'heat', 'effective', 'sanitizers', 'shifted', 'focus', 'moments', 'coronavirusoutbreak', 'updated', 'running', 'timeline', 'virus', 'reply', 'us', 'recent', 'think', 'belong', 'list', 'doctored', 'image', 'shared', 'claiming', 'chant', 'hare', 'krishna', 'rama', 'fourthofjuly', 'weekend', 'choose', 'spend', 'outdoors', 'event', 'ft', 'apart', 'wear', 'cloth', 'face', 'cover', 'slow', 'recommends', 'mothers', 'stop', 'breastfeeding', 'boost', 'efficacy', 'singapore', 'airlines', 'haults', 'flights', 'outbreak', 'florida', 'governor', 'ron', 'desantis', 'botches', 'banning', 'beer', 'flatten', 'curve', 'apologise', 'government', 'ekiti', 'error', 'committed', 'improving', 'quality', 'control', 'processes', 'ensure', 'accurate', 'transparent', 'reporting', 'nyt', 'invented', 'video', 'doctor', 'fighting', 'hospital', 'break', 'k', 'alone', 'being', 'cough', 'directly', 'onto', 'launched', 'solidarity', 'fund', 'which', 'far', 'mobilized', 'm', 'individuals', 'companies', 'philanthropies', 'addition', 'billion', 'member', 'generous', 'support', 'football', 'player', 'cristiano', 'ronaldo', 'turned', 'hotels', 'hospitals', 'patients', 'paying', 'doctors', 'staff', 'including', 'again', 'asymptomatic', 'workers', 'involved', 'airport', 'border', 'part', 'wider', 'surveillance', 'measures', 'expected', 'operational', 'early', 'july', 'don', 'want', 'national', 'lockdown', 'progress', 'uk', 'pm', 'says', 'govt', 'further', 'insists', 'doesn', 'second', 'here', 'update', 'published', 'recoveries', 'exceeded', 'top', 'active', 'caseload', 'also', 'ones', 'presently', 'current', 'capacity', 'gives', 'excess', 'next', 'week', 'projecting', 'arrivals', 'departures', 'facilities', 'schools', 'struggling', 'cope', 'lack', 'infections', 'since', 'it', 'became', 'compulsory', 'pupils', 'return', 'should', 'your', 'child', 'explainer', 'scientists', 'astrazeneca', 'complain', 'keeps', 'delayed', 'noddy', 'holder', 'ringing', 'up', 'ask', 'ready', 'widely', 'mask', 'them', 'incl', 'wearamask', 'doyourpart', 'worldmaskweek', 'covidnigeria', 'lagos', 'gombe', 'plateau', 'kwara', 'enugu', 'ogun', 'katsina', 'bauchi', 'osun', 'rivers', 'discharged', 'already', 'test', 'rt', 'sustained', 'surges', 'ahead', 'highest', 'single', 'recovery', 'nearl', 'italy', 'surrendered', 'exhausted', 'forced', 'protective', 'medical', 'donaldtrump', 'cia', 'fbi', 'iud', 'moving', 'offline', 'reddit', 'user', 'posted', 'flyer', 'site', 'told', 'had', 'delive', 'orwell', 'dead', 'living', 'under', 'bridge', 'continued', 'toiletpaper', 'georgeorwell', 'residents', 'york', 'what', 'rule', 'allows', 'england', 'fail', 'self', 'isolate', 'click', 'central', 'given', 'permission', 'open', 'approved', 'labs', 'consist', 'pvt', 'covidtesting', 'come', 'pressure', 'availability', 'fewer', 'kids', 'dying', 'white', 'paper', 'examines', 'why', 'although', 'affected', 'continue', 'see', 'intense', 'transmission', 'relatively', 'group', 'justin', 'trudeau', 'resigns', 'amidst', 'george', 'soros', 'responsible', 'born', 'laboratory', 'sensitivity', 'definitely', 'specialists', 'seen', 'real', 'haven', 'looked', 'hard', 've', 'doing', 'things', 'experts', 'call', 'cow', 'dung', 'urine', 'yoga', 'ayush', 'treat', 'main', 'mode', 'through', 'droplets', 'possible', 'infected', 'smokers', 'blow', 'carrying', 'exhale', 'regardless', 'steer', 'clear', 'smoke', 'cause', 'various', 'health', 'problems', 'article', 'bill', 'gates', 'would', 'modify', 'human', 'dna', 'dyk', 'handwashing', 'remains', 'best', 'ways', 'viruses', 'according', 'department', 'haryana', 'recoveryrate', 'gurugram', 'sundays', 'mondays', 'tend', 'numbers', 'dip', 'still', 'rising', 'hospitalizations', 'jump', 'sunday', 'holiday', 'report', 'world', 'organization', 'brazailian', 'parliament', 'went', 'empty', 'thousands', 'times', 'twitter', 'youtube', 'salt', 'remedy', 'un', 'secretary', 'antonio', 'guterres', 'dramatically', 'derailed', 'sustainable', 'development', 'goals', 'question', 'made', 'eradication', 'poverty', 'hunger', 'instagram', 'tainted', 'circulation', 'many', 'months', 'across', 'tracked', 'bulk', 'louisiana', 'philippines', 'senators', 'grace', 'poe', 'risa', 'hontiveros', 'silent', 'crisis', 'vocal', 'closure', 'abs', 'cbn', 'contribute', 'fatality', 'most', 'consequence', 'seeing', 'syndemic', 'underline', 'its', 'origins', 'vulnerability', 'older', 'citizens', 'black', 'asian', 'minority', 'ethnic', 'communities', 'key', 'commonly', 'poorly', 'paid', 'welfare', 'protections', 'scales', 'tota', 'italian', 'nobody', 'dangerous', 'flu', 'seasonal', 'influenza', 'vaccination', 'mandatory', 'georgia', 'fall', 'mortality', 'rates', 'significantly', 'lower', 'fatalities', 'caused', 'mt', 'roskill', 'evangelical', 'fellowship', 'bereavement', 'sub', 'cluster', 'includes', 'whose', 'source', 'events', 'zealand', 'receiving', 'care', 'bringing', 'covidnz', 'april', 'breakdown', 'fct', 'kano', 'oyo', 'edo', 'kaduna', 'akwa', 'ibom', 'delta', 'ondo', 'niger', 'benue', 'anambra', 'borno', 'jigawa', 'biggest', 'change', 'hospitalized', 'seem', 'likely', 'decline', 'soon', 'recovered', 'via', 'galicia', 'enabled', 'commitment', 'set', 'expanding', 'mechanisms', 'details', 'visit', 'icmrfightscovid', 'jordanian', 'minister', 'conspiracy', 'pregnant', 'women', 'higher', 'premature', 'births', 'trials', 'underway', 'once', 'projects', 'complete', 'controlling', 'effectively', 'easier', 'proper', 'medicines', 'vaccines', 'etc', 'infectious', 'diseases', 'acquired', 'locally', 'unknown', 'compare', 'mexico', 'population', 'even', 'close', 'community', 'auckland', 'based', 'connected', 'existing', 'contacts', 'household', 'previously', 'investigation', 'gp', 'wellington', 'precautionary', 'message', 'catch', 'fire', 'amount', 'hands', 'lady', 'applying', 'near', 'stove', 'ended', 'burning', 'her', 'rudy', 'giuliani', 'bought', 'shares', 'novartis', 'primary', 'supplier', 'february', 'student', 'pondicherry', 'accepted', 'footballer', 'turning', 'records', 'ever', 'peak', 'exceed', 'fever', 'runny', 'nose', 'came', 'suddenly', 'good', 'chance', 'could', 'watch', 'find', 'fightflu', 'pandas', 'china', 'zoo', 'mumbai', 'district', 'maharastra', 'coronaupdatesinindia', 'weekly', 'rhinovirus', 'include', 'common', 'cold', 'suspected', 'causing', 'some', 'become', 'severely', 'ill', 'means', 'require', 'hospitalization', 'intensive', 'ventilator', 'breathe', 'die', 'camila', 'pitanga', 'brazilian', 'actress', 'contracted', 'she', 'caught', 'malaria', 'admitting', 'wrong', 'causes', 'sudden', 'syndrome', 'gap', 'parties', 'deadly', 'consequences', 'cabinet', 'office', 'michael', 'gove', 'shift', 'emphasis', 'working', 'kayburley', 'gross', 'well', 'quite', 'refuse', 'table', 'dashboard', 'reasons', 'beyond', 'me', 'looking', 'drove', 'increase', 'seems', 'much', 'solid', 'driven', 'lost', 'view', 'bihar', 'extends', 'nationalist', 'congress', 'party', 'chief', 'sharad', 'pawar', 'residence', 'four', 'profits', 'wants', 'reduce', 'held', 'virtual', 'meeting', 'uts', 'adequate', 'oxygen', 'healthcare', 'unrestricted', 'intra', 'inter', 'movement', 'hcps', 'attend', 'coca', 'aug', 'et', 'zoom', 'topic', 'telehealth', 'implementation', 'stories', 'field', 'healthy', 'year', 'old', 'boy', 'life', 'collection', 'every', 'team', 'collates', 'results', 'received', 'inform', 'nigerians', 'finally', 'version', 'racial', 'partnership', 'major', 'effort', 'project', 'volunteers', 'hope', 'acc', 'incubation', 'period', 'exposure', 'becoming', 'symptom', 'onset', 'median', 'estimates', 'long', 'nasal', 'side', 'effects', 'bring', 'combined', 'probable', 'having', 'two', 'middlemore', 'north', 'shore', 'neither', 'icu', 'publication', 'hiv', 'interruptions', 'allow', 'programs', 'risks', 'save', 'lives', 'full', 'authors', 'jennifersmith', 'timothyhallett', 'transparency', 'leaders', 'vital', 'during', 'must', 'access', 'make', 'informed', 'decisions', 'own', 'behavior', 'az', 'model', 'projections', 'advised', 'reassured', 'coming', 'rapid', 'nfeltp', 'strengthen', 'lgas', 'provides', 'newly', 'reactivated', 'lga', 'walk', 'sites', 'increased', 'awareness', 'grassroot', 'five', 'viz', 'maharashtra', 'tamil', 'nadu', 'andhra', 'pradesh', 'karnataka', 'uttar', 'contributed', 'began', 'screening', 'passengers', 'modi', 'mandated', 'universal', 'internat', 'l', 'only', 'detected', 'indian', 'military', 'bio', 'weapon', 'army', 'indore', 'police', 'injecting', 'blood', 'muslims', 'photo', 'clip', 'couple', 'treating', 'dataset', 'does', 'nyc', 'separate', 'accounting', 'lab', 'youth', 'sports', 'organizations', 'resume', 'activities', 'visitor', 'coach', 'gets', 'sick', 'offers', 'tips', 'safety', 'players', 'visitors', 'politician', 'ministry', 'reviews', 'management', 'districts', 'exhibiting', 'leaked', 'too', 'humans', 'planet', 'globalwarming', 'another', 'known', 'problem', 'washington', 'rock', 'system', 'gummed', 'spraying', 'pesticides', 'night', 'declared', 'posting', 'punishable', 'offense', 'socialdistance', 'sign', 'pledge', 'bypass', 'use', 'bleach', 'solutions', 'disinfecting', 'products', 'food', 'identifie', 'kits', 'available', 'dispels', 'doubts', 'raised', 'failure', 'clinical', 'continuing', 'expert', 'committee', 'reappraisal', 'significant', 'mutation', 'sars', 'cov', 'icmr', 'actively', 'exploring', 'saliva', 'thirty', 'nine', 'gps', 'written', 'bmj', 'calling', 'action', 'expressing', 'cautious', 'optimism', 'go', 'late', 'spring', 'unclear', 'longer', 'distribute', 'context', 'situation', 'check', 'roundup', 'tackled', 'transitional', 'producing', 'erratic', 'artificially', 'deflated', 'status', 'stated', 'upto', 'sample', 'patient', 'dhanbad', 'daniel', 'radcliffe', 'lakshadweep', 'arunachalpradesh', 'mizoram', 'hrs', 'end', 'november', 'dranthonyfauci', 'smallpox', 'believe', 'affects', 'body', 'former', 'rep', 'trey', 'gowdy', 'wrote', 'essay', 'past', 'media', 'democrats', 'election', 'equity', 'everyone', 'opportunity', 'address', 'standing', 'inequities', 'groups', 'risk', 'healthequity', 'strategy', 'product', 'pages', 'offering', 'toxic', 'chlorine', 'dioxide', 'industrial', 'often', 'sold', 'miracle', 'mineral', 'solution', 'cure', 'guardian', 'carolina', 'meaning', 'slowly', 'csa', 'patrick', 'vallance', 'amounts', 'certain', 'adding', 'half', 'doses', 'allocated', 'proportionally', 'participating', 'simultaneously', 'overall', 'consideration', 'relation', 'threat', 'great', 'carona', 'able', 'within', 'injection', 'hats', 'off', 'right', 'roche', 'launch', 'millions', 'note', 'requires', 'confirmation', 'trend', 'nasarawa', 'zamfara', 'nigeria', 'twofold', 'among', 'hypertension', 'coverings', 'wash', 'interested', 'never', 'beach', 'raleigh', 'pope', 'francis', 'river', 'imo', 'prayers', 'rooftops', 'despite', 'continuously', 'tools', 'accelerator', 'aims', 'provide', 'equitable', 'tackle', 'forms', 'disease', 'mild', 'severe', 'fallen', 'lot', 'then', 'plummeting', 'northeast', 'prof', 'robin', 'shattock', 'vacancies', 'nurses', 'professionals', 'temporary', 'o', 'paulo', 'funeral', 'recently', 'deceased', 'sri', 'lankan', 'arumugam', 'thondaman', 'daughters', 'violated', 'lanka', 'policy', 'travelers', 'attending', 'ceremony', 'shortly', 'returning', 'overseas', 'morning', 'identified', 'tokoroa', 'professional', 'contacted', 'expect', 'contact', 'remainder', 'places', 'pacific', 'helped', 'region', 'step', 'efforts', 'prepare', 'arrival', 'whoimpact', 'covidview', 'indicators', 'track', 'usually', 'lag', 'behind', 'illness', 'while', 'true', 'sore', 'throat', 'gargling', 'warm', 'water', 'feel', 'better', 'direct', 'effect', 'afaracare', 'shown', 'rhesus', 'monkeys', 'exposing', 'vaccinated', 'less', 'lungs', 'gt', 'strategies', 'dealing', 'doomsday', 'scenario', 'measles', 'children', 'adults', 'grateful', 'providing', 'ambulances', 'port', 'services', 'emergency', 'operations', 'centres', 'expand', 'sadly', 'ward', 'waikato', 'hoping', 'speedy', 'uddhav', 'thackeray', 'christians', 'pray', 'jesus', 'nationwide', 'flattened', 'downward', 'beginning', 'nagpur', 'along', 'three', 'whom', 'populations', 'american', 'hispanic', 'non', 'counterparts', 'kia', 'ora', 'partners', 'permitted', 'enter', 'centre', 'ensured', 'lowest', 'compared', 'several', 'union', 'urges', 'restriction', 'imposed', 'mix', 'seattle', 'season', 'lying', 'sidewalk', 'demands', 'funding', 'bail', 'pension', 'systems', 'failing', 'aren', 'anti', 'vaxxers', 'deciding', 'conditions', 'pretend', 'cured', 'migrated', 'backlogged', 'local', 'welsh', 'county', 'rhondda', 'cynon', 'taf', 'announces', 'algeria', 'outside', 'danger', 'regarding', 'vast', 'majority', 'students', 'st', 'dominic', 'casual', 'precaution', 'need', 'waiting', 'prime', 'boris', 'johnson', 'setting', 'priority', 'follow', 'live', 'updates', 'faces', 'questions', 'liaison', 'antibodies', 'produce', 'false', 'antibody', 'years', 'represent', 'few', 'man', 'beaten', 'deoria', 'broken', 'leg', 'photos', 'masses', 'fleeing', 'myanmar', 'thailand', 'particularly', 'worrisome', 'steep', 'findings', 'confirm', 'earlier', 'research', 'physician', 'employment', 'decade', 'ireland', 'entire', 'restrict', 'movements', 'felt', 'unwell', 'backdrop', 'videos', 'wild', 'animals', 'taking', 'roads', 'surfacing', 'internet', 'pictures', 'herd', 'deer', 'rounds', 'lake', 'club', 'chandigarh', 'friday', 'ny', 'pa', 'optimistic', 'point', 'left', 'chart', 'finding', 'suggests', 'mitigation', 'thank', 'extremely', 'insightful', 'trusted', 'websites', 'summary', 'really', 'touted', 'importance', 'vitamin', 'elderberry', 'broke', 'obviously', 'greater', 'however', 'stunning', 'united', 'exposed', 'sir', 'ganga', 'ram', 'directed', 'urself', 'implies', 'delhi', 'miserably', 'failed', 'administrative', 'responsibility', 'delhites', 'fate', 'sacked', 'lg', 'charge', 'agree', 'considered', 'imported', 'miq', 'joe', 'diffie', 'labeled', 'wasn', 'modeling', 'assumptions', 'assume', 'baseline', 'occupancy', 'beds', 'double', 'bame', 'potentially', 'saving', 'assessments', 'named', 'leslie', 'chow', 'discovered', 'though', 'remained', 'flat', 'regional', 'steady', 'scaled', 'processed', 'linked', 'urgent', 'plea', 'busy', 'e', 'rightmove', 'activity', 'aided', 'stamp', 'duty', 'demand', 'gardens', 'space', 'disrupts', 'anyone', 'flight', 'treated', 'isolated', 'until', 'negative', 'result', 'fairchild', 'frequency', 'comprehensiveness', 'ebonyi', 'taraba', 'tamilnadu', 'sep', 'coronaupdate', 'coronaupdatesindia', 'blame', 'll', 'pending', 'totals', 'down', 'erratically', 'tracking', 'broaden', 'grading', 'criteria', 'third', 'making', 'website', 'climbs', 'historic', 'low', 'exact', 'match', 'broadcast', 'rtve', 'map', 'spain', 'penis', 'size', 'regions', 'allegheny', 'diverse', 'planning', 'aaj', 'tak', 'chinese', 'reading', 'quran', 'namaz', 'forecasts', 'suggest', 'decrease', 'weeks', 'ending', 'sept', 'predict', 'developers', 'banks', 'tell', 'spent', 'share', 'eu', 'trillion', 'promises', 'viable', 'rehire', 'judith', 'mikovits', 'scientific', 'encyclopedia', 'viral', 'nancy', 'pelosi', 'c', 'renamed', 'honor', 'safely', 'clean', 'maintain', 'safe', 'distance', 'mar', 'lago', 'mikepence', 'maralago', 'kayleighmcenany', 'oxford', 'success', 'french', 'holding', 'denounce', 'violence', 'warns', 'consuming', 'cabbage', 'pronounced', 'example', 'ca', 'monday', 'tues', 'mon', 'outputs', 'complicated', 'know', 'strong', 'hits', 'especially', 'highlighted', 'red', 'below', 'spike', 'starting', 'tomorrow', 'bhopal', 'madhya', 'impose', 'city', 'wide', 'coronavirusfacts', 'saturday', 'thread', 'charts', 'diagnosing', 'whatsapp', 'forward', 'attributed', 'cnn', 'dr', 'li', 'wenliang', 'whistleblower', 'propaganda', 'documented', 'chemicals', 'methylxanthine', 'theobromine', 'theophylline', 'stimulate', 'compounds', 'least', 'performing', 'immune', 'debunking', 'hoaxes', 'travel', 'fast', 'clarification', 'detail', 'sharpest', 'observers', 'zino', 'livestream', 'released', 'pose', 'spreading', 'facts', 'opened', 'door', 'physicians', 'online', 'learning', 'medscape', 'finds', 'young', 'killed', 'hpv', 'cities', 'requiring', 'covering', 'leaving', 'materials', 'properly', 'amoxi', 'capsule', 'medicine', 'completely', 'egyptian', 'arrive', 'secret', 'charles', 'lieber', 'harvard', 'arrested', 'usa', 'manufacturing', 'selling', 'wcvb', 'tv', 'station', 'boston', 'massachusetts', 'mountain', 'matterhorn', 'switzerland', 'lit', 'colours', 'flag', 'token', 'gratitude', 'sending', 'azhar', 'imam', 'considering', 'exceptions', 'ramadan', 'fasting', 'mouth', 'kept', 'wet', 'japanese', 'created', 'wuhan', 'collapses', 'minutes', 'celebrities', 'janata', 'curfew', 'repeatedly', 'israel', 'zero', 'israeli', 'protected', 'themselves', 'drinking', 'hot', 'lemon', 'baking', 'soda', 'purportedly', 'kills', 'thus', 'proving', 'serious', 'road', 'actor', 'shah', 'rukh', 'khan', 'donated', 'money', 'pakistan', 'fight', 'russian', 'vladimir', 'putin', 'ordered', 'russia', 'jail', 'bed', 'rajasthan', 'barmer', 'leonardo', 'da', 'vinci', 'reference', 'fortaleza', 'brazil', 'proves', 'areas', 'inherited', 'ventilators', 'audio', 'unidentified', 'links', 'massive', 'campaign', 'bags', 'referred', 'reason', 'essential', 'mustard', 'oil', 'prevents', 'getting', 'telling', 'decide', 'elective', 'surgeries', 'won', 'eligible', 'receive', 'equipment', 'lead', 'claimed', 'saved', 'registered', 'affairs', 'publish', 'trying', 'abortion', 'combat', 'rebuking', 'foreigners', 'viewed', 'alongside', 'guinean', 'arrest', 'nationals', 'awaiting', 'guineans', 'earth', 'protesting', 'locked', 'kurnool', 'mla', 'hafeez', 'nurse', 'touch', 'feet', 'religious', 'head', 'viswabharathi', 'college', 'ineffective', 'homeopathic', 'oscillococcinum', 'protects', 'admitted', 'stats', 'notice', 'preparing', 'drugs', 'alumni', 'seoul', 'belgian', 'turn', 'director', 'proposed', 'tea', 'violating', 'gujarat', 'picture', 'quote', 'vincenzo', 'puro', 'allegedly', 'infect', 'lethal', 'hoax', 'prince', 'ayurvedic', 'superintendent', 'announcing', 'extension', 'lokckdown', 'infanta', 'sof', 'madrid', 'condition', 'talavera', 'de', 'reina', 'nigerian', 'import', 'supplies', 'riots', 'london', 'unavailability', 'items', 'kingdom', 'tonight', 'soldiers', 'streets', 'passed', 'instructions', 'followed', 'latvian', 'apturi', 'warn', 'locations', 'channel', 'aired', 'program', 'smoking', 'weed', 'tweeted', 'stock', 'market', 'economy', 'stronger', 'besides', 'inventions', 'judaism', 'olives', 'wonderful', 'bombed', 'peace', 'official', 'giulio', 'gallera', 'lies', 'provided', 'jo', 'doria', 'forbade', 'give', 'blog', 'policemen', 'picking', 'banknotes', 'sticks', 'linking', 'works', 'syncytial', 'rsv', 'cancer', 'somehow', 'six', 'pune', 'defeat', 'consume', 'alkaline', 'foods', 'above', 'ph', 'aamir', 'rs', 'poor', 'kg', 'wheat', 'flour', 'turkish', 'aytac', 'yalman', 'bakersfield', 'press', 'conference', 'affect', 'unrestrictive', 'controls', 'sweden', 'worked', 'vatican', 'assistants', 'herbal', 'malunggay', 'kamias', 'leaves', 'officers', 'immobilizing', 'screaming', 'caption', 'houses', 'minas', 'gerais', 'cuba', 'chinda', 'brandolino', 'origin', 'bogot', 'migrant', 'laborers', 'surat', 'sent', 'refused', 'ohio', 'gov', 'mike', 'dewine', 'prisoners', 'warning', 'crime', 'wave', 'g', 'federal', 'bureau', 'ties', 'purported', 'treatments', 'hundreds', 'remedies', 'dose', 'vitamins', 'sunlight', 'diet', 'catches', 'lifts', 'shirt', 'challenges', 'aa', 'officer', 'pointing', 'gun', 'him', 'kicks', 'pins', 'makes', 'text', 'overlaid', 'reads', 'mean', 'associated', 'peaked', 'twice', 'bananas', 'vincent', 'sorry', 'issues', 'please', 'email', 'query', 'feedback', 'tracingapp', 'focused', 'containment', 'resulted', 'percentage', 'steadily', 'falling', 'xi', 'jinping', 'visited', 'masjid', 'request', 'dua', 'present', 'representative', 'sara', 'cunial', 'tells', 'truth', 'experiment', 'circulating', 'kins', 'insurance', 'pradhan', 'mantri', 'jeevan', 'jyoti', 'bima', 'yojana', 'pmjjby', 'suraksha', 'pmsby', 'whether', 'activ', 'bilateral', 'deals', 'nationalism', 'compromise', 'hold', 'nevada', 'quietly', 'reversed', 'decision', 'block', 'hcq', 'prescriptions', 'saw', 'horrible', 'stayhome', 'stayathome', 'nyclockdown', 'fridayfeeling', 'knowledge', 'conjecture', 'alt', 'organic', 'dk', 'greens', 'protein', 'exercise', 'ho', 'sodium', 'bicarbonate', 'iodine', 'my', 'greatest', 'remember', 'incident', 'zomato', 'deepinder', 'big', 'deal', 'someone', 'refusing', 'delivery', 'muslim', 'guy', 'incidents', 'trust', 'eat', 'contaminated', 'spit', 'international', 'entity', 'sole', 'global', 'pandemics', 'miss', 'groundbreaking', 'way', 'pool', 'r', 'procurement', 'enables', 'collect', 'puts', 'facemask', 'skin', 'yours', 'volumes', 'regularly', 'observed', 'weekends', 'healthline', 'reimposing', 'aside', 'compassionate', 'exemptions', 'reminder', 'spoken', 'scared', 'both', 'picked', 'returned', 'collaborative', 'determined', 'simpsons', 'predicted', 'swasthabharat', 'telemedicine', 'service', 'completes', 'consultations', 'conducted', 'bollywood', 'aishwarya', 'rai', 'host', 'telethon', 'auction', 'numerous', 'outbreaks', 'cruise', 'ship', 'voyages', 'extended', 'previous', 'sail', 'crew', 'onboard', 'missing', 'private', 'hurt', 'widespread', 'west', 'europe', 'interventions', 'impacted', 'epidemic', 'outlets', 'khargone', 'wise', 'information', 'includi', 'tunisian', 'qais', 'dispatch', 'delegation', 'coved', 'observation', 'hit', 'tb', 'banned', 'worst', 'otherwise', 'malarial', 'ivermectin', 'routinely', 'sure', 'covidscience', 'amazonas', 'drop', 'reproduction', 'following', 'net', 'race', 'ethnicity', 'info', 'counties', 'disproportionately', 'recital', 'verses', 'affordable', 'required', 'andaman', 'nicobar', 'islands', 'east', 'prices', 'ibuprofen', 'worse', 'row', 'crore', 'nd', 'jan', 'mapped', 'genome', 'rapidly', 'building', 'pcr', 'partner', 'contracting', 'validated', 'production', 'vila', 'formosa', 'cemitery', 'opening', 'graves', 'panic', 'burials', 'highlights', 'lakhs', 'declining', 'assessment', 'prevention', 'estimated', 'slowing', 'prevented', 'thousand', 'mixed', 'thought', 'statistics', 'registrations', 'tracer', 'recorded', 'iranians', 'saying', 'biological', 'warfare', 'canada', 'bdsm', 'leash', 'tight', 'leather', 'cdnpoli', 'god', 'admission', 'bioweapon', 'disparities', 'alaska', 'native', 'suffered', 'disproportionate', 'burden', 'resources', 'tribal', 'plandemic', 'manipulated', 'families', 'wearing', 'activates', 'yorkshire', 'unfortunately', 'method', 'closer', 'bonus', 'whitepaper', 'generated', 'range', 'specimen', 'values', 'reese', 'witherspoon', 'julia', 'roberts', 'mila', 'kunis', 'marriages', 'suffering', 'criminal', 'inquiry', 'allegations', 'maternity', 'standards', 'nhs', 'wisconsin', 'tony', 'evers', 'deemed', 'dentists', 'phe', 'yvonne', 'doyle', 'risky', 'encourages', 'invited', 'fourteen', 'fifty', 'seven', 'aiims', 'institute', 'toddy', 'medicinal', 'properties', 'infectivity', 'starts', 'prior', 'lasts', 'extent', 'role', 'played', 'journal', 'nature', 'researchers', 'vero', 'cells', 'express', 'tmprss', 'suggested', 'drug', 'might', 'difficult', 'interpret', 'metric', 'consider', 'such', 'papad', 'reconsiders', 'airborne', 'depressing', 'motivating', 'respect', 'mr', 'ratan', 'tata', 'inexplicable', 'caveats', 'psychiatrist', 'fears', 'sorting', 'serosorting', 'aids', 'sexual', 'tuberculosis', 'centers', 'applied', 'illegal', 'patent', 'facemasks', 'exercising', 'sweat', 'damp', 'ability', 'comfortably', 'kindly', 'else', 'workout', 'term', 'air', 'pollution', 'color', 'income', 'pleased', 'announce', 'inclusion', 'sani', 'abacha', 'specialist', 'yobe', 'ncdc', 'molecular', 'network', 'ncdclabnetwork', 'takeresponsibility', 'circulates', 'hacks', 'cell', 'phone', 'seconds', 'occurred', 'tolls', 'worker', 'front', 'lines', 'deserves', 'accommodations', 'glad', 'stepping', 'folks', 'employers', 'move', 'fed', 'cut', 'interest', 'heavily', 'indebted', 'pays', 'bereaved', 'victims', 'extensive', 'sufficient', 'reduces', 'severity', 'protocol', 'france', 'immediately', 'vit', 'deficiency', 'chronic', 'loss', 'taste', 'added', 'enjoyed', 'mrs', 'brown', 'boys', 'noting', 'actually', 'arizona', 'colombia', 'inhabitant', 'america', 'trip', 'essentials', 'vacation', 'tipsadvice', 'roadtrips', 'takes', 'spiky', 'vulnerable', 'overwhelmed', 'surprised', 'kirklandwa', 'putting', 'habits', 'washing', 'staying', 'banner', 'swastika', 'pence', 'michigan', 'protest', 'concerned', 'consult', 'tool', 'w', 'stranded', 'italians', 'coping', 'pressures', 'mistakes', 'house', 'ebola', 'originated', 'bats', 'answer', 'originate', 'john', 'lewis', 'axes', 'slumps', 'totally', 'confused', 'allowed', 'battle', 'myths', 'takeaway', 'vary', 'methods', 'entirely', 'translate', 'indonesian', 'hadio', 'ali', 'watching', 'bids', 'final', 'goodbye', 'wife', 'giving', 'doors', 'edward', 'argar', 'explains', 'additional', 'upgrade', 'es', 'schedules', 'sale', 'milk', 'newspapers', 'grocery', 'stores', 'issued', 'commissioner', 'bayelsa', 'warned', 'ticking', 'bomb', 'pediatric', 'jumped', 'aggressive', 'tracing', 'mechanism', 'employed', 'goi', 'diagnosis', 'mortalityrate', 'variation', 'territories', 'fascinating', 'dc', 'probables', 'delaware', 'meanwhile', 'comparable', 'count', 'goodnight', 'limited', 'intervention', 'mixing', 'aspirin', 'paracetamol', 'honey', 'cures', 'wichita', 'kansas', 'chairman', 'republican', 'dana', 'meaney', 'delman', 'responses', 'zika', 'experience', 'sees', 'unprecedented', 'surge', 'recover', 'abia', 'newyork', 'green', 'contain', 'contacttracers', 'hired', 'testament', 'tens', 'nci', 'eha', 'departament', 'guaviare', 'appears', 'situations', 'limit', 'pets', 'feeling', 'sao', 'sinovac', 'biotech', 'iranian', 'islamic', 'camel', 'iran', 'arab', 'persons', 'transmit', 'coordinated', 'focusing', 'identification', 'sliding', 'cfr', 'alexandria', 'ocasio', 'cortez', 'governors', 'businesses', 'elections', 'economic', 'elected', 'business', 'closures', 'losses', 'price', 'pay', 'presidency', 'keepusclosed', 'stadium', 'converted', 'graveyard', 'scenes', 'ongoing', 'studies', 'remdesivir', 'manufacturer', 'bollywoof', 'anonymously', 'slum', 'coronawatch', 'intubated', 'explode', 'conducts', 'enable', 'diagnose', 'facilitate', 'seamless', 'hospitalisation', 'eventually', 'leads', 'comprehensive', 'ccc', 'target', 'sometime', 'contagious', 'room', 'improved', 'started', 'moved', 'addressing', 'nation', 'mahinda', 'rajapaksa', 'opposition', 'supplementary', 'budget', 'proposal', 'relief', 'hence', 'reconvening', 'carriers', 'catching', 'magickly', 'gunsupplies', 'cached', 'cn', 'tw', 'waters', 'airspace', 'rioting', 'dieing', 'confirming', 'figures', 'ma', 'instructive', 'wednesday', 'bad', 'positives', 'executive', 'tesco', 'dave', 'buy', 'normal', 'amid', 'buying', 'watford', 'mouthwash', 'alabama', 'town', 'fights', 'pan', 'demic', 'kitchen', 'warnings', 'summarizes', 'exhibited', 'cleared', 'monitoring', 'mp', 'shashi', 'tharoor', 'praised', 'ldf', 'kerala', 'actors', 'staging', 'fake', 'tough', 'enforce', 'mayor', 'liverpool', 'anderson', 'difficulties', 'enforcing', 'rules', 'merseyside', 'recovering', 'moderate', 'crossed', 'transmitted', 'goods', 'sometimes', 'seek', 'acute', 'creates', 'residual', 'examples', 'stand', 'figure', 'amongst', 'faring', 'terms', 'shot', 'standard', 'approach', 'led', 'lesser', 'combination', 'blamed', 'barack', 'supermarket', 'australia', 'clings', 'reasserting', 'itself', 'hopes', 'politicians', 'rest', 'humanity', 'api', 'users', 'beware', 'caveat', 'removed', 'factcheck', 'fakenews', 'emerging', 'factchecking', 'frustrating', 'counting', 'begun', 'attempt', 'resolve', 'individual', 'memorandum', 'financial', 'agreement', 'pick', 'tab', 'provision', 'criticized', 'struggle', 'financially', 'maine', 'headroom', 'enough', 'absorb', 'voices', 'portions', 'terrible', 'improvements', 'backlog', 'parts', 'midlands', 'fda', 'lock', 'ashamed', 'gujarati', 'flying', 'flame', 'force', 'dma', 'moderna', 'disappointing', 'reviewing', 'meet', 'statutory', 'authorization', 'unlikely', 'susceptibility', 'activated', 'medica', 'genexpert', 'birnin', 'kebbi', 'virology', 'center', 'plasvirec', 'pastor', 'dettol', 'drink', 'church', 'vegetarian', 'sanatan', 'dharmis', 'little', 'enjoy', 'condom', 'sales', 'condoms', 'factory', 'prophylactics', 'anything', 'offence', 'messaging', 'apps', 'hospitality', 'stocks', 'dolphins', 'swans', 'venice', 'canals', 'debunked', 'newsletter', 'datoscoronavirus', 'substances', 'answers', 'options', 'substance', 'disorder', 'detect', 'identifying', 'isolating', 'resorting', 'lockdowns', 'popped', 'positivity', 'neil', 'diamond', 'altering', 'words', 'sweet', 'caroline', 'neilyoung', 'sop', 'partial', 'reopening', 'classes', 'voluntary', 'basis', 'taki', 'default', 'logic', 'rather', 'ground', 'buckets', 'create', 'strain', 'ppe', 'caution', 'chicago', 'wales', 'fires', 'racing', 'tribute', 'bharat', 'vice', 'trial', 'covaxin', 'covaxine', 'bowl', 'freshly', 'boiled', 'garlic', 'worried', 'arsenicum', 'area', 'feelbetter', 'founder', 'square', 'prophesied', 'plague', 'bars', 'shut', 'thoughts', 'nejm', 'retractions', 'fox', 'employees', 'nancypelosi', 'fastest', 'western', 'classified', 'globo', 'images', 'collective', 'shipwreck', 'lampedusa', 'illustrate', 'story', 'hi', 'friends', 'hooked', 'smile', 'ur', 'friendship', 'ull', 'seriously', 'luv', 'guys', 'aisha', 'inna', 'lillahi', 'wa', 'ilaihi', 'rajeoon', 'avoiding', 'drinks', 'baths', 'sweets', 'turmeric', 'cheap', 'handy', 'homemade', 'rasam', 'archived', 'surprising', 'creep', 'improves', 'weibo', 'delivering', 'boxes', 'publicity', 'stunt', 'gained', 'traction', 'jimmy', 'kimmel', 'hosted', 'comedian', 'triggers', 'chemtrails', 'chemical', 'trails', 'lung', 'add', 'school', 'schedule', 'delay', 'matt', 'hancock', 'payments', 'incomes', 'pentagon', 'qr', 'posters', 'displayed', 'represents', 'retail', 'venues', 'climb', 'doubled', 'erscongress', 'dissect', 'debate', 'value', 'detriment', 'prescribing', 'antihistamines', 'organisation', 'reach', 'pain', 'matters', 'victoria', 'protests', 'qanda', 'devastating', 'societies', 'whole', 'resort', 'travelled', 'afghanistan', 'dubai', 'arrived', 'ek', 'tourists', 'bubble', 'reimposed', 'transmissions', 'elderly', 'inside', 'morgue', 'rescued', 'relatives', 'capita', 'colorado', 'rhode', 'island', 'jersey', 'dakota', 'hampshire', 'isn', 'leadership', 'mha', 'guidelines', 'unlock', 'opens', 'zones', 'strict', 'enforcement', 'promised', 'jobs', 'policies', 'crushed', 'sector', 'revitalize', 'innovation', 'build', 'shortage', 'fiction', 'mystery', 'cr', 'continuous', 'pegged', 'series', 'line', 'issue', 'scary', 'terrifying', 'drone', 'footage', 'quicktake', 'suspect', 'hazipur', 'prison', 'log', 'profile', 'optimization', 'personal', 'raided', 'dominates', 'noted', 'symptomatic', 'neem', 'powder', 'allah', 'blessed', 'coronavacccine', 'scientist', 'epidemiologist', 'ioannidis', 'controversial', 'position', 'dps', 'charging', 'rupees', 'unfortunate', 'cost', 'pandamic', 'kill', 'jurisdictions', 'lisa', 'danzig', 'surgical', 'facing', 'outwards', 'blue', 'germs', 'covidpakistan', 'coronavirusupdate', 'circuit', 'happen', 'ellie', 'weighed', 'fema', 'podcast', 'wearable', 'tech', 'ai', 'converge', 'lions', 'corpse', 'belongs', 'incinerated', 'wakes', 'memorial', 'respects', 'georgian', 'gamkrelidze', 'dismissal', 'suggesting', 'trn', 'oecd', 'detroit', 'obscure', 'impact', 'simply', 'institutes', 'epic', 'ass', 'corporations', 'concentrated', 'chhattisgarh', 'odisha', 'telangana', 'quarter', 'korea', 'analyse', 'traveller', 'upon', 'princess', 'cruises', 'navy', 'bath', 'perfect', 'fatal', 'mainbhinewschecker', 'selecting', 'choices', 'particles', 'escape', 'intended', 'attacks', 'spot', 'differe', 'slack', 'channels', 'types', 'clusters', 'closed', 'hereford', 'golf', 'courses', 'shenzhen', 'instuctions', 'locating', 'encourage', 'gave', 'wanted', 'quit', 'council', 'departments', 'understand', 'pregnancy', 'mother', 'infant', 'donations', 'kamala', 'harris', 'sister', 'lupus', 'supporting', 'candidate', 'successful', 'discussions', 'promising', 'sokoto', 'unseat', 'slight', 'drift', 'nj', 'ct', 'practicing', 'maintaining', 'physical', 'metres', 'bolton', 'offered', 'inverness', 'sky', 'hotspots', 'frustrations', 'nipah', 'deadlier', 'ethiopia', 'tom', 'hanks', 'volleyball', 'quarantined', 'burglars', 'suffer', 'crash', 'criminals', 'appeal', 'crook', 'breakin', 'goingbust', 'gavin', 'newsom', 'vacationing', 'stevensville', 'discuss', 'actions', 'prot', 'rooms', 'mail', 'vote', 'santo', 'andr', 'autopsy', 'realised', 'bacterium', 'amplified', 'electromagnetic', 'radiation', 'produces', 'inflammation', 'hypoxia', 'pie', 'categories', 'enters', 'ministries', 'yellow', 'suit', 'process', 'stopping', 'keeping', 'commodities', 'ensuring', 'decontamination', 'lags', 'improvement', 'initiation', 'senate', 'allocate', 'toilet', 'industry', 'chiquita', 'abba', 'dressed', 'gown', 'run', 'jumping', 'wall', 'gone', 'heal', 'wound', 'assured', 'connect', 'decided', 'floor', 'benefit', 'labour', 'rights', 'withdraw', 'benefits', 'britain', 'prayer', 'cloths', 'moneylaundering', 'televangelist', 'eases', 'gay', 'donors', 'unless', 'lgbtquarantine', 'republicans', 'promise', 'theirs', 'panels', 'coronavirususa', 'notdyingwallstreet', 'newsinphoto', 'enrollment', 'release', 'evaluated', 'concordance', 'recommended', 'ce', 'certified', 'cosara', 'falls', 'category', 'therefore', 'special', 'approval', 'thrombosis', 'moreover', 'bacteria', 'influence', 'waves', 'thirds', 'globally', 'narendra', 'ministers', 'tally', 'mark', 'mama', 'limes', 'bobby', 'boucher', 'newssatire', 'cornoavirus', 'warded', 'couch', 'v', 'reopeningsafely', 'metrics', 'trends', 'luque', 'cemetery', 'paraguayan', 'capital', 'asunci', 'lists', 'ramnavmi', 'celebrations', 'akbarpur', 'bash', 'tabligi', 'jamat', 'nizamuddin', 'makraz', 'chain', 'vall', 'hebron', 'barcelona', 'crispr', 'ind', 'genomics', 'integrative', 'biology', 'indigenously', 'technology', 'detection', 'genomic', 'sequence', 'sarscov', 'advice', 'mobile', 'promote', 'mile', 'rural', 'inaccessible', 'restaurants', 'pubs', 'oct', 'tourism', 'arkansas', 'noticeable', 'uptick', 'backfilled', 'challenge', 'century', 'fami', 'reminds', 'clinic', 'swabs', 'taken', 'eased', 'depend', 'takerespinsibility', 'indicate', 'revised', 'discharge', 'specifies', 'throwing', 'nasser', 'ziberi', 'guidance', 'clinicians', 'consumer', 'agency', 'japan', 'advertisement', 'boasting', 'preventing', 'disinfection', 'card', 'bengal', 'kolkata', 'metro', 'rail', 'authority', 'decides', 'compliance', 'operati', 'ncdcinthenews', 'abuja', 'selected', 'sequencing', 'continent', 'goodness', 'somendfindout', 'mny', 'cointrirs', 'wth', 'strongest', 'intel', 'agencies', 'cudnt', 'cheated', 'bacterial', 'verified', 'infodemic', 'disharmony', 'society', 'verify', 'sharing', 'forget', 'receiver', 'preceding', 'hour', 'breath', 'coughing', 'difficulty', 'breathing', 'indicates', 'absence', 'ease', 'critical', 'adhere', 'preventcovid', 'ban', 'gatherings', 'restricted', 'discussion', 'feels', 'faster', 'dissented', 'everything', 'reminded', 'strategic', 'roll', 'stockpile', 'toiletrollhorders', 'strategicreserve', 'path', 'hurricanelaura', 'evacuation', 'routes', 'location', 'shelters', 'laura', 'dexamethasone', 'exper', 'training', 'comms', 'ipc', 'personnel', 'poll', 'readers', 'nicola', 'sturgeon', 'urged', 'cobra', 'cobr', 'odds', 'virginia', 'nursing', 'homes', 'x', 'rated', 'depts', 'cms', 'ratings', 'identify', 'patna', 'bhagalpur', 'nalanda', 'snakes', 'wildfire', 'strapped', 'eds', 'renata', 'vasconcellos', 'famous', 'anchor', 'irish', 'organisations', 'organising', 'moment', 'applause', 'praise', 'handling', 'correspond', 'dermatologic', 'patterns', 'exist', 'surpasses', 'worldwide', 'hopkins', 'lodges', 'eight', 'bastards', 'adoption', 'heartwarming', 'contradictions', 'absent', 'consistent', 'epidemiological', 'dosing', 'cargo', 'cult', 'sailed', 'ran', 'aground', 'clever', 'investigators', 'quickly', 'switched', 'magic', 'vitamind', 'accompanying', 'bodies', 'jointly', 'allowances', 'members', 'hugging', 'laminar', 'airflow', 'meghan', 'markle', 'birthday', 'communal', 'mosque', 'deceived', 'punished', 'sex', 'bat', 'rolling', 'moves', 'mid', 'rizwan', 'tanda', 'hungry', 'biscuits', 'domestic', 'orangutan', 'animal', 'imitating', 'zookeepers', 'thane', 'proven', 'officials', 'advise', 'dialysis', 'hasn', 'authorities', 'guatemalan', 'respirators', 'talk', 'type', 'passenger', 'trains', 'cancelled', 'railway', 'cancellation', 'suburban', 'wake', 'unicef', 'nor', 'family', 'oklahoma', 'risen', 'consistently', 'adhering', 'necessary', 'horny', 'ferguson', 'operate', 'carbon', 'toxicity', 'instead', 'called', 'zinc', 'zithromax', 'hello', 'crosses', 'landmark', 'conducting', 'adamawa', 'spitting', 'bread', 'slices', 'spin', 'responding', 'continuity', 'dental', 'partially', 'disrupted', 'politicized', 'hydroxy', 'murder', 'arresting', 'municipalities', 'earn', 'difference', 'welcome', 'annual', 'vaccinate', 'tear', 'gas', 'probably', 'play', 'nonetheless', 'reverse', 'regular', 'class', 'unlocking', 'resumption', 'bhutan', 'thanks', 'elimination', 'stamping', 'anytime', 'comes', 'together', 'demonstrated', 'exponential', 'highe', 'workplaces', 'comparison', 'implement', 'enhance', 'coronaoutbreak', 'sensationalize', 'begum', 'driver', 'imran', 'uncle', 'angela', 'rayner', 'asks', 'explain', 'pmqs', 'unlockguidelines', 'transport', 'measure', 'liable', 'legal', 'regulations', 'specified', 'witnesses', 'ages', 'account', 'protecting', 'rio', 'janeiro', 'monthly', 'allowance', 'brl', 'inmates', 'convicted', 'supreme', 'court', 'ruled', 'voting', 'lt', 'immunity', 'pre', 'mobility', 'resurgence', 'enhanced', 'needed', 'exports', 'progressively', 'maintained', 'aim', 'achieve', 'start', 'loved', 'prepared', 'travellers', 'presidential', 'herman', 'cain', 'dies', 'collecting', 'fundamental', 'understanding', 'underserves', 'latinx', 'overlapping', 'distinct', 'barriers', 'fauci', 'launches', 'importanttesting', 'grants', 'visa', 'therapeutics', 'therapy', 'therapeutic', 'arm', 'roadmap', 'initiative', 'delivered', 'disadvantaged', 'cartel', 'heroin', 'stimulus', 'package', 'dry', 'trouble', 'patented', 'reveals', 'wearers', 'freely', 'sanitize', 'digestive', 'ncdcwer', 'focuses', 'absolute', 'greg', 'mortimer', 'uruguay', 'margaret', 'expecting', 'rethink', 'screenings', 'league', 'baseball', 'tearing', 'infested', 'marlins', 'park', 'chariot', 'kalabari', 'releasing', 'bjp', 'ignored', 'teen', 'socialdistancing', 'fairly', 'efficiently', 'everybody', 'cremated', 'begins', 'sequel', 'movies', 'hume', 'bear', 'leaver', 'vaporium', 'tucker', 'paddy', 'cooper', 'depends', 'hayfever', 'younger', 'nowadays', 'basic', 'tablets', 'pollen', 'dosn', 'discomfort', 'harmless', 'sends', 'ish', 'conclusive', 'downside', 'afaik', 'northern', 'latitudes', 'winter', 'anyways', 'brexit', 'rubber', 'mussels', 'uneven', 'gon', 'na', 'statement', 'capturing', 'dominate', 'funded', 'creatical', 'gretchen', 'whitmer', 'abbreviation', 'stopped', 'meanings', 'convention', 'nears', 'round', 'slowthespread', 'deformities', 'exactly', 'endemic', 'pangolins', 'eating', 'inhalation', 'dried', 'droppings', 'markets', 'classic', 'vector', 'advisory', 'appropriate', 'fair', 'allocation', 'rolled', 'phases', 'imposes', 'bangalore', 'ply', 'reopens', 'hurricane', 'accounts', 'labourers', 'reused', 'priorities', 'collaboration', 'expertise', 'engagements', 'stakeholders', 'gains', 'wellbeing', 'stays', 'drifting', 'slightly', 'thursday', 'briefing', 'messonnier', 'speech', 'rnc', 'pointed', 'secure', 'borders', 'elect', 'checked', 'pigeon', 'membrane', 'criminalized', 'cv', 'quarantining', 'adds', 'transferred', 'ghana', 'distribution', 'rwanda', 'serves', 'warrant', 'senator', 'richard', 'burr', 'burrgate', 'gifted', 'satire', 'fauxy', 'misleading', 'holy', 'colors', 'fatigue', 'obesity', 'factor', 'roopa', 'ips', 'surya', 'sudhakar', 'ias', 'dont', 'wasting', 'whoever', 'thinks', 'seriousness', 'let', 'bbmp', 'crematoriums', 'decent', 'quick', 'cremation', 'yes', 'fantastic', 'send', 'kentucky', 'overloaded', 'relaxed', 'potential', 'overwhelming', 'everyday', 'subjects', 'olympics', 'postponement', 'messed', 'cheats', 'careful', 'cheating', 'olympicgames', 'attempts', 'outlawing', 'worship', 'deity', 'association', 'tops', 'critics', 'surpass', 'coupled', 'salary', 'communicate', 'language', 'asl', 'streaming', 'brandon', 'compatibility', 'alarming', 'signed', 'claire', 'magne', 'friend', 'extra', 'beef', 'peppers', 'onions', 'rice', 'foodshortages', 'dominant', 'fainted', 'mistreating', 'denied', 'confounding', 'presumptive', 'lumping', 'messy', 'recipe', 'genuine', 'punch', 'hopefully', 'echinacea', 'mass', 'dam', 'nothing', 'wondering', 'summer', 'maskingforafriend', 'impossible', 'calculate', 'believed', 'consumption', 'soup', 'men', 'shave', 'beards', 'settle', 'naaaa', 'hadn', 'hiccups', 'helpful', 'compiled', 'scream', 'window', 'frustration', 'politics', 'ambiguous', 'mps', 'cuban', 'corticosteroids', 'interview', 'describes', 'procedure', 'beard', 'sheep', 'surrender', 'latin', 'homeisolation', 'saturation', 'attention', 'arrives', 'consensus', 'wait', 'reopen', 'decreased', 'steroid', 'reduced', 'permanent', 'considers', 'european', 'judge', 'ruth', 'bader', 'ginsburg', 'larger', 'thorough', 'adequately', 'disinfected', 'fit', 'occupation', 'steam', 'kettle', 'gargles', 'balancing', 'liberty', 'sensible', 'compromising', 'discarded', 'decree', 'ingredient', 'germany', 'luxembourg', 'switzer', 'except', 'cm', 'shivraj', 'singh', 'chouhan', 'jair', 'bolsonaro', 'exiting', 'changing', 'killing', 'celebrates', 'keg', 'stpatricksday', 'lockdownontario', 'stripper', 'contracts', 'suicidal', 'seeks', 'viennetta', 'accompanies', 'wept', 'recognized', 'losing', 'lifted', 'weddings', 'tangihanga', 'funerals', 'jimz', 'dallas', 'h', 'revision', 'registers', 'ignore', 'weak', 'thrown', 'useless', 'needy', 'lesson', 'congregation', 'retested', 'comply', 'melinda', 'divorced', 'husband', 'wanting', 'destroy', 'f', 'andy', 'beshear', 'authorized', 'teachers', 'visits', 'parental', 'inspect', 'bedroom', 'enrolled', 'candidates', 'producers', 'overdoses', 'exam', 'consortium', 'engineering', 'colleges', 'graduate', 'entrance', 'comedk', 'admited', 'forever', 'elevated', 'join', 'connection', 'webinar', 'reducing', 'engaging', 'celebrating', 'fourth', 'webinars', 'pattern', 'guests', 'hotel', 'entered', 'departed', 'augmenting', 'shifts', 'britons', 'wane', 'sage', 'averages', 'oregon', 'premier', 'inn', 'owner', 'whitbread', 'diabetes', 'imperial', 'pretty', 'goodwill', 'industries', 'fired', 'randomized', 'controlled', 'newhampshire', 'appoints', 'foremost', 'watchlist', 'firmly', 'prompt', 'routed', 'hhs', 'compilation', 'mh', 'concern', 'gj', 'dl', 'tn', 'rj', 'belated', 'wisdom', 'infrastructure', 'circumcisions', 'flags', 'yen', 'vic', 'branch', 'taiwan', 'approaches', 'overcrowded', 'shramik', 'train', 'travelling', 'chancellor', 'merkel', 'knew', 'aged', 'eradicated', 'morons', 'requesting', 'largest', 'portfolio', 'gender', 'male', 'females', 'satellite', 'towns', 'unable', 'foundation', 'headquarters', 'reduction', 'crowd', 'rally', 'berlin', 'confidence', 'edged', 'las', 'vegas', 'knock', 'power', 'census', 'cvd', 'testers', 'robbing', 'gunpoint', 'myself', 'colloidal', 'silver', 'word', 'liquid', 'antibiotic', 'msg', 'happy', 'greet', 'survivers', 'azimpremji', 'truly', 'inspirational', 'forces', 'scenery', 'sea', 'chandrabhaga', 'puri', 'konark', 'marine', 'drive', 'bbc', 'replaces', 'nichola', 'briefings', 'jamie', 'oliver', 'curried', 'haggis', 'arrangements', 'investigated', 'rotorua', 'meantime', 'jet', 'survive', 'outpaced', 'downturn', 'complexity', 'lump', 'biden', 'invoking', 'defense', 'marie', 'root', 'complications', 'surprise', 'pharma', 'finances', 'comorbidities', 'coronavac', 'cansino', 'ad', 'ncov', 'unnamed', 'inactive', 'sinopharm', 'bbibp', 'corv', 'gam', 'vac', 'sputnik', 'covered', 'steps', 'unaffected', 'completing', 'barely', 'clarified', 'pib', 'covers', 'broader', 'dynamics', 'observing', 'sneezes', 'coughs', 'maskonnaija', 'wearafacemask', 'observe', 'frequently', 'engaged', 'stroke', 'heartattacks', 'strokes', 'psa', 'eme', 'cindy', 'mccain', 'endorses', 'foxnews', 'widow', 'distinguished', 'affiliate', 'deep', 'adversary', 'ccp', 'soil', 'wing', 'extremists', 'libertarians', 'evangelicals', 'built', 'quebec', 'cbc', 'thirties', 'grand', 'millennium', 'tanzanian', 'spokesman', 'haji', 'manara', 'tour', 'netherlands', 'took', 'platforms', 'p', 'dog', 'hong', 'kong', 'ash', 'binaxnow', 'abbott', 'min', 'chanel', 'perfume', 'amor', 'avec', 'aphrodisiac', 'terrorism', 'labor', 'hazard', 'qualified', 'grow', 'ordinary', 'breached', 'salaries', 'proportional', 'certificates', 'afoolat', 'revolutionnow', 'octstprotest', 'yourviewtv', 'travolta', 'hollywood', 'saturdaynightfever', 'opportunities', 'avg', 'reinforcing', 'concerning', 'unethical', 'sufferers', 'recognition', 'protestors', 'google', 'crores', 'pharmaceutical', 'patanjali', 'coronil', 'produced', 'frontline', 'hypochondriac', 'guide', 'convincing', 'portion', 'performed', 'ton', 'grown', 'depression', 'anthony', 'carried', 'deployment', 'towers', 'extreme', 'signal', 'chip', 'immunize', 'lose', 'privacy', 'bank', 'aware', 'governments', 'fails', 'distinguish', 'teens', 'mentioned', 'intermediate', 'zoology', 'book', 'happens', 'books', 'mostly', 'shame', 'burqa', 'clad', 'kit', 'distributed', 'singing', 'madonna', 'katy', 'perry', 'britney', 'spears', 'aya', 'nakamura', 'songs', 'balcony', 'damn', 'accunalysis', 'diagnostic', 'faqs', 'diagnostics', 'asking', 'bribe', 'migrants', 'walking', 'tracks', 'unveils', 'cocaine', 'tickets', 'mine', 'ticketdebit', 'refund', 'deduction', 'scam', 'raab', 'airports', 'quitting', 'ten', 'attitudes', 'indians', 'iit', 'hrd', 'ramesh', 'pokhriyal', 'mihigo', 'insight', 'historical', 'articles', 'participant', 'turns', 'alive', 'checkers', 'misinfo', 'purchasing', 'car', 'seat', 'spurred', 'surpassed', 'doublingrate', 'offices', 'ers', 'nationally', 'misdiagnosed', 'pneumonia', 'kalka', 'basics', 'birds', 'style', 'virgin', 'fucked', 'ranges', 'fits', 'snugly', 'reaches', 'chin', 'nostrils', 'featuring', 'charged', 'genocide', 'cornwall', 'forefront', 'maybe', 'manisha', 'patil', 'filming', 'spanish', 'stating', 'assisting', 'calibrated', 'umbrella', 'timely', 'push', 'revealed', 'palm', 'spoonful', 'plz', 'urgently', 'love', 'amish', 'hart', 'contend', 'idea', 'predicting', 'occurring', 'faucian', 'bargain', 'dilemma', 'thedevil', 'uganda', 'postponed', 'crying', 'explanation', 'decreasing', 'plots', 'ginger', 'knowthefacts', 'factsnotfears', 'ochu', 'referrals', 'cry', 'suicide', 'roof', 'lockdownnow', 'coronaviruslockdown', 'curfewinindia', 'stayathomesavelives', 'lockdownquery', 'modicovidaddress', 'hantavirus', 'short', 'resembling', 'admissions', 'usage', 'newjersey', 'indicating', 'preparedness', 'meets', 'exceeds', 'documents', 'topics', 'caring', 'healthworkers', 'swath', 'valley', 'brownsville', 'identifies', 'distress', 'models', 'forecast', 'notre', 'dame', 'traced', 'nortedame', 'rides', 'commensurate', 'proportion', 'rashtriya', 'swayamsevak', 'sangh', 'rss', 'aurangabad', 'filing', 'lawsuit', 'honoured', 'hon', 'ble', 'war', 'footing', 'granted', 'exemption', 'grieve', 'agreed', 'application', 'crowded', 'toys', 'ranking', 'ramped', 'hugely', 'ambitious', 'achievable', 'targets', 'co', 'farts', 'farting', 'tacobell', 'mississippi', 'restaurant', 'bar', 'owners', 'customers', 'informs', 'protocols', 'netflix', 'documentary', 'tiger', 'king', 'popularity', 'rumour', 'protagonists', 'demanded', 'wage', 'brace', 'feared', 'deputy', 'leader', 'joins', 'meteorologist', 'wildfires', 'fanned', 'october', 'allies', 'venezuela', 'charter', 'christchurch', 'closest', 'rudimentary', 'dozens', 'pause', 'smooth', 'workflows', 'plug', 'gym', 'shape', 'modeller', 'economist', 'tackling', 'qs', 'resp', 'manufactured', 'later', 'applauded', 'macron', 'pantin', 'paris', 'pacaembu', 'dean', 'biologists', 'euskadi', 'kidney', 'freefall', 'seekers', 'threw', 'fish', 'tank', 'additive', 'alleged', 'tweet', 'heleno', 'institutional', 'security', 'sort', 'interior', 'easily', 'always', 'clothes', 'beijing', 'shipping', 'ceo', 'drew', 'comparing', 'highlighting', 'indirectly', 'talked', 'waited', 'swine', 'demanding', 'helpless', 'tijuana', 'nap', 'mannequin', 'wheeled', 'coverup', 'zanzibar', 'chicken', 'notes', 'industrialist', 'downfall', 'fibrosis', 'english', 'describing', 'sickness', 'senegalese', 'senegal', 'universitario', 'santa', 'luc', 'cartagena', 'murcia', 'resign', 'critically', 'avian', 'mers', 'kothapet', 'hyderabad', 'admins', 'requested', 'microsoft', 'priyanka', 'gandhi', 'buses', 'saddam', 'hussein', 'nineties', 'threatened', 'command', 'apologising', 'document', 'talks', 'wine', 'undergo', 'caesarean', 'section', 'entitled', 'usd', 'anyway', 'worry', 'bit', 'wrinkle', 'lots', 'worth', 'bound', 'democratic', 'nicol', 'maduro', 'lithuanian', 'excerpted', 'letter', 'nc', 'roy', 'vinod', 'paul', 'apprises', 'gom', 'steal', 'german', 'patientzero', 'morbidly', 'obese', 'none', 'electrification', 'implication', 'kabataan', 'sarah', 'elago', 'andrew', 'jenkinson', 'paused', 'concentration', 'fell', 'ships', 'blocking', 'shooting', 'bengalis', 'entering', 'doha', 'sydney', 'needs', 'returnees', 'assess', 'sofi', 'delays', 'condemned', 'appalling', 'negligent', 'chair', 'representing', 'northeastern', 'northwestern', 'unreported', 'pier', 'luigi', 'bersani', 'reflects', 'index', 'astute', 'definition', 'history', 'le', 'parisien', 'olly', 'murs', 'hangover', 'ticked', 'largely', 'bruno', 'covas', 'assam', 'legislator', 'haripriya', 'fear', 'mongering', 'scientifically', 'anant', 'bhan', 'researcher', 'preventive', 'med', 'law', 'fines', 'overarching', 'goal', 'unga', 'cardio', 'covidpandemic', 'layoffs', 'stripped', 'employer', 'sponsored', 'plans', 'marketplaces', 'obamacare', 'try', 'civil', 'regards', 'solve', 'kcrfailedtelangana', 'bangarutelangana', 'mission', 'recording', 'illuminates', 'intensity', 'touches', 'aggressively', 'comprehensively', 'ambulance', 'invasive', 'desired', 'scrubs', 'operating', 'theatre', 'loknayak', 'jedward', 'heard', 'winner', 'inventing', 'suitable', 'inventor', 'dpp', 'progressive', 'wang', 'shijian', 'specific', 'newest', 'frequent', 'conversation', 'intrepid', 'investigative', 'ingredients', 'russki', 'substantively', 'expanded', 'facilitation', 'easy', 'stage', 'backs', 'lax', 'spots', 'acting', 'reservoirs', 'reignite', 'tamped', 'actnow', 'ehealth', 'coordinate', 'relax', 'cooking', 'skills', 'apron', 'gotten', 'shots', 'focussed', 'effec', 'attempting', 'speak', 'hindered', 'freedom', 'prescription', 'raj', 'kamal', 'agarwal', 'accelerate', 'leakage', 'harmful', 'accidental', 'genetic', 'manipulation', 'betacoronaviruses', 'irrefutably', 'derived', 'backbone', 'angel', 'broking', 'bankrupt', 'temple', 'dynamic', 'constantly', 'reviewed', 'optimised', 'affecting', 'overly', 'improve', 'ups', 'nebraska', 'disappear', 'convalescent', 'plasma', 'asserts', 'havana', 'antiviral', 'heberon', 'alfa', 'interferon', 'sicker', 'flown', 'reposting', 'clarity', 'mislabeled', 'diagnosed', 'engagement', 'brian', 'rose', 'airing', 'falsehoods', 'comments', 'bob', 'woodward', 'tapes', 'communist', 'belarus', 'hysteria', 'scotland', 'visiting', 'households', 'indoors', 'asleep', 'comatose', 'lebanon', 'andhrapradesh', 'uttarpradesh', 'todayinncdc', 'communication', 'educators', 'strengthening', 'develop', 'appear', 'clearance', 'checking', 'vastly', 'mistaking', 'spreads', 'rays', 'pennsylvania', 'shutting', 'issuing', 'thwarting', 'scenarios', 'future', 'canadian', 'scolds', 'fully', 'embracing', 'spawned', 'super', 'code', 'zyphr', 'ni', 'jes', 'timings', 'shop', 'timing', 'unisted', 'onitsha', 'advocacy', 'disney', 'inevitable', 'inspire', 'films', 'feature', 'contag', 'diligently', 'frontlines', 'flareup', 'contaminations', 'reporters', 'turkmenistan', 'discussing', 'covidupdate', 'slumped', 'obvious', 'mehdipatnam', 'hyderbad', 'jamal', 'khashoggi', 'saudi', 'arabia', 'saudiarabia', 'jamalkhashoggi', 'gears', 'donation', 'computer', 'cleaning', 'keyboards', 'mice', 'laptops', 'safetyfirst', 'increases', 'perinatal', 'domesticviolence', 'brothers', 'sisters', 'fathers', 'grandparents', 'educated', 'threatening', 'naman', 'shri', 'score', 'accurately', 'predicts', 'nick', 'forbes', 'newcastle', 'math', 'ratio', 'assumption', 'terminator', 'seeds', 'swab', 'length', 'officially', 'percent', 'popular', 'erroneously', 'cites', 'existed', 'ibadan', 'applaud', 'responders', 'hmh', 'rodrigo', 'duterte', 'handle', 'constituents', 'particular', 'endocrine', 'disorders', 'endocrinologists', 'spoke', 'bounce', 'slowdown', 'lucknow', 'gorakhpur', 'pathak', 'ig', 'hcp', 'ts', 'degree', 'normality', 'successfully', 'garib', 'kalyan', 'incentive', 'ashas', 'contribution', 'towards', 'pcps', 'changed', 'estimate', 'invite', 'chat', 'physically', 'distant', 'physicaldistance', 'togetheralone', 'evaluate', 'outcomes', 'review', 'validation', 'resident', 'evil', 'corporation', 'releases', 'infects', 'raccoon', 'logo', 'bombay', 'approximately', 'finish', 'contacting', 'art', 'surabaya', 'indonesia', 'elite', 'looks', 'crown', 'hypochlorite', 'phenolic', 'disinfectants', 'refer', 'link', 'fresh', 'annexure', 'mistook', 'aid', 'debt', 'incurred', 'tax', 'merit', 'girl', 'pearl', 'earring', 'vs', 'predator', 'billions', 'hydroxychloroquineis', 'founded', 'inkalonji', 'seedso', 'kalonji', 'seed', 'bfast', 'attacked', 'fromcovid', 'noon', 'metal', 'exaggerated', 'instructed', 'didnt', 'accident', 'listed', 'victim', 'dogs', 'pile', 'corpses', 'mutate', 'lookalike', 'reacts', 'differently', 'stressful', 'selfcare', 'stress', 'placard', 'congratulating', 'eradicating', 'entry', 'tabs', 'ingest', 'inject', 'respond', 'stalls', 'pharmacies', 'sanitiser', 'disinfect', 'kenyan', 'electoral', 'commission', 'iebc', 'hinted', 'postponing', 'compromised', 'meatpackers', 'crucial', 'adjusted', 'ppl', 'averaged', 'theater', 'succumbing', 'confirms', 'cummings', 'selflessly', 'serological', 'survey', 'delhiites', 'approx', 'naturally', 'design', 'manage', 'thaalibajao', 'lightcandles', 'bhabhijikapapaad', 'gobar', 'cowurine', 'races', 'insanity', 'locsin', 'paschim', 'bardhaman', 'westbengal', 'helpline', 'plandemia', 'maps', 'toilets', 'applies', 'screened', 'monitor', 'surrenders', 'justice', 'parents', 'prioritised', 'denies', 'daughter', 'establishing', 'deliver', 'bribed', 'madagascan', 'andry', 'rajoelina', 'poison', 'organics', 'devised', 'proud', 'usman', 'danfodio', 'teaching', 'ahmadu', 'bello', 'zaria', 'ethiopian', 'addis', 'ababa', 'cove', 'evening', 'chirayu', 'formula', 'tedros', 'adhanom', 'accelerating', 'jharkhand', 'hemant', 'soren', 'colleagues', 'apple', 'teamed', 'notifies', 'cellphone', 'opt', 'subsided', 'gather', 'engage', 'enteroviruses', 'acuteflaccidmyelitis', 'afm', 'fakenewsalert', 'publishes', 'raches', 'ella', 'bd', 'helps', 'ia', 'mi', 'mo', 'nh', 'ri', 'wy', 'directive', 'supporters', 'tulsa', 'catc', 'indiafightscoronavirus', 'distributing', 'ppes', 'corrected', 'saint', 'luke', 'tenants', 'vow', 'rent', 'cheques', 'rentfreezenow', 'pres', 'abraham', 'secession', 'alappuzha', 'discovery', 'keenly', 'wtd', 'midday', 'hear', 'myth', 'busters', 'sesame', 'oneself', 'listerine', 'boss', 'mustapha', 'task', 'nonpregnant', 'idh', 'vermont', 'minimum', 'efficient', 'retweeted', 'misconstrue', 'involving', 'benefited', 'aggregated', 'talented', 'epidemiologists', 'engineers', 'beat', 'org', 'reflect', 'exams', 'healthoverexams', 'postponeneeet', 'cancel', 'cs', 'ga', 'david', 'icke', 'uptake', 'remove', 'promptly', 'paramilitary', 'deployed', 'rajkot', 'baroda', 'workplace', 'halt', 'resumed', 'laid', 'repeat', 'underlying', 'georgina', 'peacock', 'settings', 'meters', 'sur', 'referencing', 'proof', 'synchronized', 'rish', 'profesion', 'closely', 'memo', 'lowers', 'vodka', 'sanitizing', 'unlike', 'navajo', 'loads', 'raising', 'skilled', 'censor', 'meng', 'yan', 'engineered', 'ruin', 'arriving', 'concerns', 'efficiency', 'effectiveness', 'overcrowding', 'detecting', 'periods', 'reveal', 'identity', 'cdu', 'nsci', 'badminton', 'eye', 'heart', 'possibly', 'lifetime', 'healthier', 'jama', 'cardiology', 'gunes', 'newspaper', 'stable', 'parent', 'provider', 'commits', 'assistance', 'ie', 'excited', 'mom', 'gift', 'mothersday', 'thankyoumom', 'winning', 'wrongly', 'stanford', 'involve', 'rare', 'learns', 'immunosuppression', 'choice', 'midst', 'autoimmune', 'opthalmology', 'medtwitter', 'retroactively', 'adjusts', 'suggestion', 'helth', 'science', 'scan', 'ultra', 'violet', 'ray', 'germ', 'killer', 'alien', 'takeover', 'aliens', 'ufo', 'meaningless', 'realized', 'coverage', 'cruelty', 'knows', 'bounds', 'touched', 'fiji', 'principal', 'aspects', 'participation', 'unacceptable', 'detailed', 'laying', 'ago', 'compile', 'equitably', 'inarguable', 'generating', 'casualties', 'disruptions', 'unconscionable', 'tragedy', 'flip', 'flops', 'defined', 'sterilization', 'ozone', 'intelligent', 'lamp', 'killingvirus', 'uvc', 'uva', 'uvdisinfection', 'uvlight', 'uvlamp', 'uvsolution', 'uvled', 'throw', 'seas', 'seafood', 'dear', 'intervene', 'filed', 'jobless', 'unemployment', 'appointed', 'housing', 'freezing', 'rents', 'evictions', 'securing', 'homeless', 'appointments', 'shake', 'cali', 'bus', 'immigrants', 'illegalimmigrants', 'ford', 'ji', 'delhifightscorona', 'arvindkejriwal', 'biosafety', 'maiduguri', 'harcourt', 'jos', 'canine', 'cops', 'dehradun', 'norms', 'handles', 'latter', 'guesstimate', 'typically', 'somalia', 'greek', 'begin', 'repeatable', 'structure', 'runs', 'teams', 'paragraph', 'masts', 'quoted', 'billionaire', 'sell', 'poisonous', 'troubling', 'clutching', 'tightly', 'chest', 'margarita', 'puebla', 'hallway', 'containing', 'tanks', 'latvia', 'riga', 'puzzling', 'uncertainty', 'assessing', 'observational', 'metformin', 'territory', 'trips', 'instalment', 'amounting', 'govts', 'mum', 'plane', 'pass', 'dublin', 'checks', 'brought', 'halting', 'wouldn', 'eliminate', 'conceal', 'fuel', 'tulsatrumprally', 'facecover', 'directives', 'violation', 'imprisonment', 'fine', 'concluded', 'grounds', 'subsequently', 'withdrawn', 'rivaled', 'hypochondria', 'prostatecancer', 'wins', 'anita', 'derby', 'traces', 'pot', 'supply', 'marijuana', 'tranche', 'thinking', 'peer', 'poleaxed', 'powerful', 'material', 'hotspot', 'statements', 'falsehood', 'johntravolta', 'maryland', 'fix', 'developing', 'abound', 'pedro', 'sanchez', 'recognize', 'readily', 'praying', 'umah', 'pelotas', 'hall', 'grande', 'sul', 'sirens', 'rydges', 'peter', 'horby', 'trialled', 'hospitalised', 'monoclonal', 'involves', 'trajectory', 'idiocy', 'milan', 'communicating', 'respective', 'communicated', 'indiafightscovid', 'myeloma', 'undergoing', 'chemotherapy', 'responsive', 'collectively', 'encouraging', 'captured', 'medication', 'esccongress', 'ns', 'abysmal', 'toting', 'michiganders', 'burn', 'witch', 'seated', 'buffets', 'salad', 'served', 'individually', 'filtered', 'hosts', 'knowns', 'unknowns', 'implemented', 'devi', 'sridhar', 'introduced', 'thyrocare', 'sealed', 'buck', 'normally', 'fifth', 'respectively', 'overload', 'sooner', 'hell', 'vinegar', 'eliminates', 'southeast', 'coast', 'northwest', 'interrupted', 'revived', 'presumably', 'commercial', 'providers', 'sense', 'precipitously', 'matamata', 'dropped', 'gain', 'arsonist', 'fighter', 'taht', 'ecuador', 'ecuadorian', 'disobeyed', 'autopsies', 'antibiotics', 'inflammatories', 'anticoagulants', 'british', 'cleaner', 'destroys', 'coin', 'sms', 'apply', 'vacancy', 'collapse', 'islam', 'chemists', 'fabiflu', 'kejriwal', 'exists', 'hampering', 'braindead', 'horror', 'thewalkingdead', 'fwd', 'consultation', 'chats', 'reqest', 'fightagainstcoronavirus', 'stayhomestaysafe', 'telugunews', 'journalist', 'sai', 'examination', 'straight', 'terminate', 'programme', 'tuesdaylive', 'tune', 'dstv', 'dreaded', 'chupacabra', 'lachupacabra', 'arguably', 'prexisting', 'regret', 'announcement', 'crowds', 'covidstopswithme', 'discover', 'rinsing', 'jihadi', 'spits', 'closes', 'iq', 'thulped', 'pulp', 'stomped', 'lewd', 'jihadis', 'wetherspoons', 'barrel', 'piss', 'shed', 'highs', 'throughout', 'colorful', 'fashions', 'obsession', 'dyes', 'futures', 'futurism', 'futurenow', 'futuretrends', 'education', 'appliance', 'outsource', 'gowns', 'gloves', 'ventilaors', 'sic', 'photograph', 'slaughter', 'coronaviruses', 'cattle', 'pet', 'bandwidth', 'pieces', 'coffee', 'branded', 'tchotchkes', 'meetings', 'tumbleweeds', 'blowing', 'mental', 'minoritymentalhealth', 'mentalhealthawareness', 'discouraging', 'mor', 'thing', 'dwarfing', 'vendors', 'overloads', 'patinents', 'mu', 'iz', 'buenos', 'aires', 'teravolt', 'thoracic', 'malignancies', 'asco', 'lcsm', 'pills', 'nascent', 'correlations', 'hardest', 'deficient', 'holds', 'random', 'exponentially', 'january', 'maximum', 'chaos', 'payment', 'alas', 'deeply', 'appreciate', 'dedication', 'maximize', 'usefulness', 'wildland', 'firefighters', 'californ', 'page', 'grant', 'idaho', 'statesman', 'sounding', 'alarm', 'declaring', 'mantova', 'carabinieri', 'experimentation', 'arranged', 'stuck', 'evolve', 'pace', 'indicator', 'inhaling', 'boiling', 'orange', 'peelings', 'schizophrenia', 'maulana', 'saad', 'tablighi', 'jamaat', 'watched', 'stream', 'pole', 'competitions', 'abundantly', 'athletes', 'music', 'ex', 'successor', 'ptfcovid', 'processing', 'favipiravir', 'roofs', 'hubei', 'daylockdown', 'dayslockdown', 'dayschallenge', 'conduct', 'coronovirus', 'honourable', 'convened', 'pakistani', 'osama', 'riaz', 'geo', 'political', 'zone', 'devastated', 'brokers', 'stockmarketcrash', 'unchanged', 'downplayed', 'modelling', 'reportedly', 'additionally', 'suspended', 'fungal', 'albany', 'y', 'interviews', 'ads', 'businessman', 'clive', 'palmer', 'baseless', 'auspol', 'kiosk', 'wuhancoronavirus', 'publicly', 'commit', 'course', 'corporate', 'cede', 'eradicate', 'jalingo', 'takum', 'destination', 'https', 'showcasing', 'names', 'limits', 'cardiac', 'mri', 'scans', 'showed', 'myocarditis', 'substantial', 'drops', 'notices', 'smoother', 'disregard', 'beneficiary', 'funds', 'credited', 'letters', 'limiting', 'challenging', 'pro', 'traveled', 'literacy', 'trainings', 'wou', 'doh', 'mary', 'interns', 'determine', 'fa', 'lift', 'emerges', 'ed', 'sheeran', 'write', 'album', 'grafitti', 'qanon', 'theorists', 'mms', 'wikipedia', 'crazy', 'democrat', 'pedophiles', 'aimed', 'followers', 'worrying', 'indications', 'trending', 'recommendation', 'managing', 'ischemic', 'chose', 'expend', 'disestablish', 'mashpee', 'wampanoag', 'tribe', 'reservation', 'istandwithmashpee', 'decisive', 'connecting', 'repositioning', 'reasoning', 'fueling', 'depopulate', 'exit', 'bump', 'doubt', 'equivalent', 'basically', 'jokowi', 'bet', 'avigan', 'paybacks', 'newborn', 'twins', 'elsewhere', 'trended', 'admits', 'transcripts', 'walmart', 'amazon', 'kroger', 'costco', 'fennel', 'swimming', 'pools', 'functional', 'gymnasiums', 'westvirginia', 'shrinking', 'damages', 'proved', 'zealanders', 'arvind', 'manufacturers', 'licensed', 'azim', 'premji', 'donates', 'charity', 'uttarakhand', 'puducherry', 'eastern', 'paige', 'armstrong', 'correctly', 'panties', 'ebay', 'coronavirusmasks', 'fleamarkets', 'undetected', 'village', 'birth', 'paste', 'toenail', 'foot', 'abc', 'bans', 'fortune', 'cookies', 'missiles', 'exclusive', 'destruction', 'shortness', 'serology', 'anticipating', 'backend', 'kinks', 'injectable', 'quinine', 'cq', 'becomes', 'cerebral', 'barrier', 'designates', 'herself', 'prefect', 'slows', 'http', 'seeking', 'behaviour', 'drastically', 'attendance', 'presymptomatic', 'actual', 'packages', 'ps', 'glittering', 'lighting', 'attempted', 'shaved', 'heads', 'max', 'fixed', 'subsidized', 'positively', 'americold', 'dominion', 'finance', 'happening', 'answering', 'easing', 'latex', 'purposes', 'gyms', 'cinemas', 'nightclubs', 'oregonians', 'correspondent', 'eyewitness', 'piece', 'scheduled', 'itly', 'couldn', 'worldoutside', 'majid', 'modiji', 'postponejeeneet', 'highly', 'sops', 'postpone', 'jee', 'neet', 'shifting', 'elisa', 'granato', 'administered', 'colds', 'triump', 'advocates', 'bloodletting', 'conspiracytheories', 'dictatorship', 'sisi', 'egypt', 'renowned', 'surgeon', 'shetty', 'suggestions', 'sorrowful', 'outburst', 'longtime', 'fan', 'idols', 'uninterested', 'installing', 'covidsafe', 'stealth', 'smartphones', 'sacrificed', 'condolences', 'coviditaly', 'covidireland', 'faculty', 'administrators', 'notify', 'newsthump', 'quotes', 'sen', 'lindsey', 'graham', 'specifically', 'banish', 'pissed', 'angry', 'mobs', 'storm', 'nails', 'centerstage', 'scott', 'morrison', 'statesmanship', 'sputum', 'secretion', 'jammat', 'celebration', 'ramnavami', 'bhuj', 'aka', 'gujaratmodel', 'modia', 'checkup', 'hails', 'necessarily', 'ultimately', 'trace', 'sharp', 'jorge', 'luis', 'sonnante', 'minute', 'networks', 'deacon', 'falsified', 'mixes', 'theories', 'jeans', 'board', 'nct', 'shall', 'homequarantine', 'milestone', 'citrus', 'peels', 'hanging', 'constrained', 'upwards', 'stalled', 'urban', 'institutionalquarantine', 'airline', 'brooklyn', 'salvatore', 'goombalini', 'yorkers', 'repurposed', 'antivirals', 'rendesiver', 'antiparasitic', 'antimalarial', 'anttibiotics', 'azithromycin', 'doxycycline', 'modulators', 'quercetin', 'bunch', 'bulgaria', 'fruit', 'ignoring', 'publishing', 'pants', 'covidiots', 'annoying', 'covidiot', 'guess', 'marketing', 'newsome', 'cousin', 'witnessed', 'tipping', 'restrictive', 'broiler', 'gop', 'clarifies', 'remarks', 'tides', 'sexually', 'frustrated', 'aunts', 'moistly', 'combo', 'expedite', 'unrecognized', 'circumstances', 'playing', 'schoolsreopening', 'collapsing', 'store', 'thrive', 'supported', 'vi', 'ben', 'form', 'cutting', 'augusto', 'argentine', 'chamber', 'legislative', 'eliminated', 'aldi', 'kris', 'aquino', 'rushed', 'hinting', 'reunion', 'defence', 'hamsters', 'shockingly', 'indifferent', 'advices', 'rush', 'listen', 'layoffed', 'coolies', 'entrepreneurs', 'auto', 'drivers', 'invisible', 'hardship', 'burecrat', 'vvip', 'representatives', 'icymi', 'uss', 'bonhomme', 'boasts', 'backed', 'dismantle', 'aca', 'ags', 'succeed', 'devastation', 'untold', 'involvement', 'contributions', 'enabling', 'mcdonalds', 'circulated', 'bowing', 'frontliners', 'reopened', 'sayardaw', 'mohan', 'bhagwant', 'shook', 'faith', 'religion', 'fainting', 'surviving', 'immunizations', 'surveyed', 'swift', 'globe', 'wor', 'purpose', 'insertion', 'wand', 'cavities', 'hemato', 'encephalitic', 'septum', 'depth', 'skull', 'painful', 'polling', 'electronics', 'frankly', 'perhaps', 'antigen', 'colfax', 'dawson', 'tied', 'meatpacking', 'plants', 'truck', 'tanzania', 'zooming', 'peaking', 'joint', 'biosecurity', 'upgraded', 'journey', 'crossing', 'debunk', 'nyers', 'cuomo', 'snow', 'ok', 'evict', 'occur', 'shouldn', 'spaces', 'cats', 'fuck', 'workfromhomelife', 'belonging', 'naked', 'vandalizing', 'mauritius', 'density', 'communicable', 'meant', 'initiated', 'lukes', 'mall', 'cont', 'horses', 'thoroughbred', 'sugarcreek', 'sat', 'gentleman', 'son', 'assigns', 'meat', 'loaf', 'gary', 'busey', 'stigma', 'hurts', 'dea', 'slacker', 'struggles', 'negatively', 'recession', 'amitabh', 'bachchan', 'abhishek', 'granddaughter', 'aaradhya', 'parth', 'samthaan', 'ooni', 'ife', 'traditional', 'healer', 'plant', 'sulphur', 'extracted', 'crackdown', 'manual', 'supervisors', 'prolonged', 'hypercapnia', 'leading', 'disruption', 'sacrifice', 'myalgia', 'muscle', 'poem', 'reprinted', 'endure', 'repeats', 'nsw', 'favourably', 'berejiklian', 'overblown', 'mikakos', 'impacting', 'kent', 'lorry', 'deadline', 'fade', 'vellore', 'sets', 'dryers', 'ultraviolet', 'helping', 'trumpuniversity', 'heading', 'direction', 'chris', 'whitty', 'tulisa', 'contostavlos', 'sincerely', 'leicester', 'mercury', 'female', 'lousy', 'vte', 'considerations', 'upcoming', 'calendar', 'register', 'weapons', 'publi', 'cigars', 'discontinued', 'medically', 'cupboards', 'december', 'takeresponsibilty', 'covidindiaseva', 'pui', 'geographic', 'fatalityrate', 'em', 'kont', 'rollison', 'manager', 'melbourne', 'swanston', 'chances', 'advises', 'nonessential', 'statistic', 'collide', 'potency', 'inbox', 'diaper', 'diapers', 'trumpliedamericansdied', 'trumpdeathtollk', 'finalising', 'receives', 'pushes', 'tags', 'stages', 'descriptions', 'outlawed', 'legislation', 'ramping', 'procedures', 'faq', 'clinics', 'congestions', 'prioritise', 'passes', 'brad', 'pitt', 'jennifer', 'aniston', 'relationship', 'bird', 'flus', 'assures', 'lessons', 'serve', 'pande', 'q', 'leh', 'cabello', 'mind', 'thermometers', 'cuffs', 'stethoscopes', 'handing', 'doused', 'knocks', 'rob', 'reopenings', 'sepsis', 'educate', 'downloading', 'sheet', 'sam', 'misbehaving', 'nearing', 'guwahati', 'mainly', 'aerosols', 'vienna', 'intending', 'maharshtra', 'exempted', 'ticket', 'onward', 'somewhere', 'systematically', 'gouty', 'arthritis', 'hospitalize', 'polio', 'diary', 'bottled', 'lager', 'drinkers', 'forty', 'thriller', 'writer', 'coincidence', 'leapfrogged', 'introduces', 'dubs', 'stefano', 'montanari', 'byoblu', 'nanopathologist', 'inhale', 'expelled', 'supposedly', 'benchmarks', 'blm', 'thom', 'tillis', 'declarations', 'relating', 'advance', 'automatically', 'owe', 'miami', 'coroner', 'assuming', 'overinflated', 'shortages', 'harassment', 'daytime', 'visualize', 'compares', 'posed', 'unjustifiable', 'failures', 'eric', 'coe', 'impressive', 'broad', 'framework', 'yavatmal', 'primarily', 'surface', 'congregate', 'rita', 'wilson', 'ut', 'proactively', 'dire', 'unsurprisingly', 'stoking', 'flames', 'division', 'promoted', 'owns', 'manufactures', 'stake', 'mutual', 'features', 'fo', 'lieutenant', 'anil', 'baijal', 'organized', 'theft', 'malls', 'substantially', 'prohibited', 'hidroxychloroquine', 'file', 'demise', 'banging', 'thalis', 'shouting', 'gautambuddhnagar', 'noida', 'recommend', 'hussain', 'tradition', 'decorum', 'decency', 'trumpsjealousofobama', 'obamagate', 'maga', 'kag', 'exclude', 'assign', 'beverages', 'sacrifices', 'kiwis', 'vigilant', 'paraguay', 'fat', 'manat', 'hauora', 'alleyesonkentucky', 'balloting', 'gandhinagar', 'spartan', 'supplementing', 'atlantic', 'thumb', 'uw', 'hearing', 'epidemiologically', 'olympic', 'games', 'sport', 'ibd', 'mixture', 'ryanair', 'cuts', 'mismanagement', 'poultry', 'fill', 'roles', 'learned', 'authorize', 'neighbor', 'noia', 'stupid', 'thoroughly', 'lysol', 'augmentation', 'gradually', 'extraordinary', 'complaints', 'gmc', 'macedonia', 'euros', 'greece', 'strongertogether', 'bon', 'jovi', 'song', 'contest', 'aggression', 'humor', 'recieved', 'rich', 'punjab', 'nitish', 'kumar', 'lou', 'dobbs', 'strains', 'vehicles', 'nigel', 'farage', 'teach', 'climate', 'denial', 'balance', 'scheme', 'wi', 'renters', 'eviction', 'dementia', 'lifelong', 'asthma', 'survival', 'quadrupled', 'unique', 'filled', 'locality', 'theory', 'landing', 'thereafter', 'requests', 'johns', 'bloomberg', 'allergy', 'kogi', 'homelessness', 'contributing', 'institution', 'haul', 'fucking', 'conway', 'writes', 'occu', 'worldhealthday', 'risking', 'met', 'courage', 'underestimated', 'jaipur', 'tobacco', 'mitigate', 'triaging', 'practices', 'everythingonly', 'skill', 'entrepreneurship', 'institutions', 'educational', 'doctoral', 'reporter', 'bilgehan', 'bilge', 'hoarding', 'conditioners', 'fans', 'dundee', 'halls', 'covd', 'sophisticated', 'curfews', 'adult', 'shoutout', 'adeline', 'gutierrez', 'nu', 'ez', 'bu', 'antiracist', 'citizen', 'illiterate', 'literate', 'behaves', 'curfewondelhi', 'snapped', 'coy', 'saturdays', 'queenstown', 'outlines', 'witness', 'happened', 'dumped', 'hike', 'rash', 'criticised', 'dedicated', 'rashes', 'unusual', 'gathered', 'stone', 'pelting', 'defiance', 'obey', 'guns', 'lathi', 'cane', 'graded', 'evolving', 'borne', 'tried', 'cbs', 'bergamo', 'mislead', 'viewers', 'cast', 'father', 'rbi', 'closing', 'fiscal', 'ends', 'reserve', 'draws', 'doncaster', 'shops', 'stella', 'artois', 'sized', 'quavers', 'debacle', 'lyme', 'tends', 'tick', 'digital', 'lied', 'flew', 'internationally', 'welding', 'ne', 'ukrainians', 'pigs', 'burned', 'twenty', 'connecticut', 'introducing', 'carl', 'heneghan', 'surreptitiously', 'install', 'depict', 'preterm', 'uptrend', 'warriors', 'malnourished', 'asia', 'moonshot', 'repo', 'brahman', 'seva', 'mandal', 'dadar', 'eas', 'trail', 'dismissive', 'minimized', 'handful', 'lucky', 'points', 'measuring', 'stabbed', 'neighbourhood', 'moratalaz', 'coursing', 'harder', 'driving', 'cares', 'establishment', 'clinically', 'pesco', 'mediterranean', 'intermittent', 'libs', 'ruling', 'disregarded', 'impunity', 'dissolved', 'custo', 'weir', 'thats', 'alot', 'judy', 'replace', 'medicate', 'grandmother', 'discovers', 'porn', 'pornography', 'incubating', 'dancing', 'indo', 'scout', 'ranging', 'purposing', 'machines', 'sensor', 'laurent', 'hazardous', 'booster', 'discontinue', 'baba', 'ramdev', 'james', 'franco', 'shit', 'annually', 'flavor', 'doritos', 'trailing', 'fl', 'tx', 'decoction', 'noticed', 'correction', 'vessel', 'ucla', 'er', 'accessible', 'revealing', 'chicomvirus', 'lengths', 'enemies', 'suppress', 'conservative', 'kmag', 'domino', 'edmunds', 'introduce', 'constraints', 'pin', 'quantitative', 'considerably', 'lagging', 'reality', 'specimens', 'interim', 'demonstrators', 'clashed', 'species', 'caretakers', 'waterford', 'wages', 'oh', 'finland', 'freak', 'eschews', 'aides', 'bia', 'hepatitis', 'unconstitutional', 'potus', 'decease', 'indiantelecommunication', 'kanika', 'kapoor', 'hrh', 'tectonic', 'cultural', 'warp', 'speed', 'presidentialelection', 'coded', 'sixth', 'lowcock', 'humanitarian', 'ghrp', 'addresses', 'immediate', 'exacerbated', 'crises', 'jacinda', 'ardern', 'hindu', 'prediction', 'dates', 'univeristy', 'trchnology', 'heath', 'vial', 'registration', 'moscow', 'photographer', 'andrey', 'rudakov', 'namely', 'russianvaccine', 'vaccino', 'worldbreastfeedingweek', 'healthforall', 'pelted', 'stones', 'screen', 'units', 'desperately', 'staffing', 'marseille', 'coroanvirus', 'tighter', 'infographic', 'forged', 'bashed', 'suba', 'columbia', 'ra', 'oximeter', 'prepair', 'ridiculous', 'adherence', 'cking', 'apa', 'presentations', 'easiest', 'gene', 'manufacturered', 'swiss', 'convenience', 'voice', 'wsnz', 'rick', 'commodore', 'predictions', 'psychological', 'fallout', 'uh', 'huh', 'returns', 'coronavirusvaccine', 'attached', 'mob', 'administer', 'senior', 'hanumantha', 'rao', 'arbidol', 'waitemata', 'waitakere', 'guees', 'costly', 'gut', 'rip', 'morally', 'reprehensible', 'integral', 'chase', 'negatives', 'mandatorily', 'subjected', 'governador', 'province', 'axel', 'kicillof', 'juan', 'dom', 'nguez', 'moron', 'amazing', 'hdfc', 'md', 'aditya', 'reconciliation', 'kowheori', 'hate', 'newsinphotos', 'covidalert', 'workforce', 'workfromhome', 'fivefold', 'tripled', 'quantifies', 'ontario', 'feds', 'onpoli', 'ramakrishna', 'commenced', 'pheoc', 'optimisation', 'biomedical', 'noguchi', 'approves', 'coa', 'fs', 'nutritional', 'supplement', 'cytokine', 'overactivation', 'unexpected', 'multi', 'centric', 'bcg', 'prove', 'clot', 'ought', 'fought', 'tory', 'fletcher', 'shield', 'unwittingly', 'knell', 'responds', 'forcing', 'remaining', 'placebo', 'deleted', 'indus', 'unattended', 'footpath', 'seasons', 'unfolds', 'grim', 'robert', 'redfield', 'partylist', 'committees', 'damascus', 'syria', 'missed', 'indicated', 'postmortem', 'trade', 'restored', 'outweigh', 'investment', 'pullman', 'emphasized', 'tiny', 'fraud', 'treasurer', 'watering', 'deficit', 'borrowed', 'chalmers', 'unessential', 'preexisting', 'bloomfield', 'warrior', 'tip', 'soap', 'covidwarriortips', 'stopthespread', 'covidactnow', 'illustration', 'logged', 'beatncds', 'takeaction', 'converting', 'choir', 'skagit', 'wore', 'blackface', 'fancy', 'dress', 'disseminating', 'accredited', 'nearest', 'alternative', 'africans', 'reject', 'durham', 'kevan', 'jones', 'shambles', 'understands', 'approached', 'halted', 'infamous', 'serum', 'covishield', 'immunogenic', 'efficacious', 'laws', 'walkers', 'clothesline', 'joggers', 'experienced', 'presented', 'cbac', 'avoided', 'indoctornation', 'designed', 'keir', 'starmer', 'disagrees', 'dido', 'harding', 'unaware', 'coaching', 'zambia', 'fist', 'resolved', 'heartening', 'dnanudge', 'truenat', 'platform', 'advantage', 'groceries', 'vegetables', 'handed', 'crack', 'uhuru', 'artists', 'sh', 'cushion', 'rises', 'sciences', 'supremacist', 'whitesupremacy', 'swedish', 'asians', 'rumor', 'tracers', 'talkers', 'wallace', 'supports', 'thrashed', 'godi', 'drowned', 'originator', 'goo', 'underrated', 'acetylcysteine', 'nac', 'liquefies', 'mucus', 'prostatitis', 'bc', 'prostata', 'fluids', 'liver', 'kidneys', 'label', 'crowe', 'prepares', 'cooperation', 'instrument', 'presents', 'agenda', 'orangenetwork', 'colombian', 'manuel', 'elkin', 'patarroyo', 'breast', 'trumps', 'nude', 'statue', 'anger', 'mechanical', 'ventilation', 'brits', 'horse', 'panicbuying', 'trained', 'mentored', 'eoc', 'core', 'operation', 'simulation', 'examinations', 'everywhere', 'behaviours', 'sero', 'stricter', 'ceos', 'resigned', 'dump', 'rubbish', 'rooftop', 'textile', 'grenons', 'drunk', 'dilution', 'autism', 'supplementation', 'mayan', 'priest', 'hokum', 'revises', 'seanhannity', 'mayans', 'testifies', 'medecin', 'excluded', 'title', 'endothelial', 'injury', 'plays', 'pathogenesis', 'coagulopathy', 'sard', 'republic', 'hmsh', 'bottomed', 'pushing', 'unsweetened', 'sun', 'prophetised', 'uttering', 'laredo', 'strictest', 'crimes', 'gate', 'destiny', 'melburnians', 'hongkong', 'literally', 'cool', 'modellers', 'keeling', 'suppressed', 'orana', 'cook', 'ncr', 'authorizes', 'precise', 'measurement', 'permanently', 'southwest', 'papua', 'guinea', 'returnee', 'campers', 'sleep', 'camp', 'uncaptured', 'anywhere', 'clinicaltrials', 'variables', 'ted', 'kaczynski', 'rebirth', 'relevance', 'shadow', 'divert', 'pillow', 'uncomfortable', 'milder', 'adolescents', 'retaining', 'doubling', 'emphasises', 'minnesota', 'ventilated', 'interpreted', 'stoush', 'victorian', 'thereof', 'adf', 'vicpol', 'springst', 'clorox', 'bottle', 'martinelli', 'gold', 'belgium', 'mocking', 'approaching', 'watery', 'eyes', 'sneezing', 'differences', 'allergies', 'portuguese', 'icus', 'brave', 'lord', 'carlson', 'mainstream', 'refuses', 'filipino', 'trillanes', 'iv', 'integrated', 'ihip', 'idsp', 'portal', 'headache', 'coinfections', 'complicate', 'pulmonary', 'aspergillosis', 'capa', 'increasingly', 'bounces', 'bettiah', 'reinstated', 'flouting', 'offer', 'celebrity', 'couples', 'grave', 'buried', 'bissau', 'squandering', 'attributable', 'resource', 'densely', 'populated', 'kem', 'prescribed', 'shocked', 'cowboys', 'dallascowboys', 'sinclair', 'delaying', 'theorist', 'baselessly', 'feb', 'marks', 'hue', 'search', 'linda', 'gallon', 'cubicle', 'laugh', 'poster', 'mast', 'staystrong', 'clinton', 'packed', 'jacksonville', 'incidence', 'virtualconferenceafrica', 'evander', 'holyfield', 'innocence', 'ear', 'ears', 'randomly', 'assigned', 'statistically', 'snitches', 'demographic', 'wen', 'liang', 'microchip', 'implants', 'haircut', 'vanessa', 'hudgens', 'tipsy', 'paralyzed', 'generally', 'threatens', 'chinesecommunistparty', 'systemic', 'lifesaving', 'quarters', 'defer', 'expired', 'sterilized', 'casting', 'violate', 'festival', 'sensational', 'unconfirmed', 'traffic', 'cable', 'accusing', 'embezzle', 'bloodd', 'gdp', 'naah', 'limitless', 'trenches', 'allergic', 'rhinitis', 'supervised', 'trap', 'newschecker', 'congrats', 'sitting', 'bogies', 'traveling', 'manner', 'wandering', 'instant', 'argentinian', 'hlberger', 'verge', 'portrays', 'bright', 'stood', 'reassuring', 'sight', 'delhiite', 'dodge', 'duck', 'dive', 'franklin', 'roosevelt', 'jhalawar', 'jamaatis', 'chairmant', 'cobas', 'prong', 'integrate', 'valet', 'medicaldoctor', 'trumpcouldhavesavedvalet', 'garda', 'raid', 'skip', 'bypassed', 'confusing', 'hideo', 'ugandan', 'landlords', 'birthdays', 'stimulant', 'caffeine', 'methylxanthines', 'chemically', 'bless', 'refers', 'ltc', 'guyana', 'rmds', 'eular', 'tire', 'repairer', 'expansion', 'execution', 'mart', 'sosa', 'caba', 'argentina', 'handsanitizer', 'methanol', 'absorbed', 'cumulatively', 'nail', 'survivors', 'smartnews', 'attended', 'cancels', 'pointless', 'bullshit', 'destroyed', 'foreseeable', 'sony', 'gaming', 'servers', 'stillbirth', 'behalf', 'missionaries', 'spitters', 'chanting', 'gayatri', 'mantra', 'fibrinolysis', 'shutdown', 'sponsor', 'majorleaguebaseball', 'sponsors', 'commons', 'biomagnetism', 'explicitly', 'ingesting', 'disinfectant', 'statisticslink', 'admittance', 'biil', 'satyendra', 'das', 'janmabhoomi', 'ayodhya', 'karti', 'chidambaram', 'calm', 'sec', 'shapps', 'nanavati', 'ansari', 'limaye', 'reliable', 'outlet', 'ghislaine', 'maxwell', 'instance', 'sniff', 'josephbiden', 'newyorktimes', 'anteater', 'strength', 'controller', 'dcgi', 'ltd', 'zydus', 'cadila', 'ii', 'favorite', 'brazilians', 'candles', 'raymond', 'royce', 'rife', 'sound', 'frequencies', 'virtually', 'scanned', 'amplitude', 'characteristics', 'erased', 'grimes', 'speaking', 'sticking', 'parcels', 'analysts', 'byculla', 'waris', 'pathan', 'impplemented', 'signs', 'submitted', 'colour', 'examined', 'darker', 'worn', 'summarizing', 'preparation', 'intensify', 'represented', 'fellow', 'containers', 'startups', 'deploy', 'indigenous', 'wherein', 'costing', 'racism', 'irrefutable', 'coexistence', 'coevolution', 'interconnectedness', 'weaker', 'aurangaba', 'displaced', 'penetrate', 'denmark', 'lego', 'ballistic', 'missile', 'submarine', 'tennessee', 'sclerosis', 'msvirtual', 'carry', 'aminu', 'bayero', 'quadruples', 'messages', 'seldom', 'fun', 'mistake', 'graphic', 'zee', 'airway', 'sulfur', 'emission', 'nasa', 'immunoresponse', 'sparing', 'heroes', 'thankshealthheroes', 'mitch', 'mcconnell', 'tries', 'dunno', 'gyna', 'tract', 'octopus', 'madagascar', 'toxins', 'revoking', 'toronto', 'covidtoronto', 'trinitybellwoodspark', 'motorbiked', 'street', 'morgues', 'trucks', 'stacked', 'coffins', 'crap', 'carom', 'coriander', 'peeping', 'thrives', 'shelter', 'peepingtom', 'repeated', 'cottage', 'birch', 'transplants', 'departing', 'provisional', 'honorable', 'administrator', 'registering', 'ravi', 'nayak', 'protection', 'display', 'modestly', 'idiots', 'witchcraft', 'maker', 'agreements', 'secured', 'signing', 'formal', 'widens', 'prohibits', 'scare', 'marshmallows', 'northdakota', 'scar', 'adviser', 'subscribe', 'afffecting', 'personally', 'decades', 'pgimer', 'mosquitoes', 'safeguard', 'goya', 'beans', 'goyabeans', 'afterwards', 'backhand', 'favourite', 'wonder', 'strewn', 'languages', 'guarantee', 'emeka', 'nwajiuba', 'nl', 'oc', 'hku', 'whereas', 'library', 'mondaymorning', 'mondayvibes', 'visual', 'evolution', 'hood', 'sustain', 'morningmotivation', 'dawood', 'ibrahim', 'backfill', 'cache', 'screenshots', 'fewest', 'expressly', 'woodwardtapes', 'shangri', 'plaza', 'mandaluyong', 'supposed', 'adapted', 'pooled', 'karaoke', 'pub', 'proposes', 'jedi', 'located', 'apr', 'rumours', 'notifications', 'intimate', 'embrace', 'lowered', 'andra', 'discharges', 'nas', 'plamsa', 'therapies', 'mantua', 'obtain', 'cypress', 'eucalyptus', 'vapor', 'koran', 'recitation', 'attitude', 'resulting', 'misled', 'recipients', 'genetically', 'modified', 'organisms', 'shopping', 'pull', 'sneeze', 'dispose', 'soars', 'gripped', 'willing', 'maternal', 'checkups', 'vaccinations', 'prenatal', 'postnatal', 'threaten', 'undo', 'amitabhbachchan', 'eshe', 'bhi', 'rishte', 'wo', 'baap', 'lgte', 'felipe', 'plagiarized', 'palmeras', 'en', 'nieve', 'untreated', 'equally', 'removing', 'pangolin', 'original', 'rahul', 'meerut', 'mohoddin', 'pur', 'muradnagar', 'nahar', 'memos', 'rid', 'inference', 'dynamical', 'realtime', 'hub', 'shortest', 'jackie', 'chan', 'collected', 'niece', 'demonstrating', 'overtaken', 'lpc', 'ou', 'resist', 'wrapped', 'bundles', 'offloaded', 'investigate', 'forgotten', 'lacking', 'bored', 'flock', 'ikea', 'instances', 'shutdowns', 'undertaken', 'hair', 'weave', 'lace', 'fronts', 'grounded', 'prophylaxis', 'mg', 'dinner', 'dynasty', 'amusement', 'theme', 'duckdynasty', 'philrobertson', 'videoconferencing', 'lauded', 'broadscale', 'manufacture', 'charges', 'documentation', 'pharmacist', 'excessive', 'acidosis', 'relying', 'gaiters', 'shields', 'investigating', 'bong', 'enrich', 'mighty', 'immunization', 'pandem', 'paws', 'fucini', 'peta', 'cheering', 'embedded', 'practical', 'minimize', 'hides', 'parking', 'plains', 'midwest', 'jeffrey', 'epstein', 'furloughing', 'surprises', 'maintains', 'yemen', 'fog', 'acts', 'priti', 'patel', 'eleventy', 'stocked', 'urging', 'israelis', 'exosome', 'mosinee', 'academic', 'narrow', 'accept', 'african', 'adviced', 'discourage', 'dmk', 'selva', 'kicked', 'palliative', 'anaesthesia', 'neurological', 'microchipped', 'brilliant', 'surest', 'defeating', 'emotionally', 'married', 'truther', 'gaslighted', 'questionable', 'diy', 'merits', 'bind', 'progression', 'varies', 'houseflies', 'blind', 'obstacle', 'talent', 'positivevibes', 'sharukhkhan', 'zalima', 'coronavirusinindia', 'van', 'agreeing', 'msm', 'justifies', 'kaufman', 'nominate', 'headteacher', 'unproven', 'proteins', 'antigens', 'rna', 'organizing', 'camps', 'vans', 'doorsteps', 'rapidantigentest', 'celebrate', 'eidaladha', 'bent', 'elbow', 'sallah', 'react', 'prevalence', 'cat', 'arsehole', 'implements', 'cheeks', 'editorial', 'capitalism', 'civilization', 'plus', 'savings', 'mvcs', 'trauma', 'costs', 'esp', 'hib', 'prevnar', 'armed', 'salute', 'coronawarriors', 'concoction', 'herbs', 'tamarind', 'juice', 'lentils', 'era', 'definitions', 'rw', 'attribute', 'hindus', 'donate', 'guam', 'puerto', 'rico', 'settles', 'changeover', 'rushes', 'jammu', 'assist', 'minster', 'spray', 'reaffirms', 'alledegedly', 'staphylococcus', 'spreadsheet', 'horizon', 'figuring', 'sourcing', 'helsinki', 'immigration', 'distract', 'totalitarianism', 'removal', 'democide', 'newworldorder', 'distracted', 'barak', 'sp', 'dollars', 'decedents', 'morbidities', 'alzheimer', 'cursor', 'hyped', 'occupational', 'transition', 'dealers', 'standby', 'bug', 'squash', 'belt', 'chuck', 'norris', 'hivaids', 'prep', 'discusses', 'std', 'testi', 'tube', 'touting', 'rank', 'fadnavis', 'regime', 'nadda', 'navi', 'refusal', 'export', 'requisitioning', 'consumerfed', 'liquor', 'schemes', 'guideline', 'fashion', 'ivankatrump', 'insufficient', 'sanitary', 'technicians', 'seize', 'cash', 'worldmosquitoday', 'mosquito', 'bites', 'interstate', 'inserted', 'apparently', 'trackers', 'phones', 'erted', 'iphone', 'watsapp', 'android', 'penalised', 'sweeps', 'reimpose', 'temperature', 'degrees', 'vaccinating', 'gunna', 'damage', 'airways', 'treasury', 'notmypresident', 'offending', 'overtakes', 'uma', 'fruits', 'ice', 'rinks', 'pauline', 'hanson', 'mug', 'prophylactic', 'dozen', 'appeared', 'hydroxydhloroquine', 'censored', 'maddow', 'scripps', 'san', 'diego', 'santiago', 'del', 'estero', 'bucks', 'kaziranga', 'surely', 'inept', 'irresponsible', 'tragic', 'jumps', 'hinges', 'filling', 'gaps', 'nod', 'coordinating', 'sizable', 'bandhugan', 'panchagavya', 'layer', 'logically', 'energetic', 'glenmark', 'yields', 'iii', 'spectrum', 'selectively', 'dependent', 'polymerase', 'rdrp', 'replication', 'overnight', 'dphss', 'reaching', 'storage', 'exempt', 'childcare', 'peruvian', 'packets', 'garbage', 'edmonton', 'calgary', 'ignite', 'rivalries', 'ableg', 'veterinarian', 'featured', 'conspiratorial', 'bizarre', 'importantly', 'wildly', 'counselled', 'babies', 'defrauded', 'attacking', 'myrtle', 'shands', 'gainesville', 'snap', 'shipments', 'apologies', 'typos', 'tweeting', 'conversations', 'typing', 'hillary', 'consternation', 'arisen', 'occupies', 'constitute', 'discrepancy', 'jhu', 'coronation', 'characters', 'starving', 'placement', 'pfizer', 'spite', 'allahu', 'akbar', 'slide', 'adelaide', 'multisystem', 'inflammatory', 'mis', 'territorial', 'nicade', 'hcws', 'hepe', 'rota', 'amr', 'stewardship', 'adjustment', 'switching', 'anhembi', 'brasil', 'quoting', 'specifying', 'abandon', 'spaghetti', 'kiss', 'purposefully', 'domestically', 'quell', 'hk', 'asymmetric', 'conflict', 'primer', 'revolution', 'ka', 'spiking', 'purchase', 'cycle', 'pimps', 'occurs', 'tigers', 'devour', 'goat', 'succumbed', 'injuries', 'matur', 'existence', 'casts', 'servants', 'illegally', 'samadi', 'whatever', 'humanly', 'sanctuary', 'tower', 'wiped', 'expel', 'oversold', 'credit', 'prohibiting', 'christian', 'mosques', 'exotic', 'proceedings', 'academy', 'sitamarhi', 'barranquilla', 'nice', 'russie', 'slower', 'complex', 'jb', 'pritzker', 'illinoisans', 'gm', 'affiliated', 'controversy', 'bioweapons', 'reagents', 'grossly', 'utilised', 'arlene', 'foster', 'kindness', 'nairobi', 'sonko', 'adjustments', 'pulled', 'tweets', 'nudged', 'infrared', 'forehead', 'harm', 'organs', 'grades', 'contains', 'components', 'reliably', 'counted', 'hydroxychloroqen', 'memory', 'politicalcorrectness', 'writing', 'wank', 'salvador', 'illa', 'equality', 'irene', 'montero', 'gregorio', 'mara', 'transform', 'portugal', 'tierra', 'pura', 'disseminated', 'mariana', 'colombres', 'garmendia', 'denounces', 'overregistration', 'extending', 'launching', 'chatbots', 'hindi', 'speaks', 'persistent', 'cfs', 'upward', 'uncontrolled', 'denominator', 'manir', 'hossain', 'tripura', 'malaysia', 'pms', 'alberto', 'fern', 'ndez', 'pcrtest', 'irony', 'insisting', 'abide', 'surged', 'technical', 'organizational', 'established', 'alllivesmatter', 'osd', 'breaks', 'referring', 'pathetic', 'alter', 'duncan', 'clause', 'dutch', 'consent', 'ramu', 'tablespoon', 'pepper', 'spoons', 'circulate', 'verification', 'manafort', 'confinement', 'zhong', 'nanshan', 'saline', 'maggie', 'partnerships', 'disrupt', 'distributions', 'lasting', 'insecticide', 'nets', 'hidden', 'sally', 'struggled', 'dismal', 'establishes', 'ncezid', 'missouri', 'assoc', 'indiana', 'regrets', 'dating', 'username', 'notion', 'careless', 'lazy', 'heartless', 'stance', 'heights', 'curb', 'dispelled', 'statewide', 'consulted', 'pooling', 'brahmins', 'caste', 'chopped', 'tongue', 'chile', 'turkey', 'transformed', 'grime', 'overtaking', 'payers', 'performance', 'frm', 'dis', 'wealthy', 'techniques', 'dist', 'comprising', 'ration', 'declare', 'ancient', 'ahmedabad', 'vadodara', 'mehsana', 'coronavirustruth', 'uighur', 'detain', 'karakaxlist', 'updating', 'huddled', 'aggregation', 'prisoner', 'optimal', 'resolving', 'freight', 'bergstrom', 'chyna', 'sham', 'impeachment', 'kung', 'secretly', 'criticize', 'breakthrough', 'scapegoat', 'jared', 'leto', 'creating', 'mock', 'procession', 'amit', 'veterinary', 'speaker', 'coronavirusincontext', 'jack', 'box', 'ultimate', 'cheesburger', 'hamburger', 'confuse', 'echo', 'belize', 'horrific', 'bier', 'hw', 'downgraded', 'dignity', 'shud', 'ventilatoins', 'dim', 'sighted', 'injected', 'mutated', 'reopensafely', 'explained', 'chang', 'gung', 'strongly', 'earliest', 'practitioners', 'prescribe', 'fulfilling', 'wish', 'males', 'reps', 'disguised', 'mention', 'clique', 'demonize', 'saver', 'dining', 'lesotho', 'abou', 'rope', 'prone', 'fabric', 'conquers', 'autonomous', 'jose', 'bolivia', 'germain', 'hero', 'fled', 'agra', 'inching', 'bs', 'yediyurappa', 'kishanganj', 'cear', 'adopted', 'istanbul', 'policed', 'freeview', 'episode', 'dharmendra', 'siddaramaiah', 'broadly', 'il', 'mn', 'va', 'views', 'backtracked', 'marriage', 'reception', 'komal', 'mishra', 'blames', 'slitty', 'eyed', 'intelligence', 'sharepic', 'che', 'behaviors', 'beliefs', 'chemo', 'potsales', 'perform', 'blasio', 'aimim', 'asaduddin', 'owaisi', 'fooling', 'vadra', 'grasp', 'suman', 'assembly', 'gau', 'mutra', 'tablighis', 'discussed', 'presumed', 'defensible', 'ukraine', 'forcibly', 'acknowledge', 'analysing', 'compiling', 'emmy', 'awards', 'beautiful', 'quito', 'guayaquil', 'masking', 'coveri', 'expression', 'liberia', 'hoard', 'ecmo', 'unused', 'tuscaloosa', 'unloved', 'convertibles', 'plummet', 'cars', 'beachboys', 'convertiblecars', 'chevrolet', 'wondered', 'ordering', 'mamata', 'banerjee', 'duration', 'dips', 'adjusting', 'flawed', 'congressman', 'campos', 'steel', 'cardboard', 'stds', 'unimaginable', 'mistakenly', 'initially', 'smallbusiness', 'calum', 'semple', 'adopt', 'bordering', 'experimental', 'presenter', 'neighbour', 'shanghai', 'aboard', 'queues', 'jarkhand', 'diameter', 'micro', 'ir', 'ous', 'vendor', 'skeptically', 'kylie', 'minogue', 'funny', 'glastonbury', 'behaving', 'abnormally', 'osmar', 'terra', 'northumberland', 'tyneside', 'tyne', 'gateshead', 'sunderland', 'fitness', 'remark', 'classifying', 'await', 'climbing', 'ak', 'schoolkids', 'momentarily', 'lapses', 'correctness', 'kolhapur', 'candle', 'vigil', 'proclaim', 'unity', 'commemorative', 'coins', 'countryside', 'hydroxichloroquine', 'panicked', 'dakar', 'misbehaved', 'portsmouth', 'beats', 'coronary', 'pilot', 'matching', 'batch', 'rollout', 'accelerates', 'testifying', 'enlarged', 'concealed', 'removes', 'wasted', 'activist', 'trupti', 'desai', 'latinos', 'latino', 'herb', 'mugwort', 'municipal', 'casualty', 'enemy', 'win', 'exporting', 'instruments', 'colder', 'selection', 'staggering', 'nope', 'halfway', 'shortsighted', 'maria', 'channelled', 'faucci', 'bluff', 'wedding', 'rosewood', 'breeds', 'tissue', 'fibres', 'ailments', 'managers', 'cleaners', 'scaling', 'carefully', 'igot', 'covidwarriors', 'missionkarmayog', 'dad', 'introverts', 'introvert', 'smell', 'diarrhoea', 'chickens', 'coronaviruscanada', 'lesions', 'neutropenic', 'loses', 'yelling', 'detourers', 'grass', 'oldpeople', 'toolkit', 'sheraton', 'phased', 'praises', 'kalma', 'frozen', 'opinion', 'influenced', 'career', 'electronic', 'solved', 'backlogs', 'environment', 'milwaukee', 'absentee', 'curbside', 'capacities', 'contagion', 'probability', 'graph', 'interfere', 'percentages', 'scrutiny', 'database', 'sechenov', 'whenever', 'assessed', 'cctv', 'containmentzones', 'acquiring', 'objects', 'likelihood', 'incarceration', 'logistics', 'robust', 'worsened', 'jacob', 'rees', 'mogg', 'endless', 'carping', 'phenomenal', 'impresses', 'remote', 'homeoffice', 'safest', 'fly', 'giuseppe', 'conte', 'mentally', 'rescue', 'boots', 'sta', 'scarf', 'napkin', 'employee', 'piling', 'passing', 'licking', 'plateaued', 'malnutrition', 'achieving', 'disclose', 'validate', 'bioeasy', 'kemp', 'posing', 'gregory', 'mcmichael', 'voter', 'base', 'remind', 'hajipur', 'ppi', 'kidneytransplant', 'lymphocyte', 'depleting', 'induction', 'maintenance', 'height', 'visualabstract', 'interrogation', 'supervisor', 'cabins', 'vacated', 'sumac', 'equalling', 'lav', 'polls', 'australians', 'oppose', 'flood', 'incomplete', 'hosp', 'abdicated', 'hcpm', 'immunisation', 'childhood', 'overstated', 'spared', 'eighty', 'cinema', 'permit', 'tele', 'counselling', 'ideas', 'honestly', 'engine', 'wheels', 'trophy', 'wives', 'trophywife', 'dumps', 'variability', 'pulling', 'belief', 'blatantly', 'fourty', 'persisted', 'hawaii', 'kushner', 'jaredkushner', 'nepotism', 'adunnii', 'cc', 'magnitude', 'declares', 'fluzone', 'scramble', 'personality', 'shaving', 'nightingale', 'brighten', 'walls', 'inhalers', 'treats', 'recognise', 'minimise', 'livelihoods', 'bay', 'lid', 'pmay', 'serbian', 'iraqi', 'dictator', 'iraq', 'exhorted', 'froze', 'neutralize', 'bakery', 'strictly', 'washable', 'chrysanthemum', 'initiate', 'breastfeed', 'variety', 'undoubtedly', 'kate', 'middleton', 'spark', 'speculation', 'queen', 'elizabeth', 'nasty', 'spreaders', 'estate', 'property', 'asthmaawareness', 'pig', 'cooked', 'purchased', 'guarantees', 'injured', 'danielle', 'dicenso', 'upsurge', 'airs', 'rerun', 'cdntv', 'chinesevirus', 'chinaindiafaceoff', 'boycottmadeinchina', 'boycottchineseproduct', 'admittedly', 'flinches', 'vegan', 'naturopathy', 'garaare', 'vati', 'supervision', 'casaulty', 'willbe', 'explosion', 'residential', 'hamilton', 'classrooms', 'cleaned', 'ibirapuera', 'gymnasium', 'mutton', 'livestock', 'impressed', 'newzealand', 'exemplar', 'celebrated', 'stressing', 'evin', 'immunizationforall', 'vaccineswork', 'fullyimmunizeeverychild', 'croatian', 'fla', 'carrier', 'surgery', 'acog', 'equipped', 'route', 'midnight', 'directs', 'fees', 'offset', 'teresa', 'theatres', 'helicopters', 'caller', 'radio', 'legionnaires', 'moisture', 'spikes', 'copied', 'pasted', 'bellends', 'raises', 'indi', 'didier', 'raoult', 'kick', 'jenny', 'mccarthy', 'develops', 'jennymccarthy', 'advising', 'insufficiency', 'quarantinecentres', 'aled', 'prayed', 'mercy', 'expects', 'badly', 'thieves', 'pretending', 'suppose', 'drum', 'fraction', 'leaking', 'clubs', 'evoke', 'stafford', 'ncd', 'contraception', 'lawmaker', 'reiterate', 'forgery', 'looting', 'udupi', 'gangadhar', 'ethics', 'unpredictable', 'duping', 'poors', 'suo', 'moto', 'loksabha', 'investing', 'establish', 'ibekwe', 'duties', 'gusau', 'weakness', 'certifying', 'clicking', 'hoursnumber', 'independent', 'washed', 'soaps', 'mingling', 'sparked', 'outrage', 'emerged', 'volunteer', 'signals', 'induced', 'advanced', 'microscope', 'eventual', 'wherever', 'batman', 'lastly', 'indeed', 'unfairly', 'florence', 'bigger', 'punekars', 'levied', 'graveyards', 'mooted', 'agrees', 'curse', 'djs', 'warehouse', 'libraries', 'supermarkets', 'orgies', 'tripping', 'explored', 'pgi', 'rohtak', 'emphasize', 'musculoskeletal', 'depending', 'wha', 'decreases', 'load', 'graphs', 'conventional', 'sii', 'uni', 'departure', 'sincelejo', 'gmt', 'rejecting', 'escalated', 'profitable', 'mud', 'mil', 'abt', 'conserve', 'accidentally', 'celebratory', 'firing', 'patents', 'glycoprotein', 'boyac', 'insider', 'falsification', 'cl', 'nicas', 'janta', 'survived', 'depleted', 'cupboard', 'bare', 'oral', 'intravenous', 'contributes', 'peru', 'ibis', 'packs', 'beaverton', 'utilisation', 'ptf', 'fireworks', 'otc', 'afford', 'previewed', 'glance', 'graphical', 'representation', 'pompeo', 'investigates', 'thinners', 'admit', 'merely', 'broadening', 'tattered', 'garments', 'certificate', 'churches', 'sum', 'worsen', 'downplay', 'psychology', 'shocking', 'corridors', 'haldwani', 'poc', 'stick', 'jitendra', 'awhad', 'hey', 'oz', 'ppm', 'pipe', 'ive', 'luck', 'teamoffivemillion', 'marimamiriona', 'bulletin', 'dalit', 'electricians', 'experiences', 'upheaval', 'adapts', 'installed', 'complying', 'sips', 'liquids', 'stomach', 'acid', 'opposite', 'exception', 'ruby', 'polish', 'confiscated', 'machine', 'originally', 'grodzisk', 'mazowiecki', 'pmo', 'classroom', 'downs', 'kanpur', 'vegetable', 'peoples', 'hairdressers', 'beauticians', 'patrons', 'bcci', 'suspends', 'ipl', 'indefinitely', 'steers', 'sought', 'dubious', 'cherry', 'picks', 'thankfully', 'coordination', 'indiafightscirona', 'widen', 'marcos', 'aguascalientes', 'canceled', 'maldives', 'pigeons', 'pota', 'undigested', 'intestinal', 'sack', 'membranes', 'dharavi', 'chains', 'suppressing', 'seventeen', 'follows', 'restatement', 'firearm', 'confiscation', 'afternoon', 'reciting', 'sanskrit', 'sacred', 'transmitting', 'infrequent', 'stayed', 'sequences', 'yourselves', 'disposable', 'rumors', 'mimes', 'glass', 'mime', 'bullfights', 'matadors', 'bailout', 'barackobama', 'highlight', 'bcoz', 'askd', 'discard', 'factsmatter', 'holidays', 'sikkim', 'wind', 'blows', 'exclusively', 'lockdowncanada', 'justintrudeau', 'burger', 'designer', 'burgerking', 'sofiavergara', 'strands', 'pedestrian', 'racists', 'clock', 'sadiq', 'streams', 'gujaratcoronaupdate', 'bidensoetoro', 'associates', 'lawyers', 'cracking', 'melania', 'sings', 'garden', 'melaniatrump', 'philippine', 'communications', 'pbcom', 'makati', 'balloon', 'ke', 'unki', 'gyi', 'sad', 'se', 'pucho', 'ki', 'av', 'chuki', 'kon', 'resposible', 'lagta', 'hoga', 'baki', 'bhagane', 'lage', 'codes', 'preview', 'imagined', 'rebuild', 'ourselves', 'sustainability', 'campinas', 'dismantled', 'supplements', 'ci', 'swear', 'gargle', 'terrified', 'muddying', 'virologist', 'limengyan', 'ccpvirus', 'zhoushan', 'takedowntheccp', 'ccpliedpeopledied', 'brasilian', 'dhb', 'northcote', 'henderson', 'grafton', 'wiri', 'vargas', 'santojanni', 'queens', 'essentialworker', 'bioengineer', 'osmania', 'lay', 'defend', 'justify', 'asympt', 'film', 'star', 'convert', 'instituting', 'replaced', 'slippery', 'hype', 'requirement', 'nitp', 'laborday', 'labordaysafe', 'bronx', 'bronxzoo', 'zoodirector', 'anniversary', 'pulse', 'pride', 'fenugreek', 'tape', 'strip', 'doublechecking', 'rejoice', 'facilitates', 'mobilize', 'eid', 'hospitalists', 'redeployed', 'redefined', 'stretched', 'howwehospitalist', 'cra', 'citing', 'meaninglessness', 'taxday', 'poisons', 'ink', 'toward', 'j', 'suspending', 'subcategories', 'visas', 'suspension', 'insights', 'erath', 'discipline', 'stephenville', 'directors', 'faints', 'yedikule', 'usb', 'flash', 'drives', 'bioshield', 'existent', 'telephone', 'epicentres', 'deg', 'latitude', 'researched', 'hemisphere', 'americas', 'stole', 'weaponized', 'punches', 'assault', 'punchandjudy', 'boone', 'pollutants', 'sudan', 'juba', 'emirates', 'thali', 'bajaav', 'cowdung', 'cakes', 'worest', 'hydroquinone', 'homeopathy', 'kadhas', 'downed', 'kathleen', 'soar', 'selfdepricating', 'limitations', 'jewish', 'hide', 'excellent', 'taiwanese', 'tightness', 'abdul', 'rahman', 'youbi', 'abdulaziz', 'summon', 'spirit', 'togetherness', 'cleanest', 'hn', 'arrange', 'synchronised', 'executives', 'imf', 'wef', 'complicit', 'creted', 'grieving', 'instability', 'appreciative', 'covi', 'attractive', 'retracted', 'td', 'targeted', 'retention', 'tsunami', 'bn', 'kickstart', 'clips', 'guard', 'srinivas', 'waiters', 'taxi', 'dwarfs', 'muy', 'interesante', 'magazine', 'soldier', 'erred', 'assaulting', 'invested', 'rebuilt', 'methodological', 'fundamentally', 'tortuous', 'conferences', 'outcome', 'intact', 'trick', 'cream', 'davey', 'whilst', 'spiritual', 'corrector', 'downing', 'competitive', 'hints', 'preliminary', 'vo', 'surveys', 'serial', 'interval', 'welcoming', 'kayleigh', 'mcenany', 'argue', 'macedonian', 'venko', 'filipce', 'fee', 'experiencing', 'contract', 'outpacing', 'skinned', 'canadians', 'docters', 'nersus', 'whith', 'bros', 'sis', 'vp', 'compiles', 'assisted', 'indoor', 'outdoor', 'akira', 'movie', 'apocalyptic', 'tokyo', 'shooter', 'tasmac', 'lenox', 'hill', 'schwabe', 'schwabeindia', 'immunitybooster', 'immunesystem', 'healthylife', 'floating', 'downwards', 'overreaction', 'weakened', 'dysfunctional', 'compliant', 'enforced', 'ketamine', 'ema', 'chmp', 'filgotinib', 'mykowitz', 'exposes', 'accuses', 'fabricating', 'conjunction', 'dexamethsaone', 'shelf', 'stuff', 'colchicine', 'gout', 'rheumatic', 'investigations', 'acti', 'haematology', 'easyoff', 'febreeze', 'appoint', 'jerad', 'captain', 'theodore', 'ball', 'gavinnewsom', 'poisoned', 'mutiny', 'birac', 'facilitating', 'vsv', 'biopharma', 'famine', 'williambarr', 'vicepresidentmikepence', 'stevenseagal', 'videograph', 'celcius', 'cannon', 'license', 'awarded', 'bucaramanga', 'nostradamus', 'devices', 'laughter', 'joke', 'teenager', 'sudima', 'akl', 'alerts', 'wh', 'nau', 'analyses', 'atlanta', 'toothpaste', 'jenner', 'cosmetic', 'pmnrf', 'muradabad', 'dka', 'cafes', 'playgrounds', 'essex', 'overcome', 'underground', 'amply', 'sentence', 'makers', 'realizing', 'forgot', 'goofy', 'disneymagicmoments', 'kasturba', 'boosted', 'ryan', 'thankful', 'montana', 'administrations', 'pundits', 'examiner', 'editor', 'utilitising', 'software', 'dangers', 'reflection', 'vk', 'bharath', 'goldfish', 'reimbursement', 'counsel', 'terminated', 'finished', 'tycoon', 'lauds', 'courageous', 'wwii', 'generation', 'seemingly', 'inconvenient', 'acutely', 'cup', 'sugar', 'walker', 'predictive', 'analytics', 'hitsolutions', 'hitequity', 'bottlenecks', 'paved', 'plight', 'entitlements', 'queue', 'wayne', 'excludes', 'punishing', 'airlocked', 'forest', 'cotton', 'somebody', 'ulsan', 'compute', 'beating', 'chorley', 'lancashire', 'unite', 'gilead', 'mandates', 'colored', 'adhaan', 'kuwait', 'hayya', 'salah', 'salatu', 'fi', 'buyutikum', 'prophet', 'heavy', 'rain', 'bloke', 'misso', 'fork', 'toaster', 'lie', 'plenty', 'coworking', 'wifi', 'conveniently', 'bicester', 'pratapgarh', 'karol', 'sikora', 'harveyweinstein', 'switch', 'advisories', 'dashboards', 'revoked', 'sporadic', 'imperative', 'joy', 'arackal', 'alukas', 'sft', 'cant', 'freedoms', 'eminent', 'professors', 'bumper', 'dot', 'covert', 'doorway', 'jam', 'unnecessarily', 'kdu', 'vip', 'aest', 'dal', 'lalu', 'prasad', 'yadav', 'attendants', 'charleslieber', 'hod', 'chemistry', 'harvarduniversity', 'nahua', 'yeah', 'irs', 'viralvideo', 'tumor', 'ramzaan', 'papaya', 'mosumbi', 'grape', 'sugandhi', 'banana', 'mangalore', 'shimoga', 'chikmagalur', 'thru', 'ksrtc', 'mlas', 'motivate', 'lining', 'initial', 'rtpcr', 'marred', 'outages', 'sufficiently', 'dude', 'hack', 'revokes', 'tallying', 'capture', 'requirements', 'introduction', 'focussing', 'purport', 'habit', 'remarkably', 'qq', 'unemployed', 'prospects', 'bleak', 'taxes', 'sociopathic', 'refrigerator', 'flaunts', 'blooded', 'kidnapped', 'spilled', 'underserved', 'ihme', 'leaflet', 'mailbox', 'starbug', 'eileen', 'ignorance', 'newdelhi', 'explaining', 'turnaround', 'invention', 'reflected', 'russians', 'lambert', 'roadblock', 'virality', 'trusts', 'helm', 'sharply', 'nuns', 'madhav', 'unit', 'ravindra', 'raina', 'incorrect', 'errors', 'raise', 'profit', 'psu', 'farmer', 'simplified', 'installment', 'ys', 'jagan', 'reddy', 'ormoc', 'gomez', 'poses', 'ignores', 'plates', 'relevant', 'differ', 'planted', 'fabunan', 'zambales', 'oxygenation', 'homeopath', 'crocodile', 'mosquitos', 'summers', 'resolution', 'leftover', 'ketchup', 'stephen', 'reicher', 'hotline', 'zombie', 'zombies', 'unusually', 'asymmetry', 'entities', 'outbid', 'buyers', 'demonstrations', 'accounted', 'feasible', 'visor', 'bullfighters', 'swears', 'bull', 'bulls', 'inspector', 'baroness', 'multiples', 'locals', 'fort', 'detrick', 'attack', 'rely', 'commemorate', 'reinforce', 'pns', 'sauna', 'hairdryer', 'realize', 'diseasedetective', 'rachael', 'zacks', 'unevenly', 'excerpt', 'tremendous', 'ncdcrrt', 'sormas', 'notification', 'pillar', 'consistency', 'unsafely', 'improperly', 'empower', 'rcafro', 'soccer', 'tightened', 'promotion', 'mobilization', 'sensitisation', 'ko', 'nahi', 'hota', 'weather', 'astounding', 'remembering', 'shiva', 'ciyal', 'kota', 'pakisthan', 'choke', 'tension', 'cystic', 'reversible', 'fatali', 'abruptly', 'inactivated', 'authoritarian', 'inc', 'inadvertently', 'pattinson', 'msnbc', 'harms', 'paraguayans', 'comparative', 'julius', 'berger', 'lifecamp', 'accordingly', 'perfectly', 'confined', 'louis', 'authenticity', 'aoc', 'assiduously', 'outer', 'dwaynejohnson', 'gregorypeck', 'onthebeach', 'bidding', 'irregular', 'dark', 'standardize', 'blackout', 'korean', 'drama', 'terrius', 'emerge', 'learnt', 'stayhealthy', 'livelife', 'covidlockdown', 'barotrauma', 'ards', 'newer', 'abating', 'axios', 'verifying', 'molecule', 'pink', 'someday', 'aerosolized', 'elders', 'smartphone', 'elucidate', 'subtle', 'casteism', 'doomed', 'committing', 'disappointed', 'relieved', 'facebut', 'cried', 'baffled', 'realise', 'nowdouble', 'exclamation', 'sharedouble', 'wuhaninstituteofvirologylaboratory', 'enemas', 'williambryan', 'himanta', 'biswa', 'sarma', 'alberta', 'emissions', 'wed', 'acceptable', 'stolen', 'aide', 'witzel', 'scope', 'oversight', 'eau', 'demonstrates', 'achievement', 'marist', 'reluctance', 'hardships', 'uphold', 'parasite', 'whitehouse', 'parasites', 'cutoff', 'similarly', 'alertness', 'gradual', 'liberal', 'imply', 'causal', 'protesters', 'sheets', 'unfrozen', 'eleven', 'manifestations', 'ukrainian', 'caregivers', 'afterward', 'refunds', 'changer', 'delivers', 'stamped', 'renewed', 'neighbours', 'hav', 'suspects', 'poker', 'convince', 'botafogo', 'blindingly', 'dribbling', 'basketballs', 'faded', 'sunset', 'basketball', 'lebronjames', 'christine', 'lagarde', 'smoked', 'gyani', 'cautions', 'neglecting', 'funneled', 'viralogy', 'bidensooetoro', 'rebounded', 'seventh', 'stopthespreadofcorona', 'sorts', 'saluting', 'incompletely', 'helplessness', 'detective', 'inflection', 'positioned', 'pushed', 'lets', 'panel', 'setup', 'satyendar', 'jain', 'deteriorates', 'implant', 'samoa', 'unfulfilled', 'creams', 'koolfee', 'preserved', 'milkshake', 'rough', 'colas', 'atleast', 'translates', 'tiktok', 'traveler', 'volume', 'transited', 'customs', 'vietnam', 'consumed', 'unmasked', 'biologicalweapon', 'backfired', 'biologicalweapons', 'smt', 'purnima', 'pandeyji', 'knowledgeable', 'ghiya', 'tori', 'roti', 'coronilvati', 'powers', 'legislature', 'arises', 'disappeared', 'bureaucracts', 'antennas', 'favor', 'noninvasive', 'stably', 'practiced', 'emphasizes', 'markaz', 'tabloid', 'hydroxychloroquin', 'maid', 'lpg', 'cylinders', 'briefs', 'idlis', 'dosas', 'meals', 'revenue', 'immanuel', 'soared', 'author', 'chen', 'ming', 'fang', 'dong', 'cheng', 'variations', 'unequivocally', 'wv', 'seemed', 'legitimately', 'legitfund', 'com', 'abubakar', 'weeping', 'universities', 'suppression', 'believes', 'swamped', 'grade', 'regularity', 'impacts', 'rows', 'sprawled', 'avenue', 'eamc', 'notified', 'secon', 'saadia', 'afzaal', 'studied', 'studying', 'corner', 'answered', 'maked', 'mars', 'frauds', 'spends', 'negotiating', 'consists', 'windows', 'ncdcteam', 'demystifying', 'adverse', 'reactions', 'differential', 'rec', 'fridge', 'defunding', 'madison', 'declaration', 'independence', 'immunologist', 'aucklandd', 'waitkato', 'boosts', 'denis', 'mukwege', 'congolese', 'fabricate', 'nanded', 'reaney', 'valve', 'exhaled', 'seal', 'facd', 'ingress', 'paint', 'lol', 'wobble', 'mate', 'adjust', 'ufc', 'anticipated', 'snuck', 'unforeseen', 'disagreed', 'proposing', 'lawsuits', 'jonathan', 'ashworth', 'lnjp', 'foodsafety', 'spoil', 'meats', 'eggs', 'yr', 'beaches', 'los', 'angeles', 'buenaventura', 'valle', 'cauca', 'ctor', 'hugo', 'vidal', 'complaint', 'attorney', 'functions', 'reinfection', 'friendly', 'humour', 'lgbtq', 'diversity', 'onion', 'pinch', 'helmet', 'pothole', 'targeting', 'amal', 'clooney', 'quits', 'envoy', 'emotions', 'respecting', 'lately', 'flare', 'nightly', 'portland', 'politifact', 'antifa', 'anarchists', 'marxist', 'revered', 'ego', 'satanic', 'wrecking', 'havoc', 'swiftly', 'decisively', 'ditch', 'dearicai', 'modigovtfailed', 'chenqiushi', 'zhangzhan', 'strike', 'fangbin', 'exhaustion', 'loneliness', 'backdate', 'unanimously', 'constitutes', 'cutest', 'anahita', 'stoner', 'strung', 'ttsi', 'secondly', 'eighth', 'snake', 'coronabeer', 'tireless', 'curative', 'takeresponslibility', 'paz', 'blankets', 'breakinghot', 'artificial', 'secures', 'vegetarians', 'fain', 'tosurvive', 'tailored', 'geographically', 'matches', 'fwiw', 'prophetic', 'encounters', 'goulding', 'amazed', 'bahia', 'dismissed', 'appealed', 'inaccurate', 'insects', 'camera', 'recite', 'hanuman', 'chalisa', 'misusing', 'tramps', 'inflation', 'piltdown', 'camilla', 'parker', 'bowls', 'rescuing', 'archie', 'secr', 'shoes', 'mic', 'insulting', 'statistical', 'ayurved', 'advertising', 'tennis', 'champion', 'novak', 'djokovic', 'adria', 'recipes', 'osha', 'unauthorized', 'plot', 'clintons', 'technically', 'evinindia', 'wastage', 'penalty', 'specialized', 'quantities', 'usama', 'cuz', 'mazaak', 'nahin', 'hai', 'achieves', 'reversal', 'toppling', 'meghalaya', 'poet', 'varvara', 'accused', 'bhima', 'koregaon', 'nat', 'cooling', 'hixenbaugh', 'succeeded', 'covidol', 'emotional', 'cholera', 'epidemics', 'wreaked', 'overwhelmingly', 'efficaciously', 'redouble', 'eg', 'pioneering', 'julian', 'knight', 'disastrous', 'letterbox', 'pamphlets', 'flyers', 'hairstylist', 'iowa', 'clients', 'placebopills', 'accuracy', 'historically', 'roberto', 'gazolla', 'compensated', 'inflating', 'organize', 'disposal', 'furious', 'veil', 'reluctantly', 'sucks', 'prioritize', 'simulated', 'sultanpuri', 'questioned', 'crow', 'ona', 'foghornleghorn', 'heneryhawk', 'william', 'jeanine', 'deck', 'deeper', 'cheb', 'khaled', 'algerian', 'automation', 'rehome', 'bucket', 'ac', 'ncaa', 'searching', 'exploit', 'madness', 'marchmadness', 'nfl', 'prohibit', 'stadiums', 'footballamerican', 'smart', 'anubis', 'exploratory', 'lak', 'coronavrus', 'etsy', 'chloroxylenol', 'benzalkonium', 'chloride', 'instruction', 'triggered', 'certainly', 'considerable', 'typical', 'voluntarily', 'kochi', 'prefectural', 'displaying', 'hopeful', 'filmed', 'moinhos', 'vento', 'porto', 'alegre', 'translated', 'indecipherable', 'slang', 'rudolph', 'presenting', 'triple', 'pulaski', 'overloading', 'impaired', 'dnc', 'recreated', 'powerpoint', 'sanders', 'firewood', 'rundown', 'bachelorette', 'stranger', 'rashid', 'buttar', 'solely', 'throws', 'currency', 'petrol', 'pump', 'navsari', 'tvnews', 'jockeys', 'churchill', 'kentuckyderby', 'heaven', 'uae', 'infusing', 'masturbate', 'tirur', 'escaped', 'leni', 'robredo', 'suck', 'potent', 'inhibitor', 'avoidable', 'wipes', 'mesenchymal', 'stem', 'reconsidered', 'practise', 'cardiovascular', 'superimposed', 'abbasi', 'shaheed', 'karachi', 'tricks', 'completion', 'pfms', 'tsa', 'shouldering', 'entrusted', 'nutrition', 'schooling', 'puerta', 'hierro', 'geographical', 'sampling', 'cons', 'muhammadu', 'buhari', 'shaking', 'mohammed', 'isa', 'antidote', 'retreating', 'clownvirus', 'sjws', 'apocalypse', 'islander', 'recommending', 'evidenced', 'pumps', 'carmarthen', 'neath', 'morrisons', 'coordinator', 'sniffing', 'clove', 'camphor', 'spelled', 'backwards', 'nahuw', 'richardnixon', 'napoleon', 'flooded', 'dietary', 'personalized', 'crescent', 'reductions', 'outpatient', 'invites', 'mere', 'shab', 'azadi', 'spree', 'absolutely', 'madhu', 'haldi', 'thrice', 'kadha', 'pack', 'swasari', 'grobse', 'impt', 'ventillated', 'bitte', 'blowers', 'drs', 'fur', 'im', 'merci', 'entschuldigung', 'swizerdeutsch', 'countin', 'flowers', 'nothin', 'boredom', 'augustamasters', 'islamist', 'pp', 'precious', 'woke', 'byer', 'tablet', 'midcourse', 'mailinvoting', 'achha', 'chalta', 'hu', 'breathed', 'hast', 'bask', 'warmer', 'temperatures', 'straightforward', 'fourths', 'collaborated', 'benchmark', 'independenceday', 'probe', 'justicfortarun', 'tarun', 'hum', 'sawaal', 'utakar', 'hownsle', 'todti', 'sergienko', 'hardy', 'ops', 'grueling', 'visualizations', 'damaged', 'lungtransplant', 'southdelhi', 'sergio', 'quintero', 'venezuelan', 'argued', 'ml', 'spicy', 'ours', 'raw', 'urologists', 'resists', 'mandetta', 'singles', 'denialism', 'believing', 'patronize', 'pleads', 'realistic', 'expectations', 'melasma', 'sarcastic', 'separating', 'tincture', 'betadine', 'ensures', 'stimuluschecks', 'trumppressconf', 'surrounded', 'greatwallofchina', 'ocular', 'cited', 'retrovirus', 'disinformation', 'discredited', 'immuntiy', 'promoting', 'intentional', 'filipinos', 'catastrophic', 'suckers', 'warps', 'orbit', 'frontier', 'playboy', 'ana', 'brnabic', 'agents', 'vax', 'sterility', 'fad', 'sweeping', 'headlines', 'groupies', 'orlando', 'sourabhkp', 'balanced', 'streamlining', 'flow', 'planting', 'microchips', 'showrunner', 'recast', 'nhk', 'tired', 'homeschooling', 'watches', 'wishing', 'selfisolation', 'marvin', 'humes', 'rochelle', 'shite', 'usual', 'mustafa', 'londoners', 'strange', 'construction', 'huoshenshan', 'thaali', 'bajao', 'bhabhi', 'petal', 'showers', 'lights', 'mat', 'fantasy', 'nerd', 'primate', 'rasmussen', 'finger', 'gof', 'bury', 'balasore', 'shahrukh', 'complacent', 'blackpool', 'arif', 'rajpura', 'parameters', 'approvals', 'kingswood', 'morrinsville', 'miles', 'mas', 'separated', 'exhaustive', 'homoeopathic', 'spo', 'anybody', 'plotting', 'boe', 'guided', 'sabotage', 'reliance', 'jio', 'telecom', 'transfer', 'vulgar', 'intentionally', 'reinfected', 'subsequent', 'wards', 'aroha', 'described', 'bigpharmapuppets', 'ftse', 'pound', 'investors', 'prospect', 'tougher', 'tasty', 'fry', 'refreshing', 'alcoholic', 'beverage', 'headed', 'athens', 'antiseptic', 'lowering', 'correctional', 'detention', 'organizers', 'alternatives', 'handshakes', 'reassurance', 'rigorous', 'threads', 'keqiang', 'antivirus', 'nrl', 'unwashed', 'isabel', 'cela', 'purple', 'demonstration', 'afraid', 'nr', 'waitemat', 'hailed', 'doug', 'entertained', 'shark', 'btk', 'acalabrutinib', 'creeping', 'approving', 'encorafenib', 'cetuximab', 'braf', 'mcrc', 'pearls', 'jidea', 'refactor', 'extend', 'npis', 'codecheck', 'bel', 'inch', 'earned', 'godelhiites', 'willto', 'defended', 'retweet', 'declines', 'gemma', 'collins', 'anatomy', 'nuc', 'vrs', 'realism', 'respirator', 'shrime', 'exaggerating', 'cocktails', 'pibfactcheck', 'drauzio', 'varella', 'defends', 'lockout', 'fruition', 'solving', 'cccs', 'outset', 'authoritie', 'mobilise', 'msmes', 'disbursed', 'mahila', 'arogya', 'samitis', 'necessities', 'hy', 'systematic', 'ghaziabad', 'dripping', 'covidstudy', 'novotel', 'outstanding', 'progressives', 'martial', 'singer', 'sharda', 'sinha', 'sender', 'mergecaexamsjulyandnov', 'icai', 'icairespondnow', 'pls', 'gods', 'priests', 'mac', 'phd', 'tent', 'viamed', 'calahorra', 'rioja', 'threshold', 'imminent', 'occasionally', 'lengthy', 'divided', 'stickers', 'alternate', 'seats', 'signages', 'metrobackontrack', 'philosophy', 'presidents', 'hearings', 'courtrooms', 'fungus', 'characterised', 'shincheonji', 'perspective', 'confusion', 'impression', 'concentrating', 'forbidding', 'relationships', 'personalised', 'thrombotic', 'meharry', 'hildreth', 'backtrack', 'coronavaccine', 'implicitly', 'nervous', 'democraticdebate', 'datasets', 'huckabee', 'odd', 'insurgency', 'unleashed', 'listing', 'advisor', 'partnering', 'enlist', 'lows', 'gaiman', 'faerie', 'folk', 'sampoerna', 'cigarette', 'critiqued', 'thumbs', 'panama', 'canal', 'cruiseships', 'panamacanal', 'frenzy', 'malaysian', 'remarkable', 'avifavir', 'shopper', 'taskforce', 'constituted', 'qatar', 'rinascer', 'rinascerai', 'ills', 'expensive', 'bracelet', 'placed', 'bounced', 'artifact', 'dems', 'tobacconists', 'stars', 'socialism', 'saves', 'berniesanders', 'fidelcastro', 'rishi', 'sunak', 'campai', 'bolivar', 'sdsm', 'muhamed', 'zekiri', 'shoot', 'ceiling', 'theaters', 'whistling', 'charm', 'norway', 'oslo', 'mylan', 'innovative', 'infinity', 'congregations', 'phenomenon', 'incontext', 'arizonans', 'widening', 'toi', 'ohomai', 'raam', 'worlds', 'disastrously', 'transparently', 'reiterated', 'reinforced', 'nigella', 'fevers', 'prattle', 'unequally', 'mentalhealth', 'sharechat', 'publichealthreports', 'papers', 'inviting', 'publichealth', 'eager', 'upside', 'bitter', 'gourd', 'nodal', 'andrews', 'selfish', 'outlined', 'fom', 'constructed', 'downloaded', 'entries', 'labels', 'hapless', 'pharmacological', 'perspectives', 'derivatives', 'hardworking', 'unsung', 'guillermo', 'responder', 'tallied', 'responsibly', 'directing', 'cessation', 'mortuary', 'eerily', 'unofficial', 'rollingstones', 'imposters', 'hazmat', 'suits', 'stockton', 'calif', 'robbery', 'jessica', 'travels', 'whining', 'btw', 'weights', 'usurped', 'technologies', 'utilized', 'drain', 'swamp', 'relieve', 'lessen', 'localised', 'clinician', 'underscore', 'junos', 'reconfigure', 'participated', 'lugansk', 'separatist', 'scattered', 'sanitized', 'pna', 'disobeying', 'falsely', 'huawei', 'distracting', 'huaweiwatchgt', 'chinacoronavirus', 'corononavirus', 'swabbing', 'preferred', 'implanting', 'thirteen', 'jean', 'roger', 'rivals', 'outline', 'mates', 'hunting', 'activation', 'afriglobal', 'medicare', 'sahel', 'intake', 'toxin', 'shuts', 'ophthalmologist', 'untoward', 'morbidityas', 'abandoned', 'hut', 'brick', 'tray', 'cups', 'disheveled', 'confident', 'indianarmy', 'coronawarriorsindia', 'salutecoronawarriors', 'sang', 'anthem', 'itaperuna', 'exclusion', 'docs', 'pharmacy', 'bendigo', 'actuals', 'nassarawa', 'salwar', 'bailed', 'floors', 'electric', 'flies', 'makhi', 'goverment', 'empowered', 'preppers', 'constant', 'announcements', 'humidity', 'jewellry', 'joyalukkas', 'grief', 'miscarriage', 'legend', 'rollingstonevaccineforcv', 'keithholdskeytovirusvaccine', 'rockandrollvaccine', 'resolutely', 'moh', 'inauguration', 'adiabo', 'carlos', 'unimed', 'michigans', 'tommy', 'tuberville', 'clue', 'positions', 'coats', 'foretold', 'havard', 'shi', 'reservoir', 'demolished', 'stations', 'henry', 'kissinger', 'unified', 'racist', 'wuflu', 'knowing', 'faced', 'conclusions', 'contrary', 'assertions', 'undercount', 'parameter', 'projected', 'ruining', 'wedge', 'lime', 'insolvency', 'broadest', 'unreliable', 'aggregate', 'reasonably', 'taj', 'mahal', 'cremations', 'ferrari', 'disgrace', 'dealt', 'projection', 'astrologer', 'abhigyan', 'anand', 'thecoronavirus', 'builds', 'stabilise', 'functioning', 'muammar', 'gaddafi', 'antidotes', 'solvent', 'recalling', 'ducey', 'collaborates', 'mckesson', 'hiding', 'amatitl', 'brisbane', 'recruiting', 'confront', 'ya', 'fluent', 'physics', 'patiently', 'slurry', 'rocked', 'elvis', 'elvispresley', 'rocknroll', 'memphis', 'elvislives', 'gracelands', 'hv', 'infra', 'spreader', 'stigmas', 'hang', 'policewoman', 'dizzy', 'horrified', 'controllable', 'synagogue', 'requisition', 'motorway', 'leaning', 'snapchat', 'koreans', 'bandwagon', 'swept', 'unhealthy', 'environments', 'flatlands', 'hills', 'disparate', 'ugly', 'compatible', 'secondary', 'pulmonologists', 'orleans', 'pelicans', 'allocating', 'scarce', 'medics', 'enhancement', 'policeman', 'migrating', 'ghebreyesus', 'voiceover', 'interactive', 'texts', 'portraying', 'catastrophe', 'imagine', 'inundated', 'cautioning', 'jamati', 'misbehavior', 'trainees', 'jkuat', 'cone', 'visors', 'sewage', 'dwarf', 'photographs', 'prostrate', 'remotely', 'agent', 'inferring', 'predicament', 'combine', 'dirty', 'cpap', 'rohini', 'flyover', 'kilos', 'bullet', 'holes', 'corruption', 'newyorkcity', 'rackets', 'unstable', 'freeze', 'hig', 'custody', 'usable', 'gloriously', 'otoh', 'shade', 'flatter', 'bacchan', 'subject', 'advisers', 'birx', 'audience', 'rating', 'downtown', 'adtd', 'versus', 'correlation', 'mandate', 'exp', 'yangon', 'havent', 'weekday', 'excluding', 'outlier', 'reminding', 'buddhist', 'smugly', 'buddhism', 'casually', 'props', 'karimganj', 'sierra', 'seroprevalence', 'igg', 'iga', 'igm', 'concerts', 'scraper', 'pioneer', 'jaroslav', 'belsky', 'bean', 'collapsed', 'sinn', 'varadkar', 'debunks', 'ownership', 'sleepless', 'nights', 'selfless', 'troops', 'indicative', 'checker', 'downloads', 'violations', 'defeated', 'meddling', 'gently', 'runni', 'lea', 'disproven', 'masked', 'sexyteens', 'attract', 'punishment', 'strengthened', 'cent', 'wits', 'chinatown', 'edited', 'vih', 'hockey', 'nhl', 'cancers', 'demi', 'lovato', 'ghazibad', 'stemi', 'depended', 'rex', 'johnwayne', 'cabin', 'mainland', 'renovations', 'implying', 'distractions', 'rheaarrested', 'swung', 'suntan', 'nicely', 'thesun', 'tan', 'physique', 'sunbathing', 'salman', 'namaskar', 'adaab', 'assalamu', 'alaikum', 'bidhuri', 'immunoglobulin', 'encephalitis', 'marginally', 'cobey', 'evolutionary', 'biologist', 'neighbors', 'cannabis', 'embassy', 'unsure', 'journalists', 'ceremonial', 'unto', 'inhibits', 'tc', 'increas', 'reiterates', 'inaugural', 'invest', 'maks', 'goggles', 'universally', 'shock', 'diligence', 'unverified', 'evolves', 'empress', 'astonishingly', 'cru', 'nursinghome', 'loredo', 'weird', 'clogged', 'hurdles', 'emergencies', 'fluv', 'forgive', 'flattenthecurve', 'mortgage', 'shea', 'periodic', 'kazakhstanis', 'anosmia', 'diminished', 'ageusia', 'telltale', 'sindh', 'humvee', 'epicentre', 'explosive', 'spirullina', 'anise', 'carries', 'tamiflu', 'dissimilar', 'niv', 'kashmir', 'misuse', 'esophagus', 'tummy', 'dhbs', 'adventure', 'mali', 'reclassified', 'banlic', 'cabuyao', 'laguna', 'sorrow', 'audi', 'demonstrate', 'chanakya', 'lotus', 'glare', 'pretence', 'savarkar', 'peddled', 'constructing', 'bigly', 'retractable', 'dome', 'bryan', 'steil', 'tru', 'westminster', 'parlors', 'letting', 'utpol', 'depicts', 'cheerleaders', 'wring', 'aworldindisorder', 'mural', 'legitimate', 'portend', 'pak', 'rrt', 'ramp', 'tinapa', 'qd', 'illustrations', 'patience', 'dominated', 'continuo', 'bayer', 'ag', 'woods', 'bigpharma', 'repositories', 'guidances', 'catfish', 'reais', 'asprin', 'folic', 'manifests', 'multiplies', 'inthe', 'chlorhexidine', 'sums', 'overheard', 'perfected', 'hosting', 'bhanhealth', 'plunge', 'nigh', 'opposes', 'kennedy', 'unsafe', 'reward', 'hippocratic', 'oath', 'mathematically', 'renew', 'pmet', 'revise', 'darin', 'lahood', 'casesare', 'gassed', 'ghislainemaxwell', 'crematorium', 'parmeshwar', 'arora', 'consultant', 'gangaram', 'colony', 'gurgaon', 'briefed', 'crashed', 'karipurairport', 'supplying', 'engages', 'phoning', 'emailing', 'wondrous', 'painted', 'lactancy', 'socioeconomic', 'dimension', 'pinpoint', 'pied', 'piper', 'potomac', 'disbands', 'unbands', 'cardiotwitter', 'lopez', 'sheltering', 'inches', 'jlo', 'wheelchairs', 'abakaliki', 'germaphobe', 'howie', 'mandel', 'simoncowell', 'criticizing', 'placing', 'bioengineered', 'reacting', 'rfid', 'beast', 'bubonic', 'carts', 'lurk', 'dilute', 'distanc', 'billiion', 'deferral', 'shady', 'sanction', 'ftc', 'chennai', 'catalyst', 'preventable', 'pneumococcal', 'tunisians', 'manila', 'jetpark', 'cutlery', 'owned', 'exhibit', 'mannequins', 'deceive', 'relaxing', 'congrasswoman', 'ilhan', 'omar', 'wars', 'cashew', 'checken', 'cashewchicken', 'plasmatherapy', 'incorporated', 'clemson', 'mascot', 'southcarolina', 'supress', 'fixes', 'violently', 'handcuffs', 'cnbc', 'survives', 'recognizing', 'autohemotherapy', 'rome', 'devbhatt', 'operated', 'handled', 'disheartening', 'stoned', 'statins', 'meta', 'retrospective', 'blogger', 'overseeing', 'sgrh', 'nites', 'manaus', 'nelson', 'teich', 'fraudulent', 'llano', 'corrientes', 'tablik', 'possession', 'lacks', 'recap', 'journeys', 'safer', 'drakeford', 'unstoppable', 'beet', 'understood', 'speeches', 'scathing', 'indictment', 'noel', 'gallagher', 'queuing', 'nm', 'chaco', 'tone', 'award', 'rightward', 'forecasting', 'exceeding', 'sleeping', 'soundly', 'facewine', 'secluedo', 'twatty', 'staggered', 'atul', 'garg', 'oldies', 'liberate', 'hsipaw', 'township', 'marked', 'nabarro', 'bother', 'doubles', 'dig', 'argues', 'compose', 'activecases', 'dhs', 'hid', 'dhsreport', 'stalling', 'diphtheria', 'tetanus', 'pertussis', 'dtp', 'measle', 'assassination', 'mahmoud', 'bazarti', 'exceptional', 'dimensions', 'acquire', 'tangled', 'gums', 'laxative', 'andywarhol', 'ayurveda', 'practitioner', 'devender', 'sharma', 'motivation', 'keeppushing', 'deliberating', 'contempl', 'confidential', 'kissing', 'blarney', 'combating', 'palermo', 'favipravir', 'inadequate', 'financing', 'inefficiency', 'inability', 'dots', 'reserved', 'ashley', 'intubate', 'dargah', 'covidnet', 'infertility']\n"
          ]
        }
      ]
    },
    {
      "cell_type": "code",
      "source": [
        "print(words)\n",
        "print(\"\\npredicted class:          \",   predicted_class)"
      ],
      "metadata": {
        "id": "DwA-gAhDNesk",
        "colab": {
          "base_uri": "https://localhost:8080/"
        },
        "outputId": "be29882d-dbc4-466c-e49a-b4415602c200"
      },
      "execution_count": null,
      "outputs": [
        {
          "output_type": "stream",
          "name": "stdout",
          "text": [
            "['indiafightscorona', 'we', 'have', 'covid', 'testing', 'laboratories', 'in', 'india', 'and', 'as', 'on', 'th', 'august', 'tests', 'have', 'been', 'done', 'dg', 'staysafe', 'indiawillwin']\n",
            "\n",
            "predicted class:           3\n"
          ]
        }
      ]
    },
    {
      "cell_type": "markdown",
      "source": [
        "**Compute LRP relevances**"
      ],
      "metadata": {
        "id": "SyhfwX1_PyLY"
      }
    },
    {
      "cell_type": "code",
      "source": [
        "# LRP hyperparameters:\n",
        "eps                 = 0.001                                             # small positive number\n",
        "bias_factor         = 0.0                                               # recommended value\n",
        " \n",
        "net                 = LSTM_bidi()                                       # load trained LSTM model\n",
        "\n",
        "w_indices           = [net.voc.index(w) for w in words]                 # convert input sentence to word IDs\n",
        "Rx, Rx_rev, R_rest  = net.lrp(w_indices, target_class, eps, bias_factor)# perform LRP\n",
        "R_words             = np.sum(Rx + Rx_rev, axis=1)                       # compute word-level LRP relevances\n",
        "\n",
        "scores              = net.s.copy()                                      # classification prediction scores"
      ],
      "metadata": {
        "id": "uDe4FsJ2NevT",
        "colab": {
          "base_uri": "https://localhost:8080/"
        },
        "outputId": "bf55f06b-8878-4177-de9d-fa50fdcbef24"
      },
      "execution_count": null,
      "outputs": [
        {
          "output_type": "stream",
          "name": "stdout",
          "text": [
            "['the', 'cdc', 'currently', 'reports', 'deaths', 'in', 'general', 'discrepancies', 'death', 'counts', 'between', 'different', 'sources', 'are', 'small', 'and', 'explicable', 'toll', 'stands', 'at', 'roughly', 'people', 'today', 'states', 'reported', 'a', 'rise', 'from', 'last', 'tuesday', 'southern', 'of', 'those', 'politically', 'correct', 'woman', 'almost', 'uses', 'pandemic', 'as', 'excuse', 'not', 'to', 'reuse', 'plastic', 'bag', 'coronavirus', 'nashville', 'indiafightscorona', 'we', 'have', 'covid', 'testing', 'laboratories', 'india', 'on', 'th', 'august', 'tests', 'been', 'done', 'dg', 'staysafe', 'indiawillwin', 'populous', 'can', 'generate', 'large', 'case', 'but', 'if', 'you', 'look', 'new', 'cases', 'per', 'million', 'smaller', 'showing', 'more', 'than', 'california', 'or', 'texas', 'al', 'ar', 'id', 'ks', 'ky', 'la', 'ms', 'nv', 'sc', 'act', 'now', 'found', 'average', 'each', 'person', 'illinois', 'with', 'is', 'infecting', 'other', 'data', 'shows', 'that', 'infection', 'growth', 'rate', 'has', 'declined', 'over', 'time', 'this', 'factors', 'stay', 'home', 'order', 'restrictions', 'put', 'place', 'tested', 'positive', 'for', 'no', 'symptoms', 'away', 'learn', 'about', 's', 'recommendations', 'when', 'be', 'around', 'others', 'after', 'obama', 'calls', 'trump', 'response', 'chaotic', 'disaster', 'clearly', 'administration', 'did', 'leave', 'any', 'kind', 'game', 'plan', 'something', 'like', 'retraction', 'hydroxychloroquine', 'chloroquine', 'without', 'macrolide', 'treatment', 'multinational', 'registry', 'analysis', 'lancet', 'take', 'simple', 'daily', 'precautions', 'help', 'prevent', 'spread', 'respiratory', 'illnesses', 'how', 'protect', 'yourself', 'nba', 'poised', 'restart', 'month', 'march', 'utah', 'jazz', 'got', 'matter', 'hours', 'u', 'was', 'sluggish', 'just', 'announced', 'first', 'participants', 'age', 'cohort', 'dosed', 'phase', 'study', 'our', 'mrna', 'vaccine', 'against', 'novel', 'read', 'coronavirusupdates', 'lakh', 'rd', 'successive', 'day', 'cumulative', 'date', 'reached', 'tpm', 'cross', 'using', 'public', 'transportation', 'practice', 'social', 'distancing', 'avoid', 'touching', 'surfaces', 'hand', 'hygiene', 'am', 'till', 'there', 'total', 'amp', 'related', 'manipur', 'covidindia', 'covidupdates', 'coronaupdates', 'corona', 'coronavirusindia', 'coronaviruspandemic', 'because', 'donald', 'negligence', 'incompetence', 'died', 'nearly', 'americans', 'out', 'work', 'yet', 'he', 'patting', 'himself', 'back', 'unbelievable', 'continues', 'scale', 'peaks', 'samples', 'consecutive', 'days', 'country', 'achieved', 'these', 'levels', 'very', 'high', 'shipped', 'vials', 'company', 'nih', 'used', 'planned', 'multiple', 'facebook', 'posts', 'claim', 'aussies', 'will', 'fined', 'they', 'talking', 'conspiracies', 'do', 'included', 'screenshot', 'segment', 'an', 'australian', 'breakfast', 'television', 'show', 'evidence', 'nobel', 'prize', 'laureate', 'tasuku', 'honjo', 'didn', 't', 'say', 'natural', 'post', 'claims', 'fact', 'professor', 'said', 'greatly', 'saddened', 'his', 'name', 'misinformation', 'latest', 'coronacheck', 'nz', 'tracker', 'app', 'remain', 'important', 'useful', 'alert', 'level', 'encouraged', 'download', 'similar', 'one', 'keep', 'record', 'where', 're', 'going', 'breaking', 'news', 'president', 'cryill', 'ramaphosa', 'asked', 'all', 'foreign', 'nations', 'depart', 'south', 'africa', 'before', 'june', 'due', 'increasing', 'delighted', 'upper', 'middle', 'countries', 'economies', 'confirmed', 'participate', 'covax', 'facility', 'number', 'growing', 'i', 'urge', 'who', 'joined', 'so', 'by', 'september', 'intriguing', 'possibility', 'mood', 'changes', 'anxiety', 'may', 'function', 'invasion', 'into', 'cns', 'brain', 'elon', 'musck', 'baby', 'get', 'job', 'kid', 'christmas', 'elonmusk', 'achristmascarol', 'alcohol', 'free', 'sanitizer', 'developed', 'dedan', 'kimathi', 'university', 'kenya', 'appendix', 'b', 'gathering', 'state', 'orders', 'huge', 'chunk', 'same', 'goes', 'd', 'evaluation', 'accessibility', 'yesterday', 'completed', 'were', 'managed', 'isolation', 'quarantine', 'routine', 'either', 'their', 'brings', 'reusing', 'n', 'masks', 'vaporized', 'hydrogen', 'peroxide', 'uv', 'light', 'heat', 'effective', 'sanitizers', 'shifted', 'focus', 'moments', 'coronavirusoutbreak', 'updated', 'running', 'timeline', 'virus', 'reply', 'us', 'recent', 'think', 'belong', 'list', 'doctored', 'image', 'shared', 'claiming', 'chant', 'hare', 'krishna', 'rama', 'fourthofjuly', 'weekend', 'choose', 'spend', 'outdoors', 'event', 'ft', 'apart', 'wear', 'cloth', 'face', 'cover', 'slow', 'recommends', 'mothers', 'stop', 'breastfeeding', 'boost', 'efficacy', 'singapore', 'airlines', 'haults', 'flights', 'outbreak', 'florida', 'governor', 'ron', 'desantis', 'botches', 'banning', 'beer', 'flatten', 'curve', 'apologise', 'government', 'ekiti', 'error', 'committed', 'improving', 'quality', 'control', 'processes', 'ensure', 'accurate', 'transparent', 'reporting', 'nyt', 'invented', 'video', 'doctor', 'fighting', 'hospital', 'break', 'k', 'alone', 'being', 'cough', 'directly', 'onto', 'launched', 'solidarity', 'fund', 'which', 'far', 'mobilized', 'm', 'individuals', 'companies', 'philanthropies', 'addition', 'billion', 'member', 'generous', 'support', 'football', 'player', 'cristiano', 'ronaldo', 'turned', 'hotels', 'hospitals', 'patients', 'paying', 'doctors', 'staff', 'including', 'again', 'asymptomatic', 'workers', 'involved', 'airport', 'border', 'part', 'wider', 'surveillance', 'measures', 'expected', 'operational', 'early', 'july', 'don', 'want', 'national', 'lockdown', 'progress', 'uk', 'pm', 'says', 'govt', 'further', 'insists', 'doesn', 'second', 'here', 'update', 'published', 'recoveries', 'exceeded', 'top', 'active', 'caseload', 'also', 'ones', 'presently', 'current', 'capacity', 'gives', 'excess', 'next', 'week', 'projecting', 'arrivals', 'departures', 'facilities', 'schools', 'struggling', 'cope', 'lack', 'infections', 'since', 'it', 'became', 'compulsory', 'pupils', 'return', 'should', 'your', 'child', 'explainer', 'scientists', 'astrazeneca', 'complain', 'keeps', 'delayed', 'noddy', 'holder', 'ringing', 'up', 'ask', 'ready', 'widely', 'mask', 'them', 'incl', 'wearamask', 'doyourpart', 'worldmaskweek', 'covidnigeria', 'lagos', 'gombe', 'plateau', 'kwara', 'enugu', 'ogun', 'katsina', 'bauchi', 'osun', 'rivers', 'discharged', 'already', 'test', 'rt', 'sustained', 'surges', 'ahead', 'highest', 'single', 'recovery', 'nearl', 'italy', 'surrendered', 'exhausted', 'forced', 'protective', 'medical', 'donaldtrump', 'cia', 'fbi', 'iud', 'moving', 'offline', 'reddit', 'user', 'posted', 'flyer', 'site', 'told', 'had', 'delive', 'orwell', 'dead', 'living', 'under', 'bridge', 'continued', 'toiletpaper', 'georgeorwell', 'residents', 'york', 'what', 'rule', 'allows', 'england', 'fail', 'self', 'isolate', 'click', 'central', 'given', 'permission', 'open', 'approved', 'labs', 'consist', 'pvt', 'covidtesting', 'come', 'pressure', 'availability', 'fewer', 'kids', 'dying', 'white', 'paper', 'examines', 'why', 'although', 'affected', 'continue', 'see', 'intense', 'transmission', 'relatively', 'group', 'justin', 'trudeau', 'resigns', 'amidst', 'george', 'soros', 'responsible', 'born', 'laboratory', 'sensitivity', 'definitely', 'specialists', 'seen', 'real', 'haven', 'looked', 'hard', 've', 'doing', 'things', 'experts', 'call', 'cow', 'dung', 'urine', 'yoga', 'ayush', 'treat', 'main', 'mode', 'through', 'droplets', 'possible', 'infected', 'smokers', 'blow', 'carrying', 'exhale', 'regardless', 'steer', 'clear', 'smoke', 'cause', 'various', 'health', 'problems', 'article', 'bill', 'gates', 'would', 'modify', 'human', 'dna', 'dyk', 'handwashing', 'remains', 'best', 'ways', 'viruses', 'according', 'department', 'haryana', 'recoveryrate', 'gurugram', 'sundays', 'mondays', 'tend', 'numbers', 'dip', 'still', 'rising', 'hospitalizations', 'jump', 'sunday', 'holiday', 'report', 'world', 'organization', 'brazailian', 'parliament', 'went', 'empty', 'thousands', 'times', 'twitter', 'youtube', 'salt', 'remedy', 'un', 'secretary', 'antonio', 'guterres', 'dramatically', 'derailed', 'sustainable', 'development', 'goals', 'question', 'made', 'eradication', 'poverty', 'hunger', 'instagram', 'tainted', 'circulation', 'many', 'months', 'across', 'tracked', 'bulk', 'louisiana', 'philippines', 'senators', 'grace', 'poe', 'risa', 'hontiveros', 'silent', 'crisis', 'vocal', 'closure', 'abs', 'cbn', 'contribute', 'fatality', 'most', 'consequence', 'seeing', 'syndemic', 'underline', 'its', 'origins', 'vulnerability', 'older', 'citizens', 'black', 'asian', 'minority', 'ethnic', 'communities', 'key', 'commonly', 'poorly', 'paid', 'welfare', 'protections', 'scales', 'tota', 'italian', 'nobody', 'dangerous', 'flu', 'seasonal', 'influenza', 'vaccination', 'mandatory', 'georgia', 'fall', 'mortality', 'rates', 'significantly', 'lower', 'fatalities', 'caused', 'mt', 'roskill', 'evangelical', 'fellowship', 'bereavement', 'sub', 'cluster', 'includes', 'whose', 'source', 'events', 'zealand', 'receiving', 'care', 'bringing', 'covidnz', 'april', 'breakdown', 'fct', 'kano', 'oyo', 'edo', 'kaduna', 'akwa', 'ibom', 'delta', 'ondo', 'niger', 'benue', 'anambra', 'borno', 'jigawa', 'biggest', 'change', 'hospitalized', 'seem', 'likely', 'decline', 'soon', 'recovered', 'via', 'galicia', 'enabled', 'commitment', 'set', 'expanding', 'mechanisms', 'details', 'visit', 'icmrfightscovid', 'jordanian', 'minister', 'conspiracy', 'pregnant', 'women', 'higher', 'premature', 'births', 'trials', 'underway', 'once', 'projects', 'complete', 'controlling', 'effectively', 'easier', 'proper', 'medicines', 'vaccines', 'etc', 'infectious', 'diseases', 'acquired', 'locally', 'unknown', 'compare', 'mexico', 'population', 'even', 'close', 'community', 'auckland', 'based', 'connected', 'existing', 'contacts', 'household', 'previously', 'investigation', 'gp', 'wellington', 'precautionary', 'message', 'catch', 'fire', 'amount', 'hands', 'lady', 'applying', 'near', 'stove', 'ended', 'burning', 'her', 'rudy', 'giuliani', 'bought', 'shares', 'novartis', 'primary', 'supplier', 'february', 'student', 'pondicherry', 'accepted', 'footballer', 'turning', 'records', 'ever', 'peak', 'exceed', 'fever', 'runny', 'nose', 'came', 'suddenly', 'good', 'chance', 'could', 'watch', 'find', 'fightflu', 'pandas', 'china', 'zoo', 'mumbai', 'district', 'maharastra', 'coronaupdatesinindia', 'weekly', 'rhinovirus', 'include', 'common', 'cold', 'suspected', 'causing', 'some', 'become', 'severely', 'ill', 'means', 'require', 'hospitalization', 'intensive', 'ventilator', 'breathe', 'die', 'camila', 'pitanga', 'brazilian', 'actress', 'contracted', 'she', 'caught', 'malaria', 'admitting', 'wrong', 'causes', 'sudden', 'syndrome', 'gap', 'parties', 'deadly', 'consequences', 'cabinet', 'office', 'michael', 'gove', 'shift', 'emphasis', 'working', 'kayburley', 'gross', 'well', 'quite', 'refuse', 'table', 'dashboard', 'reasons', 'beyond', 'me', 'looking', 'drove', 'increase', 'seems', 'much', 'solid', 'driven', 'lost', 'view', 'bihar', 'extends', 'nationalist', 'congress', 'party', 'chief', 'sharad', 'pawar', 'residence', 'four', 'profits', 'wants', 'reduce', 'held', 'virtual', 'meeting', 'uts', 'adequate', 'oxygen', 'healthcare', 'unrestricted', 'intra', 'inter', 'movement', 'hcps', 'attend', 'coca', 'aug', 'et', 'zoom', 'topic', 'telehealth', 'implementation', 'stories', 'field', 'healthy', 'year', 'old', 'boy', 'life', 'collection', 'every', 'team', 'collates', 'results', 'received', 'inform', 'nigerians', 'finally', 'version', 'racial', 'partnership', 'major', 'effort', 'project', 'volunteers', 'hope', 'acc', 'incubation', 'period', 'exposure', 'becoming', 'symptom', 'onset', 'median', 'estimates', 'long', 'nasal', 'side', 'effects', 'bring', 'combined', 'probable', 'having', 'two', 'middlemore', 'north', 'shore', 'neither', 'icu', 'publication', 'hiv', 'interruptions', 'allow', 'programs', 'risks', 'save', 'lives', 'full', 'authors', 'jennifersmith', 'timothyhallett', 'transparency', 'leaders', 'vital', 'during', 'must', 'access', 'make', 'informed', 'decisions', 'own', 'behavior', 'az', 'model', 'projections', 'advised', 'reassured', 'coming', 'rapid', 'nfeltp', 'strengthen', 'lgas', 'provides', 'newly', 'reactivated', 'lga', 'walk', 'sites', 'increased', 'awareness', 'grassroot', 'five', 'viz', 'maharashtra', 'tamil', 'nadu', 'andhra', 'pradesh', 'karnataka', 'uttar', 'contributed', 'began', 'screening', 'passengers', 'modi', 'mandated', 'universal', 'internat', 'l', 'only', 'detected', 'indian', 'military', 'bio', 'weapon', 'army', 'indore', 'police', 'injecting', 'blood', 'muslims', 'photo', 'clip', 'couple', 'treating', 'dataset', 'does', 'nyc', 'separate', 'accounting', 'lab', 'youth', 'sports', 'organizations', 'resume', 'activities', 'visitor', 'coach', 'gets', 'sick', 'offers', 'tips', 'safety', 'players', 'visitors', 'politician', 'ministry', 'reviews', 'management', 'districts', 'exhibiting', 'leaked', 'too', 'humans', 'planet', 'globalwarming', 'another', 'known', 'problem', 'washington', 'rock', 'system', 'gummed', 'spraying', 'pesticides', 'night', 'declared', 'posting', 'punishable', 'offense', 'socialdistance', 'sign', 'pledge', 'bypass', 'use', 'bleach', 'solutions', 'disinfecting', 'products', 'food', 'identifie', 'kits', 'available', 'dispels', 'doubts', 'raised', 'failure', 'clinical', 'continuing', 'expert', 'committee', 'reappraisal', 'significant', 'mutation', 'sars', 'cov', 'icmr', 'actively', 'exploring', 'saliva', 'thirty', 'nine', 'gps', 'written', 'bmj', 'calling', 'action', 'expressing', 'cautious', 'optimism', 'go', 'late', 'spring', 'unclear', 'longer', 'distribute', 'context', 'situation', 'check', 'roundup', 'tackled', 'transitional', 'producing', 'erratic', 'artificially', 'deflated', 'status', 'stated', 'upto', 'sample', 'patient', 'dhanbad', 'daniel', 'radcliffe', 'lakshadweep', 'arunachalpradesh', 'mizoram', 'hrs', 'end', 'november', 'dranthonyfauci', 'smallpox', 'believe', 'affects', 'body', 'former', 'rep', 'trey', 'gowdy', 'wrote', 'essay', 'past', 'media', 'democrats', 'election', 'equity', 'everyone', 'opportunity', 'address', 'standing', 'inequities', 'groups', 'risk', 'healthequity', 'strategy', 'product', 'pages', 'offering', 'toxic', 'chlorine', 'dioxide', 'industrial', 'often', 'sold', 'miracle', 'mineral', 'solution', 'cure', 'guardian', 'carolina', 'meaning', 'slowly', 'csa', 'patrick', 'vallance', 'amounts', 'certain', 'adding', 'half', 'doses', 'allocated', 'proportionally', 'participating', 'simultaneously', 'overall', 'consideration', 'relation', 'threat', 'great', 'carona', 'able', 'within', 'injection', 'hats', 'off', 'right', 'roche', 'launch', 'millions', 'note', 'requires', 'confirmation', 'trend', 'nasarawa', 'zamfara', 'nigeria', 'twofold', 'among', 'hypertension', 'coverings', 'wash', 'interested', 'never', 'beach', 'raleigh', 'pope', 'francis', 'river', 'imo', 'prayers', 'rooftops', 'despite', 'continuously', 'tools', 'accelerator', 'aims', 'provide', 'equitable', 'tackle', 'forms', 'disease', 'mild', 'severe', 'fallen', 'lot', 'then', 'plummeting', 'northeast', 'prof', 'robin', 'shattock', 'vacancies', 'nurses', 'professionals', 'temporary', 'o', 'paulo', 'funeral', 'recently', 'deceased', 'sri', 'lankan', 'arumugam', 'thondaman', 'daughters', 'violated', 'lanka', 'policy', 'travelers', 'attending', 'ceremony', 'shortly', 'returning', 'overseas', 'morning', 'identified', 'tokoroa', 'professional', 'contacted', 'expect', 'contact', 'remainder', 'places', 'pacific', 'helped', 'region', 'step', 'efforts', 'prepare', 'arrival', 'whoimpact', 'covidview', 'indicators', 'track', 'usually', 'lag', 'behind', 'illness', 'while', 'true', 'sore', 'throat', 'gargling', 'warm', 'water', 'feel', 'better', 'direct', 'effect', 'afaracare', 'shown', 'rhesus', 'monkeys', 'exposing', 'vaccinated', 'less', 'lungs', 'gt', 'strategies', 'dealing', 'doomsday', 'scenario', 'measles', 'children', 'adults', 'grateful', 'providing', 'ambulances', 'port', 'services', 'emergency', 'operations', 'centres', 'expand', 'sadly', 'ward', 'waikato', 'hoping', 'speedy', 'uddhav', 'thackeray', 'christians', 'pray', 'jesus', 'nationwide', 'flattened', 'downward', 'beginning', 'nagpur', 'along', 'three', 'whom', 'populations', 'american', 'hispanic', 'non', 'counterparts', 'kia', 'ora', 'partners', 'permitted', 'enter', 'centre', 'ensured', 'lowest', 'compared', 'several', 'union', 'urges', 'restriction', 'imposed', 'mix', 'seattle', 'season', 'lying', 'sidewalk', 'demands', 'funding', 'bail', 'pension', 'systems', 'failing', 'aren', 'anti', 'vaxxers', 'deciding', 'conditions', 'pretend', 'cured', 'migrated', 'backlogged', 'local', 'welsh', 'county', 'rhondda', 'cynon', 'taf', 'announces', 'algeria', 'outside', 'danger', 'regarding', 'vast', 'majority', 'students', 'st', 'dominic', 'casual', 'precaution', 'need', 'waiting', 'prime', 'boris', 'johnson', 'setting', 'priority', 'follow', 'live', 'updates', 'faces', 'questions', 'liaison', 'antibodies', 'produce', 'false', 'antibody', 'years', 'represent', 'few', 'man', 'beaten', 'deoria', 'broken', 'leg', 'photos', 'masses', 'fleeing', 'myanmar', 'thailand', 'particularly', 'worrisome', 'steep', 'findings', 'confirm', 'earlier', 'research', 'physician', 'employment', 'decade', 'ireland', 'entire', 'restrict', 'movements', 'felt', 'unwell', 'backdrop', 'videos', 'wild', 'animals', 'taking', 'roads', 'surfacing', 'internet', 'pictures', 'herd', 'deer', 'rounds', 'lake', 'club', 'chandigarh', 'friday', 'ny', 'pa', 'optimistic', 'point', 'left', 'chart', 'finding', 'suggests', 'mitigation', 'thank', 'extremely', 'insightful', 'trusted', 'websites', 'summary', 'really', 'touted', 'importance', 'vitamin', 'elderberry', 'broke', 'obviously', 'greater', 'however', 'stunning', 'united', 'exposed', 'sir', 'ganga', 'ram', 'directed', 'urself', 'implies', 'delhi', 'miserably', 'failed', 'administrative', 'responsibility', 'delhites', 'fate', 'sacked', 'lg', 'charge', 'agree', 'considered', 'imported', 'miq', 'joe', 'diffie', 'labeled', 'wasn', 'modeling', 'assumptions', 'assume', 'baseline', 'occupancy', 'beds', 'double', 'bame', 'potentially', 'saving', 'assessments', 'named', 'leslie', 'chow', 'discovered', 'though', 'remained', 'flat', 'regional', 'steady', 'scaled', 'processed', 'linked', 'urgent', 'plea', 'busy', 'e', 'rightmove', 'activity', 'aided', 'stamp', 'duty', 'demand', 'gardens', 'space', 'disrupts', 'anyone', 'flight', 'treated', 'isolated', 'until', 'negative', 'result', 'fairchild', 'frequency', 'comprehensiveness', 'ebonyi', 'taraba', 'tamilnadu', 'sep', 'coronaupdate', 'coronaupdatesindia', 'blame', 'll', 'pending', 'totals', 'down', 'erratically', 'tracking', 'broaden', 'grading', 'criteria', 'third', 'making', 'website', 'climbs', 'historic', 'low', 'exact', 'match', 'broadcast', 'rtve', 'map', 'spain', 'penis', 'size', 'regions', 'allegheny', 'diverse', 'planning', 'aaj', 'tak', 'chinese', 'reading', 'quran', 'namaz', 'forecasts', 'suggest', 'decrease', 'weeks', 'ending', 'sept', 'predict', 'developers', 'banks', 'tell', 'spent', 'share', 'eu', 'trillion', 'promises', 'viable', 'rehire', 'judith', 'mikovits', 'scientific', 'encyclopedia', 'viral', 'nancy', 'pelosi', 'c', 'renamed', 'honor', 'safely', 'clean', 'maintain', 'safe', 'distance', 'mar', 'lago', 'mikepence', 'maralago', 'kayleighmcenany', 'oxford', 'success', 'french', 'holding', 'denounce', 'violence', 'warns', 'consuming', 'cabbage', 'pronounced', 'example', 'ca', 'monday', 'tues', 'mon', 'outputs', 'complicated', 'know', 'strong', 'hits', 'especially', 'highlighted', 'red', 'below', 'spike', 'starting', 'tomorrow', 'bhopal', 'madhya', 'impose', 'city', 'wide', 'coronavirusfacts', 'saturday', 'thread', 'charts', 'diagnosing', 'whatsapp', 'forward', 'attributed', 'cnn', 'dr', 'li', 'wenliang', 'whistleblower', 'propaganda', 'documented', 'chemicals', 'methylxanthine', 'theobromine', 'theophylline', 'stimulate', 'compounds', 'least', 'performing', 'immune', 'debunking', 'hoaxes', 'travel', 'fast', 'clarification', 'detail', 'sharpest', 'observers', 'zino', 'livestream', 'released', 'pose', 'spreading', 'facts', 'opened', 'door', 'physicians', 'online', 'learning', 'medscape', 'finds', 'young', 'killed', 'hpv', 'cities', 'requiring', 'covering', 'leaving', 'materials', 'properly', 'amoxi', 'capsule', 'medicine', 'completely', 'egyptian', 'arrive', 'secret', 'charles', 'lieber', 'harvard', 'arrested', 'usa', 'manufacturing', 'selling', 'wcvb', 'tv', 'station', 'boston', 'massachusetts', 'mountain', 'matterhorn', 'switzerland', 'lit', 'colours', 'flag', 'token', 'gratitude', 'sending', 'azhar', 'imam', 'considering', 'exceptions', 'ramadan', 'fasting', 'mouth', 'kept', 'wet', 'japanese', 'created', 'wuhan', 'collapses', 'minutes', 'celebrities', 'janata', 'curfew', 'repeatedly', 'israel', 'zero', 'israeli', 'protected', 'themselves', 'drinking', 'hot', 'lemon', 'baking', 'soda', 'purportedly', 'kills', 'thus', 'proving', 'serious', 'road', 'actor', 'shah', 'rukh', 'khan', 'donated', 'money', 'pakistan', 'fight', 'russian', 'vladimir', 'putin', 'ordered', 'russia', 'jail', 'bed', 'rajasthan', 'barmer', 'leonardo', 'da', 'vinci', 'reference', 'fortaleza', 'brazil', 'proves', 'areas', 'inherited', 'ventilators', 'audio', 'unidentified', 'links', 'massive', 'campaign', 'bags', 'referred', 'reason', 'essential', 'mustard', 'oil', 'prevents', 'getting', 'telling', 'decide', 'elective', 'surgeries', 'won', 'eligible', 'receive', 'equipment', 'lead', 'claimed', 'saved', 'registered', 'affairs', 'publish', 'trying', 'abortion', 'combat', 'rebuking', 'foreigners', 'viewed', 'alongside', 'guinean', 'arrest', 'nationals', 'awaiting', 'guineans', 'earth', 'protesting', 'locked', 'kurnool', 'mla', 'hafeez', 'nurse', 'touch', 'feet', 'religious', 'head', 'viswabharathi', 'college', 'ineffective', 'homeopathic', 'oscillococcinum', 'protects', 'admitted', 'stats', 'notice', 'preparing', 'drugs', 'alumni', 'seoul', 'belgian', 'turn', 'director', 'proposed', 'tea', 'violating', 'gujarat', 'picture', 'quote', 'vincenzo', 'puro', 'allegedly', 'infect', 'lethal', 'hoax', 'prince', 'ayurvedic', 'superintendent', 'announcing', 'extension', 'lokckdown', 'infanta', 'sof', 'madrid', 'condition', 'talavera', 'de', 'reina', 'nigerian', 'import', 'supplies', 'riots', 'london', 'unavailability', 'items', 'kingdom', 'tonight', 'soldiers', 'streets', 'passed', 'instructions', 'followed', 'latvian', 'apturi', 'warn', 'locations', 'channel', 'aired', 'program', 'smoking', 'weed', 'tweeted', 'stock', 'market', 'economy', 'stronger', 'besides', 'inventions', 'judaism', 'olives', 'wonderful', 'bombed', 'peace', 'official', 'giulio', 'gallera', 'lies', 'provided', 'jo', 'doria', 'forbade', 'give', 'blog', 'policemen', 'picking', 'banknotes', 'sticks', 'linking', 'works', 'syncytial', 'rsv', 'cancer', 'somehow', 'six', 'pune', 'defeat', 'consume', 'alkaline', 'foods', 'above', 'ph', 'aamir', 'rs', 'poor', 'kg', 'wheat', 'flour', 'turkish', 'aytac', 'yalman', 'bakersfield', 'press', 'conference', 'affect', 'unrestrictive', 'controls', 'sweden', 'worked', 'vatican', 'assistants', 'herbal', 'malunggay', 'kamias', 'leaves', 'officers', 'immobilizing', 'screaming', 'caption', 'houses', 'minas', 'gerais', 'cuba', 'chinda', 'brandolino', 'origin', 'bogot', 'migrant', 'laborers', 'surat', 'sent', 'refused', 'ohio', 'gov', 'mike', 'dewine', 'prisoners', 'warning', 'crime', 'wave', 'g', 'federal', 'bureau', 'ties', 'purported', 'treatments', 'hundreds', 'remedies', 'dose', 'vitamins', 'sunlight', 'diet', 'catches', 'lifts', 'shirt', 'challenges', 'aa', 'officer', 'pointing', 'gun', 'him', 'kicks', 'pins', 'makes', 'text', 'overlaid', 'reads', 'mean', 'associated', 'peaked', 'twice', 'bananas', 'vincent', 'sorry', 'issues', 'please', 'email', 'query', 'feedback', 'tracingapp', 'focused', 'containment', 'resulted', 'percentage', 'steadily', 'falling', 'xi', 'jinping', 'visited', 'masjid', 'request', 'dua', 'present', 'representative', 'sara', 'cunial', 'tells', 'truth', 'experiment', 'circulating', 'kins', 'insurance', 'pradhan', 'mantri', 'jeevan', 'jyoti', 'bima', 'yojana', 'pmjjby', 'suraksha', 'pmsby', 'whether', 'activ', 'bilateral', 'deals', 'nationalism', 'compromise', 'hold', 'nevada', 'quietly', 'reversed', 'decision', 'block', 'hcq', 'prescriptions', 'saw', 'horrible', 'stayhome', 'stayathome', 'nyclockdown', 'fridayfeeling', 'knowledge', 'conjecture', 'alt', 'organic', 'dk', 'greens', 'protein', 'exercise', 'ho', 'sodium', 'bicarbonate', 'iodine', 'my', 'greatest', 'remember', 'incident', 'zomato', 'deepinder', 'big', 'deal', 'someone', 'refusing', 'delivery', 'muslim', 'guy', 'incidents', 'trust', 'eat', 'contaminated', 'spit', 'international', 'entity', 'sole', 'global', 'pandemics', 'miss', 'groundbreaking', 'way', 'pool', 'r', 'procurement', 'enables', 'collect', 'puts', 'facemask', 'skin', 'yours', 'volumes', 'regularly', 'observed', 'weekends', 'healthline', 'reimposing', 'aside', 'compassionate', 'exemptions', 'reminder', 'spoken', 'scared', 'both', 'picked', 'returned', 'collaborative', 'determined', 'simpsons', 'predicted', 'swasthabharat', 'telemedicine', 'service', 'completes', 'consultations', 'conducted', 'bollywood', 'aishwarya', 'rai', 'host', 'telethon', 'auction', 'numerous', 'outbreaks', 'cruise', 'ship', 'voyages', 'extended', 'previous', 'sail', 'crew', 'onboard', 'missing', 'private', 'hurt', 'widespread', 'west', 'europe', 'interventions', 'impacted', 'epidemic', 'outlets', 'khargone', 'wise', 'information', 'includi', 'tunisian', 'qais', 'dispatch', 'delegation', 'coved', 'observation', 'hit', 'tb', 'banned', 'worst', 'otherwise', 'malarial', 'ivermectin', 'routinely', 'sure', 'covidscience', 'amazonas', 'drop', 'reproduction', 'following', 'net', 'race', 'ethnicity', 'info', 'counties', 'disproportionately', 'recital', 'verses', 'affordable', 'required', 'andaman', 'nicobar', 'islands', 'east', 'prices', 'ibuprofen', 'worse', 'row', 'crore', 'nd', 'jan', 'mapped', 'genome', 'rapidly', 'building', 'pcr', 'partner', 'contracting', 'validated', 'production', 'vila', 'formosa', 'cemitery', 'opening', 'graves', 'panic', 'burials', 'highlights', 'lakhs', 'declining', 'assessment', 'prevention', 'estimated', 'slowing', 'prevented', 'thousand', 'mixed', 'thought', 'statistics', 'registrations', 'tracer', 'recorded', 'iranians', 'saying', 'biological', 'warfare', 'canada', 'bdsm', 'leash', 'tight', 'leather', 'cdnpoli', 'god', 'admission', 'bioweapon', 'disparities', 'alaska', 'native', 'suffered', 'disproportionate', 'burden', 'resources', 'tribal', 'plandemic', 'manipulated', 'families', 'wearing', 'activates', 'yorkshire', 'unfortunately', 'method', 'closer', 'bonus', 'whitepaper', 'generated', 'range', 'specimen', 'values', 'reese', 'witherspoon', 'julia', 'roberts', 'mila', 'kunis', 'marriages', 'suffering', 'criminal', 'inquiry', 'allegations', 'maternity', 'standards', 'nhs', 'wisconsin', 'tony', 'evers', 'deemed', 'dentists', 'phe', 'yvonne', 'doyle', 'risky', 'encourages', 'invited', 'fourteen', 'fifty', 'seven', 'aiims', 'institute', 'toddy', 'medicinal', 'properties', 'infectivity', 'starts', 'prior', 'lasts', 'extent', 'role', 'played', 'journal', 'nature', 'researchers', 'vero', 'cells', 'express', 'tmprss', 'suggested', 'drug', 'might', 'difficult', 'interpret', 'metric', 'consider', 'such', 'papad', 'reconsiders', 'airborne', 'depressing', 'motivating', 'respect', 'mr', 'ratan', 'tata', 'inexplicable', 'caveats', 'psychiatrist', 'fears', 'sorting', 'serosorting', 'aids', 'sexual', 'tuberculosis', 'centers', 'applied', 'illegal', 'patent', 'facemasks', 'exercising', 'sweat', 'damp', 'ability', 'comfortably', 'kindly', 'else', 'workout', 'term', 'air', 'pollution', 'color', 'income', 'pleased', 'announce', 'inclusion', 'sani', 'abacha', 'specialist', 'yobe', 'ncdc', 'molecular', 'network', 'ncdclabnetwork', 'takeresponsibility', 'circulates', 'hacks', 'cell', 'phone', 'seconds', 'occurred', 'tolls', 'worker', 'front', 'lines', 'deserves', 'accommodations', 'glad', 'stepping', 'folks', 'employers', 'move', 'fed', 'cut', 'interest', 'heavily', 'indebted', 'pays', 'bereaved', 'victims', 'extensive', 'sufficient', 'reduces', 'severity', 'protocol', 'france', 'immediately', 'vit', 'deficiency', 'chronic', 'loss', 'taste', 'added', 'enjoyed', 'mrs', 'brown', 'boys', 'noting', 'actually', 'arizona', 'colombia', 'inhabitant', 'america', 'trip', 'essentials', 'vacation', 'tipsadvice', 'roadtrips', 'takes', 'spiky', 'vulnerable', 'overwhelmed', 'surprised', 'kirklandwa', 'putting', 'habits', 'washing', 'staying', 'banner', 'swastika', 'pence', 'michigan', 'protest', 'concerned', 'consult', 'tool', 'w', 'stranded', 'italians', 'coping', 'pressures', 'mistakes', 'house', 'ebola', 'originated', 'bats', 'answer', 'originate', 'john', 'lewis', 'axes', 'slumps', 'totally', 'confused', 'allowed', 'battle', 'myths', 'takeaway', 'vary', 'methods', 'entirely', 'translate', 'indonesian', 'hadio', 'ali', 'watching', 'bids', 'final', 'goodbye', 'wife', 'giving', 'doors', 'edward', 'argar', 'explains', 'additional', 'upgrade', 'es', 'schedules', 'sale', 'milk', 'newspapers', 'grocery', 'stores', 'issued', 'commissioner', 'bayelsa', 'warned', 'ticking', 'bomb', 'pediatric', 'jumped', 'aggressive', 'tracing', 'mechanism', 'employed', 'goi', 'diagnosis', 'mortalityrate', 'variation', 'territories', 'fascinating', 'dc', 'probables', 'delaware', 'meanwhile', 'comparable', 'count', 'goodnight', 'limited', 'intervention', 'mixing', 'aspirin', 'paracetamol', 'honey', 'cures', 'wichita', 'kansas', 'chairman', 'republican', 'dana', 'meaney', 'delman', 'responses', 'zika', 'experience', 'sees', 'unprecedented', 'surge', 'recover', 'abia', 'newyork', 'green', 'contain', 'contacttracers', 'hired', 'testament', 'tens', 'nci', 'eha', 'departament', 'guaviare', 'appears', 'situations', 'limit', 'pets', 'feeling', 'sao', 'sinovac', 'biotech', 'iranian', 'islamic', 'camel', 'iran', 'arab', 'persons', 'transmit', 'coordinated', 'focusing', 'identification', 'sliding', 'cfr', 'alexandria', 'ocasio', 'cortez', 'governors', 'businesses', 'elections', 'economic', 'elected', 'business', 'closures', 'losses', 'price', 'pay', 'presidency', 'keepusclosed', 'stadium', 'converted', 'graveyard', 'scenes', 'ongoing', 'studies', 'remdesivir', 'manufacturer', 'bollywoof', 'anonymously', 'slum', 'coronawatch', 'intubated', 'explode', 'conducts', 'enable', 'diagnose', 'facilitate', 'seamless', 'hospitalisation', 'eventually', 'leads', 'comprehensive', 'ccc', 'target', 'sometime', 'contagious', 'room', 'improved', 'started', 'moved', 'addressing', 'nation', 'mahinda', 'rajapaksa', 'opposition', 'supplementary', 'budget', 'proposal', 'relief', 'hence', 'reconvening', 'carriers', 'catching', 'magickly', 'gunsupplies', 'cached', 'cn', 'tw', 'waters', 'airspace', 'rioting', 'dieing', 'confirming', 'figures', 'ma', 'instructive', 'wednesday', 'bad', 'positives', 'executive', 'tesco', 'dave', 'buy', 'normal', 'amid', 'buying', 'watford', 'mouthwash', 'alabama', 'town', 'fights', 'pan', 'demic', 'kitchen', 'warnings', 'summarizes', 'exhibited', 'cleared', 'monitoring', 'mp', 'shashi', 'tharoor', 'praised', 'ldf', 'kerala', 'actors', 'staging', 'fake', 'tough', 'enforce', 'mayor', 'liverpool', 'anderson', 'difficulties', 'enforcing', 'rules', 'merseyside', 'recovering', 'moderate', 'crossed', 'transmitted', 'goods', 'sometimes', 'seek', 'acute', 'creates', 'residual', 'examples', 'stand', 'figure', 'amongst', 'faring', 'terms', 'shot', 'standard', 'approach', 'led', 'lesser', 'combination', 'blamed', 'barack', 'supermarket', 'australia', 'clings', 'reasserting', 'itself', 'hopes', 'politicians', 'rest', 'humanity', 'api', 'users', 'beware', 'caveat', 'removed', 'factcheck', 'fakenews', 'emerging', 'factchecking', 'frustrating', 'counting', 'begun', 'attempt', 'resolve', 'individual', 'memorandum', 'financial', 'agreement', 'pick', 'tab', 'provision', 'criticized', 'struggle', 'financially', 'maine', 'headroom', 'enough', 'absorb', 'voices', 'portions', 'terrible', 'improvements', 'backlog', 'parts', 'midlands', 'fda', 'lock', 'ashamed', 'gujarati', 'flying', 'flame', 'force', 'dma', 'moderna', 'disappointing', 'reviewing', 'meet', 'statutory', 'authorization', 'unlikely', 'susceptibility', 'activated', 'medica', 'genexpert', 'birnin', 'kebbi', 'virology', 'center', 'plasvirec', 'pastor', 'dettol', 'drink', 'church', 'vegetarian', 'sanatan', 'dharmis', 'little', 'enjoy', 'condom', 'sales', 'condoms', 'factory', 'prophylactics', 'anything', 'offence', 'messaging', 'apps', 'hospitality', 'stocks', 'dolphins', 'swans', 'venice', 'canals', 'debunked', 'newsletter', 'datoscoronavirus', 'substances', 'answers', 'options', 'substance', 'disorder', 'detect', 'identifying', 'isolating', 'resorting', 'lockdowns', 'popped', 'positivity', 'neil', 'diamond', 'altering', 'words', 'sweet', 'caroline', 'neilyoung', 'sop', 'partial', 'reopening', 'classes', 'voluntary', 'basis', 'taki', 'default', 'logic', 'rather', 'ground', 'buckets', 'create', 'strain', 'ppe', 'caution', 'chicago', 'wales', 'fires', 'racing', 'tribute', 'bharat', 'vice', 'trial', 'covaxin', 'covaxine', 'bowl', 'freshly', 'boiled', 'garlic', 'worried', 'arsenicum', 'area', 'feelbetter', 'founder', 'square', 'prophesied', 'plague', 'bars', 'shut', 'thoughts', 'nejm', 'retractions', 'fox', 'employees', 'nancypelosi', 'fastest', 'western', 'classified', 'globo', 'images', 'collective', 'shipwreck', 'lampedusa', 'illustrate', 'story', 'hi', 'friends', 'hooked', 'smile', 'ur', 'friendship', 'ull', 'seriously', 'luv', 'guys', 'aisha', 'inna', 'lillahi', 'wa', 'ilaihi', 'rajeoon', 'avoiding', 'drinks', 'baths', 'sweets', 'turmeric', 'cheap', 'handy', 'homemade', 'rasam', 'archived', 'surprising', 'creep', 'improves', 'weibo', 'delivering', 'boxes', 'publicity', 'stunt', 'gained', 'traction', 'jimmy', 'kimmel', 'hosted', 'comedian', 'triggers', 'chemtrails', 'chemical', 'trails', 'lung', 'add', 'school', 'schedule', 'delay', 'matt', 'hancock', 'payments', 'incomes', 'pentagon', 'qr', 'posters', 'displayed', 'represents', 'retail', 'venues', 'climb', 'doubled', 'erscongress', 'dissect', 'debate', 'value', 'detriment', 'prescribing', 'antihistamines', 'organisation', 'reach', 'pain', 'matters', 'victoria', 'protests', 'qanda', 'devastating', 'societies', 'whole', 'resort', 'travelled', 'afghanistan', 'dubai', 'arrived', 'ek', 'tourists', 'bubble', 'reimposed', 'transmissions', 'elderly', 'inside', 'morgue', 'rescued', 'relatives', 'capita', 'colorado', 'rhode', 'island', 'jersey', 'dakota', 'hampshire', 'isn', 'leadership', 'mha', 'guidelines', 'unlock', 'opens', 'zones', 'strict', 'enforcement', 'promised', 'jobs', 'policies', 'crushed', 'sector', 'revitalize', 'innovation', 'build', 'shortage', 'fiction', 'mystery', 'cr', 'continuous', 'pegged', 'series', 'line', 'issue', 'scary', 'terrifying', 'drone', 'footage', 'quicktake', 'suspect', 'hazipur', 'prison', 'log', 'profile', 'optimization', 'personal', 'raided', 'dominates', 'noted', 'symptomatic', 'neem', 'powder', 'allah', 'blessed', 'coronavacccine', 'scientist', 'epidemiologist', 'ioannidis', 'controversial', 'position', 'dps', 'charging', 'rupees', 'unfortunate', 'cost', 'pandamic', 'kill', 'jurisdictions', 'lisa', 'danzig', 'surgical', 'facing', 'outwards', 'blue', 'germs', 'covidpakistan', 'coronavirusupdate', 'circuit', 'happen', 'ellie', 'weighed', 'fema', 'podcast', 'wearable', 'tech', 'ai', 'converge', 'lions', 'corpse', 'belongs', 'incinerated', 'wakes', 'memorial', 'respects', 'georgian', 'gamkrelidze', 'dismissal', 'suggesting', 'trn', 'oecd', 'detroit', 'obscure', 'impact', 'simply', 'institutes', 'epic', 'ass', 'corporations', 'concentrated', 'chhattisgarh', 'odisha', 'telangana', 'quarter', 'korea', 'analyse', 'traveller', 'upon', 'princess', 'cruises', 'navy', 'bath', 'perfect', 'fatal', 'mainbhinewschecker', 'selecting', 'choices', 'particles', 'escape', 'intended', 'attacks', 'spot', 'differe', 'slack', 'channels', 'types', 'clusters', 'closed', 'hereford', 'golf', 'courses', 'shenzhen', 'instuctions', 'locating', 'encourage', 'gave', 'wanted', 'quit', 'council', 'departments', 'understand', 'pregnancy', 'mother', 'infant', 'donations', 'kamala', 'harris', 'sister', 'lupus', 'supporting', 'candidate', 'successful', 'discussions', 'promising', 'sokoto', 'unseat', 'slight', 'drift', 'nj', 'ct', 'practicing', 'maintaining', 'physical', 'metres', 'bolton', 'offered', 'inverness', 'sky', 'hotspots', 'frustrations', 'nipah', 'deadlier', 'ethiopia', 'tom', 'hanks', 'volleyball', 'quarantined', 'burglars', 'suffer', 'crash', 'criminals', 'appeal', 'crook', 'breakin', 'goingbust', 'gavin', 'newsom', 'vacationing', 'stevensville', 'discuss', 'actions', 'prot', 'rooms', 'mail', 'vote', 'santo', 'andr', 'autopsy', 'realised', 'bacterium', 'amplified', 'electromagnetic', 'radiation', 'produces', 'inflammation', 'hypoxia', 'pie', 'categories', 'enters', 'ministries', 'yellow', 'suit', 'process', 'stopping', 'keeping', 'commodities', 'ensuring', 'decontamination', 'lags', 'improvement', 'initiation', 'senate', 'allocate', 'toilet', 'industry', 'chiquita', 'abba', 'dressed', 'gown', 'run', 'jumping', 'wall', 'gone', 'heal', 'wound', 'assured', 'connect', 'decided', 'floor', 'benefit', 'labour', 'rights', 'withdraw', 'benefits', 'britain', 'prayer', 'cloths', 'moneylaundering', 'televangelist', 'eases', 'gay', 'donors', 'unless', 'lgbtquarantine', 'republicans', 'promise', 'theirs', 'panels', 'coronavirususa', 'notdyingwallstreet', 'newsinphoto', 'enrollment', 'release', 'evaluated', 'concordance', 'recommended', 'ce', 'certified', 'cosara', 'falls', 'category', 'therefore', 'special', 'approval', 'thrombosis', 'moreover', 'bacteria', 'influence', 'waves', 'thirds', 'globally', 'narendra', 'ministers', 'tally', 'mark', 'mama', 'limes', 'bobby', 'boucher', 'newssatire', 'cornoavirus', 'warded', 'couch', 'v', 'reopeningsafely', 'metrics', 'trends', 'luque', 'cemetery', 'paraguayan', 'capital', 'asunci', 'lists', 'ramnavmi', 'celebrations', 'akbarpur', 'bash', 'tabligi', 'jamat', 'nizamuddin', 'makraz', 'chain', 'vall', 'hebron', 'barcelona', 'crispr', 'ind', 'genomics', 'integrative', 'biology', 'indigenously', 'technology', 'detection', 'genomic', 'sequence', 'sarscov', 'advice', 'mobile', 'promote', 'mile', 'rural', 'inaccessible', 'restaurants', 'pubs', 'oct', 'tourism', 'arkansas', 'noticeable', 'uptick', 'backfilled', 'challenge', 'century', 'fami', 'reminds', 'clinic', 'swabs', 'taken', 'eased', 'depend', 'takerespinsibility', 'indicate', 'revised', 'discharge', 'specifies', 'throwing', 'nasser', 'ziberi', 'guidance', 'clinicians', 'consumer', 'agency', 'japan', 'advertisement', 'boasting', 'preventing', 'disinfection', 'card', 'bengal', 'kolkata', 'metro', 'rail', 'authority', 'decides', 'compliance', 'operati', 'ncdcinthenews', 'abuja', 'selected', 'sequencing', 'continent', 'goodness', 'somendfindout', 'mny', 'cointrirs', 'wth', 'strongest', 'intel', 'agencies', 'cudnt', 'cheated', 'bacterial', 'verified', 'infodemic', 'disharmony', 'society', 'verify', 'sharing', 'forget', 'receiver', 'preceding', 'hour', 'breath', 'coughing', 'difficulty', 'breathing', 'indicates', 'absence', 'ease', 'critical', 'adhere', 'preventcovid', 'ban', 'gatherings', 'restricted', 'discussion', 'feels', 'faster', 'dissented', 'everything', 'reminded', 'strategic', 'roll', 'stockpile', 'toiletrollhorders', 'strategicreserve', 'path', 'hurricanelaura', 'evacuation', 'routes', 'location', 'shelters', 'laura', 'dexamethasone', 'exper', 'training', 'comms', 'ipc', 'personnel', 'poll', 'readers', 'nicola', 'sturgeon', 'urged', 'cobra', 'cobr', 'odds', 'virginia', 'nursing', 'homes', 'x', 'rated', 'depts', 'cms', 'ratings', 'identify', 'patna', 'bhagalpur', 'nalanda', 'snakes', 'wildfire', 'strapped', 'eds', 'renata', 'vasconcellos', 'famous', 'anchor', 'irish', 'organisations', 'organising', 'moment', 'applause', 'praise', 'handling', 'correspond', 'dermatologic', 'patterns', 'exist', 'surpasses', 'worldwide', 'hopkins', 'lodges', 'eight', 'bastards', 'adoption', 'heartwarming', 'contradictions', 'absent', 'consistent', 'epidemiological', 'dosing', 'cargo', 'cult', 'sailed', 'ran', 'aground', 'clever', 'investigators', 'quickly', 'switched', 'magic', 'vitamind', 'accompanying', 'bodies', 'jointly', 'allowances', 'members', 'hugging', 'laminar', 'airflow', 'meghan', 'markle', 'birthday', 'communal', 'mosque', 'deceived', 'punished', 'sex', 'bat', 'rolling', 'moves', 'mid', 'rizwan', 'tanda', 'hungry', 'biscuits', 'domestic', 'orangutan', 'animal', 'imitating', 'zookeepers', 'thane', 'proven', 'officials', 'advise', 'dialysis', 'hasn', 'authorities', 'guatemalan', 'respirators', 'talk', 'type', 'passenger', 'trains', 'cancelled', 'railway', 'cancellation', 'suburban', 'wake', 'unicef', 'nor', 'family', 'oklahoma', 'risen', 'consistently', 'adhering', 'necessary', 'horny', 'ferguson', 'operate', 'carbon', 'toxicity', 'instead', 'called', 'zinc', 'zithromax', 'hello', 'crosses', 'landmark', 'conducting', 'adamawa', 'spitting', 'bread', 'slices', 'spin', 'responding', 'continuity', 'dental', 'partially', 'disrupted', 'politicized', 'hydroxy', 'murder', 'arresting', 'municipalities', 'earn', 'difference', 'welcome', 'annual', 'vaccinate', 'tear', 'gas', 'probably', 'play', 'nonetheless', 'reverse', 'regular', 'class', 'unlocking', 'resumption', 'bhutan', 'thanks', 'elimination', 'stamping', 'anytime', 'comes', 'together', 'demonstrated', 'exponential', 'highe', 'workplaces', 'comparison', 'implement', 'enhance', 'coronaoutbreak', 'sensationalize', 'begum', 'driver', 'imran', 'uncle', 'angela', 'rayner', 'asks', 'explain', 'pmqs', 'unlockguidelines', 'transport', 'measure', 'liable', 'legal', 'regulations', 'specified', 'witnesses', 'ages', 'account', 'protecting', 'rio', 'janeiro', 'monthly', 'allowance', 'brl', 'inmates', 'convicted', 'supreme', 'court', 'ruled', 'voting', 'lt', 'immunity', 'pre', 'mobility', 'resurgence', 'enhanced', 'needed', 'exports', 'progressively', 'maintained', 'aim', 'achieve', 'start', 'loved', 'prepared', 'travellers', 'presidential', 'herman', 'cain', 'dies', 'collecting', 'fundamental', 'understanding', 'underserves', 'latinx', 'overlapping', 'distinct', 'barriers', 'fauci', 'launches', 'importanttesting', 'grants', 'visa', 'therapeutics', 'therapy', 'therapeutic', 'arm', 'roadmap', 'initiative', 'delivered', 'disadvantaged', 'cartel', 'heroin', 'stimulus', 'package', 'dry', 'trouble', 'patented', 'reveals', 'wearers', 'freely', 'sanitize', 'digestive', 'ncdcwer', 'focuses', 'absolute', 'greg', 'mortimer', 'uruguay', 'margaret', 'expecting', 'rethink', 'screenings', 'league', 'baseball', 'tearing', 'infested', 'marlins', 'park', 'chariot', 'kalabari', 'releasing', 'bjp', 'ignored', 'teen', 'socialdistancing', 'fairly', 'efficiently', 'everybody', 'cremated', 'begins', 'sequel', 'movies', 'hume', 'bear', 'leaver', 'vaporium', 'tucker', 'paddy', 'cooper', 'depends', 'hayfever', 'younger', 'nowadays', 'basic', 'tablets', 'pollen', 'dosn', 'discomfort', 'harmless', 'sends', 'ish', 'conclusive', 'downside', 'afaik', 'northern', 'latitudes', 'winter', 'anyways', 'brexit', 'rubber', 'mussels', 'uneven', 'gon', 'na', 'statement', 'capturing', 'dominate', 'funded', 'creatical', 'gretchen', 'whitmer', 'abbreviation', 'stopped', 'meanings', 'convention', 'nears', 'round', 'slowthespread', 'deformities', 'exactly', 'endemic', 'pangolins', 'eating', 'inhalation', 'dried', 'droppings', 'markets', 'classic', 'vector', 'advisory', 'appropriate', 'fair', 'allocation', 'rolled', 'phases', 'imposes', 'bangalore', 'ply', 'reopens', 'hurricane', 'accounts', 'labourers', 'reused', 'priorities', 'collaboration', 'expertise', 'engagements', 'stakeholders', 'gains', 'wellbeing', 'stays', 'drifting', 'slightly', 'thursday', 'briefing', 'messonnier', 'speech', 'rnc', 'pointed', 'secure', 'borders', 'elect', 'checked', 'pigeon', 'membrane', 'criminalized', 'cv', 'quarantining', 'adds', 'transferred', 'ghana', 'distribution', 'rwanda', 'serves', 'warrant', 'senator', 'richard', 'burr', 'burrgate', 'gifted', 'satire', 'fauxy', 'misleading', 'holy', 'colors', 'fatigue', 'obesity', 'factor', 'roopa', 'ips', 'surya', 'sudhakar', 'ias', 'dont', 'wasting', 'whoever', 'thinks', 'seriousness', 'let', 'bbmp', 'crematoriums', 'decent', 'quick', 'cremation', 'yes', 'fantastic', 'send', 'kentucky', 'overloaded', 'relaxed', 'potential', 'overwhelming', 'everyday', 'subjects', 'olympics', 'postponement', 'messed', 'cheats', 'careful', 'cheating', 'olympicgames', 'attempts', 'outlawing', 'worship', 'deity', 'association', 'tops', 'critics', 'surpass', 'coupled', 'salary', 'communicate', 'language', 'asl', 'streaming', 'brandon', 'compatibility', 'alarming', 'signed', 'claire', 'magne', 'friend', 'extra', 'beef', 'peppers', 'onions', 'rice', 'foodshortages', 'dominant', 'fainted', 'mistreating', 'denied', 'confounding', 'presumptive', 'lumping', 'messy', 'recipe', 'genuine', 'punch', 'hopefully', 'echinacea', 'mass', 'dam', 'nothing', 'wondering', 'summer', 'maskingforafriend', 'impossible', 'calculate', 'believed', 'consumption', 'soup', 'men', 'shave', 'beards', 'settle', 'naaaa', 'hadn', 'hiccups', 'helpful', 'compiled', 'scream', 'window', 'frustration', 'politics', 'ambiguous', 'mps', 'cuban', 'corticosteroids', 'interview', 'describes', 'procedure', 'beard', 'sheep', 'surrender', 'latin', 'homeisolation', 'saturation', 'attention', 'arrives', 'consensus', 'wait', 'reopen', 'decreased', 'steroid', 'reduced', 'permanent', 'considers', 'european', 'judge', 'ruth', 'bader', 'ginsburg', 'larger', 'thorough', 'adequately', 'disinfected', 'fit', 'occupation', 'steam', 'kettle', 'gargles', 'balancing', 'liberty', 'sensible', 'compromising', 'discarded', 'decree', 'ingredient', 'germany', 'luxembourg', 'switzer', 'except', 'cm', 'shivraj', 'singh', 'chouhan', 'jair', 'bolsonaro', 'exiting', 'changing', 'killing', 'celebrates', 'keg', 'stpatricksday', 'lockdownontario', 'stripper', 'contracts', 'suicidal', 'seeks', 'viennetta', 'accompanies', 'wept', 'recognized', 'losing', 'lifted', 'weddings', 'tangihanga', 'funerals', 'jimz', 'dallas', 'h', 'revision', 'registers', 'ignore', 'weak', 'thrown', 'useless', 'needy', 'lesson', 'congregation', 'retested', 'comply', 'melinda', 'divorced', 'husband', 'wanting', 'destroy', 'f', 'andy', 'beshear', 'authorized', 'teachers', 'visits', 'parental', 'inspect', 'bedroom', 'enrolled', 'candidates', 'producers', 'overdoses', 'exam', 'consortium', 'engineering', 'colleges', 'graduate', 'entrance', 'comedk', 'admited', 'forever', 'elevated', 'join', 'connection', 'webinar', 'reducing', 'engaging', 'celebrating', 'fourth', 'webinars', 'pattern', 'guests', 'hotel', 'entered', 'departed', 'augmenting', 'shifts', 'britons', 'wane', 'sage', 'averages', 'oregon', 'premier', 'inn', 'owner', 'whitbread', 'diabetes', 'imperial', 'pretty', 'goodwill', 'industries', 'fired', 'randomized', 'controlled', 'newhampshire', 'appoints', 'foremost', 'watchlist', 'firmly', 'prompt', 'routed', 'hhs', 'compilation', 'mh', 'concern', 'gj', 'dl', 'tn', 'rj', 'belated', 'wisdom', 'infrastructure', 'circumcisions', 'flags', 'yen', 'vic', 'branch', 'taiwan', 'approaches', 'overcrowded', 'shramik', 'train', 'travelling', 'chancellor', 'merkel', 'knew', 'aged', 'eradicated', 'morons', 'requesting', 'largest', 'portfolio', 'gender', 'male', 'females', 'satellite', 'towns', 'unable', 'foundation', 'headquarters', 'reduction', 'crowd', 'rally', 'berlin', 'confidence', 'edged', 'las', 'vegas', 'knock', 'power', 'census', 'cvd', 'testers', 'robbing', 'gunpoint', 'myself', 'colloidal', 'silver', 'word', 'liquid', 'antibiotic', 'msg', 'happy', 'greet', 'survivers', 'azimpremji', 'truly', 'inspirational', 'forces', 'scenery', 'sea', 'chandrabhaga', 'puri', 'konark', 'marine', 'drive', 'bbc', 'replaces', 'nichola', 'briefings', 'jamie', 'oliver', 'curried', 'haggis', 'arrangements', 'investigated', 'rotorua', 'meantime', 'jet', 'survive', 'outpaced', 'downturn', 'complexity', 'lump', 'biden', 'invoking', 'defense', 'marie', 'root', 'complications', 'surprise', 'pharma', 'finances', 'comorbidities', 'coronavac', 'cansino', 'ad', 'ncov', 'unnamed', 'inactive', 'sinopharm', 'bbibp', 'corv', 'gam', 'vac', 'sputnik', 'covered', 'steps', 'unaffected', 'completing', 'barely', 'clarified', 'pib', 'covers', 'broader', 'dynamics', 'observing', 'sneezes', 'coughs', 'maskonnaija', 'wearafacemask', 'observe', 'frequently', 'engaged', 'stroke', 'heartattacks', 'strokes', 'psa', 'eme', 'cindy', 'mccain', 'endorses', 'foxnews', 'widow', 'distinguished', 'affiliate', 'deep', 'adversary', 'ccp', 'soil', 'wing', 'extremists', 'libertarians', 'evangelicals', 'built', 'quebec', 'cbc', 'thirties', 'grand', 'millennium', 'tanzanian', 'spokesman', 'haji', 'manara', 'tour', 'netherlands', 'took', 'platforms', 'p', 'dog', 'hong', 'kong', 'ash', 'binaxnow', 'abbott', 'min', 'chanel', 'perfume', 'amor', 'avec', 'aphrodisiac', 'terrorism', 'labor', 'hazard', 'qualified', 'grow', 'ordinary', 'breached', 'salaries', 'proportional', 'certificates', 'afoolat', 'revolutionnow', 'octstprotest', 'yourviewtv', 'travolta', 'hollywood', 'saturdaynightfever', 'opportunities', 'avg', 'reinforcing', 'concerning', 'unethical', 'sufferers', 'recognition', 'protestors', 'google', 'crores', 'pharmaceutical', 'patanjali', 'coronil', 'produced', 'frontline', 'hypochondriac', 'guide', 'convincing', 'portion', 'performed', 'ton', 'grown', 'depression', 'anthony', 'carried', 'deployment', 'towers', 'extreme', 'signal', 'chip', 'immunize', 'lose', 'privacy', 'bank', 'aware', 'governments', 'fails', 'distinguish', 'teens', 'mentioned', 'intermediate', 'zoology', 'book', 'happens', 'books', 'mostly', 'shame', 'burqa', 'clad', 'kit', 'distributed', 'singing', 'madonna', 'katy', 'perry', 'britney', 'spears', 'aya', 'nakamura', 'songs', 'balcony', 'damn', 'accunalysis', 'diagnostic', 'faqs', 'diagnostics', 'asking', 'bribe', 'migrants', 'walking', 'tracks', 'unveils', 'cocaine', 'tickets', 'mine', 'ticketdebit', 'refund', 'deduction', 'scam', 'raab', 'airports', 'quitting', 'ten', 'attitudes', 'indians', 'iit', 'hrd', 'ramesh', 'pokhriyal', 'mihigo', 'insight', 'historical', 'articles', 'participant', 'turns', 'alive', 'checkers', 'misinfo', 'purchasing', 'car', 'seat', 'spurred', 'surpassed', 'doublingrate', 'offices', 'ers', 'nationally', 'misdiagnosed', 'pneumonia', 'kalka', 'basics', 'birds', 'style', 'virgin', 'fucked', 'ranges', 'fits', 'snugly', 'reaches', 'chin', 'nostrils', 'featuring', 'charged', 'genocide', 'cornwall', 'forefront', 'maybe', 'manisha', 'patil', 'filming', 'spanish', 'stating', 'assisting', 'calibrated', 'umbrella', 'timely', 'push', 'revealed', 'palm', 'spoonful', 'plz', 'urgently', 'love', 'amish', 'hart', 'contend', 'idea', 'predicting', 'occurring', 'faucian', 'bargain', 'dilemma', 'thedevil', 'uganda', 'postponed', 'crying', 'explanation', 'decreasing', 'plots', 'ginger', 'knowthefacts', 'factsnotfears', 'ochu', 'referrals', 'cry', 'suicide', 'roof', 'lockdownnow', 'coronaviruslockdown', 'curfewinindia', 'stayathomesavelives', 'lockdownquery', 'modicovidaddress', 'hantavirus', 'short', 'resembling', 'admissions', 'usage', 'newjersey', 'indicating', 'preparedness', 'meets', 'exceeds', 'documents', 'topics', 'caring', 'healthworkers', 'swath', 'valley', 'brownsville', 'identifies', 'distress', 'models', 'forecast', 'notre', 'dame', 'traced', 'nortedame', 'rides', 'commensurate', 'proportion', 'rashtriya', 'swayamsevak', 'sangh', 'rss', 'aurangabad', 'filing', 'lawsuit', 'honoured', 'hon', 'ble', 'war', 'footing', 'granted', 'exemption', 'grieve', 'agreed', 'application', 'crowded', 'toys', 'ranking', 'ramped', 'hugely', 'ambitious', 'achievable', 'targets', 'co', 'farts', 'farting', 'tacobell', 'mississippi', 'restaurant', 'bar', 'owners', 'customers', 'informs', 'protocols', 'netflix', 'documentary', 'tiger', 'king', 'popularity', 'rumour', 'protagonists', 'demanded', 'wage', 'brace', 'feared', 'deputy', 'leader', 'joins', 'meteorologist', 'wildfires', 'fanned', 'october', 'allies', 'venezuela', 'charter', 'christchurch', 'closest', 'rudimentary', 'dozens', 'pause', 'smooth', 'workflows', 'plug', 'gym', 'shape', 'modeller', 'economist', 'tackling', 'qs', 'resp', 'manufactured', 'later', 'applauded', 'macron', 'pantin', 'paris', 'pacaembu', 'dean', 'biologists', 'euskadi', 'kidney', 'freefall', 'seekers', 'threw', 'fish', 'tank', 'additive', 'alleged', 'tweet', 'heleno', 'institutional', 'security', 'sort', 'interior', 'easily', 'always', 'clothes', 'beijing', 'shipping', 'ceo', 'drew', 'comparing', 'highlighting', 'indirectly', 'talked', 'waited', 'swine', 'demanding', 'helpless', 'tijuana', 'nap', 'mannequin', 'wheeled', 'coverup', 'zanzibar', 'chicken', 'notes', 'industrialist', 'downfall', 'fibrosis', 'english', 'describing', 'sickness', 'senegalese', 'senegal', 'universitario', 'santa', 'luc', 'cartagena', 'murcia', 'resign', 'critically', 'avian', 'mers', 'kothapet', 'hyderabad', 'admins', 'requested', 'microsoft', 'priyanka', 'gandhi', 'buses', 'saddam', 'hussein', 'nineties', 'threatened', 'command', 'apologising', 'document', 'talks', 'wine', 'undergo', 'caesarean', 'section', 'entitled', 'usd', 'anyway', 'worry', 'bit', 'wrinkle', 'lots', 'worth', 'bound', 'democratic', 'nicol', 'maduro', 'lithuanian', 'excerpted', 'letter', 'nc', 'roy', 'vinod', 'paul', 'apprises', 'gom', 'steal', 'german', 'patientzero', 'morbidly', 'obese', 'none', 'electrification', 'implication', 'kabataan', 'sarah', 'elago', 'andrew', 'jenkinson', 'paused', 'concentration', 'fell', 'ships', 'blocking', 'shooting', 'bengalis', 'entering', 'doha', 'sydney', 'needs', 'returnees', 'assess', 'sofi', 'delays', 'condemned', 'appalling', 'negligent', 'chair', 'representing', 'northeastern', 'northwestern', 'unreported', 'pier', 'luigi', 'bersani', 'reflects', 'index', 'astute', 'definition', 'history', 'le', 'parisien', 'olly', 'murs', 'hangover', 'ticked', 'largely', 'bruno', 'covas', 'assam', 'legislator', 'haripriya', 'fear', 'mongering', 'scientifically', 'anant', 'bhan', 'researcher', 'preventive', 'med', 'law', 'fines', 'overarching', 'goal', 'unga', 'cardio', 'covidpandemic', 'layoffs', 'stripped', 'employer', 'sponsored', 'plans', 'marketplaces', 'obamacare', 'try', 'civil', 'regards', 'solve', 'kcrfailedtelangana', 'bangarutelangana', 'mission', 'recording', 'illuminates', 'intensity', 'touches', 'aggressively', 'comprehensively', 'ambulance', 'invasive', 'desired', 'scrubs', 'operating', 'theatre', 'loknayak', 'jedward', 'heard', 'winner', 'inventing', 'suitable', 'inventor', 'dpp', 'progressive', 'wang', 'shijian', 'specific', 'newest', 'frequent', 'conversation', 'intrepid', 'investigative', 'ingredients', 'russki', 'substantively', 'expanded', 'facilitation', 'easy', 'stage', 'backs', 'lax', 'spots', 'acting', 'reservoirs', 'reignite', 'tamped', 'actnow', 'ehealth', 'coordinate', 'relax', 'cooking', 'skills', 'apron', 'gotten', 'shots', 'focussed', 'effec', 'attempting', 'speak', 'hindered', 'freedom', 'prescription', 'raj', 'kamal', 'agarwal', 'accelerate', 'leakage', 'harmful', 'accidental', 'genetic', 'manipulation', 'betacoronaviruses', 'irrefutably', 'derived', 'backbone', 'angel', 'broking', 'bankrupt', 'temple', 'dynamic', 'constantly', 'reviewed', 'optimised', 'affecting', 'overly', 'improve', 'ups', 'nebraska', 'disappear', 'convalescent', 'plasma', 'asserts', 'havana', 'antiviral', 'heberon', 'alfa', 'interferon', 'sicker', 'flown', 'reposting', 'clarity', 'mislabeled', 'diagnosed', 'engagement', 'brian', 'rose', 'airing', 'falsehoods', 'comments', 'bob', 'woodward', 'tapes', 'communist', 'belarus', 'hysteria', 'scotland', 'visiting', 'households', 'indoors', 'asleep', 'comatose', 'lebanon', 'andhrapradesh', 'uttarpradesh', 'todayinncdc', 'communication', 'educators', 'strengthening', 'develop', 'appear', 'clearance', 'checking', 'vastly', 'mistaking', 'spreads', 'rays', 'pennsylvania', 'shutting', 'issuing', 'thwarting', 'scenarios', 'future', 'canadian', 'scolds', 'fully', 'embracing', 'spawned', 'super', 'code', 'zyphr', 'ni', 'jes', 'timings', 'shop', 'timing', 'unisted', 'onitsha', 'advocacy', 'disney', 'inevitable', 'inspire', 'films', 'feature', 'contag', 'diligently', 'frontlines', 'flareup', 'contaminations', 'reporters', 'turkmenistan', 'discussing', 'covidupdate', 'slumped', 'obvious', 'mehdipatnam', 'hyderbad', 'jamal', 'khashoggi', 'saudi', 'arabia', 'saudiarabia', 'jamalkhashoggi', 'gears', 'donation', 'computer', 'cleaning', 'keyboards', 'mice', 'laptops', 'safetyfirst', 'increases', 'perinatal', 'domesticviolence', 'brothers', 'sisters', 'fathers', 'grandparents', 'educated', 'threatening', 'naman', 'shri', 'score', 'accurately', 'predicts', 'nick', 'forbes', 'newcastle', 'math', 'ratio', 'assumption', 'terminator', 'seeds', 'swab', 'length', 'officially', 'percent', 'popular', 'erroneously', 'cites', 'existed', 'ibadan', 'applaud', 'responders', 'hmh', 'rodrigo', 'duterte', 'handle', 'constituents', 'particular', 'endocrine', 'disorders', 'endocrinologists', 'spoke', 'bounce', 'slowdown', 'lucknow', 'gorakhpur', 'pathak', 'ig', 'hcp', 'ts', 'degree', 'normality', 'successfully', 'garib', 'kalyan', 'incentive', 'ashas', 'contribution', 'towards', 'pcps', 'changed', 'estimate', 'invite', 'chat', 'physically', 'distant', 'physicaldistance', 'togetheralone', 'evaluate', 'outcomes', 'review', 'validation', 'resident', 'evil', 'corporation', 'releases', 'infects', 'raccoon', 'logo', 'bombay', 'approximately', 'finish', 'contacting', 'art', 'surabaya', 'indonesia', 'elite', 'looks', 'crown', 'hypochlorite', 'phenolic', 'disinfectants', 'refer', 'link', 'fresh', 'annexure', 'mistook', 'aid', 'debt', 'incurred', 'tax', 'merit', 'girl', 'pearl', 'earring', 'vs', 'predator', 'billions', 'hydroxychloroquineis', 'founded', 'inkalonji', 'seedso', 'kalonji', 'seed', 'bfast', 'attacked', 'fromcovid', 'noon', 'metal', 'exaggerated', 'instructed', 'didnt', 'accident', 'listed', 'victim', 'dogs', 'pile', 'corpses', 'mutate', 'lookalike', 'reacts', 'differently', 'stressful', 'selfcare', 'stress', 'placard', 'congratulating', 'eradicating', 'entry', 'tabs', 'ingest', 'inject', 'respond', 'stalls', 'pharmacies', 'sanitiser', 'disinfect', 'kenyan', 'electoral', 'commission', 'iebc', 'hinted', 'postponing', 'compromised', 'meatpackers', 'crucial', 'adjusted', 'ppl', 'averaged', 'theater', 'succumbing', 'confirms', 'cummings', 'selflessly', 'serological', 'survey', 'delhiites', 'approx', 'naturally', 'design', 'manage', 'thaalibajao', 'lightcandles', 'bhabhijikapapaad', 'gobar', 'cowurine', 'races', 'insanity', 'locsin', 'paschim', 'bardhaman', 'westbengal', 'helpline', 'plandemia', 'maps', 'toilets', 'applies', 'screened', 'monitor', 'surrenders', 'justice', 'parents', 'prioritised', 'denies', 'daughter', 'establishing', 'deliver', 'bribed', 'madagascan', 'andry', 'rajoelina', 'poison', 'organics', 'devised', 'proud', 'usman', 'danfodio', 'teaching', 'ahmadu', 'bello', 'zaria', 'ethiopian', 'addis', 'ababa', 'cove', 'evening', 'chirayu', 'formula', 'tedros', 'adhanom', 'accelerating', 'jharkhand', 'hemant', 'soren', 'colleagues', 'apple', 'teamed', 'notifies', 'cellphone', 'opt', 'subsided', 'gather', 'engage', 'enteroviruses', 'acuteflaccidmyelitis', 'afm', 'fakenewsalert', 'publishes', 'raches', 'ella', 'bd', 'helps', 'ia', 'mi', 'mo', 'nh', 'ri', 'wy', 'directive', 'supporters', 'tulsa', 'catc', 'indiafightscoronavirus', 'distributing', 'ppes', 'corrected', 'saint', 'luke', 'tenants', 'vow', 'rent', 'cheques', 'rentfreezenow', 'pres', 'abraham', 'secession', 'alappuzha', 'discovery', 'keenly', 'wtd', 'midday', 'hear', 'myth', 'busters', 'sesame', 'oneself', 'listerine', 'boss', 'mustapha', 'task', 'nonpregnant', 'idh', 'vermont', 'minimum', 'efficient', 'retweeted', 'misconstrue', 'involving', 'benefited', 'aggregated', 'talented', 'epidemiologists', 'engineers', 'beat', 'org', 'reflect', 'exams', 'healthoverexams', 'postponeneeet', 'cancel', 'cs', 'ga', 'david', 'icke', 'uptake', 'remove', 'promptly', 'paramilitary', 'deployed', 'rajkot', 'baroda', 'workplace', 'halt', 'resumed', 'laid', 'repeat', 'underlying', 'georgina', 'peacock', 'settings', 'meters', 'sur', 'referencing', 'proof', 'synchronized', 'rish', 'profesion', 'closely', 'memo', 'lowers', 'vodka', 'sanitizing', 'unlike', 'navajo', 'loads', 'raising', 'skilled', 'censor', 'meng', 'yan', 'engineered', 'ruin', 'arriving', 'concerns', 'efficiency', 'effectiveness', 'overcrowding', 'detecting', 'periods', 'reveal', 'identity', 'cdu', 'nsci', 'badminton', 'eye', 'heart', 'possibly', 'lifetime', 'healthier', 'jama', 'cardiology', 'gunes', 'newspaper', 'stable', 'parent', 'provider', 'commits', 'assistance', 'ie', 'excited', 'mom', 'gift', 'mothersday', 'thankyoumom', 'winning', 'wrongly', 'stanford', 'involve', 'rare', 'learns', 'immunosuppression', 'choice', 'midst', 'autoimmune', 'opthalmology', 'medtwitter', 'retroactively', 'adjusts', 'suggestion', 'helth', 'science', 'scan', 'ultra', 'violet', 'ray', 'germ', 'killer', 'alien', 'takeover', 'aliens', 'ufo', 'meaningless', 'realized', 'coverage', 'cruelty', 'knows', 'bounds', 'touched', 'fiji', 'principal', 'aspects', 'participation', 'unacceptable', 'detailed', 'laying', 'ago', 'compile', 'equitably', 'inarguable', 'generating', 'casualties', 'disruptions', 'unconscionable', 'tragedy', 'flip', 'flops', 'defined', 'sterilization', 'ozone', 'intelligent', 'lamp', 'killingvirus', 'uvc', 'uva', 'uvdisinfection', 'uvlight', 'uvlamp', 'uvsolution', 'uvled', 'throw', 'seas', 'seafood', 'dear', 'intervene', 'filed', 'jobless', 'unemployment', 'appointed', 'housing', 'freezing', 'rents', 'evictions', 'securing', 'homeless', 'appointments', 'shake', 'cali', 'bus', 'immigrants', 'illegalimmigrants', 'ford', 'ji', 'delhifightscorona', 'arvindkejriwal', 'biosafety', 'maiduguri', 'harcourt', 'jos', 'canine', 'cops', 'dehradun', 'norms', 'handles', 'latter', 'guesstimate', 'typically', 'somalia', 'greek', 'begin', 'repeatable', 'structure', 'runs', 'teams', 'paragraph', 'masts', 'quoted', 'billionaire', 'sell', 'poisonous', 'troubling', 'clutching', 'tightly', 'chest', 'margarita', 'puebla', 'hallway', 'containing', 'tanks', 'latvia', 'riga', 'puzzling', 'uncertainty', 'assessing', 'observational', 'metformin', 'territory', 'trips', 'instalment', 'amounting', 'govts', 'mum', 'plane', 'pass', 'dublin', 'checks', 'brought', 'halting', 'wouldn', 'eliminate', 'conceal', 'fuel', 'tulsatrumprally', 'facecover', 'directives', 'violation', 'imprisonment', 'fine', 'concluded', 'grounds', 'subsequently', 'withdrawn', 'rivaled', 'hypochondria', 'prostatecancer', 'wins', 'anita', 'derby', 'traces', 'pot', 'supply', 'marijuana', 'tranche', 'thinking', 'peer', 'poleaxed', 'powerful', 'material', 'hotspot', 'statements', 'falsehood', 'johntravolta', 'maryland', 'fix', 'developing', 'abound', 'pedro', 'sanchez', 'recognize', 'readily', 'praying', 'umah', 'pelotas', 'hall', 'grande', 'sul', 'sirens', 'rydges', 'peter', 'horby', 'trialled', 'hospitalised', 'monoclonal', 'involves', 'trajectory', 'idiocy', 'milan', 'communicating', 'respective', 'communicated', 'indiafightscovid', 'myeloma', 'undergoing', 'chemotherapy', 'responsive', 'collectively', 'encouraging', 'captured', 'medication', 'esccongress', 'ns', 'abysmal', 'toting', 'michiganders', 'burn', 'witch', 'seated', 'buffets', 'salad', 'served', 'individually', 'filtered', 'hosts', 'knowns', 'unknowns', 'implemented', 'devi', 'sridhar', 'introduced', 'thyrocare', 'sealed', 'buck', 'normally', 'fifth', 'respectively', 'overload', 'sooner', 'hell', 'vinegar', 'eliminates', 'southeast', 'coast', 'northwest', 'interrupted', 'revived', 'presumably', 'commercial', 'providers', 'sense', 'precipitously', 'matamata', 'dropped', 'gain', 'arsonist', 'fighter', 'taht', 'ecuador', 'ecuadorian', 'disobeyed', 'autopsies', 'antibiotics', 'inflammatories', 'anticoagulants', 'british', 'cleaner', 'destroys', 'coin', 'sms', 'apply', 'vacancy', 'collapse', 'islam', 'chemists', 'fabiflu', 'kejriwal', 'exists', 'hampering', 'braindead', 'horror', 'thewalkingdead', 'fwd', 'consultation', 'chats', 'reqest', 'fightagainstcoronavirus', 'stayhomestaysafe', 'telugunews', 'journalist', 'sai', 'examination', 'straight', 'terminate', 'programme', 'tuesdaylive', 'tune', 'dstv', 'dreaded', 'chupacabra', 'lachupacabra', 'arguably', 'prexisting', 'regret', 'announcement', 'crowds', 'covidstopswithme', 'discover', 'rinsing', 'jihadi', 'spits', 'closes', 'iq', 'thulped', 'pulp', 'stomped', 'lewd', 'jihadis', 'wetherspoons', 'barrel', 'piss', 'shed', 'highs', 'throughout', 'colorful', 'fashions', 'obsession', 'dyes', 'futures', 'futurism', 'futurenow', 'futuretrends', 'education', 'appliance', 'outsource', 'gowns', 'gloves', 'ventilaors', 'sic', 'photograph', 'slaughter', 'coronaviruses', 'cattle', 'pet', 'bandwidth', 'pieces', 'coffee', 'branded', 'tchotchkes', 'meetings', 'tumbleweeds', 'blowing', 'mental', 'minoritymentalhealth', 'mentalhealthawareness', 'discouraging', 'mor', 'thing', 'dwarfing', 'vendors', 'overloads', 'patinents', 'mu', 'iz', 'buenos', 'aires', 'teravolt', 'thoracic', 'malignancies', 'asco', 'lcsm', 'pills', 'nascent', 'correlations', 'hardest', 'deficient', 'holds', 'random', 'exponentially', 'january', 'maximum', 'chaos', 'payment', 'alas', 'deeply', 'appreciate', 'dedication', 'maximize', 'usefulness', 'wildland', 'firefighters', 'californ', 'page', 'grant', 'idaho', 'statesman', 'sounding', 'alarm', 'declaring', 'mantova', 'carabinieri', 'experimentation', 'arranged', 'stuck', 'evolve', 'pace', 'indicator', 'inhaling', 'boiling', 'orange', 'peelings', 'schizophrenia', 'maulana', 'saad', 'tablighi', 'jamaat', 'watched', 'stream', 'pole', 'competitions', 'abundantly', 'athletes', 'music', 'ex', 'successor', 'ptfcovid', 'processing', 'favipiravir', 'roofs', 'hubei', 'daylockdown', 'dayslockdown', 'dayschallenge', 'conduct', 'coronovirus', 'honourable', 'convened', 'pakistani', 'osama', 'riaz', 'geo', 'political', 'zone', 'devastated', 'brokers', 'stockmarketcrash', 'unchanged', 'downplayed', 'modelling', 'reportedly', 'additionally', 'suspended', 'fungal', 'albany', 'y', 'interviews', 'ads', 'businessman', 'clive', 'palmer', 'baseless', 'auspol', 'kiosk', 'wuhancoronavirus', 'publicly', 'commit', 'course', 'corporate', 'cede', 'eradicate', 'jalingo', 'takum', 'destination', 'https', 'showcasing', 'names', 'limits', 'cardiac', 'mri', 'scans', 'showed', 'myocarditis', 'substantial', 'drops', 'notices', 'smoother', 'disregard', 'beneficiary', 'funds', 'credited', 'letters', 'limiting', 'challenging', 'pro', 'traveled', 'literacy', 'trainings', 'wou', 'doh', 'mary', 'interns', 'determine', 'fa', 'lift', 'emerges', 'ed', 'sheeran', 'write', 'album', 'grafitti', 'qanon', 'theorists', 'mms', 'wikipedia', 'crazy', 'democrat', 'pedophiles', 'aimed', 'followers', 'worrying', 'indications', 'trending', 'recommendation', 'managing', 'ischemic', 'chose', 'expend', 'disestablish', 'mashpee', 'wampanoag', 'tribe', 'reservation', 'istandwithmashpee', 'decisive', 'connecting', 'repositioning', 'reasoning', 'fueling', 'depopulate', 'exit', 'bump', 'doubt', 'equivalent', 'basically', 'jokowi', 'bet', 'avigan', 'paybacks', 'newborn', 'twins', 'elsewhere', 'trended', 'admits', 'transcripts', 'walmart', 'amazon', 'kroger', 'costco', 'fennel', 'swimming', 'pools', 'functional', 'gymnasiums', 'westvirginia', 'shrinking', 'damages', 'proved', 'zealanders', 'arvind', 'manufacturers', 'licensed', 'azim', 'premji', 'donates', 'charity', 'uttarakhand', 'puducherry', 'eastern', 'paige', 'armstrong', 'correctly', 'panties', 'ebay', 'coronavirusmasks', 'fleamarkets', 'undetected', 'village', 'birth', 'paste', 'toenail', 'foot', 'abc', 'bans', 'fortune', 'cookies', 'missiles', 'exclusive', 'destruction', 'shortness', 'serology', 'anticipating', 'backend', 'kinks', 'injectable', 'quinine', 'cq', 'becomes', 'cerebral', 'barrier', 'designates', 'herself', 'prefect', 'slows', 'http', 'seeking', 'behaviour', 'drastically', 'attendance', 'presymptomatic', 'actual', 'packages', 'ps', 'glittering', 'lighting', 'attempted', 'shaved', 'heads', 'max', 'fixed', 'subsidized', 'positively', 'americold', 'dominion', 'finance', 'happening', 'answering', 'easing', 'latex', 'purposes', 'gyms', 'cinemas', 'nightclubs', 'oregonians', 'correspondent', 'eyewitness', 'piece', 'scheduled', 'itly', 'couldn', 'worldoutside', 'majid', 'modiji', 'postponejeeneet', 'highly', 'sops', 'postpone', 'jee', 'neet', 'shifting', 'elisa', 'granato', 'administered', 'colds', 'triump', 'advocates', 'bloodletting', 'conspiracytheories', 'dictatorship', 'sisi', 'egypt', 'renowned', 'surgeon', 'shetty', 'suggestions', 'sorrowful', 'outburst', 'longtime', 'fan', 'idols', 'uninterested', 'installing', 'covidsafe', 'stealth', 'smartphones', 'sacrificed', 'condolences', 'coviditaly', 'covidireland', 'faculty', 'administrators', 'notify', 'newsthump', 'quotes', 'sen', 'lindsey', 'graham', 'specifically', 'banish', 'pissed', 'angry', 'mobs', 'storm', 'nails', 'centerstage', 'scott', 'morrison', 'statesmanship', 'sputum', 'secretion', 'jammat', 'celebration', 'ramnavami', 'bhuj', 'aka', 'gujaratmodel', 'modia', 'checkup', 'hails', 'necessarily', 'ultimately', 'trace', 'sharp', 'jorge', 'luis', 'sonnante', 'minute', 'networks', 'deacon', 'falsified', 'mixes', 'theories', 'jeans', 'board', 'nct', 'shall', 'homequarantine', 'milestone', 'citrus', 'peels', 'hanging', 'constrained', 'upwards', 'stalled', 'urban', 'institutionalquarantine', 'airline', 'brooklyn', 'salvatore', 'goombalini', 'yorkers', 'repurposed', 'antivirals', 'rendesiver', 'antiparasitic', 'antimalarial', 'anttibiotics', 'azithromycin', 'doxycycline', 'modulators', 'quercetin', 'bunch', 'bulgaria', 'fruit', 'ignoring', 'publishing', 'pants', 'covidiots', 'annoying', 'covidiot', 'guess', 'marketing', 'newsome', 'cousin', 'witnessed', 'tipping', 'restrictive', 'broiler', 'gop', 'clarifies', 'remarks', 'tides', 'sexually', 'frustrated', 'aunts', 'moistly', 'combo', 'expedite', 'unrecognized', 'circumstances', 'playing', 'schoolsreopening', 'collapsing', 'store', 'thrive', 'supported', 'vi', 'ben', 'form', 'cutting', 'augusto', 'argentine', 'chamber', 'legislative', 'eliminated', 'aldi', 'kris', 'aquino', 'rushed', 'hinting', 'reunion', 'defence', 'hamsters', 'shockingly', 'indifferent', 'advices', 'rush', 'listen', 'layoffed', 'coolies', 'entrepreneurs', 'auto', 'drivers', 'invisible', 'hardship', 'burecrat', 'vvip', 'representatives', 'icymi', 'uss', 'bonhomme', 'boasts', 'backed', 'dismantle', 'aca', 'ags', 'succeed', 'devastation', 'untold', 'involvement', 'contributions', 'enabling', 'mcdonalds', 'circulated', 'bowing', 'frontliners', 'reopened', 'sayardaw', 'mohan', 'bhagwant', 'shook', 'faith', 'religion', 'fainting', 'surviving', 'immunizations', 'surveyed', 'swift', 'globe', 'wor', 'purpose', 'insertion', 'wand', 'cavities', 'hemato', 'encephalitic', 'septum', 'depth', 'skull', 'painful', 'polling', 'electronics', 'frankly', 'perhaps', 'antigen', 'colfax', 'dawson', 'tied', 'meatpacking', 'plants', 'truck', 'tanzania', 'zooming', 'peaking', 'joint', 'biosecurity', 'upgraded', 'journey', 'crossing', 'debunk', 'nyers', 'cuomo', 'snow', 'ok', 'evict', 'occur', 'shouldn', 'spaces', 'cats', 'fuck', 'workfromhomelife', 'belonging', 'naked', 'vandalizing', 'mauritius', 'density', 'communicable', 'meant', 'initiated', 'lukes', 'mall', 'cont', 'horses', 'thoroughbred', 'sugarcreek', 'sat', 'gentleman', 'son', 'assigns', 'meat', 'loaf', 'gary', 'busey', 'stigma', 'hurts', 'dea', 'slacker', 'struggles', 'negatively', 'recession', 'amitabh', 'bachchan', 'abhishek', 'granddaughter', 'aaradhya', 'parth', 'samthaan', 'ooni', 'ife', 'traditional', 'healer', 'plant', 'sulphur', 'extracted', 'crackdown', 'manual', 'supervisors', 'prolonged', 'hypercapnia', 'leading', 'disruption', 'sacrifice', 'myalgia', 'muscle', 'poem', 'reprinted', 'endure', 'repeats', 'nsw', 'favourably', 'berejiklian', 'overblown', 'mikakos', 'impacting', 'kent', 'lorry', 'deadline', 'fade', 'vellore', 'sets', 'dryers', 'ultraviolet', 'helping', 'trumpuniversity', 'heading', 'direction', 'chris', 'whitty', 'tulisa', 'contostavlos', 'sincerely', 'leicester', 'mercury', 'female', 'lousy', 'vte', 'considerations', 'upcoming', 'calendar', 'register', 'weapons', 'publi', 'cigars', 'discontinued', 'medically', 'cupboards', 'december', 'takeresponsibilty', 'covidindiaseva', 'pui', 'geographic', 'fatalityrate', 'em', 'kont', 'rollison', 'manager', 'melbourne', 'swanston', 'chances', 'advises', 'nonessential', 'statistic', 'collide', 'potency', 'inbox', 'diaper', 'diapers', 'trumpliedamericansdied', 'trumpdeathtollk', 'finalising', 'receives', 'pushes', 'tags', 'stages', 'descriptions', 'outlawed', 'legislation', 'ramping', 'procedures', 'faq', 'clinics', 'congestions', 'prioritise', 'passes', 'brad', 'pitt', 'jennifer', 'aniston', 'relationship', 'bird', 'flus', 'assures', 'lessons', 'serve', 'pande', 'q', 'leh', 'cabello', 'mind', 'thermometers', 'cuffs', 'stethoscopes', 'handing', 'doused', 'knocks', 'rob', 'reopenings', 'sepsis', 'educate', 'downloading', 'sheet', 'sam', 'misbehaving', 'nearing', 'guwahati', 'mainly', 'aerosols', 'vienna', 'intending', 'maharshtra', 'exempted', 'ticket', 'onward', 'somewhere', 'systematically', 'gouty', 'arthritis', 'hospitalize', 'polio', 'diary', 'bottled', 'lager', 'drinkers', 'forty', 'thriller', 'writer', 'coincidence', 'leapfrogged', 'introduces', 'dubs', 'stefano', 'montanari', 'byoblu', 'nanopathologist', 'inhale', 'expelled', 'supposedly', 'benchmarks', 'blm', 'thom', 'tillis', 'declarations', 'relating', 'advance', 'automatically', 'owe', 'miami', 'coroner', 'assuming', 'overinflated', 'shortages', 'harassment', 'daytime', 'visualize', 'compares', 'posed', 'unjustifiable', 'failures', 'eric', 'coe', 'impressive', 'broad', 'framework', 'yavatmal', 'primarily', 'surface', 'congregate', 'rita', 'wilson', 'ut', 'proactively', 'dire', 'unsurprisingly', 'stoking', 'flames', 'division', 'promoted', 'owns', 'manufactures', 'stake', 'mutual', 'features', 'fo', 'lieutenant', 'anil', 'baijal', 'organized', 'theft', 'malls', 'substantially', 'prohibited', 'hidroxychloroquine', 'file', 'demise', 'banging', 'thalis', 'shouting', 'gautambuddhnagar', 'noida', 'recommend', 'hussain', 'tradition', 'decorum', 'decency', 'trumpsjealousofobama', 'obamagate', 'maga', 'kag', 'exclude', 'assign', 'beverages', 'sacrifices', 'kiwis', 'vigilant', 'paraguay', 'fat', 'manat', 'hauora', 'alleyesonkentucky', 'balloting', 'gandhinagar', 'spartan', 'supplementing', 'atlantic', 'thumb', 'uw', 'hearing', 'epidemiologically', 'olympic', 'games', 'sport', 'ibd', 'mixture', 'ryanair', 'cuts', 'mismanagement', 'poultry', 'fill', 'roles', 'learned', 'authorize', 'neighbor', 'noia', 'stupid', 'thoroughly', 'lysol', 'augmentation', 'gradually', 'extraordinary', 'complaints', 'gmc', 'macedonia', 'euros', 'greece', 'strongertogether', 'bon', 'jovi', 'song', 'contest', 'aggression', 'humor', 'recieved', 'rich', 'punjab', 'nitish', 'kumar', 'lou', 'dobbs', 'strains', 'vehicles', 'nigel', 'farage', 'teach', 'climate', 'denial', 'balance', 'scheme', 'wi', 'renters', 'eviction', 'dementia', 'lifelong', 'asthma', 'survival', 'quadrupled', 'unique', 'filled', 'locality', 'theory', 'landing', 'thereafter', 'requests', 'johns', 'bloomberg', 'allergy', 'kogi', 'homelessness', 'contributing', 'institution', 'haul', 'fucking', 'conway', 'writes', 'occu', 'worldhealthday', 'risking', 'met', 'courage', 'underestimated', 'jaipur', 'tobacco', 'mitigate', 'triaging', 'practices', 'everythingonly', 'skill', 'entrepreneurship', 'institutions', 'educational', 'doctoral', 'reporter', 'bilgehan', 'bilge', 'hoarding', 'conditioners', 'fans', 'dundee', 'halls', 'covd', 'sophisticated', 'curfews', 'adult', 'shoutout', 'adeline', 'gutierrez', 'nu', 'ez', 'bu', 'antiracist', 'citizen', 'illiterate', 'literate', 'behaves', 'curfewondelhi', 'snapped', 'coy', 'saturdays', 'queenstown', 'outlines', 'witness', 'happened', 'dumped', 'hike', 'rash', 'criticised', 'dedicated', 'rashes', 'unusual', 'gathered', 'stone', 'pelting', 'defiance', 'obey', 'guns', 'lathi', 'cane', 'graded', 'evolving', 'borne', 'tried', 'cbs', 'bergamo', 'mislead', 'viewers', 'cast', 'father', 'rbi', 'closing', 'fiscal', 'ends', 'reserve', 'draws', 'doncaster', 'shops', 'stella', 'artois', 'sized', 'quavers', 'debacle', 'lyme', 'tends', 'tick', 'digital', 'lied', 'flew', 'internationally', 'welding', 'ne', 'ukrainians', 'pigs', 'burned', 'twenty', 'connecticut', 'introducing', 'carl', 'heneghan', 'surreptitiously', 'install', 'depict', 'preterm', 'uptrend', 'warriors', 'malnourished', 'asia', 'moonshot', 'repo', 'brahman', 'seva', 'mandal', 'dadar', 'eas', 'trail', 'dismissive', 'minimized', 'handful', 'lucky', 'points', 'measuring', 'stabbed', 'neighbourhood', 'moratalaz', 'coursing', 'harder', 'driving', 'cares', 'establishment', 'clinically', 'pesco', 'mediterranean', 'intermittent', 'libs', 'ruling', 'disregarded', 'impunity', 'dissolved', 'custo', 'weir', 'thats', 'alot', 'judy', 'replace', 'medicate', 'grandmother', 'discovers', 'porn', 'pornography', 'incubating', 'dancing', 'indo', 'scout', 'ranging', 'purposing', 'machines', 'sensor', 'laurent', 'hazardous', 'booster', 'discontinue', 'baba', 'ramdev', 'james', 'franco', 'shit', 'annually', 'flavor', 'doritos', 'trailing', 'fl', 'tx', 'decoction', 'noticed', 'correction', 'vessel', 'ucla', 'er', 'accessible', 'revealing', 'chicomvirus', 'lengths', 'enemies', 'suppress', 'conservative', 'kmag', 'domino', 'edmunds', 'introduce', 'constraints', 'pin', 'quantitative', 'considerably', 'lagging', 'reality', 'specimens', 'interim', 'demonstrators', 'clashed', 'species', 'caretakers', 'waterford', 'wages', 'oh', 'finland', 'freak', 'eschews', 'aides', 'bia', 'hepatitis', 'unconstitutional', 'potus', 'decease', 'indiantelecommunication', 'kanika', 'kapoor', 'hrh', 'tectonic', 'cultural', 'warp', 'speed', 'presidentialelection', 'coded', 'sixth', 'lowcock', 'humanitarian', 'ghrp', 'addresses', 'immediate', 'exacerbated', 'crises', 'jacinda', 'ardern', 'hindu', 'prediction', 'dates', 'univeristy', 'trchnology', 'heath', 'vial', 'registration', 'moscow', 'photographer', 'andrey', 'rudakov', 'namely', 'russianvaccine', 'vaccino', 'worldbreastfeedingweek', 'healthforall', 'pelted', 'stones', 'screen', 'units', 'desperately', 'staffing', 'marseille', 'coroanvirus', 'tighter', 'infographic', 'forged', 'bashed', 'suba', 'columbia', 'ra', 'oximeter', 'prepair', 'ridiculous', 'adherence', 'cking', 'apa', 'presentations', 'easiest', 'gene', 'manufacturered', 'swiss', 'convenience', 'voice', 'wsnz', 'rick', 'commodore', 'predictions', 'psychological', 'fallout', 'uh', 'huh', 'returns', 'coronavirusvaccine', 'attached', 'mob', 'administer', 'senior', 'hanumantha', 'rao', 'arbidol', 'waitemata', 'waitakere', 'guees', 'costly', 'gut', 'rip', 'morally', 'reprehensible', 'integral', 'chase', 'negatives', 'mandatorily', 'subjected', 'governador', 'province', 'axel', 'kicillof', 'juan', 'dom', 'nguez', 'moron', 'amazing', 'hdfc', 'md', 'aditya', 'reconciliation', 'kowheori', 'hate', 'newsinphotos', 'covidalert', 'workforce', 'workfromhome', 'fivefold', 'tripled', 'quantifies', 'ontario', 'feds', 'onpoli', 'ramakrishna', 'commenced', 'pheoc', 'optimisation', 'biomedical', 'noguchi', 'approves', 'coa', 'fs', 'nutritional', 'supplement', 'cytokine', 'overactivation', 'unexpected', 'multi', 'centric', 'bcg', 'prove', 'clot', 'ought', 'fought', 'tory', 'fletcher', 'shield', 'unwittingly', 'knell', 'responds', 'forcing', 'remaining', 'placebo', 'deleted', 'indus', 'unattended', 'footpath', 'seasons', 'unfolds', 'grim', 'robert', 'redfield', 'partylist', 'committees', 'damascus', 'syria', 'missed', 'indicated', 'postmortem', 'trade', 'restored', 'outweigh', 'investment', 'pullman', 'emphasized', 'tiny', 'fraud', 'treasurer', 'watering', 'deficit', 'borrowed', 'chalmers', 'unessential', 'preexisting', 'bloomfield', 'warrior', 'tip', 'soap', 'covidwarriortips', 'stopthespread', 'covidactnow', 'illustration', 'logged', 'beatncds', 'takeaction', 'converting', 'choir', 'skagit', 'wore', 'blackface', 'fancy', 'dress', 'disseminating', 'accredited', 'nearest', 'alternative', 'africans', 'reject', 'durham', 'kevan', 'jones', 'shambles', 'understands', 'approached', 'halted', 'infamous', 'serum', 'covishield', 'immunogenic', 'efficacious', 'laws', 'walkers', 'clothesline', 'joggers', 'experienced', 'presented', 'cbac', 'avoided', 'indoctornation', 'designed', 'keir', 'starmer', 'disagrees', 'dido', 'harding', 'unaware', 'coaching', 'zambia', 'fist', 'resolved', 'heartening', 'dnanudge', 'truenat', 'platform', 'advantage', 'groceries', 'vegetables', 'handed', 'crack', 'uhuru', 'artists', 'sh', 'cushion', 'rises', 'sciences', 'supremacist', 'whitesupremacy', 'swedish', 'asians', 'rumor', 'tracers', 'talkers', 'wallace', 'supports', 'thrashed', 'godi', 'drowned', 'originator', 'goo', 'underrated', 'acetylcysteine', 'nac', 'liquefies', 'mucus', 'prostatitis', 'bc', 'prostata', 'fluids', 'liver', 'kidneys', 'label', 'crowe', 'prepares', 'cooperation', 'instrument', 'presents', 'agenda', 'orangenetwork', 'colombian', 'manuel', 'elkin', 'patarroyo', 'breast', 'trumps', 'nude', 'statue', 'anger', 'mechanical', 'ventilation', 'brits', 'horse', 'panicbuying', 'trained', 'mentored', 'eoc', 'core', 'operation', 'simulation', 'examinations', 'everywhere', 'behaviours', 'sero', 'stricter', 'ceos', 'resigned', 'dump', 'rubbish', 'rooftop', 'textile', 'grenons', 'drunk', 'dilution', 'autism', 'supplementation', 'mayan', 'priest', 'hokum', 'revises', 'seanhannity', 'mayans', 'testifies', 'medecin', 'excluded', 'title', 'endothelial', 'injury', 'plays', 'pathogenesis', 'coagulopathy', 'sard', 'republic', 'hmsh', 'bottomed', 'pushing', 'unsweetened', 'sun', 'prophetised', 'uttering', 'laredo', 'strictest', 'crimes', 'gate', 'destiny', 'melburnians', 'hongkong', 'literally', 'cool', 'modellers', 'keeling', 'suppressed', 'orana', 'cook', 'ncr', 'authorizes', 'precise', 'measurement', 'permanently', 'southwest', 'papua', 'guinea', 'returnee', 'campers', 'sleep', 'camp', 'uncaptured', 'anywhere', 'clinicaltrials', 'variables', 'ted', 'kaczynski', 'rebirth', 'relevance', 'shadow', 'divert', 'pillow', 'uncomfortable', 'milder', 'adolescents', 'retaining', 'doubling', 'emphasises', 'minnesota', 'ventilated', 'interpreted', 'stoush', 'victorian', 'thereof', 'adf', 'vicpol', 'springst', 'clorox', 'bottle', 'martinelli', 'gold', 'belgium', 'mocking', 'approaching', 'watery', 'eyes', 'sneezing', 'differences', 'allergies', 'portuguese', 'icus', 'brave', 'lord', 'carlson', 'mainstream', 'refuses', 'filipino', 'trillanes', 'iv', 'integrated', 'ihip', 'idsp', 'portal', 'headache', 'coinfections', 'complicate', 'pulmonary', 'aspergillosis', 'capa', 'increasingly', 'bounces', 'bettiah', 'reinstated', 'flouting', 'offer', 'celebrity', 'couples', 'grave', 'buried', 'bissau', 'squandering', 'attributable', 'resource', 'densely', 'populated', 'kem', 'prescribed', 'shocked', 'cowboys', 'dallascowboys', 'sinclair', 'delaying', 'theorist', 'baselessly', 'feb', 'marks', 'hue', 'search', 'linda', 'gallon', 'cubicle', 'laugh', 'poster', 'mast', 'staystrong', 'clinton', 'packed', 'jacksonville', 'incidence', 'virtualconferenceafrica', 'evander', 'holyfield', 'innocence', 'ear', 'ears', 'randomly', 'assigned', 'statistically', 'snitches', 'demographic', 'wen', 'liang', 'microchip', 'implants', 'haircut', 'vanessa', 'hudgens', 'tipsy', 'paralyzed', 'generally', 'threatens', 'chinesecommunistparty', 'systemic', 'lifesaving', 'quarters', 'defer', 'expired', 'sterilized', 'casting', 'violate', 'festival', 'sensational', 'unconfirmed', 'traffic', 'cable', 'accusing', 'embezzle', 'bloodd', 'gdp', 'naah', 'limitless', 'trenches', 'allergic', 'rhinitis', 'supervised', 'trap', 'newschecker', 'congrats', 'sitting', 'bogies', 'traveling', 'manner', 'wandering', 'instant', 'argentinian', 'hlberger', 'verge', 'portrays', 'bright', 'stood', 'reassuring', 'sight', 'delhiite', 'dodge', 'duck', 'dive', 'franklin', 'roosevelt', 'jhalawar', 'jamaatis', 'chairmant', 'cobas', 'prong', 'integrate', 'valet', 'medicaldoctor', 'trumpcouldhavesavedvalet', 'garda', 'raid', 'skip', 'bypassed', 'confusing', 'hideo', 'ugandan', 'landlords', 'birthdays', 'stimulant', 'caffeine', 'methylxanthines', 'chemically', 'bless', 'refers', 'ltc', 'guyana', 'rmds', 'eular', 'tire', 'repairer', 'expansion', 'execution', 'mart', 'sosa', 'caba', 'argentina', 'handsanitizer', 'methanol', 'absorbed', 'cumulatively', 'nail', 'survivors', 'smartnews', 'attended', 'cancels', 'pointless', 'bullshit', 'destroyed', 'foreseeable', 'sony', 'gaming', 'servers', 'stillbirth', 'behalf', 'missionaries', 'spitters', 'chanting', 'gayatri', 'mantra', 'fibrinolysis', 'shutdown', 'sponsor', 'majorleaguebaseball', 'sponsors', 'commons', 'biomagnetism', 'explicitly', 'ingesting', 'disinfectant', 'statisticslink', 'admittance', 'biil', 'satyendra', 'das', 'janmabhoomi', 'ayodhya', 'karti', 'chidambaram', 'calm', 'sec', 'shapps', 'nanavati', 'ansari', 'limaye', 'reliable', 'outlet', 'ghislaine', 'maxwell', 'instance', 'sniff', 'josephbiden', 'newyorktimes', 'anteater', 'strength', 'controller', 'dcgi', 'ltd', 'zydus', 'cadila', 'ii', 'favorite', 'brazilians', 'candles', 'raymond', 'royce', 'rife', 'sound', 'frequencies', 'virtually', 'scanned', 'amplitude', 'characteristics', 'erased', 'grimes', 'speaking', 'sticking', 'parcels', 'analysts', 'byculla', 'waris', 'pathan', 'impplemented', 'signs', 'submitted', 'colour', 'examined', 'darker', 'worn', 'summarizing', 'preparation', 'intensify', 'represented', 'fellow', 'containers', 'startups', 'deploy', 'indigenous', 'wherein', 'costing', 'racism', 'irrefutable', 'coexistence', 'coevolution', 'interconnectedness', 'weaker', 'aurangaba', 'displaced', 'penetrate', 'denmark', 'lego', 'ballistic', 'missile', 'submarine', 'tennessee', 'sclerosis', 'msvirtual', 'carry', 'aminu', 'bayero', 'quadruples', 'messages', 'seldom', 'fun', 'mistake', 'graphic', 'zee', 'airway', 'sulfur', 'emission', 'nasa', 'immunoresponse', 'sparing', 'heroes', 'thankshealthheroes', 'mitch', 'mcconnell', 'tries', 'dunno', 'gyna', 'tract', 'octopus', 'madagascar', 'toxins', 'revoking', 'toronto', 'covidtoronto', 'trinitybellwoodspark', 'motorbiked', 'street', 'morgues', 'trucks', 'stacked', 'coffins', 'crap', 'carom', 'coriander', 'peeping', 'thrives', 'shelter', 'peepingtom', 'repeated', 'cottage', 'birch', 'transplants', 'departing', 'provisional', 'honorable', 'administrator', 'registering', 'ravi', 'nayak', 'protection', 'display', 'modestly', 'idiots', 'witchcraft', 'maker', 'agreements', 'secured', 'signing', 'formal', 'widens', 'prohibits', 'scare', 'marshmallows', 'northdakota', 'scar', 'adviser', 'subscribe', 'afffecting', 'personally', 'decades', 'pgimer', 'mosquitoes', 'safeguard', 'goya', 'beans', 'goyabeans', 'afterwards', 'backhand', 'favourite', 'wonder', 'strewn', 'languages', 'guarantee', 'emeka', 'nwajiuba', 'nl', 'oc', 'hku', 'whereas', 'library', 'mondaymorning', 'mondayvibes', 'visual', 'evolution', 'hood', 'sustain', 'morningmotivation', 'dawood', 'ibrahim', 'backfill', 'cache', 'screenshots', 'fewest', 'expressly', 'woodwardtapes', 'shangri', 'plaza', 'mandaluyong', 'supposed', 'adapted', 'pooled', 'karaoke', 'pub', 'proposes', 'jedi', 'located', 'apr', 'rumours', 'notifications', 'intimate', 'embrace', 'lowered', 'andra', 'discharges', 'nas', 'plamsa', 'therapies', 'mantua', 'obtain', 'cypress', 'eucalyptus', 'vapor', 'koran', 'recitation', 'attitude', 'resulting', 'misled', 'recipients', 'genetically', 'modified', 'organisms', 'shopping', 'pull', 'sneeze', 'dispose', 'soars', 'gripped', 'willing', 'maternal', 'checkups', 'vaccinations', 'prenatal', 'postnatal', 'threaten', 'undo', 'amitabhbachchan', 'eshe', 'bhi', 'rishte', 'wo', 'baap', 'lgte', 'felipe', 'plagiarized', 'palmeras', 'en', 'nieve', 'untreated', 'equally', 'removing', 'pangolin', 'original', 'rahul', 'meerut', 'mohoddin', 'pur', 'muradnagar', 'nahar', 'memos', 'rid', 'inference', 'dynamical', 'realtime', 'hub', 'shortest', 'jackie', 'chan', 'collected', 'niece', 'demonstrating', 'overtaken', 'lpc', 'ou', 'resist', 'wrapped', 'bundles', 'offloaded', 'investigate', 'forgotten', 'lacking', 'bored', 'flock', 'ikea', 'instances', 'shutdowns', 'undertaken', 'hair', 'weave', 'lace', 'fronts', 'grounded', 'prophylaxis', 'mg', 'dinner', 'dynasty', 'amusement', 'theme', 'duckdynasty', 'philrobertson', 'videoconferencing', 'lauded', 'broadscale', 'manufacture', 'charges', 'documentation', 'pharmacist', 'excessive', 'acidosis', 'relying', 'gaiters', 'shields', 'investigating', 'bong', 'enrich', 'mighty', 'immunization', 'pandem', 'paws', 'fucini', 'peta', 'cheering', 'embedded', 'practical', 'minimize', 'hides', 'parking', 'plains', 'midwest', 'jeffrey', 'epstein', 'furloughing', 'surprises', 'maintains', 'yemen', 'fog', 'acts', 'priti', 'patel', 'eleventy', 'stocked', 'urging', 'israelis', 'exosome', 'mosinee', 'academic', 'narrow', 'accept', 'african', 'adviced', 'discourage', 'dmk', 'selva', 'kicked', 'palliative', 'anaesthesia', 'neurological', 'microchipped', 'brilliant', 'surest', 'defeating', 'emotionally', 'married', 'truther', 'gaslighted', 'questionable', 'diy', 'merits', 'bind', 'progression', 'varies', 'houseflies', 'blind', 'obstacle', 'talent', 'positivevibes', 'sharukhkhan', 'zalima', 'coronavirusinindia', 'van', 'agreeing', 'msm', 'justifies', 'kaufman', 'nominate', 'headteacher', 'unproven', 'proteins', 'antigens', 'rna', 'organizing', 'camps', 'vans', 'doorsteps', 'rapidantigentest', 'celebrate', 'eidaladha', 'bent', 'elbow', 'sallah', 'react', 'prevalence', 'cat', 'arsehole', 'implements', 'cheeks', 'editorial', 'capitalism', 'civilization', 'plus', 'savings', 'mvcs', 'trauma', 'costs', 'esp', 'hib', 'prevnar', 'armed', 'salute', 'coronawarriors', 'concoction', 'herbs', 'tamarind', 'juice', 'lentils', 'era', 'definitions', 'rw', 'attribute', 'hindus', 'donate', 'guam', 'puerto', 'rico', 'settles', 'changeover', 'rushes', 'jammu', 'assist', 'minster', 'spray', 'reaffirms', 'alledegedly', 'staphylococcus', 'spreadsheet', 'horizon', 'figuring', 'sourcing', 'helsinki', 'immigration', 'distract', 'totalitarianism', 'removal', 'democide', 'newworldorder', 'distracted', 'barak', 'sp', 'dollars', 'decedents', 'morbidities', 'alzheimer', 'cursor', 'hyped', 'occupational', 'transition', 'dealers', 'standby', 'bug', 'squash', 'belt', 'chuck', 'norris', 'hivaids', 'prep', 'discusses', 'std', 'testi', 'tube', 'touting', 'rank', 'fadnavis', 'regime', 'nadda', 'navi', 'refusal', 'export', 'requisitioning', 'consumerfed', 'liquor', 'schemes', 'guideline', 'fashion', 'ivankatrump', 'insufficient', 'sanitary', 'technicians', 'seize', 'cash', 'worldmosquitoday', 'mosquito', 'bites', 'interstate', 'inserted', 'apparently', 'trackers', 'phones', 'erted', 'iphone', 'watsapp', 'android', 'penalised', 'sweeps', 'reimpose', 'temperature', 'degrees', 'vaccinating', 'gunna', 'damage', 'airways', 'treasury', 'notmypresident', 'offending', 'overtakes', 'uma', 'fruits', 'ice', 'rinks', 'pauline', 'hanson', 'mug', 'prophylactic', 'dozen', 'appeared', 'hydroxydhloroquine', 'censored', 'maddow', 'scripps', 'san', 'diego', 'santiago', 'del', 'estero', 'bucks', 'kaziranga', 'surely', 'inept', 'irresponsible', 'tragic', 'jumps', 'hinges', 'filling', 'gaps', 'nod', 'coordinating', 'sizable', 'bandhugan', 'panchagavya', 'layer', 'logically', 'energetic', 'glenmark', 'yields', 'iii', 'spectrum', 'selectively', 'dependent', 'polymerase', 'rdrp', 'replication', 'overnight', 'dphss', 'reaching', 'storage', 'exempt', 'childcare', 'peruvian', 'packets', 'garbage', 'edmonton', 'calgary', 'ignite', 'rivalries', 'ableg', 'veterinarian', 'featured', 'conspiratorial', 'bizarre', 'importantly', 'wildly', 'counselled', 'babies', 'defrauded', 'attacking', 'myrtle', 'shands', 'gainesville', 'snap', 'shipments', 'apologies', 'typos', 'tweeting', 'conversations', 'typing', 'hillary', 'consternation', 'arisen', 'occupies', 'constitute', 'discrepancy', 'jhu', 'coronation', 'characters', 'starving', 'placement', 'pfizer', 'spite', 'allahu', 'akbar', 'slide', 'adelaide', 'multisystem', 'inflammatory', 'mis', 'territorial', 'nicade', 'hcws', 'hepe', 'rota', 'amr', 'stewardship', 'adjustment', 'switching', 'anhembi', 'brasil', 'quoting', 'specifying', 'abandon', 'spaghetti', 'kiss', 'purposefully', 'domestically', 'quell', 'hk', 'asymmetric', 'conflict', 'primer', 'revolution', 'ka', 'spiking', 'purchase', 'cycle', 'pimps', 'occurs', 'tigers', 'devour', 'goat', 'succumbed', 'injuries', 'matur', 'existence', 'casts', 'servants', 'illegally', 'samadi', 'whatever', 'humanly', 'sanctuary', 'tower', 'wiped', 'expel', 'oversold', 'credit', 'prohibiting', 'christian', 'mosques', 'exotic', 'proceedings', 'academy', 'sitamarhi', 'barranquilla', 'nice', 'russie', 'slower', 'complex', 'jb', 'pritzker', 'illinoisans', 'gm', 'affiliated', 'controversy', 'bioweapons', 'reagents', 'grossly', 'utilised', 'arlene', 'foster', 'kindness', 'nairobi', 'sonko', 'adjustments', 'pulled', 'tweets', 'nudged', 'infrared', 'forehead', 'harm', 'organs', 'grades', 'contains', 'components', 'reliably', 'counted', 'hydroxychloroqen', 'memory', 'politicalcorrectness', 'writing', 'wank', 'salvador', 'illa', 'equality', 'irene', 'montero', 'gregorio', 'mara', 'transform', 'portugal', 'tierra', 'pura', 'disseminated', 'mariana', 'colombres', 'garmendia', 'denounces', 'overregistration', 'extending', 'launching', 'chatbots', 'hindi', 'speaks', 'persistent', 'cfs', 'upward', 'uncontrolled', 'denominator', 'manir', 'hossain', 'tripura', 'malaysia', 'pms', 'alberto', 'fern', 'ndez', 'pcrtest', 'irony', 'insisting', 'abide', 'surged', 'technical', 'organizational', 'established', 'alllivesmatter', 'osd', 'breaks', 'referring', 'pathetic', 'alter', 'duncan', 'clause', 'dutch', 'consent', 'ramu', 'tablespoon', 'pepper', 'spoons', 'circulate', 'verification', 'manafort', 'confinement', 'zhong', 'nanshan', 'saline', 'maggie', 'partnerships', 'disrupt', 'distributions', 'lasting', 'insecticide', 'nets', 'hidden', 'sally', 'struggled', 'dismal', 'establishes', 'ncezid', 'missouri', 'assoc', 'indiana', 'regrets', 'dating', 'username', 'notion', 'careless', 'lazy', 'heartless', 'stance', 'heights', 'curb', 'dispelled', 'statewide', 'consulted', 'pooling', 'brahmins', 'caste', 'chopped', 'tongue', 'chile', 'turkey', 'transformed', 'grime', 'overtaking', 'payers', 'performance', 'frm', 'dis', 'wealthy', 'techniques', 'dist', 'comprising', 'ration', 'declare', 'ancient', 'ahmedabad', 'vadodara', 'mehsana', 'coronavirustruth', 'uighur', 'detain', 'karakaxlist', 'updating', 'huddled', 'aggregation', 'prisoner', 'optimal', 'resolving', 'freight', 'bergstrom', 'chyna', 'sham', 'impeachment', 'kung', 'secretly', 'criticize', 'breakthrough', 'scapegoat', 'jared', 'leto', 'creating', 'mock', 'procession', 'amit', 'veterinary', 'speaker', 'coronavirusincontext', 'jack', 'box', 'ultimate', 'cheesburger', 'hamburger', 'confuse', 'echo', 'belize', 'horrific', 'bier', 'hw', 'downgraded', 'dignity', 'shud', 'ventilatoins', 'dim', 'sighted', 'injected', 'mutated', 'reopensafely', 'explained', 'chang', 'gung', 'strongly', 'earliest', 'practitioners', 'prescribe', 'fulfilling', 'wish', 'males', 'reps', 'disguised', 'mention', 'clique', 'demonize', 'saver', 'dining', 'lesotho', 'abou', 'rope', 'prone', 'fabric', 'conquers', 'autonomous', 'jose', 'bolivia', 'germain', 'hero', 'fled', 'agra', 'inching', 'bs', 'yediyurappa', 'kishanganj', 'cear', 'adopted', 'istanbul', 'policed', 'freeview', 'episode', 'dharmendra', 'siddaramaiah', 'broadly', 'il', 'mn', 'va', 'views', 'backtracked', 'marriage', 'reception', 'komal', 'mishra', 'blames', 'slitty', 'eyed', 'intelligence', 'sharepic', 'che', 'behaviors', 'beliefs', 'chemo', 'potsales', 'perform', 'blasio', 'aimim', 'asaduddin', 'owaisi', 'fooling', 'vadra', 'grasp', 'suman', 'assembly', 'gau', 'mutra', 'tablighis', 'discussed', 'presumed', 'defensible', 'ukraine', 'forcibly', 'acknowledge', 'analysing', 'compiling', 'emmy', 'awards', 'beautiful', 'quito', 'guayaquil', 'masking', 'coveri', 'expression', 'liberia', 'hoard', 'ecmo', 'unused', 'tuscaloosa', 'unloved', 'convertibles', 'plummet', 'cars', 'beachboys', 'convertiblecars', 'chevrolet', 'wondered', 'ordering', 'mamata', 'banerjee', 'duration', 'dips', 'adjusting', 'flawed', 'congressman', 'campos', 'steel', 'cardboard', 'stds', 'unimaginable', 'mistakenly', 'initially', 'smallbusiness', 'calum', 'semple', 'adopt', 'bordering', 'experimental', 'presenter', 'neighbour', 'shanghai', 'aboard', 'queues', 'jarkhand', 'diameter', 'micro', 'ir', 'ous', 'vendor', 'skeptically', 'kylie', 'minogue', 'funny', 'glastonbury', 'behaving', 'abnormally', 'osmar', 'terra', 'northumberland', 'tyneside', 'tyne', 'gateshead', 'sunderland', 'fitness', 'remark', 'classifying', 'await', 'climbing', 'ak', 'schoolkids', 'momentarily', 'lapses', 'correctness', 'kolhapur', 'candle', 'vigil', 'proclaim', 'unity', 'commemorative', 'coins', 'countryside', 'hydroxichloroquine', 'panicked', 'dakar', 'misbehaved', 'portsmouth', 'beats', 'coronary', 'pilot', 'matching', 'batch', 'rollout', 'accelerates', 'testifying', 'enlarged', 'concealed', 'removes', 'wasted', 'activist', 'trupti', 'desai', 'latinos', 'latino', 'herb', 'mugwort', 'municipal', 'casualty', 'enemy', 'win', 'exporting', 'instruments', 'colder', 'selection', 'staggering', 'nope', 'halfway', 'shortsighted', 'maria', 'channelled', 'faucci', 'bluff', 'wedding', 'rosewood', 'breeds', 'tissue', 'fibres', 'ailments', 'managers', 'cleaners', 'scaling', 'carefully', 'igot', 'covidwarriors', 'missionkarmayog', 'dad', 'introverts', 'introvert', 'smell', 'diarrhoea', 'chickens', 'coronaviruscanada', 'lesions', 'neutropenic', 'loses', 'yelling', 'detourers', 'grass', 'oldpeople', 'toolkit', 'sheraton', 'phased', 'praises', 'kalma', 'frozen', 'opinion', 'influenced', 'career', 'electronic', 'solved', 'backlogs', 'environment', 'milwaukee', 'absentee', 'curbside', 'capacities', 'contagion', 'probability', 'graph', 'interfere', 'percentages', 'scrutiny', 'database', 'sechenov', 'whenever', 'assessed', 'cctv', 'containmentzones', 'acquiring', 'objects', 'likelihood', 'incarceration', 'logistics', 'robust', 'worsened', 'jacob', 'rees', 'mogg', 'endless', 'carping', 'phenomenal', 'impresses', 'remote', 'homeoffice', 'safest', 'fly', 'giuseppe', 'conte', 'mentally', 'rescue', 'boots', 'sta', 'scarf', 'napkin', 'employee', 'piling', 'passing', 'licking', 'plateaued', 'malnutrition', 'achieving', 'disclose', 'validate', 'bioeasy', 'kemp', 'posing', 'gregory', 'mcmichael', 'voter', 'base', 'remind', 'hajipur', 'ppi', 'kidneytransplant', 'lymphocyte', 'depleting', 'induction', 'maintenance', 'height', 'visualabstract', 'interrogation', 'supervisor', 'cabins', 'vacated', 'sumac', 'equalling', 'lav', 'polls', 'australians', 'oppose', 'flood', 'incomplete', 'hosp', 'abdicated', 'hcpm', 'immunisation', 'childhood', 'overstated', 'spared', 'eighty', 'cinema', 'permit', 'tele', 'counselling', 'ideas', 'honestly', 'engine', 'wheels', 'trophy', 'wives', 'trophywife', 'dumps', 'variability', 'pulling', 'belief', 'blatantly', 'fourty', 'persisted', 'hawaii', 'kushner', 'jaredkushner', 'nepotism', 'adunnii', 'cc', 'magnitude', 'declares', 'fluzone', 'scramble', 'personality', 'shaving', 'nightingale', 'brighten', 'walls', 'inhalers', 'treats', 'recognise', 'minimise', 'livelihoods', 'bay', 'lid', 'pmay', 'serbian', 'iraqi', 'dictator', 'iraq', 'exhorted', 'froze', 'neutralize', 'bakery', 'strictly', 'washable', 'chrysanthemum', 'initiate', 'breastfeed', 'variety', 'undoubtedly', 'kate', 'middleton', 'spark', 'speculation', 'queen', 'elizabeth', 'nasty', 'spreaders', 'estate', 'property', 'asthmaawareness', 'pig', 'cooked', 'purchased', 'guarantees', 'injured', 'danielle', 'dicenso', 'upsurge', 'airs', 'rerun', 'cdntv', 'chinesevirus', 'chinaindiafaceoff', 'boycottmadeinchina', 'boycottchineseproduct', 'admittedly', 'flinches', 'vegan', 'naturopathy', 'garaare', 'vati', 'supervision', 'casaulty', 'willbe', 'explosion', 'residential', 'hamilton', 'classrooms', 'cleaned', 'ibirapuera', 'gymnasium', 'mutton', 'livestock', 'impressed', 'newzealand', 'exemplar', 'celebrated', 'stressing', 'evin', 'immunizationforall', 'vaccineswork', 'fullyimmunizeeverychild', 'croatian', 'fla', 'carrier', 'surgery', 'acog', 'equipped', 'route', 'midnight', 'directs', 'fees', 'offset', 'teresa', 'theatres', 'helicopters', 'caller', 'radio', 'legionnaires', 'moisture', 'spikes', 'copied', 'pasted', 'bellends', 'raises', 'indi', 'didier', 'raoult', 'kick', 'jenny', 'mccarthy', 'develops', 'jennymccarthy', 'advising', 'insufficiency', 'quarantinecentres', 'aled', 'prayed', 'mercy', 'expects', 'badly', 'thieves', 'pretending', 'suppose', 'drum', 'fraction', 'leaking', 'clubs', 'evoke', 'stafford', 'ncd', 'contraception', 'lawmaker', 'reiterate', 'forgery', 'looting', 'udupi', 'gangadhar', 'ethics', 'unpredictable', 'duping', 'poors', 'suo', 'moto', 'loksabha', 'investing', 'establish', 'ibekwe', 'duties', 'gusau', 'weakness', 'certifying', 'clicking', 'hoursnumber', 'independent', 'washed', 'soaps', 'mingling', 'sparked', 'outrage', 'emerged', 'volunteer', 'signals', 'induced', 'advanced', 'microscope', 'eventual', 'wherever', 'batman', 'lastly', 'indeed', 'unfairly', 'florence', 'bigger', 'punekars', 'levied', 'graveyards', 'mooted', 'agrees', 'curse', 'djs', 'warehouse', 'libraries', 'supermarkets', 'orgies', 'tripping', 'explored', 'pgi', 'rohtak', 'emphasize', 'musculoskeletal', 'depending', 'wha', 'decreases', 'load', 'graphs', 'conventional', 'sii', 'uni', 'departure', 'sincelejo', 'gmt', 'rejecting', 'escalated', 'profitable', 'mud', 'mil', 'abt', 'conserve', 'accidentally', 'celebratory', 'firing', 'patents', 'glycoprotein', 'boyac', 'insider', 'falsification', 'cl', 'nicas', 'janta', 'survived', 'depleted', 'cupboard', 'bare', 'oral', 'intravenous', 'contributes', 'peru', 'ibis', 'packs', 'beaverton', 'utilisation', 'ptf', 'fireworks', 'otc', 'afford', 'previewed', 'glance', 'graphical', 'representation', 'pompeo', 'investigates', 'thinners', 'admit', 'merely', 'broadening', 'tattered', 'garments', 'certificate', 'churches', 'sum', 'worsen', 'downplay', 'psychology', 'shocking', 'corridors', 'haldwani', 'poc', 'stick', 'jitendra', 'awhad', 'hey', 'oz', 'ppm', 'pipe', 'ive', 'luck', 'teamoffivemillion', 'marimamiriona', 'bulletin', 'dalit', 'electricians', 'experiences', 'upheaval', 'adapts', 'installed', 'complying', 'sips', 'liquids', 'stomach', 'acid', 'opposite', 'exception', 'ruby', 'polish', 'confiscated', 'machine', 'originally', 'grodzisk', 'mazowiecki', 'pmo', 'classroom', 'downs', 'kanpur', 'vegetable', 'peoples', 'hairdressers', 'beauticians', 'patrons', 'bcci', 'suspends', 'ipl', 'indefinitely', 'steers', 'sought', 'dubious', 'cherry', 'picks', 'thankfully', 'coordination', 'indiafightscirona', 'widen', 'marcos', 'aguascalientes', 'canceled', 'maldives', 'pigeons', 'pota', 'undigested', 'intestinal', 'sack', 'membranes', 'dharavi', 'chains', 'suppressing', 'seventeen', 'follows', 'restatement', 'firearm', 'confiscation', 'afternoon', 'reciting', 'sanskrit', 'sacred', 'transmitting', 'infrequent', 'stayed', 'sequences', 'yourselves', 'disposable', 'rumors', 'mimes', 'glass', 'mime', 'bullfights', 'matadors', 'bailout', 'barackobama', 'highlight', 'bcoz', 'askd', 'discard', 'factsmatter', 'holidays', 'sikkim', 'wind', 'blows', 'exclusively', 'lockdowncanada', 'justintrudeau', 'burger', 'designer', 'burgerking', 'sofiavergara', 'strands', 'pedestrian', 'racists', 'clock', 'sadiq', 'streams', 'gujaratcoronaupdate', 'bidensoetoro', 'associates', 'lawyers', 'cracking', 'melania', 'sings', 'garden', 'melaniatrump', 'philippine', 'communications', 'pbcom', 'makati', 'balloon', 'ke', 'unki', 'gyi', 'sad', 'se', 'pucho', 'ki', 'av', 'chuki', 'kon', 'resposible', 'lagta', 'hoga', 'baki', 'bhagane', 'lage', 'codes', 'preview', 'imagined', 'rebuild', 'ourselves', 'sustainability', 'campinas', 'dismantled', 'supplements', 'ci', 'swear', 'gargle', 'terrified', 'muddying', 'virologist', 'limengyan', 'ccpvirus', 'zhoushan', 'takedowntheccp', 'ccpliedpeopledied', 'brasilian', 'dhb', 'northcote', 'henderson', 'grafton', 'wiri', 'vargas', 'santojanni', 'queens', 'essentialworker', 'bioengineer', 'osmania', 'lay', 'defend', 'justify', 'asympt', 'film', 'star', 'convert', 'instituting', 'replaced', 'slippery', 'hype', 'requirement', 'nitp', 'laborday', 'labordaysafe', 'bronx', 'bronxzoo', 'zoodirector', 'anniversary', 'pulse', 'pride', 'fenugreek', 'tape', 'strip', 'doublechecking', 'rejoice', 'facilitates', 'mobilize', 'eid', 'hospitalists', 'redeployed', 'redefined', 'stretched', 'howwehospitalist', 'cra', 'citing', 'meaninglessness', 'taxday', 'poisons', 'ink', 'toward', 'j', 'suspending', 'subcategories', 'visas', 'suspension', 'insights', 'erath', 'discipline', 'stephenville', 'directors', 'faints', 'yedikule', 'usb', 'flash', 'drives', 'bioshield', 'existent', 'telephone', 'epicentres', 'deg', 'latitude', 'researched', 'hemisphere', 'americas', 'stole', 'weaponized', 'punches', 'assault', 'punchandjudy', 'boone', 'pollutants', 'sudan', 'juba', 'emirates', 'thali', 'bajaav', 'cowdung', 'cakes', 'worest', 'hydroquinone', 'homeopathy', 'kadhas', 'downed', 'kathleen', 'soar', 'selfdepricating', 'limitations', 'jewish', 'hide', 'excellent', 'taiwanese', 'tightness', 'abdul', 'rahman', 'youbi', 'abdulaziz', 'summon', 'spirit', 'togetherness', 'cleanest', 'hn', 'arrange', 'synchronised', 'executives', 'imf', 'wef', 'complicit', 'creted', 'grieving', 'instability', 'appreciative', 'covi', 'attractive', 'retracted', 'td', 'targeted', 'retention', 'tsunami', 'bn', 'kickstart', 'clips', 'guard', 'srinivas', 'waiters', 'taxi', 'dwarfs', 'muy', 'interesante', 'magazine', 'soldier', 'erred', 'assaulting', 'invested', 'rebuilt', 'methodological', 'fundamentally', 'tortuous', 'conferences', 'outcome', 'intact', 'trick', 'cream', 'davey', 'whilst', 'spiritual', 'corrector', 'downing', 'competitive', 'hints', 'preliminary', 'vo', 'surveys', 'serial', 'interval', 'welcoming', 'kayleigh', 'mcenany', 'argue', 'macedonian', 'venko', 'filipce', 'fee', 'experiencing', 'contract', 'outpacing', 'skinned', 'canadians', 'docters', 'nersus', 'whith', 'bros', 'sis', 'vp', 'compiles', 'assisted', 'indoor', 'outdoor', 'akira', 'movie', 'apocalyptic', 'tokyo', 'shooter', 'tasmac', 'lenox', 'hill', 'schwabe', 'schwabeindia', 'immunitybooster', 'immunesystem', 'healthylife', 'floating', 'downwards', 'overreaction', 'weakened', 'dysfunctional', 'compliant', 'enforced', 'ketamine', 'ema', 'chmp', 'filgotinib', 'mykowitz', 'exposes', 'accuses', 'fabricating', 'conjunction', 'dexamethsaone', 'shelf', 'stuff', 'colchicine', 'gout', 'rheumatic', 'investigations', 'acti', 'haematology', 'easyoff', 'febreeze', 'appoint', 'jerad', 'captain', 'theodore', 'ball', 'gavinnewsom', 'poisoned', 'mutiny', 'birac', 'facilitating', 'vsv', 'biopharma', 'famine', 'williambarr', 'vicepresidentmikepence', 'stevenseagal', 'videograph', 'celcius', 'cannon', 'license', 'awarded', 'bucaramanga', 'nostradamus', 'devices', 'laughter', 'joke', 'teenager', 'sudima', 'akl', 'alerts', 'wh', 'nau', 'analyses', 'atlanta', 'toothpaste', 'jenner', 'cosmetic', 'pmnrf', 'muradabad', 'dka', 'cafes', 'playgrounds', 'essex', 'overcome', 'underground', 'amply', 'sentence', 'makers', 'realizing', 'forgot', 'goofy', 'disneymagicmoments', 'kasturba', 'boosted', 'ryan', 'thankful', 'montana', 'administrations', 'pundits', 'examiner', 'editor', 'utilitising', 'software', 'dangers', 'reflection', 'vk', 'bharath', 'goldfish', 'reimbursement', 'counsel', 'terminated', 'finished', 'tycoon', 'lauds', 'courageous', 'wwii', 'generation', 'seemingly', 'inconvenient', 'acutely', 'cup', 'sugar', 'walker', 'predictive', 'analytics', 'hitsolutions', 'hitequity', 'bottlenecks', 'paved', 'plight', 'entitlements', 'queue', 'wayne', 'excludes', 'punishing', 'airlocked', 'forest', 'cotton', 'somebody', 'ulsan', 'compute', 'beating', 'chorley', 'lancashire', 'unite', 'gilead', 'mandates', 'colored', 'adhaan', 'kuwait', 'hayya', 'salah', 'salatu', 'fi', 'buyutikum', 'prophet', 'heavy', 'rain', 'bloke', 'misso', 'fork', 'toaster', 'lie', 'plenty', 'coworking', 'wifi', 'conveniently', 'bicester', 'pratapgarh', 'karol', 'sikora', 'harveyweinstein', 'switch', 'advisories', 'dashboards', 'revoked', 'sporadic', 'imperative', 'joy', 'arackal', 'alukas', 'sft', 'cant', 'freedoms', 'eminent', 'professors', 'bumper', 'dot', 'covert', 'doorway', 'jam', 'unnecessarily', 'kdu', 'vip', 'aest', 'dal', 'lalu', 'prasad', 'yadav', 'attendants', 'charleslieber', 'hod', 'chemistry', 'harvarduniversity', 'nahua', 'yeah', 'irs', 'viralvideo', 'tumor', 'ramzaan', 'papaya', 'mosumbi', 'grape', 'sugandhi', 'banana', 'mangalore', 'shimoga', 'chikmagalur', 'thru', 'ksrtc', 'mlas', 'motivate', 'lining', 'initial', 'rtpcr', 'marred', 'outages', 'sufficiently', 'dude', 'hack', 'revokes', 'tallying', 'capture', 'requirements', 'introduction', 'focussing', 'purport', 'habit', 'remarkably', 'qq', 'unemployed', 'prospects', 'bleak', 'taxes', 'sociopathic', 'refrigerator', 'flaunts', 'blooded', 'kidnapped', 'spilled', 'underserved', 'ihme', 'leaflet', 'mailbox', 'starbug', 'eileen', 'ignorance', 'newdelhi', 'explaining', 'turnaround', 'invention', 'reflected', 'russians', 'lambert', 'roadblock', 'virality', 'trusts', 'helm', 'sharply', 'nuns', 'madhav', 'unit', 'ravindra', 'raina', 'incorrect', 'errors', 'raise', 'profit', 'psu', 'farmer', 'simplified', 'installment', 'ys', 'jagan', 'reddy', 'ormoc', 'gomez', 'poses', 'ignores', 'plates', 'relevant', 'differ', 'planted', 'fabunan', 'zambales', 'oxygenation', 'homeopath', 'crocodile', 'mosquitos', 'summers', 'resolution', 'leftover', 'ketchup', 'stephen', 'reicher', 'hotline', 'zombie', 'zombies', 'unusually', 'asymmetry', 'entities', 'outbid', 'buyers', 'demonstrations', 'accounted', 'feasible', 'visor', 'bullfighters', 'swears', 'bull', 'bulls', 'inspector', 'baroness', 'multiples', 'locals', 'fort', 'detrick', 'attack', 'rely', 'commemorate', 'reinforce', 'pns', 'sauna', 'hairdryer', 'realize', 'diseasedetective', 'rachael', 'zacks', 'unevenly', 'excerpt', 'tremendous', 'ncdcrrt', 'sormas', 'notification', 'pillar', 'consistency', 'unsafely', 'improperly', 'empower', 'rcafro', 'soccer', 'tightened', 'promotion', 'mobilization', 'sensitisation', 'ko', 'nahi', 'hota', 'weather', 'astounding', 'remembering', 'shiva', 'ciyal', 'kota', 'pakisthan', 'choke', 'tension', 'cystic', 'reversible', 'fatali', 'abruptly', 'inactivated', 'authoritarian', 'inc', 'inadvertently', 'pattinson', 'msnbc', 'harms', 'paraguayans', 'comparative', 'julius', 'berger', 'lifecamp', 'accordingly', 'perfectly', 'confined', 'louis', 'authenticity', 'aoc', 'assiduously', 'outer', 'dwaynejohnson', 'gregorypeck', 'onthebeach', 'bidding', 'irregular', 'dark', 'standardize', 'blackout', 'korean', 'drama', 'terrius', 'emerge', 'learnt', 'stayhealthy', 'livelife', 'covidlockdown', 'barotrauma', 'ards', 'newer', 'abating', 'axios', 'verifying', 'molecule', 'pink', 'someday', 'aerosolized', 'elders', 'smartphone', 'elucidate', 'subtle', 'casteism', 'doomed', 'committing', 'disappointed', 'relieved', 'facebut', 'cried', 'baffled', 'realise', 'nowdouble', 'exclamation', 'sharedouble', 'wuhaninstituteofvirologylaboratory', 'enemas', 'williambryan', 'himanta', 'biswa', 'sarma', 'alberta', 'emissions', 'wed', 'acceptable', 'stolen', 'aide', 'witzel', 'scope', 'oversight', 'eau', 'demonstrates', 'achievement', 'marist', 'reluctance', 'hardships', 'uphold', 'parasite', 'whitehouse', 'parasites', 'cutoff', 'similarly', 'alertness', 'gradual', 'liberal', 'imply', 'causal', 'protesters', 'sheets', 'unfrozen', 'eleven', 'manifestations', 'ukrainian', 'caregivers', 'afterward', 'refunds', 'changer', 'delivers', 'stamped', 'renewed', 'neighbours', 'hav', 'suspects', 'poker', 'convince', 'botafogo', 'blindingly', 'dribbling', 'basketballs', 'faded', 'sunset', 'basketball', 'lebronjames', 'christine', 'lagarde', 'smoked', 'gyani', 'cautions', 'neglecting', 'funneled', 'viralogy', 'bidensooetoro', 'rebounded', 'seventh', 'stopthespreadofcorona', 'sorts', 'saluting', 'incompletely', 'helplessness', 'detective', 'inflection', 'positioned', 'pushed', 'lets', 'panel', 'setup', 'satyendar', 'jain', 'deteriorates', 'implant', 'samoa', 'unfulfilled', 'creams', 'koolfee', 'preserved', 'milkshake', 'rough', 'colas', 'atleast', 'translates', 'tiktok', 'traveler', 'volume', 'transited', 'customs', 'vietnam', 'consumed', 'unmasked', 'biologicalweapon', 'backfired', 'biologicalweapons', 'smt', 'purnima', 'pandeyji', 'knowledgeable', 'ghiya', 'tori', 'roti', 'coronilvati', 'powers', 'legislature', 'arises', 'disappeared', 'bureaucracts', 'antennas', 'favor', 'noninvasive', 'stably', 'practiced', 'emphasizes', 'markaz', 'tabloid', 'hydroxychloroquin', 'maid', 'lpg', 'cylinders', 'briefs', 'idlis', 'dosas', 'meals', 'revenue', 'immanuel', 'soared', 'author', 'chen', 'ming', 'fang', 'dong', 'cheng', 'variations', 'unequivocally', 'wv', 'seemed', 'legitimately', 'legitfund', 'com', 'abubakar', 'weeping', 'universities', 'suppression', 'believes', 'swamped', 'grade', 'regularity', 'impacts', 'rows', 'sprawled', 'avenue', 'eamc', 'notified', 'secon', 'saadia', 'afzaal', 'studied', 'studying', 'corner', 'answered', 'maked', 'mars', 'frauds', 'spends', 'negotiating', 'consists', 'windows', 'ncdcteam', 'demystifying', 'adverse', 'reactions', 'differential', 'rec', 'fridge', 'defunding', 'madison', 'declaration', 'independence', 'immunologist', 'aucklandd', 'waitkato', 'boosts', 'denis', 'mukwege', 'congolese', 'fabricate', 'nanded', 'reaney', 'valve', 'exhaled', 'seal', 'facd', 'ingress', 'paint', 'lol', 'wobble', 'mate', 'adjust', 'ufc', 'anticipated', 'snuck', 'unforeseen', 'disagreed', 'proposing', 'lawsuits', 'jonathan', 'ashworth', 'lnjp', 'foodsafety', 'spoil', 'meats', 'eggs', 'yr', 'beaches', 'los', 'angeles', 'buenaventura', 'valle', 'cauca', 'ctor', 'hugo', 'vidal', 'complaint', 'attorney', 'functions', 'reinfection', 'friendly', 'humour', 'lgbtq', 'diversity', 'onion', 'pinch', 'helmet', 'pothole', 'targeting', 'amal', 'clooney', 'quits', 'envoy', 'emotions', 'respecting', 'lately', 'flare', 'nightly', 'portland', 'politifact', 'antifa', 'anarchists', 'marxist', 'revered', 'ego', 'satanic', 'wrecking', 'havoc', 'swiftly', 'decisively', 'ditch', 'dearicai', 'modigovtfailed', 'chenqiushi', 'zhangzhan', 'strike', 'fangbin', 'exhaustion', 'loneliness', 'backdate', 'unanimously', 'constitutes', 'cutest', 'anahita', 'stoner', 'strung', 'ttsi', 'secondly', 'eighth', 'snake', 'coronabeer', 'tireless', 'curative', 'takeresponslibility', 'paz', 'blankets', 'breakinghot', 'artificial', 'secures', 'vegetarians', 'fain', 'tosurvive', 'tailored', 'geographically', 'matches', 'fwiw', 'prophetic', 'encounters', 'goulding', 'amazed', 'bahia', 'dismissed', 'appealed', 'inaccurate', 'insects', 'camera', 'recite', 'hanuman', 'chalisa', 'misusing', 'tramps', 'inflation', 'piltdown', 'camilla', 'parker', 'bowls', 'rescuing', 'archie', 'secr', 'shoes', 'mic', 'insulting', 'statistical', 'ayurved', 'advertising', 'tennis', 'champion', 'novak', 'djokovic', 'adria', 'recipes', 'osha', 'unauthorized', 'plot', 'clintons', 'technically', 'evinindia', 'wastage', 'penalty', 'specialized', 'quantities', 'usama', 'cuz', 'mazaak', 'nahin', 'hai', 'achieves', 'reversal', 'toppling', 'meghalaya', 'poet', 'varvara', 'accused', 'bhima', 'koregaon', 'nat', 'cooling', 'hixenbaugh', 'succeeded', 'covidol', 'emotional', 'cholera', 'epidemics', 'wreaked', 'overwhelmingly', 'efficaciously', 'redouble', 'eg', 'pioneering', 'julian', 'knight', 'disastrous', 'letterbox', 'pamphlets', 'flyers', 'hairstylist', 'iowa', 'clients', 'placebopills', 'accuracy', 'historically', 'roberto', 'gazolla', 'compensated', 'inflating', 'organize', 'disposal', 'furious', 'veil', 'reluctantly', 'sucks', 'prioritize', 'simulated', 'sultanpuri', 'questioned', 'crow', 'ona', 'foghornleghorn', 'heneryhawk', 'william', 'jeanine', 'deck', 'deeper', 'cheb', 'khaled', 'algerian', 'automation', 'rehome', 'bucket', 'ac', 'ncaa', 'searching', 'exploit', 'madness', 'marchmadness', 'nfl', 'prohibit', 'stadiums', 'footballamerican', 'smart', 'anubis', 'exploratory', 'lak', 'coronavrus', 'etsy', 'chloroxylenol', 'benzalkonium', 'chloride', 'instruction', 'triggered', 'certainly', 'considerable', 'typical', 'voluntarily', 'kochi', 'prefectural', 'displaying', 'hopeful', 'filmed', 'moinhos', 'vento', 'porto', 'alegre', 'translated', 'indecipherable', 'slang', 'rudolph', 'presenting', 'triple', 'pulaski', 'overloading', 'impaired', 'dnc', 'recreated', 'powerpoint', 'sanders', 'firewood', 'rundown', 'bachelorette', 'stranger', 'rashid', 'buttar', 'solely', 'throws', 'currency', 'petrol', 'pump', 'navsari', 'tvnews', 'jockeys', 'churchill', 'kentuckyderby', 'heaven', 'uae', 'infusing', 'masturbate', 'tirur', 'escaped', 'leni', 'robredo', 'suck', 'potent', 'inhibitor', 'avoidable', 'wipes', 'mesenchymal', 'stem', 'reconsidered', 'practise', 'cardiovascular', 'superimposed', 'abbasi', 'shaheed', 'karachi', 'tricks', 'completion', 'pfms', 'tsa', 'shouldering', 'entrusted', 'nutrition', 'schooling', 'puerta', 'hierro', 'geographical', 'sampling', 'cons', 'muhammadu', 'buhari', 'shaking', 'mohammed', 'isa', 'antidote', 'retreating', 'clownvirus', 'sjws', 'apocalypse', 'islander', 'recommending', 'evidenced', 'pumps', 'carmarthen', 'neath', 'morrisons', 'coordinator', 'sniffing', 'clove', 'camphor', 'spelled', 'backwards', 'nahuw', 'richardnixon', 'napoleon', 'flooded', 'dietary', 'personalized', 'crescent', 'reductions', 'outpatient', 'invites', 'mere', 'shab', 'azadi', 'spree', 'absolutely', 'madhu', 'haldi', 'thrice', 'kadha', 'pack', 'swasari', 'grobse', 'impt', 'ventillated', 'bitte', 'blowers', 'drs', 'fur', 'im', 'merci', 'entschuldigung', 'swizerdeutsch', 'countin', 'flowers', 'nothin', 'boredom', 'augustamasters', 'islamist', 'pp', 'precious', 'woke', 'byer', 'tablet', 'midcourse', 'mailinvoting', 'achha', 'chalta', 'hu', 'breathed', 'hast', 'bask', 'warmer', 'temperatures', 'straightforward', 'fourths', 'collaborated', 'benchmark', 'independenceday', 'probe', 'justicfortarun', 'tarun', 'hum', 'sawaal', 'utakar', 'hownsle', 'todti', 'sergienko', 'hardy', 'ops', 'grueling', 'visualizations', 'damaged', 'lungtransplant', 'southdelhi', 'sergio', 'quintero', 'venezuelan', 'argued', 'ml', 'spicy', 'ours', 'raw', 'urologists', 'resists', 'mandetta', 'singles', 'denialism', 'believing', 'patronize', 'pleads', 'realistic', 'expectations', 'melasma', 'sarcastic', 'separating', 'tincture', 'betadine', 'ensures', 'stimuluschecks', 'trumppressconf', 'surrounded', 'greatwallofchina', 'ocular', 'cited', 'retrovirus', 'disinformation', 'discredited', 'immuntiy', 'promoting', 'intentional', 'filipinos', 'catastrophic', 'suckers', 'warps', 'orbit', 'frontier', 'playboy', 'ana', 'brnabic', 'agents', 'vax', 'sterility', 'fad', 'sweeping', 'headlines', 'groupies', 'orlando', 'sourabhkp', 'balanced', 'streamlining', 'flow', 'planting', 'microchips', 'showrunner', 'recast', 'nhk', 'tired', 'homeschooling', 'watches', 'wishing', 'selfisolation', 'marvin', 'humes', 'rochelle', 'shite', 'usual', 'mustafa', 'londoners', 'strange', 'construction', 'huoshenshan', 'thaali', 'bajao', 'bhabhi', 'petal', 'showers', 'lights', 'mat', 'fantasy', 'nerd', 'primate', 'rasmussen', 'finger', 'gof', 'bury', 'balasore', 'shahrukh', 'complacent', 'blackpool', 'arif', 'rajpura', 'parameters', 'approvals', 'kingswood', 'morrinsville', 'miles', 'mas', 'separated', 'exhaustive', 'homoeopathic', 'spo', 'anybody', 'plotting', 'boe', 'guided', 'sabotage', 'reliance', 'jio', 'telecom', 'transfer', 'vulgar', 'intentionally', 'reinfected', 'subsequent', 'wards', 'aroha', 'described', 'bigpharmapuppets', 'ftse', 'pound', 'investors', 'prospect', 'tougher', 'tasty', 'fry', 'refreshing', 'alcoholic', 'beverage', 'headed', 'athens', 'antiseptic', 'lowering', 'correctional', 'detention', 'organizers', 'alternatives', 'handshakes', 'reassurance', 'rigorous', 'threads', 'keqiang', 'antivirus', 'nrl', 'unwashed', 'isabel', 'cela', 'purple', 'demonstration', 'afraid', 'nr', 'waitemat', 'hailed', 'doug', 'entertained', 'shark', 'btk', 'acalabrutinib', 'creeping', 'approving', 'encorafenib', 'cetuximab', 'braf', 'mcrc', 'pearls', 'jidea', 'refactor', 'extend', 'npis', 'codecheck', 'bel', 'inch', 'earned', 'godelhiites', 'willto', 'defended', 'retweet', 'declines', 'gemma', 'collins', 'anatomy', 'nuc', 'vrs', 'realism', 'respirator', 'shrime', 'exaggerating', 'cocktails', 'pibfactcheck', 'drauzio', 'varella', 'defends', 'lockout', 'fruition', 'solving', 'cccs', 'outset', 'authoritie', 'mobilise', 'msmes', 'disbursed', 'mahila', 'arogya', 'samitis', 'necessities', 'hy', 'systematic', 'ghaziabad', 'dripping', 'covidstudy', 'novotel', 'outstanding', 'progressives', 'martial', 'singer', 'sharda', 'sinha', 'sender', 'mergecaexamsjulyandnov', 'icai', 'icairespondnow', 'pls', 'gods', 'priests', 'mac', 'phd', 'tent', 'viamed', 'calahorra', 'rioja', 'threshold', 'imminent', 'occasionally', 'lengthy', 'divided', 'stickers', 'alternate', 'seats', 'signages', 'metrobackontrack', 'philosophy', 'presidents', 'hearings', 'courtrooms', 'fungus', 'characterised', 'shincheonji', 'perspective', 'confusion', 'impression', 'concentrating', 'forbidding', 'relationships', 'personalised', 'thrombotic', 'meharry', 'hildreth', 'backtrack', 'coronavaccine', 'implicitly', 'nervous', 'democraticdebate', 'datasets', 'huckabee', 'odd', 'insurgency', 'unleashed', 'listing', 'advisor', 'partnering', 'enlist', 'lows', 'gaiman', 'faerie', 'folk', 'sampoerna', 'cigarette', 'critiqued', 'thumbs', 'panama', 'canal', 'cruiseships', 'panamacanal', 'frenzy', 'malaysian', 'remarkable', 'avifavir', 'shopper', 'taskforce', 'constituted', 'qatar', 'rinascer', 'rinascerai', 'ills', 'expensive', 'bracelet', 'placed', 'bounced', 'artifact', 'dems', 'tobacconists', 'stars', 'socialism', 'saves', 'berniesanders', 'fidelcastro', 'rishi', 'sunak', 'campai', 'bolivar', 'sdsm', 'muhamed', 'zekiri', 'shoot', 'ceiling', 'theaters', 'whistling', 'charm', 'norway', 'oslo', 'mylan', 'innovative', 'infinity', 'congregations', 'phenomenon', 'incontext', 'arizonans', 'widening', 'toi', 'ohomai', 'raam', 'worlds', 'disastrously', 'transparently', 'reiterated', 'reinforced', 'nigella', 'fevers', 'prattle', 'unequally', 'mentalhealth', 'sharechat', 'publichealthreports', 'papers', 'inviting', 'publichealth', 'eager', 'upside', 'bitter', 'gourd', 'nodal', 'andrews', 'selfish', 'outlined', 'fom', 'constructed', 'downloaded', 'entries', 'labels', 'hapless', 'pharmacological', 'perspectives', 'derivatives', 'hardworking', 'unsung', 'guillermo', 'responder', 'tallied', 'responsibly', 'directing', 'cessation', 'mortuary', 'eerily', 'unofficial', 'rollingstones', 'imposters', 'hazmat', 'suits', 'stockton', 'calif', 'robbery', 'jessica', 'travels', 'whining', 'btw', 'weights', 'usurped', 'technologies', 'utilized', 'drain', 'swamp', 'relieve', 'lessen', 'localised', 'clinician', 'underscore', 'junos', 'reconfigure', 'participated', 'lugansk', 'separatist', 'scattered', 'sanitized', 'pna', 'disobeying', 'falsely', 'huawei', 'distracting', 'huaweiwatchgt', 'chinacoronavirus', 'corononavirus', 'swabbing', 'preferred', 'implanting', 'thirteen', 'jean', 'roger', 'rivals', 'outline', 'mates', 'hunting', 'activation', 'afriglobal', 'medicare', 'sahel', 'intake', 'toxin', 'shuts', 'ophthalmologist', 'untoward', 'morbidityas', 'abandoned', 'hut', 'brick', 'tray', 'cups', 'disheveled', 'confident', 'indianarmy', 'coronawarriorsindia', 'salutecoronawarriors', 'sang', 'anthem', 'itaperuna', 'exclusion', 'docs', 'pharmacy', 'bendigo', 'actuals', 'nassarawa', 'salwar', 'bailed', 'floors', 'electric', 'flies', 'makhi', 'goverment', 'empowered', 'preppers', 'constant', 'announcements', 'humidity', 'jewellry', 'joyalukkas', 'grief', 'miscarriage', 'legend', 'rollingstonevaccineforcv', 'keithholdskeytovirusvaccine', 'rockandrollvaccine', 'resolutely', 'moh', 'inauguration', 'adiabo', 'carlos', 'unimed', 'michigans', 'tommy', 'tuberville', 'clue', 'positions', 'coats', 'foretold', 'havard', 'shi', 'reservoir', 'demolished', 'stations', 'henry', 'kissinger', 'unified', 'racist', 'wuflu', 'knowing', 'faced', 'conclusions', 'contrary', 'assertions', 'undercount', 'parameter', 'projected', 'ruining', 'wedge', 'lime', 'insolvency', 'broadest', 'unreliable', 'aggregate', 'reasonably', 'taj', 'mahal', 'cremations', 'ferrari', 'disgrace', 'dealt', 'projection', 'astrologer', 'abhigyan', 'anand', 'thecoronavirus', 'builds', 'stabilise', 'functioning', 'muammar', 'gaddafi', 'antidotes', 'solvent', 'recalling', 'ducey', 'collaborates', 'mckesson', 'hiding', 'amatitl', 'brisbane', 'recruiting', 'confront', 'ya', 'fluent', 'physics', 'patiently', 'slurry', 'rocked', 'elvis', 'elvispresley', 'rocknroll', 'memphis', 'elvislives', 'gracelands', 'hv', 'infra', 'spreader', 'stigmas', 'hang', 'policewoman', 'dizzy', 'horrified', 'controllable', 'synagogue', 'requisition', 'motorway', 'leaning', 'snapchat', 'koreans', 'bandwagon', 'swept', 'unhealthy', 'environments', 'flatlands', 'hills', 'disparate', 'ugly', 'compatible', 'secondary', 'pulmonologists', 'orleans', 'pelicans', 'allocating', 'scarce', 'medics', 'enhancement', 'policeman', 'migrating', 'ghebreyesus', 'voiceover', 'interactive', 'texts', 'portraying', 'catastrophe', 'imagine', 'inundated', 'cautioning', 'jamati', 'misbehavior', 'trainees', 'jkuat', 'cone', 'visors', 'sewage', 'dwarf', 'photographs', 'prostrate', 'remotely', 'agent', 'inferring', 'predicament', 'combine', 'dirty', 'cpap', 'rohini', 'flyover', 'kilos', 'bullet', 'holes', 'corruption', 'newyorkcity', 'rackets', 'unstable', 'freeze', 'hig', 'custody', 'usable', 'gloriously', 'otoh', 'shade', 'flatter', 'bacchan', 'subject', 'advisers', 'birx', 'audience', 'rating', 'downtown', 'adtd', 'versus', 'correlation', 'mandate', 'exp', 'yangon', 'havent', 'weekday', 'excluding', 'outlier', 'reminding', 'buddhist', 'smugly', 'buddhism', 'casually', 'props', 'karimganj', 'sierra', 'seroprevalence', 'igg', 'iga', 'igm', 'concerts', 'scraper', 'pioneer', 'jaroslav', 'belsky', 'bean', 'collapsed', 'sinn', 'varadkar', 'debunks', 'ownership', 'sleepless', 'nights', 'selfless', 'troops', 'indicative', 'checker', 'downloads', 'violations', 'defeated', 'meddling', 'gently', 'runni', 'lea', 'disproven', 'masked', 'sexyteens', 'attract', 'punishment', 'strengthened', 'cent', 'wits', 'chinatown', 'edited', 'vih', 'hockey', 'nhl', 'cancers', 'demi', 'lovato', 'ghazibad', 'stemi', 'depended', 'rex', 'johnwayne', 'cabin', 'mainland', 'renovations', 'implying', 'distractions', 'rheaarrested', 'swung', 'suntan', 'nicely', 'thesun', 'tan', 'physique', 'sunbathing', 'salman', 'namaskar', 'adaab', 'assalamu', 'alaikum', 'bidhuri', 'immunoglobulin', 'encephalitis', 'marginally', 'cobey', 'evolutionary', 'biologist', 'neighbors', 'cannabis', 'embassy', 'unsure', 'journalists', 'ceremonial', 'unto', 'inhibits', 'tc', 'increas', 'reiterates', 'inaugural', 'invest', 'maks', 'goggles', 'universally', 'shock', 'diligence', 'unverified', 'evolves', 'empress', 'astonishingly', 'cru', 'nursinghome', 'loredo', 'weird', 'clogged', 'hurdles', 'emergencies', 'fluv', 'forgive', 'flattenthecurve', 'mortgage', 'shea', 'periodic', 'kazakhstanis', 'anosmia', 'diminished', 'ageusia', 'telltale', 'sindh', 'humvee', 'epicentre', 'explosive', 'spirullina', 'anise', 'carries', 'tamiflu', 'dissimilar', 'niv', 'kashmir', 'misuse', 'esophagus', 'tummy', 'dhbs', 'adventure', 'mali', 'reclassified', 'banlic', 'cabuyao', 'laguna', 'sorrow', 'audi', 'demonstrate', 'chanakya', 'lotus', 'glare', 'pretence', 'savarkar', 'peddled', 'constructing', 'bigly', 'retractable', 'dome', 'bryan', 'steil', 'tru', 'westminster', 'parlors', 'letting', 'utpol', 'depicts', 'cheerleaders', 'wring', 'aworldindisorder', 'mural', 'legitimate', 'portend', 'pak', 'rrt', 'ramp', 'tinapa', 'qd', 'illustrations', 'patience', 'dominated', 'continuo', 'bayer', 'ag', 'woods', 'bigpharma', 'repositories', 'guidances', 'catfish', 'reais', 'asprin', 'folic', 'manifests', 'multiplies', 'inthe', 'chlorhexidine', 'sums', 'overheard', 'perfected', 'hosting', 'bhanhealth', 'plunge', 'nigh', 'opposes', 'kennedy', 'unsafe', 'reward', 'hippocratic', 'oath', 'mathematically', 'renew', 'pmet', 'revise', 'darin', 'lahood', 'casesare', 'gassed', 'ghislainemaxwell', 'crematorium', 'parmeshwar', 'arora', 'consultant', 'gangaram', 'colony', 'gurgaon', 'briefed', 'crashed', 'karipurairport', 'supplying', 'engages', 'phoning', 'emailing', 'wondrous', 'painted', 'lactancy', 'socioeconomic', 'dimension', 'pinpoint', 'pied', 'piper', 'potomac', 'disbands', 'unbands', 'cardiotwitter', 'lopez', 'sheltering', 'inches', 'jlo', 'wheelchairs', 'abakaliki', 'germaphobe', 'howie', 'mandel', 'simoncowell', 'criticizing', 'placing', 'bioengineered', 'reacting', 'rfid', 'beast', 'bubonic', 'carts', 'lurk', 'dilute', 'distanc', 'billiion', 'deferral', 'shady', 'sanction', 'ftc', 'chennai', 'catalyst', 'preventable', 'pneumococcal', 'tunisians', 'manila', 'jetpark', 'cutlery', 'owned', 'exhibit', 'mannequins', 'deceive', 'relaxing', 'congrasswoman', 'ilhan', 'omar', 'wars', 'cashew', 'checken', 'cashewchicken', 'plasmatherapy', 'incorporated', 'clemson', 'mascot', 'southcarolina', 'supress', 'fixes', 'violently', 'handcuffs', 'cnbc', 'survives', 'recognizing', 'autohemotherapy', 'rome', 'devbhatt', 'operated', 'handled', 'disheartening', 'stoned', 'statins', 'meta', 'retrospective', 'blogger', 'overseeing', 'sgrh', 'nites', 'manaus', 'nelson', 'teich', 'fraudulent', 'llano', 'corrientes', 'tablik', 'possession', 'lacks', 'recap', 'journeys', 'safer', 'drakeford', 'unstoppable', 'beet', 'understood', 'speeches', 'scathing', 'indictment', 'noel', 'gallagher', 'queuing', 'nm', 'chaco', 'tone', 'award', 'rightward', 'forecasting', 'exceeding', 'sleeping', 'soundly', 'facewine', 'secluedo', 'twatty', 'staggered', 'atul', 'garg', 'oldies', 'liberate', 'hsipaw', 'township', 'marked', 'nabarro', 'bother', 'doubles', 'dig', 'argues', 'compose', 'activecases', 'dhs', 'hid', 'dhsreport', 'stalling', 'diphtheria', 'tetanus', 'pertussis', 'dtp', 'measle', 'assassination', 'mahmoud', 'bazarti', 'exceptional', 'dimensions', 'acquire', 'tangled', 'gums', 'laxative', 'andywarhol', 'ayurveda', 'practitioner', 'devender', 'sharma', 'motivation', 'keeppushing', 'deliberating', 'contempl', 'confidential', 'kissing', 'blarney', 'combating', 'palermo', 'favipravir', 'inadequate', 'financing', 'inefficiency', 'inability', 'dots', 'reserved', 'ashley', 'intubate', 'dargah', 'covidnet', 'infertility']\n"
          ]
        }
      ]
    },
    {
      "cell_type": "code",
      "source": [
        "print (\"prediction scores:        \",   scores)\n",
        "print (\"\\nLRP target class:         \", target_class)\n",
        "print (\"\\nLRP relevances:\")\n",
        "for idx, w in enumerate(words):\n",
        "    print (\"\\t\\t\\t\" + \"{:8.2f}\".format(R_words[idx]) + \"\\t\" + w)\n",
        "print (\"\\nLRP heatmap:\")    \n",
        "display(HTML(html_heatmap(words, R_words)))"
      ],
      "metadata": {
        "id": "p1l1kMvSNex7",
        "colab": {
          "base_uri": "https://localhost:8080/",
          "height": 503
        },
        "outputId": "1d95b10f-b5c3-4a4b-d56f-7b044c1e1dc3"
      },
      "execution_count": null,
      "outputs": [
        {
          "output_type": "stream",
          "name": "stdout",
          "text": [
            "prediction scores:         [-4.43595332 -1.39615754  1.29417753  1.7439628  -0.06750484]\n",
            "\n",
            "LRP target class:          3\n",
            "\n",
            "LRP relevances:\n",
            "\t\t\t    0.24\tindiafightscorona\n",
            "\t\t\t   -0.22\twe\n",
            "\t\t\t   -0.12\thave\n",
            "\t\t\t    1.12\tcovid\n",
            "\t\t\t    0.55\ttesting\n",
            "\t\t\t    0.22\tlaboratories\n",
            "\t\t\t   -0.15\tin\n",
            "\t\t\t   -0.06\tindia\n",
            "\t\t\t    0.01\tand\n",
            "\t\t\t   -0.03\tas\n",
            "\t\t\t    0.33\ton\n",
            "\t\t\t    0.22\tth\n",
            "\t\t\t    0.25\taugust\n",
            "\t\t\t   -0.03\ttests\n",
            "\t\t\t   -0.01\thave\n",
            "\t\t\t    0.07\tbeen\n",
            "\t\t\t   -0.10\tdone\n",
            "\t\t\t    0.57\tdg\n",
            "\t\t\t    0.16\tstaysafe\n",
            "\t\t\t   -0.16\tindiawillwin\n",
            "\n",
            "LRP heatmap:\n"
          ]
        },
        {
          "output_type": "display_data",
          "data": {
            "text/plain": [
              "<IPython.core.display.HTML object>"
            ],
            "text/html": [
              "<span style=\"background-color:#ffcaca\">indiafightscorona</span> <span style=\"background-color:#ccccff\">we</span> <span style=\"background-color:#e3e3ff\">have</span> <span style=\"background-color:#ff0000\">covid</span> <span style=\"background-color:#ff8080\">testing</span> <span style=\"background-color:#ffcece\">laboratories</span> <span style=\"background-color:#dedeff\">in</span> <span style=\"background-color:#f2f2ff\">india</span> <span style=\"background-color:#fffefe\">and</span> <span style=\"background-color:#fafaff\">as</span> <span style=\"background-color:#ffb2b2\">on</span> <span style=\"background-color:#ffcece\">th</span> <span style=\"background-color:#ffc6c6\">august</span> <span style=\"background-color:#fafaff\">tests</span> <span style=\"background-color:#fcfcff\">have</span> <span style=\"background-color:#ffeeee\">been</span> <span style=\"background-color:#e8e8ff\">done</span> <span style=\"background-color:#ff7c7c\">dg</span> <span style=\"background-color:#ffdada\">staysafe</span> <span style=\"background-color:#dadaff\">indiawillwin</span> \n"
            ]
          },
          "metadata": {}
        }
      ]
    },
    {
      "cell_type": "code",
      "source": [
        "# How to sanity check global relevance conservation:\n",
        "bias_factor        = 1.0                                             # value to use for sanity check\n",
        "Rx, Rx_rev, R_rest = net.lrp(w_indices, target_class, eps, bias_factor)\n",
        "R_tot              = Rx.sum() + Rx_rev.sum() + R_rest.sum()          # sum of all \"input\" relevances\n",
        "\n",
        "print(R_tot)       ;    print(\"Sanity check passed? \", np.allclose(R_tot, net.s[target_class]))"
      ],
      "metadata": {
        "id": "w5MeH3vaP3DA",
        "colab": {
          "base_uri": "https://localhost:8080/"
        },
        "outputId": "27c8ec4f-8642-4f48-87db-a08dcb4762f2"
      },
      "execution_count": null,
      "outputs": [
        {
          "output_type": "stream",
          "name": "stdout",
          "text": [
            "1.7439627997789005\n",
            "Sanity check passed?  True\n"
          ]
        }
      ]
    },
    {
      "cell_type": "markdown",
      "source": [
        "**Compute SA/GI relevances**"
      ],
      "metadata": {
        "id": "KSoy4b8bP9VI"
      }
    },
    {
      "cell_type": "code",
      "source": [
        "net              = LSTM_bidi()                                       # load trained LSTM model\n",
        "\n",
        "w_indices        = [net.voc.index(w) for w in words]                 # convert input sentence to word IDs\n",
        "Gx, Gx_rev       = net.backward(w_indices, target_class)             # perform gradient backpropagation\n",
        "R_words_SA       = (np.linalg.norm(Gx + Gx_rev, ord=2, axis=1))**2   # compute word-level Sensitivity Analysis relevances\n",
        "R_words_GI       = ((Gx + Gx_rev)*net.x).sum(axis=1)                 # compute word-level GradientxInput relevances\n",
        "\n",
        "scores           = net.s.copy()                                      # classification prediction scores "
      ],
      "metadata": {
        "id": "3im2-BFpP3GI",
        "colab": {
          "base_uri": "https://localhost:8080/"
        },
        "outputId": "7c7d9134-6425-4803-b85a-ac4d5e51c4d3"
      },
      "execution_count": null,
      "outputs": [
        {
          "output_type": "stream",
          "name": "stdout",
          "text": [
            "['the', 'cdc', 'currently', 'reports', 'deaths', 'in', 'general', 'discrepancies', 'death', 'counts', 'between', 'different', 'sources', 'are', 'small', 'and', 'explicable', 'toll', 'stands', 'at', 'roughly', 'people', 'today', 'states', 'reported', 'a', 'rise', 'from', 'last', 'tuesday', 'southern', 'of', 'those', 'politically', 'correct', 'woman', 'almost', 'uses', 'pandemic', 'as', 'excuse', 'not', 'to', 'reuse', 'plastic', 'bag', 'coronavirus', 'nashville', 'indiafightscorona', 'we', 'have', 'covid', 'testing', 'laboratories', 'india', 'on', 'th', 'august', 'tests', 'been', 'done', 'dg', 'staysafe', 'indiawillwin', 'populous', 'can', 'generate', 'large', 'case', 'but', 'if', 'you', 'look', 'new', 'cases', 'per', 'million', 'smaller', 'showing', 'more', 'than', 'california', 'or', 'texas', 'al', 'ar', 'id', 'ks', 'ky', 'la', 'ms', 'nv', 'sc', 'act', 'now', 'found', 'average', 'each', 'person', 'illinois', 'with', 'is', 'infecting', 'other', 'data', 'shows', 'that', 'infection', 'growth', 'rate', 'has', 'declined', 'over', 'time', 'this', 'factors', 'stay', 'home', 'order', 'restrictions', 'put', 'place', 'tested', 'positive', 'for', 'no', 'symptoms', 'away', 'learn', 'about', 's', 'recommendations', 'when', 'be', 'around', 'others', 'after', 'obama', 'calls', 'trump', 'response', 'chaotic', 'disaster', 'clearly', 'administration', 'did', 'leave', 'any', 'kind', 'game', 'plan', 'something', 'like', 'retraction', 'hydroxychloroquine', 'chloroquine', 'without', 'macrolide', 'treatment', 'multinational', 'registry', 'analysis', 'lancet', 'take', 'simple', 'daily', 'precautions', 'help', 'prevent', 'spread', 'respiratory', 'illnesses', 'how', 'protect', 'yourself', 'nba', 'poised', 'restart', 'month', 'march', 'utah', 'jazz', 'got', 'matter', 'hours', 'u', 'was', 'sluggish', 'just', 'announced', 'first', 'participants', 'age', 'cohort', 'dosed', 'phase', 'study', 'our', 'mrna', 'vaccine', 'against', 'novel', 'read', 'coronavirusupdates', 'lakh', 'rd', 'successive', 'day', 'cumulative', 'date', 'reached', 'tpm', 'cross', 'using', 'public', 'transportation', 'practice', 'social', 'distancing', 'avoid', 'touching', 'surfaces', 'hand', 'hygiene', 'am', 'till', 'there', 'total', 'amp', 'related', 'manipur', 'covidindia', 'covidupdates', 'coronaupdates', 'corona', 'coronavirusindia', 'coronaviruspandemic', 'because', 'donald', 'negligence', 'incompetence', 'died', 'nearly', 'americans', 'out', 'work', 'yet', 'he', 'patting', 'himself', 'back', 'unbelievable', 'continues', 'scale', 'peaks', 'samples', 'consecutive', 'days', 'country', 'achieved', 'these', 'levels', 'very', 'high', 'shipped', 'vials', 'company', 'nih', 'used', 'planned', 'multiple', 'facebook', 'posts', 'claim', 'aussies', 'will', 'fined', 'they', 'talking', 'conspiracies', 'do', 'included', 'screenshot', 'segment', 'an', 'australian', 'breakfast', 'television', 'show', 'evidence', 'nobel', 'prize', 'laureate', 'tasuku', 'honjo', 'didn', 't', 'say', 'natural', 'post', 'claims', 'fact', 'professor', 'said', 'greatly', 'saddened', 'his', 'name', 'misinformation', 'latest', 'coronacheck', 'nz', 'tracker', 'app', 'remain', 'important', 'useful', 'alert', 'level', 'encouraged', 'download', 'similar', 'one', 'keep', 'record', 'where', 're', 'going', 'breaking', 'news', 'president', 'cryill', 'ramaphosa', 'asked', 'all', 'foreign', 'nations', 'depart', 'south', 'africa', 'before', 'june', 'due', 'increasing', 'delighted', 'upper', 'middle', 'countries', 'economies', 'confirmed', 'participate', 'covax', 'facility', 'number', 'growing', 'i', 'urge', 'who', 'joined', 'so', 'by', 'september', 'intriguing', 'possibility', 'mood', 'changes', 'anxiety', 'may', 'function', 'invasion', 'into', 'cns', 'brain', 'elon', 'musck', 'baby', 'get', 'job', 'kid', 'christmas', 'elonmusk', 'achristmascarol', 'alcohol', 'free', 'sanitizer', 'developed', 'dedan', 'kimathi', 'university', 'kenya', 'appendix', 'b', 'gathering', 'state', 'orders', 'huge', 'chunk', 'same', 'goes', 'd', 'evaluation', 'accessibility', 'yesterday', 'completed', 'were', 'managed', 'isolation', 'quarantine', 'routine', 'either', 'their', 'brings', 'reusing', 'n', 'masks', 'vaporized', 'hydrogen', 'peroxide', 'uv', 'light', 'heat', 'effective', 'sanitizers', 'shifted', 'focus', 'moments', 'coronavirusoutbreak', 'updated', 'running', 'timeline', 'virus', 'reply', 'us', 'recent', 'think', 'belong', 'list', 'doctored', 'image', 'shared', 'claiming', 'chant', 'hare', 'krishna', 'rama', 'fourthofjuly', 'weekend', 'choose', 'spend', 'outdoors', 'event', 'ft', 'apart', 'wear', 'cloth', 'face', 'cover', 'slow', 'recommends', 'mothers', 'stop', 'breastfeeding', 'boost', 'efficacy', 'singapore', 'airlines', 'haults', 'flights', 'outbreak', 'florida', 'governor', 'ron', 'desantis', 'botches', 'banning', 'beer', 'flatten', 'curve', 'apologise', 'government', 'ekiti', 'error', 'committed', 'improving', 'quality', 'control', 'processes', 'ensure', 'accurate', 'transparent', 'reporting', 'nyt', 'invented', 'video', 'doctor', 'fighting', 'hospital', 'break', 'k', 'alone', 'being', 'cough', 'directly', 'onto', 'launched', 'solidarity', 'fund', 'which', 'far', 'mobilized', 'm', 'individuals', 'companies', 'philanthropies', 'addition', 'billion', 'member', 'generous', 'support', 'football', 'player', 'cristiano', 'ronaldo', 'turned', 'hotels', 'hospitals', 'patients', 'paying', 'doctors', 'staff', 'including', 'again', 'asymptomatic', 'workers', 'involved', 'airport', 'border', 'part', 'wider', 'surveillance', 'measures', 'expected', 'operational', 'early', 'july', 'don', 'want', 'national', 'lockdown', 'progress', 'uk', 'pm', 'says', 'govt', 'further', 'insists', 'doesn', 'second', 'here', 'update', 'published', 'recoveries', 'exceeded', 'top', 'active', 'caseload', 'also', 'ones', 'presently', 'current', 'capacity', 'gives', 'excess', 'next', 'week', 'projecting', 'arrivals', 'departures', 'facilities', 'schools', 'struggling', 'cope', 'lack', 'infections', 'since', 'it', 'became', 'compulsory', 'pupils', 'return', 'should', 'your', 'child', 'explainer', 'scientists', 'astrazeneca', 'complain', 'keeps', 'delayed', 'noddy', 'holder', 'ringing', 'up', 'ask', 'ready', 'widely', 'mask', 'them', 'incl', 'wearamask', 'doyourpart', 'worldmaskweek', 'covidnigeria', 'lagos', 'gombe', 'plateau', 'kwara', 'enugu', 'ogun', 'katsina', 'bauchi', 'osun', 'rivers', 'discharged', 'already', 'test', 'rt', 'sustained', 'surges', 'ahead', 'highest', 'single', 'recovery', 'nearl', 'italy', 'surrendered', 'exhausted', 'forced', 'protective', 'medical', 'donaldtrump', 'cia', 'fbi', 'iud', 'moving', 'offline', 'reddit', 'user', 'posted', 'flyer', 'site', 'told', 'had', 'delive', 'orwell', 'dead', 'living', 'under', 'bridge', 'continued', 'toiletpaper', 'georgeorwell', 'residents', 'york', 'what', 'rule', 'allows', 'england', 'fail', 'self', 'isolate', 'click', 'central', 'given', 'permission', 'open', 'approved', 'labs', 'consist', 'pvt', 'covidtesting', 'come', 'pressure', 'availability', 'fewer', 'kids', 'dying', 'white', 'paper', 'examines', 'why', 'although', 'affected', 'continue', 'see', 'intense', 'transmission', 'relatively', 'group', 'justin', 'trudeau', 'resigns', 'amidst', 'george', 'soros', 'responsible', 'born', 'laboratory', 'sensitivity', 'definitely', 'specialists', 'seen', 'real', 'haven', 'looked', 'hard', 've', 'doing', 'things', 'experts', 'call', 'cow', 'dung', 'urine', 'yoga', 'ayush', 'treat', 'main', 'mode', 'through', 'droplets', 'possible', 'infected', 'smokers', 'blow', 'carrying', 'exhale', 'regardless', 'steer', 'clear', 'smoke', 'cause', 'various', 'health', 'problems', 'article', 'bill', 'gates', 'would', 'modify', 'human', 'dna', 'dyk', 'handwashing', 'remains', 'best', 'ways', 'viruses', 'according', 'department', 'haryana', 'recoveryrate', 'gurugram', 'sundays', 'mondays', 'tend', 'numbers', 'dip', 'still', 'rising', 'hospitalizations', 'jump', 'sunday', 'holiday', 'report', 'world', 'organization', 'brazailian', 'parliament', 'went', 'empty', 'thousands', 'times', 'twitter', 'youtube', 'salt', 'remedy', 'un', 'secretary', 'antonio', 'guterres', 'dramatically', 'derailed', 'sustainable', 'development', 'goals', 'question', 'made', 'eradication', 'poverty', 'hunger', 'instagram', 'tainted', 'circulation', 'many', 'months', 'across', 'tracked', 'bulk', 'louisiana', 'philippines', 'senators', 'grace', 'poe', 'risa', 'hontiveros', 'silent', 'crisis', 'vocal', 'closure', 'abs', 'cbn', 'contribute', 'fatality', 'most', 'consequence', 'seeing', 'syndemic', 'underline', 'its', 'origins', 'vulnerability', 'older', 'citizens', 'black', 'asian', 'minority', 'ethnic', 'communities', 'key', 'commonly', 'poorly', 'paid', 'welfare', 'protections', 'scales', 'tota', 'italian', 'nobody', 'dangerous', 'flu', 'seasonal', 'influenza', 'vaccination', 'mandatory', 'georgia', 'fall', 'mortality', 'rates', 'significantly', 'lower', 'fatalities', 'caused', 'mt', 'roskill', 'evangelical', 'fellowship', 'bereavement', 'sub', 'cluster', 'includes', 'whose', 'source', 'events', 'zealand', 'receiving', 'care', 'bringing', 'covidnz', 'april', 'breakdown', 'fct', 'kano', 'oyo', 'edo', 'kaduna', 'akwa', 'ibom', 'delta', 'ondo', 'niger', 'benue', 'anambra', 'borno', 'jigawa', 'biggest', 'change', 'hospitalized', 'seem', 'likely', 'decline', 'soon', 'recovered', 'via', 'galicia', 'enabled', 'commitment', 'set', 'expanding', 'mechanisms', 'details', 'visit', 'icmrfightscovid', 'jordanian', 'minister', 'conspiracy', 'pregnant', 'women', 'higher', 'premature', 'births', 'trials', 'underway', 'once', 'projects', 'complete', 'controlling', 'effectively', 'easier', 'proper', 'medicines', 'vaccines', 'etc', 'infectious', 'diseases', 'acquired', 'locally', 'unknown', 'compare', 'mexico', 'population', 'even', 'close', 'community', 'auckland', 'based', 'connected', 'existing', 'contacts', 'household', 'previously', 'investigation', 'gp', 'wellington', 'precautionary', 'message', 'catch', 'fire', 'amount', 'hands', 'lady', 'applying', 'near', 'stove', 'ended', 'burning', 'her', 'rudy', 'giuliani', 'bought', 'shares', 'novartis', 'primary', 'supplier', 'february', 'student', 'pondicherry', 'accepted', 'footballer', 'turning', 'records', 'ever', 'peak', 'exceed', 'fever', 'runny', 'nose', 'came', 'suddenly', 'good', 'chance', 'could', 'watch', 'find', 'fightflu', 'pandas', 'china', 'zoo', 'mumbai', 'district', 'maharastra', 'coronaupdatesinindia', 'weekly', 'rhinovirus', 'include', 'common', 'cold', 'suspected', 'causing', 'some', 'become', 'severely', 'ill', 'means', 'require', 'hospitalization', 'intensive', 'ventilator', 'breathe', 'die', 'camila', 'pitanga', 'brazilian', 'actress', 'contracted', 'she', 'caught', 'malaria', 'admitting', 'wrong', 'causes', 'sudden', 'syndrome', 'gap', 'parties', 'deadly', 'consequences', 'cabinet', 'office', 'michael', 'gove', 'shift', 'emphasis', 'working', 'kayburley', 'gross', 'well', 'quite', 'refuse', 'table', 'dashboard', 'reasons', 'beyond', 'me', 'looking', 'drove', 'increase', 'seems', 'much', 'solid', 'driven', 'lost', 'view', 'bihar', 'extends', 'nationalist', 'congress', 'party', 'chief', 'sharad', 'pawar', 'residence', 'four', 'profits', 'wants', 'reduce', 'held', 'virtual', 'meeting', 'uts', 'adequate', 'oxygen', 'healthcare', 'unrestricted', 'intra', 'inter', 'movement', 'hcps', 'attend', 'coca', 'aug', 'et', 'zoom', 'topic', 'telehealth', 'implementation', 'stories', 'field', 'healthy', 'year', 'old', 'boy', 'life', 'collection', 'every', 'team', 'collates', 'results', 'received', 'inform', 'nigerians', 'finally', 'version', 'racial', 'partnership', 'major', 'effort', 'project', 'volunteers', 'hope', 'acc', 'incubation', 'period', 'exposure', 'becoming', 'symptom', 'onset', 'median', 'estimates', 'long', 'nasal', 'side', 'effects', 'bring', 'combined', 'probable', 'having', 'two', 'middlemore', 'north', 'shore', 'neither', 'icu', 'publication', 'hiv', 'interruptions', 'allow', 'programs', 'risks', 'save', 'lives', 'full', 'authors', 'jennifersmith', 'timothyhallett', 'transparency', 'leaders', 'vital', 'during', 'must', 'access', 'make', 'informed', 'decisions', 'own', 'behavior', 'az', 'model', 'projections', 'advised', 'reassured', 'coming', 'rapid', 'nfeltp', 'strengthen', 'lgas', 'provides', 'newly', 'reactivated', 'lga', 'walk', 'sites', 'increased', 'awareness', 'grassroot', 'five', 'viz', 'maharashtra', 'tamil', 'nadu', 'andhra', 'pradesh', 'karnataka', 'uttar', 'contributed', 'began', 'screening', 'passengers', 'modi', 'mandated', 'universal', 'internat', 'l', 'only', 'detected', 'indian', 'military', 'bio', 'weapon', 'army', 'indore', 'police', 'injecting', 'blood', 'muslims', 'photo', 'clip', 'couple', 'treating', 'dataset', 'does', 'nyc', 'separate', 'accounting', 'lab', 'youth', 'sports', 'organizations', 'resume', 'activities', 'visitor', 'coach', 'gets', 'sick', 'offers', 'tips', 'safety', 'players', 'visitors', 'politician', 'ministry', 'reviews', 'management', 'districts', 'exhibiting', 'leaked', 'too', 'humans', 'planet', 'globalwarming', 'another', 'known', 'problem', 'washington', 'rock', 'system', 'gummed', 'spraying', 'pesticides', 'night', 'declared', 'posting', 'punishable', 'offense', 'socialdistance', 'sign', 'pledge', 'bypass', 'use', 'bleach', 'solutions', 'disinfecting', 'products', 'food', 'identifie', 'kits', 'available', 'dispels', 'doubts', 'raised', 'failure', 'clinical', 'continuing', 'expert', 'committee', 'reappraisal', 'significant', 'mutation', 'sars', 'cov', 'icmr', 'actively', 'exploring', 'saliva', 'thirty', 'nine', 'gps', 'written', 'bmj', 'calling', 'action', 'expressing', 'cautious', 'optimism', 'go', 'late', 'spring', 'unclear', 'longer', 'distribute', 'context', 'situation', 'check', 'roundup', 'tackled', 'transitional', 'producing', 'erratic', 'artificially', 'deflated', 'status', 'stated', 'upto', 'sample', 'patient', 'dhanbad', 'daniel', 'radcliffe', 'lakshadweep', 'arunachalpradesh', 'mizoram', 'hrs', 'end', 'november', 'dranthonyfauci', 'smallpox', 'believe', 'affects', 'body', 'former', 'rep', 'trey', 'gowdy', 'wrote', 'essay', 'past', 'media', 'democrats', 'election', 'equity', 'everyone', 'opportunity', 'address', 'standing', 'inequities', 'groups', 'risk', 'healthequity', 'strategy', 'product', 'pages', 'offering', 'toxic', 'chlorine', 'dioxide', 'industrial', 'often', 'sold', 'miracle', 'mineral', 'solution', 'cure', 'guardian', 'carolina', 'meaning', 'slowly', 'csa', 'patrick', 'vallance', 'amounts', 'certain', 'adding', 'half', 'doses', 'allocated', 'proportionally', 'participating', 'simultaneously', 'overall', 'consideration', 'relation', 'threat', 'great', 'carona', 'able', 'within', 'injection', 'hats', 'off', 'right', 'roche', 'launch', 'millions', 'note', 'requires', 'confirmation', 'trend', 'nasarawa', 'zamfara', 'nigeria', 'twofold', 'among', 'hypertension', 'coverings', 'wash', 'interested', 'never', 'beach', 'raleigh', 'pope', 'francis', 'river', 'imo', 'prayers', 'rooftops', 'despite', 'continuously', 'tools', 'accelerator', 'aims', 'provide', 'equitable', 'tackle', 'forms', 'disease', 'mild', 'severe', 'fallen', 'lot', 'then', 'plummeting', 'northeast', 'prof', 'robin', 'shattock', 'vacancies', 'nurses', 'professionals', 'temporary', 'o', 'paulo', 'funeral', 'recently', 'deceased', 'sri', 'lankan', 'arumugam', 'thondaman', 'daughters', 'violated', 'lanka', 'policy', 'travelers', 'attending', 'ceremony', 'shortly', 'returning', 'overseas', 'morning', 'identified', 'tokoroa', 'professional', 'contacted', 'expect', 'contact', 'remainder', 'places', 'pacific', 'helped', 'region', 'step', 'efforts', 'prepare', 'arrival', 'whoimpact', 'covidview', 'indicators', 'track', 'usually', 'lag', 'behind', 'illness', 'while', 'true', 'sore', 'throat', 'gargling', 'warm', 'water', 'feel', 'better', 'direct', 'effect', 'afaracare', 'shown', 'rhesus', 'monkeys', 'exposing', 'vaccinated', 'less', 'lungs', 'gt', 'strategies', 'dealing', 'doomsday', 'scenario', 'measles', 'children', 'adults', 'grateful', 'providing', 'ambulances', 'port', 'services', 'emergency', 'operations', 'centres', 'expand', 'sadly', 'ward', 'waikato', 'hoping', 'speedy', 'uddhav', 'thackeray', 'christians', 'pray', 'jesus', 'nationwide', 'flattened', 'downward', 'beginning', 'nagpur', 'along', 'three', 'whom', 'populations', 'american', 'hispanic', 'non', 'counterparts', 'kia', 'ora', 'partners', 'permitted', 'enter', 'centre', 'ensured', 'lowest', 'compared', 'several', 'union', 'urges', 'restriction', 'imposed', 'mix', 'seattle', 'season', 'lying', 'sidewalk', 'demands', 'funding', 'bail', 'pension', 'systems', 'failing', 'aren', 'anti', 'vaxxers', 'deciding', 'conditions', 'pretend', 'cured', 'migrated', 'backlogged', 'local', 'welsh', 'county', 'rhondda', 'cynon', 'taf', 'announces', 'algeria', 'outside', 'danger', 'regarding', 'vast', 'majority', 'students', 'st', 'dominic', 'casual', 'precaution', 'need', 'waiting', 'prime', 'boris', 'johnson', 'setting', 'priority', 'follow', 'live', 'updates', 'faces', 'questions', 'liaison', 'antibodies', 'produce', 'false', 'antibody', 'years', 'represent', 'few', 'man', 'beaten', 'deoria', 'broken', 'leg', 'photos', 'masses', 'fleeing', 'myanmar', 'thailand', 'particularly', 'worrisome', 'steep', 'findings', 'confirm', 'earlier', 'research', 'physician', 'employment', 'decade', 'ireland', 'entire', 'restrict', 'movements', 'felt', 'unwell', 'backdrop', 'videos', 'wild', 'animals', 'taking', 'roads', 'surfacing', 'internet', 'pictures', 'herd', 'deer', 'rounds', 'lake', 'club', 'chandigarh', 'friday', 'ny', 'pa', 'optimistic', 'point', 'left', 'chart', 'finding', 'suggests', 'mitigation', 'thank', 'extremely', 'insightful', 'trusted', 'websites', 'summary', 'really', 'touted', 'importance', 'vitamin', 'elderberry', 'broke', 'obviously', 'greater', 'however', 'stunning', 'united', 'exposed', 'sir', 'ganga', 'ram', 'directed', 'urself', 'implies', 'delhi', 'miserably', 'failed', 'administrative', 'responsibility', 'delhites', 'fate', 'sacked', 'lg', 'charge', 'agree', 'considered', 'imported', 'miq', 'joe', 'diffie', 'labeled', 'wasn', 'modeling', 'assumptions', 'assume', 'baseline', 'occupancy', 'beds', 'double', 'bame', 'potentially', 'saving', 'assessments', 'named', 'leslie', 'chow', 'discovered', 'though', 'remained', 'flat', 'regional', 'steady', 'scaled', 'processed', 'linked', 'urgent', 'plea', 'busy', 'e', 'rightmove', 'activity', 'aided', 'stamp', 'duty', 'demand', 'gardens', 'space', 'disrupts', 'anyone', 'flight', 'treated', 'isolated', 'until', 'negative', 'result', 'fairchild', 'frequency', 'comprehensiveness', 'ebonyi', 'taraba', 'tamilnadu', 'sep', 'coronaupdate', 'coronaupdatesindia', 'blame', 'll', 'pending', 'totals', 'down', 'erratically', 'tracking', 'broaden', 'grading', 'criteria', 'third', 'making', 'website', 'climbs', 'historic', 'low', 'exact', 'match', 'broadcast', 'rtve', 'map', 'spain', 'penis', 'size', 'regions', 'allegheny', 'diverse', 'planning', 'aaj', 'tak', 'chinese', 'reading', 'quran', 'namaz', 'forecasts', 'suggest', 'decrease', 'weeks', 'ending', 'sept', 'predict', 'developers', 'banks', 'tell', 'spent', 'share', 'eu', 'trillion', 'promises', 'viable', 'rehire', 'judith', 'mikovits', 'scientific', 'encyclopedia', 'viral', 'nancy', 'pelosi', 'c', 'renamed', 'honor', 'safely', 'clean', 'maintain', 'safe', 'distance', 'mar', 'lago', 'mikepence', 'maralago', 'kayleighmcenany', 'oxford', 'success', 'french', 'holding', 'denounce', 'violence', 'warns', 'consuming', 'cabbage', 'pronounced', 'example', 'ca', 'monday', 'tues', 'mon', 'outputs', 'complicated', 'know', 'strong', 'hits', 'especially', 'highlighted', 'red', 'below', 'spike', 'starting', 'tomorrow', 'bhopal', 'madhya', 'impose', 'city', 'wide', 'coronavirusfacts', 'saturday', 'thread', 'charts', 'diagnosing', 'whatsapp', 'forward', 'attributed', 'cnn', 'dr', 'li', 'wenliang', 'whistleblower', 'propaganda', 'documented', 'chemicals', 'methylxanthine', 'theobromine', 'theophylline', 'stimulate', 'compounds', 'least', 'performing', 'immune', 'debunking', 'hoaxes', 'travel', 'fast', 'clarification', 'detail', 'sharpest', 'observers', 'zino', 'livestream', 'released', 'pose', 'spreading', 'facts', 'opened', 'door', 'physicians', 'online', 'learning', 'medscape', 'finds', 'young', 'killed', 'hpv', 'cities', 'requiring', 'covering', 'leaving', 'materials', 'properly', 'amoxi', 'capsule', 'medicine', 'completely', 'egyptian', 'arrive', 'secret', 'charles', 'lieber', 'harvard', 'arrested', 'usa', 'manufacturing', 'selling', 'wcvb', 'tv', 'station', 'boston', 'massachusetts', 'mountain', 'matterhorn', 'switzerland', 'lit', 'colours', 'flag', 'token', 'gratitude', 'sending', 'azhar', 'imam', 'considering', 'exceptions', 'ramadan', 'fasting', 'mouth', 'kept', 'wet', 'japanese', 'created', 'wuhan', 'collapses', 'minutes', 'celebrities', 'janata', 'curfew', 'repeatedly', 'israel', 'zero', 'israeli', 'protected', 'themselves', 'drinking', 'hot', 'lemon', 'baking', 'soda', 'purportedly', 'kills', 'thus', 'proving', 'serious', 'road', 'actor', 'shah', 'rukh', 'khan', 'donated', 'money', 'pakistan', 'fight', 'russian', 'vladimir', 'putin', 'ordered', 'russia', 'jail', 'bed', 'rajasthan', 'barmer', 'leonardo', 'da', 'vinci', 'reference', 'fortaleza', 'brazil', 'proves', 'areas', 'inherited', 'ventilators', 'audio', 'unidentified', 'links', 'massive', 'campaign', 'bags', 'referred', 'reason', 'essential', 'mustard', 'oil', 'prevents', 'getting', 'telling', 'decide', 'elective', 'surgeries', 'won', 'eligible', 'receive', 'equipment', 'lead', 'claimed', 'saved', 'registered', 'affairs', 'publish', 'trying', 'abortion', 'combat', 'rebuking', 'foreigners', 'viewed', 'alongside', 'guinean', 'arrest', 'nationals', 'awaiting', 'guineans', 'earth', 'protesting', 'locked', 'kurnool', 'mla', 'hafeez', 'nurse', 'touch', 'feet', 'religious', 'head', 'viswabharathi', 'college', 'ineffective', 'homeopathic', 'oscillococcinum', 'protects', 'admitted', 'stats', 'notice', 'preparing', 'drugs', 'alumni', 'seoul', 'belgian', 'turn', 'director', 'proposed', 'tea', 'violating', 'gujarat', 'picture', 'quote', 'vincenzo', 'puro', 'allegedly', 'infect', 'lethal', 'hoax', 'prince', 'ayurvedic', 'superintendent', 'announcing', 'extension', 'lokckdown', 'infanta', 'sof', 'madrid', 'condition', 'talavera', 'de', 'reina', 'nigerian', 'import', 'supplies', 'riots', 'london', 'unavailability', 'items', 'kingdom', 'tonight', 'soldiers', 'streets', 'passed', 'instructions', 'followed', 'latvian', 'apturi', 'warn', 'locations', 'channel', 'aired', 'program', 'smoking', 'weed', 'tweeted', 'stock', 'market', 'economy', 'stronger', 'besides', 'inventions', 'judaism', 'olives', 'wonderful', 'bombed', 'peace', 'official', 'giulio', 'gallera', 'lies', 'provided', 'jo', 'doria', 'forbade', 'give', 'blog', 'policemen', 'picking', 'banknotes', 'sticks', 'linking', 'works', 'syncytial', 'rsv', 'cancer', 'somehow', 'six', 'pune', 'defeat', 'consume', 'alkaline', 'foods', 'above', 'ph', 'aamir', 'rs', 'poor', 'kg', 'wheat', 'flour', 'turkish', 'aytac', 'yalman', 'bakersfield', 'press', 'conference', 'affect', 'unrestrictive', 'controls', 'sweden', 'worked', 'vatican', 'assistants', 'herbal', 'malunggay', 'kamias', 'leaves', 'officers', 'immobilizing', 'screaming', 'caption', 'houses', 'minas', 'gerais', 'cuba', 'chinda', 'brandolino', 'origin', 'bogot', 'migrant', 'laborers', 'surat', 'sent', 'refused', 'ohio', 'gov', 'mike', 'dewine', 'prisoners', 'warning', 'crime', 'wave', 'g', 'federal', 'bureau', 'ties', 'purported', 'treatments', 'hundreds', 'remedies', 'dose', 'vitamins', 'sunlight', 'diet', 'catches', 'lifts', 'shirt', 'challenges', 'aa', 'officer', 'pointing', 'gun', 'him', 'kicks', 'pins', 'makes', 'text', 'overlaid', 'reads', 'mean', 'associated', 'peaked', 'twice', 'bananas', 'vincent', 'sorry', 'issues', 'please', 'email', 'query', 'feedback', 'tracingapp', 'focused', 'containment', 'resulted', 'percentage', 'steadily', 'falling', 'xi', 'jinping', 'visited', 'masjid', 'request', 'dua', 'present', 'representative', 'sara', 'cunial', 'tells', 'truth', 'experiment', 'circulating', 'kins', 'insurance', 'pradhan', 'mantri', 'jeevan', 'jyoti', 'bima', 'yojana', 'pmjjby', 'suraksha', 'pmsby', 'whether', 'activ', 'bilateral', 'deals', 'nationalism', 'compromise', 'hold', 'nevada', 'quietly', 'reversed', 'decision', 'block', 'hcq', 'prescriptions', 'saw', 'horrible', 'stayhome', 'stayathome', 'nyclockdown', 'fridayfeeling', 'knowledge', 'conjecture', 'alt', 'organic', 'dk', 'greens', 'protein', 'exercise', 'ho', 'sodium', 'bicarbonate', 'iodine', 'my', 'greatest', 'remember', 'incident', 'zomato', 'deepinder', 'big', 'deal', 'someone', 'refusing', 'delivery', 'muslim', 'guy', 'incidents', 'trust', 'eat', 'contaminated', 'spit', 'international', 'entity', 'sole', 'global', 'pandemics', 'miss', 'groundbreaking', 'way', 'pool', 'r', 'procurement', 'enables', 'collect', 'puts', 'facemask', 'skin', 'yours', 'volumes', 'regularly', 'observed', 'weekends', 'healthline', 'reimposing', 'aside', 'compassionate', 'exemptions', 'reminder', 'spoken', 'scared', 'both', 'picked', 'returned', 'collaborative', 'determined', 'simpsons', 'predicted', 'swasthabharat', 'telemedicine', 'service', 'completes', 'consultations', 'conducted', 'bollywood', 'aishwarya', 'rai', 'host', 'telethon', 'auction', 'numerous', 'outbreaks', 'cruise', 'ship', 'voyages', 'extended', 'previous', 'sail', 'crew', 'onboard', 'missing', 'private', 'hurt', 'widespread', 'west', 'europe', 'interventions', 'impacted', 'epidemic', 'outlets', 'khargone', 'wise', 'information', 'includi', 'tunisian', 'qais', 'dispatch', 'delegation', 'coved', 'observation', 'hit', 'tb', 'banned', 'worst', 'otherwise', 'malarial', 'ivermectin', 'routinely', 'sure', 'covidscience', 'amazonas', 'drop', 'reproduction', 'following', 'net', 'race', 'ethnicity', 'info', 'counties', 'disproportionately', 'recital', 'verses', 'affordable', 'required', 'andaman', 'nicobar', 'islands', 'east', 'prices', 'ibuprofen', 'worse', 'row', 'crore', 'nd', 'jan', 'mapped', 'genome', 'rapidly', 'building', 'pcr', 'partner', 'contracting', 'validated', 'production', 'vila', 'formosa', 'cemitery', 'opening', 'graves', 'panic', 'burials', 'highlights', 'lakhs', 'declining', 'assessment', 'prevention', 'estimated', 'slowing', 'prevented', 'thousand', 'mixed', 'thought', 'statistics', 'registrations', 'tracer', 'recorded', 'iranians', 'saying', 'biological', 'warfare', 'canada', 'bdsm', 'leash', 'tight', 'leather', 'cdnpoli', 'god', 'admission', 'bioweapon', 'disparities', 'alaska', 'native', 'suffered', 'disproportionate', 'burden', 'resources', 'tribal', 'plandemic', 'manipulated', 'families', 'wearing', 'activates', 'yorkshire', 'unfortunately', 'method', 'closer', 'bonus', 'whitepaper', 'generated', 'range', 'specimen', 'values', 'reese', 'witherspoon', 'julia', 'roberts', 'mila', 'kunis', 'marriages', 'suffering', 'criminal', 'inquiry', 'allegations', 'maternity', 'standards', 'nhs', 'wisconsin', 'tony', 'evers', 'deemed', 'dentists', 'phe', 'yvonne', 'doyle', 'risky', 'encourages', 'invited', 'fourteen', 'fifty', 'seven', 'aiims', 'institute', 'toddy', 'medicinal', 'properties', 'infectivity', 'starts', 'prior', 'lasts', 'extent', 'role', 'played', 'journal', 'nature', 'researchers', 'vero', 'cells', 'express', 'tmprss', 'suggested', 'drug', 'might', 'difficult', 'interpret', 'metric', 'consider', 'such', 'papad', 'reconsiders', 'airborne', 'depressing', 'motivating', 'respect', 'mr', 'ratan', 'tata', 'inexplicable', 'caveats', 'psychiatrist', 'fears', 'sorting', 'serosorting', 'aids', 'sexual', 'tuberculosis', 'centers', 'applied', 'illegal', 'patent', 'facemasks', 'exercising', 'sweat', 'damp', 'ability', 'comfortably', 'kindly', 'else', 'workout', 'term', 'air', 'pollution', 'color', 'income', 'pleased', 'announce', 'inclusion', 'sani', 'abacha', 'specialist', 'yobe', 'ncdc', 'molecular', 'network', 'ncdclabnetwork', 'takeresponsibility', 'circulates', 'hacks', 'cell', 'phone', 'seconds', 'occurred', 'tolls', 'worker', 'front', 'lines', 'deserves', 'accommodations', 'glad', 'stepping', 'folks', 'employers', 'move', 'fed', 'cut', 'interest', 'heavily', 'indebted', 'pays', 'bereaved', 'victims', 'extensive', 'sufficient', 'reduces', 'severity', 'protocol', 'france', 'immediately', 'vit', 'deficiency', 'chronic', 'loss', 'taste', 'added', 'enjoyed', 'mrs', 'brown', 'boys', 'noting', 'actually', 'arizona', 'colombia', 'inhabitant', 'america', 'trip', 'essentials', 'vacation', 'tipsadvice', 'roadtrips', 'takes', 'spiky', 'vulnerable', 'overwhelmed', 'surprised', 'kirklandwa', 'putting', 'habits', 'washing', 'staying', 'banner', 'swastika', 'pence', 'michigan', 'protest', 'concerned', 'consult', 'tool', 'w', 'stranded', 'italians', 'coping', 'pressures', 'mistakes', 'house', 'ebola', 'originated', 'bats', 'answer', 'originate', 'john', 'lewis', 'axes', 'slumps', 'totally', 'confused', 'allowed', 'battle', 'myths', 'takeaway', 'vary', 'methods', 'entirely', 'translate', 'indonesian', 'hadio', 'ali', 'watching', 'bids', 'final', 'goodbye', 'wife', 'giving', 'doors', 'edward', 'argar', 'explains', 'additional', 'upgrade', 'es', 'schedules', 'sale', 'milk', 'newspapers', 'grocery', 'stores', 'issued', 'commissioner', 'bayelsa', 'warned', 'ticking', 'bomb', 'pediatric', 'jumped', 'aggressive', 'tracing', 'mechanism', 'employed', 'goi', 'diagnosis', 'mortalityrate', 'variation', 'territories', 'fascinating', 'dc', 'probables', 'delaware', 'meanwhile', 'comparable', 'count', 'goodnight', 'limited', 'intervention', 'mixing', 'aspirin', 'paracetamol', 'honey', 'cures', 'wichita', 'kansas', 'chairman', 'republican', 'dana', 'meaney', 'delman', 'responses', 'zika', 'experience', 'sees', 'unprecedented', 'surge', 'recover', 'abia', 'newyork', 'green', 'contain', 'contacttracers', 'hired', 'testament', 'tens', 'nci', 'eha', 'departament', 'guaviare', 'appears', 'situations', 'limit', 'pets', 'feeling', 'sao', 'sinovac', 'biotech', 'iranian', 'islamic', 'camel', 'iran', 'arab', 'persons', 'transmit', 'coordinated', 'focusing', 'identification', 'sliding', 'cfr', 'alexandria', 'ocasio', 'cortez', 'governors', 'businesses', 'elections', 'economic', 'elected', 'business', 'closures', 'losses', 'price', 'pay', 'presidency', 'keepusclosed', 'stadium', 'converted', 'graveyard', 'scenes', 'ongoing', 'studies', 'remdesivir', 'manufacturer', 'bollywoof', 'anonymously', 'slum', 'coronawatch', 'intubated', 'explode', 'conducts', 'enable', 'diagnose', 'facilitate', 'seamless', 'hospitalisation', 'eventually', 'leads', 'comprehensive', 'ccc', 'target', 'sometime', 'contagious', 'room', 'improved', 'started', 'moved', 'addressing', 'nation', 'mahinda', 'rajapaksa', 'opposition', 'supplementary', 'budget', 'proposal', 'relief', 'hence', 'reconvening', 'carriers', 'catching', 'magickly', 'gunsupplies', 'cached', 'cn', 'tw', 'waters', 'airspace', 'rioting', 'dieing', 'confirming', 'figures', 'ma', 'instructive', 'wednesday', 'bad', 'positives', 'executive', 'tesco', 'dave', 'buy', 'normal', 'amid', 'buying', 'watford', 'mouthwash', 'alabama', 'town', 'fights', 'pan', 'demic', 'kitchen', 'warnings', 'summarizes', 'exhibited', 'cleared', 'monitoring', 'mp', 'shashi', 'tharoor', 'praised', 'ldf', 'kerala', 'actors', 'staging', 'fake', 'tough', 'enforce', 'mayor', 'liverpool', 'anderson', 'difficulties', 'enforcing', 'rules', 'merseyside', 'recovering', 'moderate', 'crossed', 'transmitted', 'goods', 'sometimes', 'seek', 'acute', 'creates', 'residual', 'examples', 'stand', 'figure', 'amongst', 'faring', 'terms', 'shot', 'standard', 'approach', 'led', 'lesser', 'combination', 'blamed', 'barack', 'supermarket', 'australia', 'clings', 'reasserting', 'itself', 'hopes', 'politicians', 'rest', 'humanity', 'api', 'users', 'beware', 'caveat', 'removed', 'factcheck', 'fakenews', 'emerging', 'factchecking', 'frustrating', 'counting', 'begun', 'attempt', 'resolve', 'individual', 'memorandum', 'financial', 'agreement', 'pick', 'tab', 'provision', 'criticized', 'struggle', 'financially', 'maine', 'headroom', 'enough', 'absorb', 'voices', 'portions', 'terrible', 'improvements', 'backlog', 'parts', 'midlands', 'fda', 'lock', 'ashamed', 'gujarati', 'flying', 'flame', 'force', 'dma', 'moderna', 'disappointing', 'reviewing', 'meet', 'statutory', 'authorization', 'unlikely', 'susceptibility', 'activated', 'medica', 'genexpert', 'birnin', 'kebbi', 'virology', 'center', 'plasvirec', 'pastor', 'dettol', 'drink', 'church', 'vegetarian', 'sanatan', 'dharmis', 'little', 'enjoy', 'condom', 'sales', 'condoms', 'factory', 'prophylactics', 'anything', 'offence', 'messaging', 'apps', 'hospitality', 'stocks', 'dolphins', 'swans', 'venice', 'canals', 'debunked', 'newsletter', 'datoscoronavirus', 'substances', 'answers', 'options', 'substance', 'disorder', 'detect', 'identifying', 'isolating', 'resorting', 'lockdowns', 'popped', 'positivity', 'neil', 'diamond', 'altering', 'words', 'sweet', 'caroline', 'neilyoung', 'sop', 'partial', 'reopening', 'classes', 'voluntary', 'basis', 'taki', 'default', 'logic', 'rather', 'ground', 'buckets', 'create', 'strain', 'ppe', 'caution', 'chicago', 'wales', 'fires', 'racing', 'tribute', 'bharat', 'vice', 'trial', 'covaxin', 'covaxine', 'bowl', 'freshly', 'boiled', 'garlic', 'worried', 'arsenicum', 'area', 'feelbetter', 'founder', 'square', 'prophesied', 'plague', 'bars', 'shut', 'thoughts', 'nejm', 'retractions', 'fox', 'employees', 'nancypelosi', 'fastest', 'western', 'classified', 'globo', 'images', 'collective', 'shipwreck', 'lampedusa', 'illustrate', 'story', 'hi', 'friends', 'hooked', 'smile', 'ur', 'friendship', 'ull', 'seriously', 'luv', 'guys', 'aisha', 'inna', 'lillahi', 'wa', 'ilaihi', 'rajeoon', 'avoiding', 'drinks', 'baths', 'sweets', 'turmeric', 'cheap', 'handy', 'homemade', 'rasam', 'archived', 'surprising', 'creep', 'improves', 'weibo', 'delivering', 'boxes', 'publicity', 'stunt', 'gained', 'traction', 'jimmy', 'kimmel', 'hosted', 'comedian', 'triggers', 'chemtrails', 'chemical', 'trails', 'lung', 'add', 'school', 'schedule', 'delay', 'matt', 'hancock', 'payments', 'incomes', 'pentagon', 'qr', 'posters', 'displayed', 'represents', 'retail', 'venues', 'climb', 'doubled', 'erscongress', 'dissect', 'debate', 'value', 'detriment', 'prescribing', 'antihistamines', 'organisation', 'reach', 'pain', 'matters', 'victoria', 'protests', 'qanda', 'devastating', 'societies', 'whole', 'resort', 'travelled', 'afghanistan', 'dubai', 'arrived', 'ek', 'tourists', 'bubble', 'reimposed', 'transmissions', 'elderly', 'inside', 'morgue', 'rescued', 'relatives', 'capita', 'colorado', 'rhode', 'island', 'jersey', 'dakota', 'hampshire', 'isn', 'leadership', 'mha', 'guidelines', 'unlock', 'opens', 'zones', 'strict', 'enforcement', 'promised', 'jobs', 'policies', 'crushed', 'sector', 'revitalize', 'innovation', 'build', 'shortage', 'fiction', 'mystery', 'cr', 'continuous', 'pegged', 'series', 'line', 'issue', 'scary', 'terrifying', 'drone', 'footage', 'quicktake', 'suspect', 'hazipur', 'prison', 'log', 'profile', 'optimization', 'personal', 'raided', 'dominates', 'noted', 'symptomatic', 'neem', 'powder', 'allah', 'blessed', 'coronavacccine', 'scientist', 'epidemiologist', 'ioannidis', 'controversial', 'position', 'dps', 'charging', 'rupees', 'unfortunate', 'cost', 'pandamic', 'kill', 'jurisdictions', 'lisa', 'danzig', 'surgical', 'facing', 'outwards', 'blue', 'germs', 'covidpakistan', 'coronavirusupdate', 'circuit', 'happen', 'ellie', 'weighed', 'fema', 'podcast', 'wearable', 'tech', 'ai', 'converge', 'lions', 'corpse', 'belongs', 'incinerated', 'wakes', 'memorial', 'respects', 'georgian', 'gamkrelidze', 'dismissal', 'suggesting', 'trn', 'oecd', 'detroit', 'obscure', 'impact', 'simply', 'institutes', 'epic', 'ass', 'corporations', 'concentrated', 'chhattisgarh', 'odisha', 'telangana', 'quarter', 'korea', 'analyse', 'traveller', 'upon', 'princess', 'cruises', 'navy', 'bath', 'perfect', 'fatal', 'mainbhinewschecker', 'selecting', 'choices', 'particles', 'escape', 'intended', 'attacks', 'spot', 'differe', 'slack', 'channels', 'types', 'clusters', 'closed', 'hereford', 'golf', 'courses', 'shenzhen', 'instuctions', 'locating', 'encourage', 'gave', 'wanted', 'quit', 'council', 'departments', 'understand', 'pregnancy', 'mother', 'infant', 'donations', 'kamala', 'harris', 'sister', 'lupus', 'supporting', 'candidate', 'successful', 'discussions', 'promising', 'sokoto', 'unseat', 'slight', 'drift', 'nj', 'ct', 'practicing', 'maintaining', 'physical', 'metres', 'bolton', 'offered', 'inverness', 'sky', 'hotspots', 'frustrations', 'nipah', 'deadlier', 'ethiopia', 'tom', 'hanks', 'volleyball', 'quarantined', 'burglars', 'suffer', 'crash', 'criminals', 'appeal', 'crook', 'breakin', 'goingbust', 'gavin', 'newsom', 'vacationing', 'stevensville', 'discuss', 'actions', 'prot', 'rooms', 'mail', 'vote', 'santo', 'andr', 'autopsy', 'realised', 'bacterium', 'amplified', 'electromagnetic', 'radiation', 'produces', 'inflammation', 'hypoxia', 'pie', 'categories', 'enters', 'ministries', 'yellow', 'suit', 'process', 'stopping', 'keeping', 'commodities', 'ensuring', 'decontamination', 'lags', 'improvement', 'initiation', 'senate', 'allocate', 'toilet', 'industry', 'chiquita', 'abba', 'dressed', 'gown', 'run', 'jumping', 'wall', 'gone', 'heal', 'wound', 'assured', 'connect', 'decided', 'floor', 'benefit', 'labour', 'rights', 'withdraw', 'benefits', 'britain', 'prayer', 'cloths', 'moneylaundering', 'televangelist', 'eases', 'gay', 'donors', 'unless', 'lgbtquarantine', 'republicans', 'promise', 'theirs', 'panels', 'coronavirususa', 'notdyingwallstreet', 'newsinphoto', 'enrollment', 'release', 'evaluated', 'concordance', 'recommended', 'ce', 'certified', 'cosara', 'falls', 'category', 'therefore', 'special', 'approval', 'thrombosis', 'moreover', 'bacteria', 'influence', 'waves', 'thirds', 'globally', 'narendra', 'ministers', 'tally', 'mark', 'mama', 'limes', 'bobby', 'boucher', 'newssatire', 'cornoavirus', 'warded', 'couch', 'v', 'reopeningsafely', 'metrics', 'trends', 'luque', 'cemetery', 'paraguayan', 'capital', 'asunci', 'lists', 'ramnavmi', 'celebrations', 'akbarpur', 'bash', 'tabligi', 'jamat', 'nizamuddin', 'makraz', 'chain', 'vall', 'hebron', 'barcelona', 'crispr', 'ind', 'genomics', 'integrative', 'biology', 'indigenously', 'technology', 'detection', 'genomic', 'sequence', 'sarscov', 'advice', 'mobile', 'promote', 'mile', 'rural', 'inaccessible', 'restaurants', 'pubs', 'oct', 'tourism', 'arkansas', 'noticeable', 'uptick', 'backfilled', 'challenge', 'century', 'fami', 'reminds', 'clinic', 'swabs', 'taken', 'eased', 'depend', 'takerespinsibility', 'indicate', 'revised', 'discharge', 'specifies', 'throwing', 'nasser', 'ziberi', 'guidance', 'clinicians', 'consumer', 'agency', 'japan', 'advertisement', 'boasting', 'preventing', 'disinfection', 'card', 'bengal', 'kolkata', 'metro', 'rail', 'authority', 'decides', 'compliance', 'operati', 'ncdcinthenews', 'abuja', 'selected', 'sequencing', 'continent', 'goodness', 'somendfindout', 'mny', 'cointrirs', 'wth', 'strongest', 'intel', 'agencies', 'cudnt', 'cheated', 'bacterial', 'verified', 'infodemic', 'disharmony', 'society', 'verify', 'sharing', 'forget', 'receiver', 'preceding', 'hour', 'breath', 'coughing', 'difficulty', 'breathing', 'indicates', 'absence', 'ease', 'critical', 'adhere', 'preventcovid', 'ban', 'gatherings', 'restricted', 'discussion', 'feels', 'faster', 'dissented', 'everything', 'reminded', 'strategic', 'roll', 'stockpile', 'toiletrollhorders', 'strategicreserve', 'path', 'hurricanelaura', 'evacuation', 'routes', 'location', 'shelters', 'laura', 'dexamethasone', 'exper', 'training', 'comms', 'ipc', 'personnel', 'poll', 'readers', 'nicola', 'sturgeon', 'urged', 'cobra', 'cobr', 'odds', 'virginia', 'nursing', 'homes', 'x', 'rated', 'depts', 'cms', 'ratings', 'identify', 'patna', 'bhagalpur', 'nalanda', 'snakes', 'wildfire', 'strapped', 'eds', 'renata', 'vasconcellos', 'famous', 'anchor', 'irish', 'organisations', 'organising', 'moment', 'applause', 'praise', 'handling', 'correspond', 'dermatologic', 'patterns', 'exist', 'surpasses', 'worldwide', 'hopkins', 'lodges', 'eight', 'bastards', 'adoption', 'heartwarming', 'contradictions', 'absent', 'consistent', 'epidemiological', 'dosing', 'cargo', 'cult', 'sailed', 'ran', 'aground', 'clever', 'investigators', 'quickly', 'switched', 'magic', 'vitamind', 'accompanying', 'bodies', 'jointly', 'allowances', 'members', 'hugging', 'laminar', 'airflow', 'meghan', 'markle', 'birthday', 'communal', 'mosque', 'deceived', 'punished', 'sex', 'bat', 'rolling', 'moves', 'mid', 'rizwan', 'tanda', 'hungry', 'biscuits', 'domestic', 'orangutan', 'animal', 'imitating', 'zookeepers', 'thane', 'proven', 'officials', 'advise', 'dialysis', 'hasn', 'authorities', 'guatemalan', 'respirators', 'talk', 'type', 'passenger', 'trains', 'cancelled', 'railway', 'cancellation', 'suburban', 'wake', 'unicef', 'nor', 'family', 'oklahoma', 'risen', 'consistently', 'adhering', 'necessary', 'horny', 'ferguson', 'operate', 'carbon', 'toxicity', 'instead', 'called', 'zinc', 'zithromax', 'hello', 'crosses', 'landmark', 'conducting', 'adamawa', 'spitting', 'bread', 'slices', 'spin', 'responding', 'continuity', 'dental', 'partially', 'disrupted', 'politicized', 'hydroxy', 'murder', 'arresting', 'municipalities', 'earn', 'difference', 'welcome', 'annual', 'vaccinate', 'tear', 'gas', 'probably', 'play', 'nonetheless', 'reverse', 'regular', 'class', 'unlocking', 'resumption', 'bhutan', 'thanks', 'elimination', 'stamping', 'anytime', 'comes', 'together', 'demonstrated', 'exponential', 'highe', 'workplaces', 'comparison', 'implement', 'enhance', 'coronaoutbreak', 'sensationalize', 'begum', 'driver', 'imran', 'uncle', 'angela', 'rayner', 'asks', 'explain', 'pmqs', 'unlockguidelines', 'transport', 'measure', 'liable', 'legal', 'regulations', 'specified', 'witnesses', 'ages', 'account', 'protecting', 'rio', 'janeiro', 'monthly', 'allowance', 'brl', 'inmates', 'convicted', 'supreme', 'court', 'ruled', 'voting', 'lt', 'immunity', 'pre', 'mobility', 'resurgence', 'enhanced', 'needed', 'exports', 'progressively', 'maintained', 'aim', 'achieve', 'start', 'loved', 'prepared', 'travellers', 'presidential', 'herman', 'cain', 'dies', 'collecting', 'fundamental', 'understanding', 'underserves', 'latinx', 'overlapping', 'distinct', 'barriers', 'fauci', 'launches', 'importanttesting', 'grants', 'visa', 'therapeutics', 'therapy', 'therapeutic', 'arm', 'roadmap', 'initiative', 'delivered', 'disadvantaged', 'cartel', 'heroin', 'stimulus', 'package', 'dry', 'trouble', 'patented', 'reveals', 'wearers', 'freely', 'sanitize', 'digestive', 'ncdcwer', 'focuses', 'absolute', 'greg', 'mortimer', 'uruguay', 'margaret', 'expecting', 'rethink', 'screenings', 'league', 'baseball', 'tearing', 'infested', 'marlins', 'park', 'chariot', 'kalabari', 'releasing', 'bjp', 'ignored', 'teen', 'socialdistancing', 'fairly', 'efficiently', 'everybody', 'cremated', 'begins', 'sequel', 'movies', 'hume', 'bear', 'leaver', 'vaporium', 'tucker', 'paddy', 'cooper', 'depends', 'hayfever', 'younger', 'nowadays', 'basic', 'tablets', 'pollen', 'dosn', 'discomfort', 'harmless', 'sends', 'ish', 'conclusive', 'downside', 'afaik', 'northern', 'latitudes', 'winter', 'anyways', 'brexit', 'rubber', 'mussels', 'uneven', 'gon', 'na', 'statement', 'capturing', 'dominate', 'funded', 'creatical', 'gretchen', 'whitmer', 'abbreviation', 'stopped', 'meanings', 'convention', 'nears', 'round', 'slowthespread', 'deformities', 'exactly', 'endemic', 'pangolins', 'eating', 'inhalation', 'dried', 'droppings', 'markets', 'classic', 'vector', 'advisory', 'appropriate', 'fair', 'allocation', 'rolled', 'phases', 'imposes', 'bangalore', 'ply', 'reopens', 'hurricane', 'accounts', 'labourers', 'reused', 'priorities', 'collaboration', 'expertise', 'engagements', 'stakeholders', 'gains', 'wellbeing', 'stays', 'drifting', 'slightly', 'thursday', 'briefing', 'messonnier', 'speech', 'rnc', 'pointed', 'secure', 'borders', 'elect', 'checked', 'pigeon', 'membrane', 'criminalized', 'cv', 'quarantining', 'adds', 'transferred', 'ghana', 'distribution', 'rwanda', 'serves', 'warrant', 'senator', 'richard', 'burr', 'burrgate', 'gifted', 'satire', 'fauxy', 'misleading', 'holy', 'colors', 'fatigue', 'obesity', 'factor', 'roopa', 'ips', 'surya', 'sudhakar', 'ias', 'dont', 'wasting', 'whoever', 'thinks', 'seriousness', 'let', 'bbmp', 'crematoriums', 'decent', 'quick', 'cremation', 'yes', 'fantastic', 'send', 'kentucky', 'overloaded', 'relaxed', 'potential', 'overwhelming', 'everyday', 'subjects', 'olympics', 'postponement', 'messed', 'cheats', 'careful', 'cheating', 'olympicgames', 'attempts', 'outlawing', 'worship', 'deity', 'association', 'tops', 'critics', 'surpass', 'coupled', 'salary', 'communicate', 'language', 'asl', 'streaming', 'brandon', 'compatibility', 'alarming', 'signed', 'claire', 'magne', 'friend', 'extra', 'beef', 'peppers', 'onions', 'rice', 'foodshortages', 'dominant', 'fainted', 'mistreating', 'denied', 'confounding', 'presumptive', 'lumping', 'messy', 'recipe', 'genuine', 'punch', 'hopefully', 'echinacea', 'mass', 'dam', 'nothing', 'wondering', 'summer', 'maskingforafriend', 'impossible', 'calculate', 'believed', 'consumption', 'soup', 'men', 'shave', 'beards', 'settle', 'naaaa', 'hadn', 'hiccups', 'helpful', 'compiled', 'scream', 'window', 'frustration', 'politics', 'ambiguous', 'mps', 'cuban', 'corticosteroids', 'interview', 'describes', 'procedure', 'beard', 'sheep', 'surrender', 'latin', 'homeisolation', 'saturation', 'attention', 'arrives', 'consensus', 'wait', 'reopen', 'decreased', 'steroid', 'reduced', 'permanent', 'considers', 'european', 'judge', 'ruth', 'bader', 'ginsburg', 'larger', 'thorough', 'adequately', 'disinfected', 'fit', 'occupation', 'steam', 'kettle', 'gargles', 'balancing', 'liberty', 'sensible', 'compromising', 'discarded', 'decree', 'ingredient', 'germany', 'luxembourg', 'switzer', 'except', 'cm', 'shivraj', 'singh', 'chouhan', 'jair', 'bolsonaro', 'exiting', 'changing', 'killing', 'celebrates', 'keg', 'stpatricksday', 'lockdownontario', 'stripper', 'contracts', 'suicidal', 'seeks', 'viennetta', 'accompanies', 'wept', 'recognized', 'losing', 'lifted', 'weddings', 'tangihanga', 'funerals', 'jimz', 'dallas', 'h', 'revision', 'registers', 'ignore', 'weak', 'thrown', 'useless', 'needy', 'lesson', 'congregation', 'retested', 'comply', 'melinda', 'divorced', 'husband', 'wanting', 'destroy', 'f', 'andy', 'beshear', 'authorized', 'teachers', 'visits', 'parental', 'inspect', 'bedroom', 'enrolled', 'candidates', 'producers', 'overdoses', 'exam', 'consortium', 'engineering', 'colleges', 'graduate', 'entrance', 'comedk', 'admited', 'forever', 'elevated', 'join', 'connection', 'webinar', 'reducing', 'engaging', 'celebrating', 'fourth', 'webinars', 'pattern', 'guests', 'hotel', 'entered', 'departed', 'augmenting', 'shifts', 'britons', 'wane', 'sage', 'averages', 'oregon', 'premier', 'inn', 'owner', 'whitbread', 'diabetes', 'imperial', 'pretty', 'goodwill', 'industries', 'fired', 'randomized', 'controlled', 'newhampshire', 'appoints', 'foremost', 'watchlist', 'firmly', 'prompt', 'routed', 'hhs', 'compilation', 'mh', 'concern', 'gj', 'dl', 'tn', 'rj', 'belated', 'wisdom', 'infrastructure', 'circumcisions', 'flags', 'yen', 'vic', 'branch', 'taiwan', 'approaches', 'overcrowded', 'shramik', 'train', 'travelling', 'chancellor', 'merkel', 'knew', 'aged', 'eradicated', 'morons', 'requesting', 'largest', 'portfolio', 'gender', 'male', 'females', 'satellite', 'towns', 'unable', 'foundation', 'headquarters', 'reduction', 'crowd', 'rally', 'berlin', 'confidence', 'edged', 'las', 'vegas', 'knock', 'power', 'census', 'cvd', 'testers', 'robbing', 'gunpoint', 'myself', 'colloidal', 'silver', 'word', 'liquid', 'antibiotic', 'msg', 'happy', 'greet', 'survivers', 'azimpremji', 'truly', 'inspirational', 'forces', 'scenery', 'sea', 'chandrabhaga', 'puri', 'konark', 'marine', 'drive', 'bbc', 'replaces', 'nichola', 'briefings', 'jamie', 'oliver', 'curried', 'haggis', 'arrangements', 'investigated', 'rotorua', 'meantime', 'jet', 'survive', 'outpaced', 'downturn', 'complexity', 'lump', 'biden', 'invoking', 'defense', 'marie', 'root', 'complications', 'surprise', 'pharma', 'finances', 'comorbidities', 'coronavac', 'cansino', 'ad', 'ncov', 'unnamed', 'inactive', 'sinopharm', 'bbibp', 'corv', 'gam', 'vac', 'sputnik', 'covered', 'steps', 'unaffected', 'completing', 'barely', 'clarified', 'pib', 'covers', 'broader', 'dynamics', 'observing', 'sneezes', 'coughs', 'maskonnaija', 'wearafacemask', 'observe', 'frequently', 'engaged', 'stroke', 'heartattacks', 'strokes', 'psa', 'eme', 'cindy', 'mccain', 'endorses', 'foxnews', 'widow', 'distinguished', 'affiliate', 'deep', 'adversary', 'ccp', 'soil', 'wing', 'extremists', 'libertarians', 'evangelicals', 'built', 'quebec', 'cbc', 'thirties', 'grand', 'millennium', 'tanzanian', 'spokesman', 'haji', 'manara', 'tour', 'netherlands', 'took', 'platforms', 'p', 'dog', 'hong', 'kong', 'ash', 'binaxnow', 'abbott', 'min', 'chanel', 'perfume', 'amor', 'avec', 'aphrodisiac', 'terrorism', 'labor', 'hazard', 'qualified', 'grow', 'ordinary', 'breached', 'salaries', 'proportional', 'certificates', 'afoolat', 'revolutionnow', 'octstprotest', 'yourviewtv', 'travolta', 'hollywood', 'saturdaynightfever', 'opportunities', 'avg', 'reinforcing', 'concerning', 'unethical', 'sufferers', 'recognition', 'protestors', 'google', 'crores', 'pharmaceutical', 'patanjali', 'coronil', 'produced', 'frontline', 'hypochondriac', 'guide', 'convincing', 'portion', 'performed', 'ton', 'grown', 'depression', 'anthony', 'carried', 'deployment', 'towers', 'extreme', 'signal', 'chip', 'immunize', 'lose', 'privacy', 'bank', 'aware', 'governments', 'fails', 'distinguish', 'teens', 'mentioned', 'intermediate', 'zoology', 'book', 'happens', 'books', 'mostly', 'shame', 'burqa', 'clad', 'kit', 'distributed', 'singing', 'madonna', 'katy', 'perry', 'britney', 'spears', 'aya', 'nakamura', 'songs', 'balcony', 'damn', 'accunalysis', 'diagnostic', 'faqs', 'diagnostics', 'asking', 'bribe', 'migrants', 'walking', 'tracks', 'unveils', 'cocaine', 'tickets', 'mine', 'ticketdebit', 'refund', 'deduction', 'scam', 'raab', 'airports', 'quitting', 'ten', 'attitudes', 'indians', 'iit', 'hrd', 'ramesh', 'pokhriyal', 'mihigo', 'insight', 'historical', 'articles', 'participant', 'turns', 'alive', 'checkers', 'misinfo', 'purchasing', 'car', 'seat', 'spurred', 'surpassed', 'doublingrate', 'offices', 'ers', 'nationally', 'misdiagnosed', 'pneumonia', 'kalka', 'basics', 'birds', 'style', 'virgin', 'fucked', 'ranges', 'fits', 'snugly', 'reaches', 'chin', 'nostrils', 'featuring', 'charged', 'genocide', 'cornwall', 'forefront', 'maybe', 'manisha', 'patil', 'filming', 'spanish', 'stating', 'assisting', 'calibrated', 'umbrella', 'timely', 'push', 'revealed', 'palm', 'spoonful', 'plz', 'urgently', 'love', 'amish', 'hart', 'contend', 'idea', 'predicting', 'occurring', 'faucian', 'bargain', 'dilemma', 'thedevil', 'uganda', 'postponed', 'crying', 'explanation', 'decreasing', 'plots', 'ginger', 'knowthefacts', 'factsnotfears', 'ochu', 'referrals', 'cry', 'suicide', 'roof', 'lockdownnow', 'coronaviruslockdown', 'curfewinindia', 'stayathomesavelives', 'lockdownquery', 'modicovidaddress', 'hantavirus', 'short', 'resembling', 'admissions', 'usage', 'newjersey', 'indicating', 'preparedness', 'meets', 'exceeds', 'documents', 'topics', 'caring', 'healthworkers', 'swath', 'valley', 'brownsville', 'identifies', 'distress', 'models', 'forecast', 'notre', 'dame', 'traced', 'nortedame', 'rides', 'commensurate', 'proportion', 'rashtriya', 'swayamsevak', 'sangh', 'rss', 'aurangabad', 'filing', 'lawsuit', 'honoured', 'hon', 'ble', 'war', 'footing', 'granted', 'exemption', 'grieve', 'agreed', 'application', 'crowded', 'toys', 'ranking', 'ramped', 'hugely', 'ambitious', 'achievable', 'targets', 'co', 'farts', 'farting', 'tacobell', 'mississippi', 'restaurant', 'bar', 'owners', 'customers', 'informs', 'protocols', 'netflix', 'documentary', 'tiger', 'king', 'popularity', 'rumour', 'protagonists', 'demanded', 'wage', 'brace', 'feared', 'deputy', 'leader', 'joins', 'meteorologist', 'wildfires', 'fanned', 'october', 'allies', 'venezuela', 'charter', 'christchurch', 'closest', 'rudimentary', 'dozens', 'pause', 'smooth', 'workflows', 'plug', 'gym', 'shape', 'modeller', 'economist', 'tackling', 'qs', 'resp', 'manufactured', 'later', 'applauded', 'macron', 'pantin', 'paris', 'pacaembu', 'dean', 'biologists', 'euskadi', 'kidney', 'freefall', 'seekers', 'threw', 'fish', 'tank', 'additive', 'alleged', 'tweet', 'heleno', 'institutional', 'security', 'sort', 'interior', 'easily', 'always', 'clothes', 'beijing', 'shipping', 'ceo', 'drew', 'comparing', 'highlighting', 'indirectly', 'talked', 'waited', 'swine', 'demanding', 'helpless', 'tijuana', 'nap', 'mannequin', 'wheeled', 'coverup', 'zanzibar', 'chicken', 'notes', 'industrialist', 'downfall', 'fibrosis', 'english', 'describing', 'sickness', 'senegalese', 'senegal', 'universitario', 'santa', 'luc', 'cartagena', 'murcia', 'resign', 'critically', 'avian', 'mers', 'kothapet', 'hyderabad', 'admins', 'requested', 'microsoft', 'priyanka', 'gandhi', 'buses', 'saddam', 'hussein', 'nineties', 'threatened', 'command', 'apologising', 'document', 'talks', 'wine', 'undergo', 'caesarean', 'section', 'entitled', 'usd', 'anyway', 'worry', 'bit', 'wrinkle', 'lots', 'worth', 'bound', 'democratic', 'nicol', 'maduro', 'lithuanian', 'excerpted', 'letter', 'nc', 'roy', 'vinod', 'paul', 'apprises', 'gom', 'steal', 'german', 'patientzero', 'morbidly', 'obese', 'none', 'electrification', 'implication', 'kabataan', 'sarah', 'elago', 'andrew', 'jenkinson', 'paused', 'concentration', 'fell', 'ships', 'blocking', 'shooting', 'bengalis', 'entering', 'doha', 'sydney', 'needs', 'returnees', 'assess', 'sofi', 'delays', 'condemned', 'appalling', 'negligent', 'chair', 'representing', 'northeastern', 'northwestern', 'unreported', 'pier', 'luigi', 'bersani', 'reflects', 'index', 'astute', 'definition', 'history', 'le', 'parisien', 'olly', 'murs', 'hangover', 'ticked', 'largely', 'bruno', 'covas', 'assam', 'legislator', 'haripriya', 'fear', 'mongering', 'scientifically', 'anant', 'bhan', 'researcher', 'preventive', 'med', 'law', 'fines', 'overarching', 'goal', 'unga', 'cardio', 'covidpandemic', 'layoffs', 'stripped', 'employer', 'sponsored', 'plans', 'marketplaces', 'obamacare', 'try', 'civil', 'regards', 'solve', 'kcrfailedtelangana', 'bangarutelangana', 'mission', 'recording', 'illuminates', 'intensity', 'touches', 'aggressively', 'comprehensively', 'ambulance', 'invasive', 'desired', 'scrubs', 'operating', 'theatre', 'loknayak', 'jedward', 'heard', 'winner', 'inventing', 'suitable', 'inventor', 'dpp', 'progressive', 'wang', 'shijian', 'specific', 'newest', 'frequent', 'conversation', 'intrepid', 'investigative', 'ingredients', 'russki', 'substantively', 'expanded', 'facilitation', 'easy', 'stage', 'backs', 'lax', 'spots', 'acting', 'reservoirs', 'reignite', 'tamped', 'actnow', 'ehealth', 'coordinate', 'relax', 'cooking', 'skills', 'apron', 'gotten', 'shots', 'focussed', 'effec', 'attempting', 'speak', 'hindered', 'freedom', 'prescription', 'raj', 'kamal', 'agarwal', 'accelerate', 'leakage', 'harmful', 'accidental', 'genetic', 'manipulation', 'betacoronaviruses', 'irrefutably', 'derived', 'backbone', 'angel', 'broking', 'bankrupt', 'temple', 'dynamic', 'constantly', 'reviewed', 'optimised', 'affecting', 'overly', 'improve', 'ups', 'nebraska', 'disappear', 'convalescent', 'plasma', 'asserts', 'havana', 'antiviral', 'heberon', 'alfa', 'interferon', 'sicker', 'flown', 'reposting', 'clarity', 'mislabeled', 'diagnosed', 'engagement', 'brian', 'rose', 'airing', 'falsehoods', 'comments', 'bob', 'woodward', 'tapes', 'communist', 'belarus', 'hysteria', 'scotland', 'visiting', 'households', 'indoors', 'asleep', 'comatose', 'lebanon', 'andhrapradesh', 'uttarpradesh', 'todayinncdc', 'communication', 'educators', 'strengthening', 'develop', 'appear', 'clearance', 'checking', 'vastly', 'mistaking', 'spreads', 'rays', 'pennsylvania', 'shutting', 'issuing', 'thwarting', 'scenarios', 'future', 'canadian', 'scolds', 'fully', 'embracing', 'spawned', 'super', 'code', 'zyphr', 'ni', 'jes', 'timings', 'shop', 'timing', 'unisted', 'onitsha', 'advocacy', 'disney', 'inevitable', 'inspire', 'films', 'feature', 'contag', 'diligently', 'frontlines', 'flareup', 'contaminations', 'reporters', 'turkmenistan', 'discussing', 'covidupdate', 'slumped', 'obvious', 'mehdipatnam', 'hyderbad', 'jamal', 'khashoggi', 'saudi', 'arabia', 'saudiarabia', 'jamalkhashoggi', 'gears', 'donation', 'computer', 'cleaning', 'keyboards', 'mice', 'laptops', 'safetyfirst', 'increases', 'perinatal', 'domesticviolence', 'brothers', 'sisters', 'fathers', 'grandparents', 'educated', 'threatening', 'naman', 'shri', 'score', 'accurately', 'predicts', 'nick', 'forbes', 'newcastle', 'math', 'ratio', 'assumption', 'terminator', 'seeds', 'swab', 'length', 'officially', 'percent', 'popular', 'erroneously', 'cites', 'existed', 'ibadan', 'applaud', 'responders', 'hmh', 'rodrigo', 'duterte', 'handle', 'constituents', 'particular', 'endocrine', 'disorders', 'endocrinologists', 'spoke', 'bounce', 'slowdown', 'lucknow', 'gorakhpur', 'pathak', 'ig', 'hcp', 'ts', 'degree', 'normality', 'successfully', 'garib', 'kalyan', 'incentive', 'ashas', 'contribution', 'towards', 'pcps', 'changed', 'estimate', 'invite', 'chat', 'physically', 'distant', 'physicaldistance', 'togetheralone', 'evaluate', 'outcomes', 'review', 'validation', 'resident', 'evil', 'corporation', 'releases', 'infects', 'raccoon', 'logo', 'bombay', 'approximately', 'finish', 'contacting', 'art', 'surabaya', 'indonesia', 'elite', 'looks', 'crown', 'hypochlorite', 'phenolic', 'disinfectants', 'refer', 'link', 'fresh', 'annexure', 'mistook', 'aid', 'debt', 'incurred', 'tax', 'merit', 'girl', 'pearl', 'earring', 'vs', 'predator', 'billions', 'hydroxychloroquineis', 'founded', 'inkalonji', 'seedso', 'kalonji', 'seed', 'bfast', 'attacked', 'fromcovid', 'noon', 'metal', 'exaggerated', 'instructed', 'didnt', 'accident', 'listed', 'victim', 'dogs', 'pile', 'corpses', 'mutate', 'lookalike', 'reacts', 'differently', 'stressful', 'selfcare', 'stress', 'placard', 'congratulating', 'eradicating', 'entry', 'tabs', 'ingest', 'inject', 'respond', 'stalls', 'pharmacies', 'sanitiser', 'disinfect', 'kenyan', 'electoral', 'commission', 'iebc', 'hinted', 'postponing', 'compromised', 'meatpackers', 'crucial', 'adjusted', 'ppl', 'averaged', 'theater', 'succumbing', 'confirms', 'cummings', 'selflessly', 'serological', 'survey', 'delhiites', 'approx', 'naturally', 'design', 'manage', 'thaalibajao', 'lightcandles', 'bhabhijikapapaad', 'gobar', 'cowurine', 'races', 'insanity', 'locsin', 'paschim', 'bardhaman', 'westbengal', 'helpline', 'plandemia', 'maps', 'toilets', 'applies', 'screened', 'monitor', 'surrenders', 'justice', 'parents', 'prioritised', 'denies', 'daughter', 'establishing', 'deliver', 'bribed', 'madagascan', 'andry', 'rajoelina', 'poison', 'organics', 'devised', 'proud', 'usman', 'danfodio', 'teaching', 'ahmadu', 'bello', 'zaria', 'ethiopian', 'addis', 'ababa', 'cove', 'evening', 'chirayu', 'formula', 'tedros', 'adhanom', 'accelerating', 'jharkhand', 'hemant', 'soren', 'colleagues', 'apple', 'teamed', 'notifies', 'cellphone', 'opt', 'subsided', 'gather', 'engage', 'enteroviruses', 'acuteflaccidmyelitis', 'afm', 'fakenewsalert', 'publishes', 'raches', 'ella', 'bd', 'helps', 'ia', 'mi', 'mo', 'nh', 'ri', 'wy', 'directive', 'supporters', 'tulsa', 'catc', 'indiafightscoronavirus', 'distributing', 'ppes', 'corrected', 'saint', 'luke', 'tenants', 'vow', 'rent', 'cheques', 'rentfreezenow', 'pres', 'abraham', 'secession', 'alappuzha', 'discovery', 'keenly', 'wtd', 'midday', 'hear', 'myth', 'busters', 'sesame', 'oneself', 'listerine', 'boss', 'mustapha', 'task', 'nonpregnant', 'idh', 'vermont', 'minimum', 'efficient', 'retweeted', 'misconstrue', 'involving', 'benefited', 'aggregated', 'talented', 'epidemiologists', 'engineers', 'beat', 'org', 'reflect', 'exams', 'healthoverexams', 'postponeneeet', 'cancel', 'cs', 'ga', 'david', 'icke', 'uptake', 'remove', 'promptly', 'paramilitary', 'deployed', 'rajkot', 'baroda', 'workplace', 'halt', 'resumed', 'laid', 'repeat', 'underlying', 'georgina', 'peacock', 'settings', 'meters', 'sur', 'referencing', 'proof', 'synchronized', 'rish', 'profesion', 'closely', 'memo', 'lowers', 'vodka', 'sanitizing', 'unlike', 'navajo', 'loads', 'raising', 'skilled', 'censor', 'meng', 'yan', 'engineered', 'ruin', 'arriving', 'concerns', 'efficiency', 'effectiveness', 'overcrowding', 'detecting', 'periods', 'reveal', 'identity', 'cdu', 'nsci', 'badminton', 'eye', 'heart', 'possibly', 'lifetime', 'healthier', 'jama', 'cardiology', 'gunes', 'newspaper', 'stable', 'parent', 'provider', 'commits', 'assistance', 'ie', 'excited', 'mom', 'gift', 'mothersday', 'thankyoumom', 'winning', 'wrongly', 'stanford', 'involve', 'rare', 'learns', 'immunosuppression', 'choice', 'midst', 'autoimmune', 'opthalmology', 'medtwitter', 'retroactively', 'adjusts', 'suggestion', 'helth', 'science', 'scan', 'ultra', 'violet', 'ray', 'germ', 'killer', 'alien', 'takeover', 'aliens', 'ufo', 'meaningless', 'realized', 'coverage', 'cruelty', 'knows', 'bounds', 'touched', 'fiji', 'principal', 'aspects', 'participation', 'unacceptable', 'detailed', 'laying', 'ago', 'compile', 'equitably', 'inarguable', 'generating', 'casualties', 'disruptions', 'unconscionable', 'tragedy', 'flip', 'flops', 'defined', 'sterilization', 'ozone', 'intelligent', 'lamp', 'killingvirus', 'uvc', 'uva', 'uvdisinfection', 'uvlight', 'uvlamp', 'uvsolution', 'uvled', 'throw', 'seas', 'seafood', 'dear', 'intervene', 'filed', 'jobless', 'unemployment', 'appointed', 'housing', 'freezing', 'rents', 'evictions', 'securing', 'homeless', 'appointments', 'shake', 'cali', 'bus', 'immigrants', 'illegalimmigrants', 'ford', 'ji', 'delhifightscorona', 'arvindkejriwal', 'biosafety', 'maiduguri', 'harcourt', 'jos', 'canine', 'cops', 'dehradun', 'norms', 'handles', 'latter', 'guesstimate', 'typically', 'somalia', 'greek', 'begin', 'repeatable', 'structure', 'runs', 'teams', 'paragraph', 'masts', 'quoted', 'billionaire', 'sell', 'poisonous', 'troubling', 'clutching', 'tightly', 'chest', 'margarita', 'puebla', 'hallway', 'containing', 'tanks', 'latvia', 'riga', 'puzzling', 'uncertainty', 'assessing', 'observational', 'metformin', 'territory', 'trips', 'instalment', 'amounting', 'govts', 'mum', 'plane', 'pass', 'dublin', 'checks', 'brought', 'halting', 'wouldn', 'eliminate', 'conceal', 'fuel', 'tulsatrumprally', 'facecover', 'directives', 'violation', 'imprisonment', 'fine', 'concluded', 'grounds', 'subsequently', 'withdrawn', 'rivaled', 'hypochondria', 'prostatecancer', 'wins', 'anita', 'derby', 'traces', 'pot', 'supply', 'marijuana', 'tranche', 'thinking', 'peer', 'poleaxed', 'powerful', 'material', 'hotspot', 'statements', 'falsehood', 'johntravolta', 'maryland', 'fix', 'developing', 'abound', 'pedro', 'sanchez', 'recognize', 'readily', 'praying', 'umah', 'pelotas', 'hall', 'grande', 'sul', 'sirens', 'rydges', 'peter', 'horby', 'trialled', 'hospitalised', 'monoclonal', 'involves', 'trajectory', 'idiocy', 'milan', 'communicating', 'respective', 'communicated', 'indiafightscovid', 'myeloma', 'undergoing', 'chemotherapy', 'responsive', 'collectively', 'encouraging', 'captured', 'medication', 'esccongress', 'ns', 'abysmal', 'toting', 'michiganders', 'burn', 'witch', 'seated', 'buffets', 'salad', 'served', 'individually', 'filtered', 'hosts', 'knowns', 'unknowns', 'implemented', 'devi', 'sridhar', 'introduced', 'thyrocare', 'sealed', 'buck', 'normally', 'fifth', 'respectively', 'overload', 'sooner', 'hell', 'vinegar', 'eliminates', 'southeast', 'coast', 'northwest', 'interrupted', 'revived', 'presumably', 'commercial', 'providers', 'sense', 'precipitously', 'matamata', 'dropped', 'gain', 'arsonist', 'fighter', 'taht', 'ecuador', 'ecuadorian', 'disobeyed', 'autopsies', 'antibiotics', 'inflammatories', 'anticoagulants', 'british', 'cleaner', 'destroys', 'coin', 'sms', 'apply', 'vacancy', 'collapse', 'islam', 'chemists', 'fabiflu', 'kejriwal', 'exists', 'hampering', 'braindead', 'horror', 'thewalkingdead', 'fwd', 'consultation', 'chats', 'reqest', 'fightagainstcoronavirus', 'stayhomestaysafe', 'telugunews', 'journalist', 'sai', 'examination', 'straight', 'terminate', 'programme', 'tuesdaylive', 'tune', 'dstv', 'dreaded', 'chupacabra', 'lachupacabra', 'arguably', 'prexisting', 'regret', 'announcement', 'crowds', 'covidstopswithme', 'discover', 'rinsing', 'jihadi', 'spits', 'closes', 'iq', 'thulped', 'pulp', 'stomped', 'lewd', 'jihadis', 'wetherspoons', 'barrel', 'piss', 'shed', 'highs', 'throughout', 'colorful', 'fashions', 'obsession', 'dyes', 'futures', 'futurism', 'futurenow', 'futuretrends', 'education', 'appliance', 'outsource', 'gowns', 'gloves', 'ventilaors', 'sic', 'photograph', 'slaughter', 'coronaviruses', 'cattle', 'pet', 'bandwidth', 'pieces', 'coffee', 'branded', 'tchotchkes', 'meetings', 'tumbleweeds', 'blowing', 'mental', 'minoritymentalhealth', 'mentalhealthawareness', 'discouraging', 'mor', 'thing', 'dwarfing', 'vendors', 'overloads', 'patinents', 'mu', 'iz', 'buenos', 'aires', 'teravolt', 'thoracic', 'malignancies', 'asco', 'lcsm', 'pills', 'nascent', 'correlations', 'hardest', 'deficient', 'holds', 'random', 'exponentially', 'january', 'maximum', 'chaos', 'payment', 'alas', 'deeply', 'appreciate', 'dedication', 'maximize', 'usefulness', 'wildland', 'firefighters', 'californ', 'page', 'grant', 'idaho', 'statesman', 'sounding', 'alarm', 'declaring', 'mantova', 'carabinieri', 'experimentation', 'arranged', 'stuck', 'evolve', 'pace', 'indicator', 'inhaling', 'boiling', 'orange', 'peelings', 'schizophrenia', 'maulana', 'saad', 'tablighi', 'jamaat', 'watched', 'stream', 'pole', 'competitions', 'abundantly', 'athletes', 'music', 'ex', 'successor', 'ptfcovid', 'processing', 'favipiravir', 'roofs', 'hubei', 'daylockdown', 'dayslockdown', 'dayschallenge', 'conduct', 'coronovirus', 'honourable', 'convened', 'pakistani', 'osama', 'riaz', 'geo', 'political', 'zone', 'devastated', 'brokers', 'stockmarketcrash', 'unchanged', 'downplayed', 'modelling', 'reportedly', 'additionally', 'suspended', 'fungal', 'albany', 'y', 'interviews', 'ads', 'businessman', 'clive', 'palmer', 'baseless', 'auspol', 'kiosk', 'wuhancoronavirus', 'publicly', 'commit', 'course', 'corporate', 'cede', 'eradicate', 'jalingo', 'takum', 'destination', 'https', 'showcasing', 'names', 'limits', 'cardiac', 'mri', 'scans', 'showed', 'myocarditis', 'substantial', 'drops', 'notices', 'smoother', 'disregard', 'beneficiary', 'funds', 'credited', 'letters', 'limiting', 'challenging', 'pro', 'traveled', 'literacy', 'trainings', 'wou', 'doh', 'mary', 'interns', 'determine', 'fa', 'lift', 'emerges', 'ed', 'sheeran', 'write', 'album', 'grafitti', 'qanon', 'theorists', 'mms', 'wikipedia', 'crazy', 'democrat', 'pedophiles', 'aimed', 'followers', 'worrying', 'indications', 'trending', 'recommendation', 'managing', 'ischemic', 'chose', 'expend', 'disestablish', 'mashpee', 'wampanoag', 'tribe', 'reservation', 'istandwithmashpee', 'decisive', 'connecting', 'repositioning', 'reasoning', 'fueling', 'depopulate', 'exit', 'bump', 'doubt', 'equivalent', 'basically', 'jokowi', 'bet', 'avigan', 'paybacks', 'newborn', 'twins', 'elsewhere', 'trended', 'admits', 'transcripts', 'walmart', 'amazon', 'kroger', 'costco', 'fennel', 'swimming', 'pools', 'functional', 'gymnasiums', 'westvirginia', 'shrinking', 'damages', 'proved', 'zealanders', 'arvind', 'manufacturers', 'licensed', 'azim', 'premji', 'donates', 'charity', 'uttarakhand', 'puducherry', 'eastern', 'paige', 'armstrong', 'correctly', 'panties', 'ebay', 'coronavirusmasks', 'fleamarkets', 'undetected', 'village', 'birth', 'paste', 'toenail', 'foot', 'abc', 'bans', 'fortune', 'cookies', 'missiles', 'exclusive', 'destruction', 'shortness', 'serology', 'anticipating', 'backend', 'kinks', 'injectable', 'quinine', 'cq', 'becomes', 'cerebral', 'barrier', 'designates', 'herself', 'prefect', 'slows', 'http', 'seeking', 'behaviour', 'drastically', 'attendance', 'presymptomatic', 'actual', 'packages', 'ps', 'glittering', 'lighting', 'attempted', 'shaved', 'heads', 'max', 'fixed', 'subsidized', 'positively', 'americold', 'dominion', 'finance', 'happening', 'answering', 'easing', 'latex', 'purposes', 'gyms', 'cinemas', 'nightclubs', 'oregonians', 'correspondent', 'eyewitness', 'piece', 'scheduled', 'itly', 'couldn', 'worldoutside', 'majid', 'modiji', 'postponejeeneet', 'highly', 'sops', 'postpone', 'jee', 'neet', 'shifting', 'elisa', 'granato', 'administered', 'colds', 'triump', 'advocates', 'bloodletting', 'conspiracytheories', 'dictatorship', 'sisi', 'egypt', 'renowned', 'surgeon', 'shetty', 'suggestions', 'sorrowful', 'outburst', 'longtime', 'fan', 'idols', 'uninterested', 'installing', 'covidsafe', 'stealth', 'smartphones', 'sacrificed', 'condolences', 'coviditaly', 'covidireland', 'faculty', 'administrators', 'notify', 'newsthump', 'quotes', 'sen', 'lindsey', 'graham', 'specifically', 'banish', 'pissed', 'angry', 'mobs', 'storm', 'nails', 'centerstage', 'scott', 'morrison', 'statesmanship', 'sputum', 'secretion', 'jammat', 'celebration', 'ramnavami', 'bhuj', 'aka', 'gujaratmodel', 'modia', 'checkup', 'hails', 'necessarily', 'ultimately', 'trace', 'sharp', 'jorge', 'luis', 'sonnante', 'minute', 'networks', 'deacon', 'falsified', 'mixes', 'theories', 'jeans', 'board', 'nct', 'shall', 'homequarantine', 'milestone', 'citrus', 'peels', 'hanging', 'constrained', 'upwards', 'stalled', 'urban', 'institutionalquarantine', 'airline', 'brooklyn', 'salvatore', 'goombalini', 'yorkers', 'repurposed', 'antivirals', 'rendesiver', 'antiparasitic', 'antimalarial', 'anttibiotics', 'azithromycin', 'doxycycline', 'modulators', 'quercetin', 'bunch', 'bulgaria', 'fruit', 'ignoring', 'publishing', 'pants', 'covidiots', 'annoying', 'covidiot', 'guess', 'marketing', 'newsome', 'cousin', 'witnessed', 'tipping', 'restrictive', 'broiler', 'gop', 'clarifies', 'remarks', 'tides', 'sexually', 'frustrated', 'aunts', 'moistly', 'combo', 'expedite', 'unrecognized', 'circumstances', 'playing', 'schoolsreopening', 'collapsing', 'store', 'thrive', 'supported', 'vi', 'ben', 'form', 'cutting', 'augusto', 'argentine', 'chamber', 'legislative', 'eliminated', 'aldi', 'kris', 'aquino', 'rushed', 'hinting', 'reunion', 'defence', 'hamsters', 'shockingly', 'indifferent', 'advices', 'rush', 'listen', 'layoffed', 'coolies', 'entrepreneurs', 'auto', 'drivers', 'invisible', 'hardship', 'burecrat', 'vvip', 'representatives', 'icymi', 'uss', 'bonhomme', 'boasts', 'backed', 'dismantle', 'aca', 'ags', 'succeed', 'devastation', 'untold', 'involvement', 'contributions', 'enabling', 'mcdonalds', 'circulated', 'bowing', 'frontliners', 'reopened', 'sayardaw', 'mohan', 'bhagwant', 'shook', 'faith', 'religion', 'fainting', 'surviving', 'immunizations', 'surveyed', 'swift', 'globe', 'wor', 'purpose', 'insertion', 'wand', 'cavities', 'hemato', 'encephalitic', 'septum', 'depth', 'skull', 'painful', 'polling', 'electronics', 'frankly', 'perhaps', 'antigen', 'colfax', 'dawson', 'tied', 'meatpacking', 'plants', 'truck', 'tanzania', 'zooming', 'peaking', 'joint', 'biosecurity', 'upgraded', 'journey', 'crossing', 'debunk', 'nyers', 'cuomo', 'snow', 'ok', 'evict', 'occur', 'shouldn', 'spaces', 'cats', 'fuck', 'workfromhomelife', 'belonging', 'naked', 'vandalizing', 'mauritius', 'density', 'communicable', 'meant', 'initiated', 'lukes', 'mall', 'cont', 'horses', 'thoroughbred', 'sugarcreek', 'sat', 'gentleman', 'son', 'assigns', 'meat', 'loaf', 'gary', 'busey', 'stigma', 'hurts', 'dea', 'slacker', 'struggles', 'negatively', 'recession', 'amitabh', 'bachchan', 'abhishek', 'granddaughter', 'aaradhya', 'parth', 'samthaan', 'ooni', 'ife', 'traditional', 'healer', 'plant', 'sulphur', 'extracted', 'crackdown', 'manual', 'supervisors', 'prolonged', 'hypercapnia', 'leading', 'disruption', 'sacrifice', 'myalgia', 'muscle', 'poem', 'reprinted', 'endure', 'repeats', 'nsw', 'favourably', 'berejiklian', 'overblown', 'mikakos', 'impacting', 'kent', 'lorry', 'deadline', 'fade', 'vellore', 'sets', 'dryers', 'ultraviolet', 'helping', 'trumpuniversity', 'heading', 'direction', 'chris', 'whitty', 'tulisa', 'contostavlos', 'sincerely', 'leicester', 'mercury', 'female', 'lousy', 'vte', 'considerations', 'upcoming', 'calendar', 'register', 'weapons', 'publi', 'cigars', 'discontinued', 'medically', 'cupboards', 'december', 'takeresponsibilty', 'covidindiaseva', 'pui', 'geographic', 'fatalityrate', 'em', 'kont', 'rollison', 'manager', 'melbourne', 'swanston', 'chances', 'advises', 'nonessential', 'statistic', 'collide', 'potency', 'inbox', 'diaper', 'diapers', 'trumpliedamericansdied', 'trumpdeathtollk', 'finalising', 'receives', 'pushes', 'tags', 'stages', 'descriptions', 'outlawed', 'legislation', 'ramping', 'procedures', 'faq', 'clinics', 'congestions', 'prioritise', 'passes', 'brad', 'pitt', 'jennifer', 'aniston', 'relationship', 'bird', 'flus', 'assures', 'lessons', 'serve', 'pande', 'q', 'leh', 'cabello', 'mind', 'thermometers', 'cuffs', 'stethoscopes', 'handing', 'doused', 'knocks', 'rob', 'reopenings', 'sepsis', 'educate', 'downloading', 'sheet', 'sam', 'misbehaving', 'nearing', 'guwahati', 'mainly', 'aerosols', 'vienna', 'intending', 'maharshtra', 'exempted', 'ticket', 'onward', 'somewhere', 'systematically', 'gouty', 'arthritis', 'hospitalize', 'polio', 'diary', 'bottled', 'lager', 'drinkers', 'forty', 'thriller', 'writer', 'coincidence', 'leapfrogged', 'introduces', 'dubs', 'stefano', 'montanari', 'byoblu', 'nanopathologist', 'inhale', 'expelled', 'supposedly', 'benchmarks', 'blm', 'thom', 'tillis', 'declarations', 'relating', 'advance', 'automatically', 'owe', 'miami', 'coroner', 'assuming', 'overinflated', 'shortages', 'harassment', 'daytime', 'visualize', 'compares', 'posed', 'unjustifiable', 'failures', 'eric', 'coe', 'impressive', 'broad', 'framework', 'yavatmal', 'primarily', 'surface', 'congregate', 'rita', 'wilson', 'ut', 'proactively', 'dire', 'unsurprisingly', 'stoking', 'flames', 'division', 'promoted', 'owns', 'manufactures', 'stake', 'mutual', 'features', 'fo', 'lieutenant', 'anil', 'baijal', 'organized', 'theft', 'malls', 'substantially', 'prohibited', 'hidroxychloroquine', 'file', 'demise', 'banging', 'thalis', 'shouting', 'gautambuddhnagar', 'noida', 'recommend', 'hussain', 'tradition', 'decorum', 'decency', 'trumpsjealousofobama', 'obamagate', 'maga', 'kag', 'exclude', 'assign', 'beverages', 'sacrifices', 'kiwis', 'vigilant', 'paraguay', 'fat', 'manat', 'hauora', 'alleyesonkentucky', 'balloting', 'gandhinagar', 'spartan', 'supplementing', 'atlantic', 'thumb', 'uw', 'hearing', 'epidemiologically', 'olympic', 'games', 'sport', 'ibd', 'mixture', 'ryanair', 'cuts', 'mismanagement', 'poultry', 'fill', 'roles', 'learned', 'authorize', 'neighbor', 'noia', 'stupid', 'thoroughly', 'lysol', 'augmentation', 'gradually', 'extraordinary', 'complaints', 'gmc', 'macedonia', 'euros', 'greece', 'strongertogether', 'bon', 'jovi', 'song', 'contest', 'aggression', 'humor', 'recieved', 'rich', 'punjab', 'nitish', 'kumar', 'lou', 'dobbs', 'strains', 'vehicles', 'nigel', 'farage', 'teach', 'climate', 'denial', 'balance', 'scheme', 'wi', 'renters', 'eviction', 'dementia', 'lifelong', 'asthma', 'survival', 'quadrupled', 'unique', 'filled', 'locality', 'theory', 'landing', 'thereafter', 'requests', 'johns', 'bloomberg', 'allergy', 'kogi', 'homelessness', 'contributing', 'institution', 'haul', 'fucking', 'conway', 'writes', 'occu', 'worldhealthday', 'risking', 'met', 'courage', 'underestimated', 'jaipur', 'tobacco', 'mitigate', 'triaging', 'practices', 'everythingonly', 'skill', 'entrepreneurship', 'institutions', 'educational', 'doctoral', 'reporter', 'bilgehan', 'bilge', 'hoarding', 'conditioners', 'fans', 'dundee', 'halls', 'covd', 'sophisticated', 'curfews', 'adult', 'shoutout', 'adeline', 'gutierrez', 'nu', 'ez', 'bu', 'antiracist', 'citizen', 'illiterate', 'literate', 'behaves', 'curfewondelhi', 'snapped', 'coy', 'saturdays', 'queenstown', 'outlines', 'witness', 'happened', 'dumped', 'hike', 'rash', 'criticised', 'dedicated', 'rashes', 'unusual', 'gathered', 'stone', 'pelting', 'defiance', 'obey', 'guns', 'lathi', 'cane', 'graded', 'evolving', 'borne', 'tried', 'cbs', 'bergamo', 'mislead', 'viewers', 'cast', 'father', 'rbi', 'closing', 'fiscal', 'ends', 'reserve', 'draws', 'doncaster', 'shops', 'stella', 'artois', 'sized', 'quavers', 'debacle', 'lyme', 'tends', 'tick', 'digital', 'lied', 'flew', 'internationally', 'welding', 'ne', 'ukrainians', 'pigs', 'burned', 'twenty', 'connecticut', 'introducing', 'carl', 'heneghan', 'surreptitiously', 'install', 'depict', 'preterm', 'uptrend', 'warriors', 'malnourished', 'asia', 'moonshot', 'repo', 'brahman', 'seva', 'mandal', 'dadar', 'eas', 'trail', 'dismissive', 'minimized', 'handful', 'lucky', 'points', 'measuring', 'stabbed', 'neighbourhood', 'moratalaz', 'coursing', 'harder', 'driving', 'cares', 'establishment', 'clinically', 'pesco', 'mediterranean', 'intermittent', 'libs', 'ruling', 'disregarded', 'impunity', 'dissolved', 'custo', 'weir', 'thats', 'alot', 'judy', 'replace', 'medicate', 'grandmother', 'discovers', 'porn', 'pornography', 'incubating', 'dancing', 'indo', 'scout', 'ranging', 'purposing', 'machines', 'sensor', 'laurent', 'hazardous', 'booster', 'discontinue', 'baba', 'ramdev', 'james', 'franco', 'shit', 'annually', 'flavor', 'doritos', 'trailing', 'fl', 'tx', 'decoction', 'noticed', 'correction', 'vessel', 'ucla', 'er', 'accessible', 'revealing', 'chicomvirus', 'lengths', 'enemies', 'suppress', 'conservative', 'kmag', 'domino', 'edmunds', 'introduce', 'constraints', 'pin', 'quantitative', 'considerably', 'lagging', 'reality', 'specimens', 'interim', 'demonstrators', 'clashed', 'species', 'caretakers', 'waterford', 'wages', 'oh', 'finland', 'freak', 'eschews', 'aides', 'bia', 'hepatitis', 'unconstitutional', 'potus', 'decease', 'indiantelecommunication', 'kanika', 'kapoor', 'hrh', 'tectonic', 'cultural', 'warp', 'speed', 'presidentialelection', 'coded', 'sixth', 'lowcock', 'humanitarian', 'ghrp', 'addresses', 'immediate', 'exacerbated', 'crises', 'jacinda', 'ardern', 'hindu', 'prediction', 'dates', 'univeristy', 'trchnology', 'heath', 'vial', 'registration', 'moscow', 'photographer', 'andrey', 'rudakov', 'namely', 'russianvaccine', 'vaccino', 'worldbreastfeedingweek', 'healthforall', 'pelted', 'stones', 'screen', 'units', 'desperately', 'staffing', 'marseille', 'coroanvirus', 'tighter', 'infographic', 'forged', 'bashed', 'suba', 'columbia', 'ra', 'oximeter', 'prepair', 'ridiculous', 'adherence', 'cking', 'apa', 'presentations', 'easiest', 'gene', 'manufacturered', 'swiss', 'convenience', 'voice', 'wsnz', 'rick', 'commodore', 'predictions', 'psychological', 'fallout', 'uh', 'huh', 'returns', 'coronavirusvaccine', 'attached', 'mob', 'administer', 'senior', 'hanumantha', 'rao', 'arbidol', 'waitemata', 'waitakere', 'guees', 'costly', 'gut', 'rip', 'morally', 'reprehensible', 'integral', 'chase', 'negatives', 'mandatorily', 'subjected', 'governador', 'province', 'axel', 'kicillof', 'juan', 'dom', 'nguez', 'moron', 'amazing', 'hdfc', 'md', 'aditya', 'reconciliation', 'kowheori', 'hate', 'newsinphotos', 'covidalert', 'workforce', 'workfromhome', 'fivefold', 'tripled', 'quantifies', 'ontario', 'feds', 'onpoli', 'ramakrishna', 'commenced', 'pheoc', 'optimisation', 'biomedical', 'noguchi', 'approves', 'coa', 'fs', 'nutritional', 'supplement', 'cytokine', 'overactivation', 'unexpected', 'multi', 'centric', 'bcg', 'prove', 'clot', 'ought', 'fought', 'tory', 'fletcher', 'shield', 'unwittingly', 'knell', 'responds', 'forcing', 'remaining', 'placebo', 'deleted', 'indus', 'unattended', 'footpath', 'seasons', 'unfolds', 'grim', 'robert', 'redfield', 'partylist', 'committees', 'damascus', 'syria', 'missed', 'indicated', 'postmortem', 'trade', 'restored', 'outweigh', 'investment', 'pullman', 'emphasized', 'tiny', 'fraud', 'treasurer', 'watering', 'deficit', 'borrowed', 'chalmers', 'unessential', 'preexisting', 'bloomfield', 'warrior', 'tip', 'soap', 'covidwarriortips', 'stopthespread', 'covidactnow', 'illustration', 'logged', 'beatncds', 'takeaction', 'converting', 'choir', 'skagit', 'wore', 'blackface', 'fancy', 'dress', 'disseminating', 'accredited', 'nearest', 'alternative', 'africans', 'reject', 'durham', 'kevan', 'jones', 'shambles', 'understands', 'approached', 'halted', 'infamous', 'serum', 'covishield', 'immunogenic', 'efficacious', 'laws', 'walkers', 'clothesline', 'joggers', 'experienced', 'presented', 'cbac', 'avoided', 'indoctornation', 'designed', 'keir', 'starmer', 'disagrees', 'dido', 'harding', 'unaware', 'coaching', 'zambia', 'fist', 'resolved', 'heartening', 'dnanudge', 'truenat', 'platform', 'advantage', 'groceries', 'vegetables', 'handed', 'crack', 'uhuru', 'artists', 'sh', 'cushion', 'rises', 'sciences', 'supremacist', 'whitesupremacy', 'swedish', 'asians', 'rumor', 'tracers', 'talkers', 'wallace', 'supports', 'thrashed', 'godi', 'drowned', 'originator', 'goo', 'underrated', 'acetylcysteine', 'nac', 'liquefies', 'mucus', 'prostatitis', 'bc', 'prostata', 'fluids', 'liver', 'kidneys', 'label', 'crowe', 'prepares', 'cooperation', 'instrument', 'presents', 'agenda', 'orangenetwork', 'colombian', 'manuel', 'elkin', 'patarroyo', 'breast', 'trumps', 'nude', 'statue', 'anger', 'mechanical', 'ventilation', 'brits', 'horse', 'panicbuying', 'trained', 'mentored', 'eoc', 'core', 'operation', 'simulation', 'examinations', 'everywhere', 'behaviours', 'sero', 'stricter', 'ceos', 'resigned', 'dump', 'rubbish', 'rooftop', 'textile', 'grenons', 'drunk', 'dilution', 'autism', 'supplementation', 'mayan', 'priest', 'hokum', 'revises', 'seanhannity', 'mayans', 'testifies', 'medecin', 'excluded', 'title', 'endothelial', 'injury', 'plays', 'pathogenesis', 'coagulopathy', 'sard', 'republic', 'hmsh', 'bottomed', 'pushing', 'unsweetened', 'sun', 'prophetised', 'uttering', 'laredo', 'strictest', 'crimes', 'gate', 'destiny', 'melburnians', 'hongkong', 'literally', 'cool', 'modellers', 'keeling', 'suppressed', 'orana', 'cook', 'ncr', 'authorizes', 'precise', 'measurement', 'permanently', 'southwest', 'papua', 'guinea', 'returnee', 'campers', 'sleep', 'camp', 'uncaptured', 'anywhere', 'clinicaltrials', 'variables', 'ted', 'kaczynski', 'rebirth', 'relevance', 'shadow', 'divert', 'pillow', 'uncomfortable', 'milder', 'adolescents', 'retaining', 'doubling', 'emphasises', 'minnesota', 'ventilated', 'interpreted', 'stoush', 'victorian', 'thereof', 'adf', 'vicpol', 'springst', 'clorox', 'bottle', 'martinelli', 'gold', 'belgium', 'mocking', 'approaching', 'watery', 'eyes', 'sneezing', 'differences', 'allergies', 'portuguese', 'icus', 'brave', 'lord', 'carlson', 'mainstream', 'refuses', 'filipino', 'trillanes', 'iv', 'integrated', 'ihip', 'idsp', 'portal', 'headache', 'coinfections', 'complicate', 'pulmonary', 'aspergillosis', 'capa', 'increasingly', 'bounces', 'bettiah', 'reinstated', 'flouting', 'offer', 'celebrity', 'couples', 'grave', 'buried', 'bissau', 'squandering', 'attributable', 'resource', 'densely', 'populated', 'kem', 'prescribed', 'shocked', 'cowboys', 'dallascowboys', 'sinclair', 'delaying', 'theorist', 'baselessly', 'feb', 'marks', 'hue', 'search', 'linda', 'gallon', 'cubicle', 'laugh', 'poster', 'mast', 'staystrong', 'clinton', 'packed', 'jacksonville', 'incidence', 'virtualconferenceafrica', 'evander', 'holyfield', 'innocence', 'ear', 'ears', 'randomly', 'assigned', 'statistically', 'snitches', 'demographic', 'wen', 'liang', 'microchip', 'implants', 'haircut', 'vanessa', 'hudgens', 'tipsy', 'paralyzed', 'generally', 'threatens', 'chinesecommunistparty', 'systemic', 'lifesaving', 'quarters', 'defer', 'expired', 'sterilized', 'casting', 'violate', 'festival', 'sensational', 'unconfirmed', 'traffic', 'cable', 'accusing', 'embezzle', 'bloodd', 'gdp', 'naah', 'limitless', 'trenches', 'allergic', 'rhinitis', 'supervised', 'trap', 'newschecker', 'congrats', 'sitting', 'bogies', 'traveling', 'manner', 'wandering', 'instant', 'argentinian', 'hlberger', 'verge', 'portrays', 'bright', 'stood', 'reassuring', 'sight', 'delhiite', 'dodge', 'duck', 'dive', 'franklin', 'roosevelt', 'jhalawar', 'jamaatis', 'chairmant', 'cobas', 'prong', 'integrate', 'valet', 'medicaldoctor', 'trumpcouldhavesavedvalet', 'garda', 'raid', 'skip', 'bypassed', 'confusing', 'hideo', 'ugandan', 'landlords', 'birthdays', 'stimulant', 'caffeine', 'methylxanthines', 'chemically', 'bless', 'refers', 'ltc', 'guyana', 'rmds', 'eular', 'tire', 'repairer', 'expansion', 'execution', 'mart', 'sosa', 'caba', 'argentina', 'handsanitizer', 'methanol', 'absorbed', 'cumulatively', 'nail', 'survivors', 'smartnews', 'attended', 'cancels', 'pointless', 'bullshit', 'destroyed', 'foreseeable', 'sony', 'gaming', 'servers', 'stillbirth', 'behalf', 'missionaries', 'spitters', 'chanting', 'gayatri', 'mantra', 'fibrinolysis', 'shutdown', 'sponsor', 'majorleaguebaseball', 'sponsors', 'commons', 'biomagnetism', 'explicitly', 'ingesting', 'disinfectant', 'statisticslink', 'admittance', 'biil', 'satyendra', 'das', 'janmabhoomi', 'ayodhya', 'karti', 'chidambaram', 'calm', 'sec', 'shapps', 'nanavati', 'ansari', 'limaye', 'reliable', 'outlet', 'ghislaine', 'maxwell', 'instance', 'sniff', 'josephbiden', 'newyorktimes', 'anteater', 'strength', 'controller', 'dcgi', 'ltd', 'zydus', 'cadila', 'ii', 'favorite', 'brazilians', 'candles', 'raymond', 'royce', 'rife', 'sound', 'frequencies', 'virtually', 'scanned', 'amplitude', 'characteristics', 'erased', 'grimes', 'speaking', 'sticking', 'parcels', 'analysts', 'byculla', 'waris', 'pathan', 'impplemented', 'signs', 'submitted', 'colour', 'examined', 'darker', 'worn', 'summarizing', 'preparation', 'intensify', 'represented', 'fellow', 'containers', 'startups', 'deploy', 'indigenous', 'wherein', 'costing', 'racism', 'irrefutable', 'coexistence', 'coevolution', 'interconnectedness', 'weaker', 'aurangaba', 'displaced', 'penetrate', 'denmark', 'lego', 'ballistic', 'missile', 'submarine', 'tennessee', 'sclerosis', 'msvirtual', 'carry', 'aminu', 'bayero', 'quadruples', 'messages', 'seldom', 'fun', 'mistake', 'graphic', 'zee', 'airway', 'sulfur', 'emission', 'nasa', 'immunoresponse', 'sparing', 'heroes', 'thankshealthheroes', 'mitch', 'mcconnell', 'tries', 'dunno', 'gyna', 'tract', 'octopus', 'madagascar', 'toxins', 'revoking', 'toronto', 'covidtoronto', 'trinitybellwoodspark', 'motorbiked', 'street', 'morgues', 'trucks', 'stacked', 'coffins', 'crap', 'carom', 'coriander', 'peeping', 'thrives', 'shelter', 'peepingtom', 'repeated', 'cottage', 'birch', 'transplants', 'departing', 'provisional', 'honorable', 'administrator', 'registering', 'ravi', 'nayak', 'protection', 'display', 'modestly', 'idiots', 'witchcraft', 'maker', 'agreements', 'secured', 'signing', 'formal', 'widens', 'prohibits', 'scare', 'marshmallows', 'northdakota', 'scar', 'adviser', 'subscribe', 'afffecting', 'personally', 'decades', 'pgimer', 'mosquitoes', 'safeguard', 'goya', 'beans', 'goyabeans', 'afterwards', 'backhand', 'favourite', 'wonder', 'strewn', 'languages', 'guarantee', 'emeka', 'nwajiuba', 'nl', 'oc', 'hku', 'whereas', 'library', 'mondaymorning', 'mondayvibes', 'visual', 'evolution', 'hood', 'sustain', 'morningmotivation', 'dawood', 'ibrahim', 'backfill', 'cache', 'screenshots', 'fewest', 'expressly', 'woodwardtapes', 'shangri', 'plaza', 'mandaluyong', 'supposed', 'adapted', 'pooled', 'karaoke', 'pub', 'proposes', 'jedi', 'located', 'apr', 'rumours', 'notifications', 'intimate', 'embrace', 'lowered', 'andra', 'discharges', 'nas', 'plamsa', 'therapies', 'mantua', 'obtain', 'cypress', 'eucalyptus', 'vapor', 'koran', 'recitation', 'attitude', 'resulting', 'misled', 'recipients', 'genetically', 'modified', 'organisms', 'shopping', 'pull', 'sneeze', 'dispose', 'soars', 'gripped', 'willing', 'maternal', 'checkups', 'vaccinations', 'prenatal', 'postnatal', 'threaten', 'undo', 'amitabhbachchan', 'eshe', 'bhi', 'rishte', 'wo', 'baap', 'lgte', 'felipe', 'plagiarized', 'palmeras', 'en', 'nieve', 'untreated', 'equally', 'removing', 'pangolin', 'original', 'rahul', 'meerut', 'mohoddin', 'pur', 'muradnagar', 'nahar', 'memos', 'rid', 'inference', 'dynamical', 'realtime', 'hub', 'shortest', 'jackie', 'chan', 'collected', 'niece', 'demonstrating', 'overtaken', 'lpc', 'ou', 'resist', 'wrapped', 'bundles', 'offloaded', 'investigate', 'forgotten', 'lacking', 'bored', 'flock', 'ikea', 'instances', 'shutdowns', 'undertaken', 'hair', 'weave', 'lace', 'fronts', 'grounded', 'prophylaxis', 'mg', 'dinner', 'dynasty', 'amusement', 'theme', 'duckdynasty', 'philrobertson', 'videoconferencing', 'lauded', 'broadscale', 'manufacture', 'charges', 'documentation', 'pharmacist', 'excessive', 'acidosis', 'relying', 'gaiters', 'shields', 'investigating', 'bong', 'enrich', 'mighty', 'immunization', 'pandem', 'paws', 'fucini', 'peta', 'cheering', 'embedded', 'practical', 'minimize', 'hides', 'parking', 'plains', 'midwest', 'jeffrey', 'epstein', 'furloughing', 'surprises', 'maintains', 'yemen', 'fog', 'acts', 'priti', 'patel', 'eleventy', 'stocked', 'urging', 'israelis', 'exosome', 'mosinee', 'academic', 'narrow', 'accept', 'african', 'adviced', 'discourage', 'dmk', 'selva', 'kicked', 'palliative', 'anaesthesia', 'neurological', 'microchipped', 'brilliant', 'surest', 'defeating', 'emotionally', 'married', 'truther', 'gaslighted', 'questionable', 'diy', 'merits', 'bind', 'progression', 'varies', 'houseflies', 'blind', 'obstacle', 'talent', 'positivevibes', 'sharukhkhan', 'zalima', 'coronavirusinindia', 'van', 'agreeing', 'msm', 'justifies', 'kaufman', 'nominate', 'headteacher', 'unproven', 'proteins', 'antigens', 'rna', 'organizing', 'camps', 'vans', 'doorsteps', 'rapidantigentest', 'celebrate', 'eidaladha', 'bent', 'elbow', 'sallah', 'react', 'prevalence', 'cat', 'arsehole', 'implements', 'cheeks', 'editorial', 'capitalism', 'civilization', 'plus', 'savings', 'mvcs', 'trauma', 'costs', 'esp', 'hib', 'prevnar', 'armed', 'salute', 'coronawarriors', 'concoction', 'herbs', 'tamarind', 'juice', 'lentils', 'era', 'definitions', 'rw', 'attribute', 'hindus', 'donate', 'guam', 'puerto', 'rico', 'settles', 'changeover', 'rushes', 'jammu', 'assist', 'minster', 'spray', 'reaffirms', 'alledegedly', 'staphylococcus', 'spreadsheet', 'horizon', 'figuring', 'sourcing', 'helsinki', 'immigration', 'distract', 'totalitarianism', 'removal', 'democide', 'newworldorder', 'distracted', 'barak', 'sp', 'dollars', 'decedents', 'morbidities', 'alzheimer', 'cursor', 'hyped', 'occupational', 'transition', 'dealers', 'standby', 'bug', 'squash', 'belt', 'chuck', 'norris', 'hivaids', 'prep', 'discusses', 'std', 'testi', 'tube', 'touting', 'rank', 'fadnavis', 'regime', 'nadda', 'navi', 'refusal', 'export', 'requisitioning', 'consumerfed', 'liquor', 'schemes', 'guideline', 'fashion', 'ivankatrump', 'insufficient', 'sanitary', 'technicians', 'seize', 'cash', 'worldmosquitoday', 'mosquito', 'bites', 'interstate', 'inserted', 'apparently', 'trackers', 'phones', 'erted', 'iphone', 'watsapp', 'android', 'penalised', 'sweeps', 'reimpose', 'temperature', 'degrees', 'vaccinating', 'gunna', 'damage', 'airways', 'treasury', 'notmypresident', 'offending', 'overtakes', 'uma', 'fruits', 'ice', 'rinks', 'pauline', 'hanson', 'mug', 'prophylactic', 'dozen', 'appeared', 'hydroxydhloroquine', 'censored', 'maddow', 'scripps', 'san', 'diego', 'santiago', 'del', 'estero', 'bucks', 'kaziranga', 'surely', 'inept', 'irresponsible', 'tragic', 'jumps', 'hinges', 'filling', 'gaps', 'nod', 'coordinating', 'sizable', 'bandhugan', 'panchagavya', 'layer', 'logically', 'energetic', 'glenmark', 'yields', 'iii', 'spectrum', 'selectively', 'dependent', 'polymerase', 'rdrp', 'replication', 'overnight', 'dphss', 'reaching', 'storage', 'exempt', 'childcare', 'peruvian', 'packets', 'garbage', 'edmonton', 'calgary', 'ignite', 'rivalries', 'ableg', 'veterinarian', 'featured', 'conspiratorial', 'bizarre', 'importantly', 'wildly', 'counselled', 'babies', 'defrauded', 'attacking', 'myrtle', 'shands', 'gainesville', 'snap', 'shipments', 'apologies', 'typos', 'tweeting', 'conversations', 'typing', 'hillary', 'consternation', 'arisen', 'occupies', 'constitute', 'discrepancy', 'jhu', 'coronation', 'characters', 'starving', 'placement', 'pfizer', 'spite', 'allahu', 'akbar', 'slide', 'adelaide', 'multisystem', 'inflammatory', 'mis', 'territorial', 'nicade', 'hcws', 'hepe', 'rota', 'amr', 'stewardship', 'adjustment', 'switching', 'anhembi', 'brasil', 'quoting', 'specifying', 'abandon', 'spaghetti', 'kiss', 'purposefully', 'domestically', 'quell', 'hk', 'asymmetric', 'conflict', 'primer', 'revolution', 'ka', 'spiking', 'purchase', 'cycle', 'pimps', 'occurs', 'tigers', 'devour', 'goat', 'succumbed', 'injuries', 'matur', 'existence', 'casts', 'servants', 'illegally', 'samadi', 'whatever', 'humanly', 'sanctuary', 'tower', 'wiped', 'expel', 'oversold', 'credit', 'prohibiting', 'christian', 'mosques', 'exotic', 'proceedings', 'academy', 'sitamarhi', 'barranquilla', 'nice', 'russie', 'slower', 'complex', 'jb', 'pritzker', 'illinoisans', 'gm', 'affiliated', 'controversy', 'bioweapons', 'reagents', 'grossly', 'utilised', 'arlene', 'foster', 'kindness', 'nairobi', 'sonko', 'adjustments', 'pulled', 'tweets', 'nudged', 'infrared', 'forehead', 'harm', 'organs', 'grades', 'contains', 'components', 'reliably', 'counted', 'hydroxychloroqen', 'memory', 'politicalcorrectness', 'writing', 'wank', 'salvador', 'illa', 'equality', 'irene', 'montero', 'gregorio', 'mara', 'transform', 'portugal', 'tierra', 'pura', 'disseminated', 'mariana', 'colombres', 'garmendia', 'denounces', 'overregistration', 'extending', 'launching', 'chatbots', 'hindi', 'speaks', 'persistent', 'cfs', 'upward', 'uncontrolled', 'denominator', 'manir', 'hossain', 'tripura', 'malaysia', 'pms', 'alberto', 'fern', 'ndez', 'pcrtest', 'irony', 'insisting', 'abide', 'surged', 'technical', 'organizational', 'established', 'alllivesmatter', 'osd', 'breaks', 'referring', 'pathetic', 'alter', 'duncan', 'clause', 'dutch', 'consent', 'ramu', 'tablespoon', 'pepper', 'spoons', 'circulate', 'verification', 'manafort', 'confinement', 'zhong', 'nanshan', 'saline', 'maggie', 'partnerships', 'disrupt', 'distributions', 'lasting', 'insecticide', 'nets', 'hidden', 'sally', 'struggled', 'dismal', 'establishes', 'ncezid', 'missouri', 'assoc', 'indiana', 'regrets', 'dating', 'username', 'notion', 'careless', 'lazy', 'heartless', 'stance', 'heights', 'curb', 'dispelled', 'statewide', 'consulted', 'pooling', 'brahmins', 'caste', 'chopped', 'tongue', 'chile', 'turkey', 'transformed', 'grime', 'overtaking', 'payers', 'performance', 'frm', 'dis', 'wealthy', 'techniques', 'dist', 'comprising', 'ration', 'declare', 'ancient', 'ahmedabad', 'vadodara', 'mehsana', 'coronavirustruth', 'uighur', 'detain', 'karakaxlist', 'updating', 'huddled', 'aggregation', 'prisoner', 'optimal', 'resolving', 'freight', 'bergstrom', 'chyna', 'sham', 'impeachment', 'kung', 'secretly', 'criticize', 'breakthrough', 'scapegoat', 'jared', 'leto', 'creating', 'mock', 'procession', 'amit', 'veterinary', 'speaker', 'coronavirusincontext', 'jack', 'box', 'ultimate', 'cheesburger', 'hamburger', 'confuse', 'echo', 'belize', 'horrific', 'bier', 'hw', 'downgraded', 'dignity', 'shud', 'ventilatoins', 'dim', 'sighted', 'injected', 'mutated', 'reopensafely', 'explained', 'chang', 'gung', 'strongly', 'earliest', 'practitioners', 'prescribe', 'fulfilling', 'wish', 'males', 'reps', 'disguised', 'mention', 'clique', 'demonize', 'saver', 'dining', 'lesotho', 'abou', 'rope', 'prone', 'fabric', 'conquers', 'autonomous', 'jose', 'bolivia', 'germain', 'hero', 'fled', 'agra', 'inching', 'bs', 'yediyurappa', 'kishanganj', 'cear', 'adopted', 'istanbul', 'policed', 'freeview', 'episode', 'dharmendra', 'siddaramaiah', 'broadly', 'il', 'mn', 'va', 'views', 'backtracked', 'marriage', 'reception', 'komal', 'mishra', 'blames', 'slitty', 'eyed', 'intelligence', 'sharepic', 'che', 'behaviors', 'beliefs', 'chemo', 'potsales', 'perform', 'blasio', 'aimim', 'asaduddin', 'owaisi', 'fooling', 'vadra', 'grasp', 'suman', 'assembly', 'gau', 'mutra', 'tablighis', 'discussed', 'presumed', 'defensible', 'ukraine', 'forcibly', 'acknowledge', 'analysing', 'compiling', 'emmy', 'awards', 'beautiful', 'quito', 'guayaquil', 'masking', 'coveri', 'expression', 'liberia', 'hoard', 'ecmo', 'unused', 'tuscaloosa', 'unloved', 'convertibles', 'plummet', 'cars', 'beachboys', 'convertiblecars', 'chevrolet', 'wondered', 'ordering', 'mamata', 'banerjee', 'duration', 'dips', 'adjusting', 'flawed', 'congressman', 'campos', 'steel', 'cardboard', 'stds', 'unimaginable', 'mistakenly', 'initially', 'smallbusiness', 'calum', 'semple', 'adopt', 'bordering', 'experimental', 'presenter', 'neighbour', 'shanghai', 'aboard', 'queues', 'jarkhand', 'diameter', 'micro', 'ir', 'ous', 'vendor', 'skeptically', 'kylie', 'minogue', 'funny', 'glastonbury', 'behaving', 'abnormally', 'osmar', 'terra', 'northumberland', 'tyneside', 'tyne', 'gateshead', 'sunderland', 'fitness', 'remark', 'classifying', 'await', 'climbing', 'ak', 'schoolkids', 'momentarily', 'lapses', 'correctness', 'kolhapur', 'candle', 'vigil', 'proclaim', 'unity', 'commemorative', 'coins', 'countryside', 'hydroxichloroquine', 'panicked', 'dakar', 'misbehaved', 'portsmouth', 'beats', 'coronary', 'pilot', 'matching', 'batch', 'rollout', 'accelerates', 'testifying', 'enlarged', 'concealed', 'removes', 'wasted', 'activist', 'trupti', 'desai', 'latinos', 'latino', 'herb', 'mugwort', 'municipal', 'casualty', 'enemy', 'win', 'exporting', 'instruments', 'colder', 'selection', 'staggering', 'nope', 'halfway', 'shortsighted', 'maria', 'channelled', 'faucci', 'bluff', 'wedding', 'rosewood', 'breeds', 'tissue', 'fibres', 'ailments', 'managers', 'cleaners', 'scaling', 'carefully', 'igot', 'covidwarriors', 'missionkarmayog', 'dad', 'introverts', 'introvert', 'smell', 'diarrhoea', 'chickens', 'coronaviruscanada', 'lesions', 'neutropenic', 'loses', 'yelling', 'detourers', 'grass', 'oldpeople', 'toolkit', 'sheraton', 'phased', 'praises', 'kalma', 'frozen', 'opinion', 'influenced', 'career', 'electronic', 'solved', 'backlogs', 'environment', 'milwaukee', 'absentee', 'curbside', 'capacities', 'contagion', 'probability', 'graph', 'interfere', 'percentages', 'scrutiny', 'database', 'sechenov', 'whenever', 'assessed', 'cctv', 'containmentzones', 'acquiring', 'objects', 'likelihood', 'incarceration', 'logistics', 'robust', 'worsened', 'jacob', 'rees', 'mogg', 'endless', 'carping', 'phenomenal', 'impresses', 'remote', 'homeoffice', 'safest', 'fly', 'giuseppe', 'conte', 'mentally', 'rescue', 'boots', 'sta', 'scarf', 'napkin', 'employee', 'piling', 'passing', 'licking', 'plateaued', 'malnutrition', 'achieving', 'disclose', 'validate', 'bioeasy', 'kemp', 'posing', 'gregory', 'mcmichael', 'voter', 'base', 'remind', 'hajipur', 'ppi', 'kidneytransplant', 'lymphocyte', 'depleting', 'induction', 'maintenance', 'height', 'visualabstract', 'interrogation', 'supervisor', 'cabins', 'vacated', 'sumac', 'equalling', 'lav', 'polls', 'australians', 'oppose', 'flood', 'incomplete', 'hosp', 'abdicated', 'hcpm', 'immunisation', 'childhood', 'overstated', 'spared', 'eighty', 'cinema', 'permit', 'tele', 'counselling', 'ideas', 'honestly', 'engine', 'wheels', 'trophy', 'wives', 'trophywife', 'dumps', 'variability', 'pulling', 'belief', 'blatantly', 'fourty', 'persisted', 'hawaii', 'kushner', 'jaredkushner', 'nepotism', 'adunnii', 'cc', 'magnitude', 'declares', 'fluzone', 'scramble', 'personality', 'shaving', 'nightingale', 'brighten', 'walls', 'inhalers', 'treats', 'recognise', 'minimise', 'livelihoods', 'bay', 'lid', 'pmay', 'serbian', 'iraqi', 'dictator', 'iraq', 'exhorted', 'froze', 'neutralize', 'bakery', 'strictly', 'washable', 'chrysanthemum', 'initiate', 'breastfeed', 'variety', 'undoubtedly', 'kate', 'middleton', 'spark', 'speculation', 'queen', 'elizabeth', 'nasty', 'spreaders', 'estate', 'property', 'asthmaawareness', 'pig', 'cooked', 'purchased', 'guarantees', 'injured', 'danielle', 'dicenso', 'upsurge', 'airs', 'rerun', 'cdntv', 'chinesevirus', 'chinaindiafaceoff', 'boycottmadeinchina', 'boycottchineseproduct', 'admittedly', 'flinches', 'vegan', 'naturopathy', 'garaare', 'vati', 'supervision', 'casaulty', 'willbe', 'explosion', 'residential', 'hamilton', 'classrooms', 'cleaned', 'ibirapuera', 'gymnasium', 'mutton', 'livestock', 'impressed', 'newzealand', 'exemplar', 'celebrated', 'stressing', 'evin', 'immunizationforall', 'vaccineswork', 'fullyimmunizeeverychild', 'croatian', 'fla', 'carrier', 'surgery', 'acog', 'equipped', 'route', 'midnight', 'directs', 'fees', 'offset', 'teresa', 'theatres', 'helicopters', 'caller', 'radio', 'legionnaires', 'moisture', 'spikes', 'copied', 'pasted', 'bellends', 'raises', 'indi', 'didier', 'raoult', 'kick', 'jenny', 'mccarthy', 'develops', 'jennymccarthy', 'advising', 'insufficiency', 'quarantinecentres', 'aled', 'prayed', 'mercy', 'expects', 'badly', 'thieves', 'pretending', 'suppose', 'drum', 'fraction', 'leaking', 'clubs', 'evoke', 'stafford', 'ncd', 'contraception', 'lawmaker', 'reiterate', 'forgery', 'looting', 'udupi', 'gangadhar', 'ethics', 'unpredictable', 'duping', 'poors', 'suo', 'moto', 'loksabha', 'investing', 'establish', 'ibekwe', 'duties', 'gusau', 'weakness', 'certifying', 'clicking', 'hoursnumber', 'independent', 'washed', 'soaps', 'mingling', 'sparked', 'outrage', 'emerged', 'volunteer', 'signals', 'induced', 'advanced', 'microscope', 'eventual', 'wherever', 'batman', 'lastly', 'indeed', 'unfairly', 'florence', 'bigger', 'punekars', 'levied', 'graveyards', 'mooted', 'agrees', 'curse', 'djs', 'warehouse', 'libraries', 'supermarkets', 'orgies', 'tripping', 'explored', 'pgi', 'rohtak', 'emphasize', 'musculoskeletal', 'depending', 'wha', 'decreases', 'load', 'graphs', 'conventional', 'sii', 'uni', 'departure', 'sincelejo', 'gmt', 'rejecting', 'escalated', 'profitable', 'mud', 'mil', 'abt', 'conserve', 'accidentally', 'celebratory', 'firing', 'patents', 'glycoprotein', 'boyac', 'insider', 'falsification', 'cl', 'nicas', 'janta', 'survived', 'depleted', 'cupboard', 'bare', 'oral', 'intravenous', 'contributes', 'peru', 'ibis', 'packs', 'beaverton', 'utilisation', 'ptf', 'fireworks', 'otc', 'afford', 'previewed', 'glance', 'graphical', 'representation', 'pompeo', 'investigates', 'thinners', 'admit', 'merely', 'broadening', 'tattered', 'garments', 'certificate', 'churches', 'sum', 'worsen', 'downplay', 'psychology', 'shocking', 'corridors', 'haldwani', 'poc', 'stick', 'jitendra', 'awhad', 'hey', 'oz', 'ppm', 'pipe', 'ive', 'luck', 'teamoffivemillion', 'marimamiriona', 'bulletin', 'dalit', 'electricians', 'experiences', 'upheaval', 'adapts', 'installed', 'complying', 'sips', 'liquids', 'stomach', 'acid', 'opposite', 'exception', 'ruby', 'polish', 'confiscated', 'machine', 'originally', 'grodzisk', 'mazowiecki', 'pmo', 'classroom', 'downs', 'kanpur', 'vegetable', 'peoples', 'hairdressers', 'beauticians', 'patrons', 'bcci', 'suspends', 'ipl', 'indefinitely', 'steers', 'sought', 'dubious', 'cherry', 'picks', 'thankfully', 'coordination', 'indiafightscirona', 'widen', 'marcos', 'aguascalientes', 'canceled', 'maldives', 'pigeons', 'pota', 'undigested', 'intestinal', 'sack', 'membranes', 'dharavi', 'chains', 'suppressing', 'seventeen', 'follows', 'restatement', 'firearm', 'confiscation', 'afternoon', 'reciting', 'sanskrit', 'sacred', 'transmitting', 'infrequent', 'stayed', 'sequences', 'yourselves', 'disposable', 'rumors', 'mimes', 'glass', 'mime', 'bullfights', 'matadors', 'bailout', 'barackobama', 'highlight', 'bcoz', 'askd', 'discard', 'factsmatter', 'holidays', 'sikkim', 'wind', 'blows', 'exclusively', 'lockdowncanada', 'justintrudeau', 'burger', 'designer', 'burgerking', 'sofiavergara', 'strands', 'pedestrian', 'racists', 'clock', 'sadiq', 'streams', 'gujaratcoronaupdate', 'bidensoetoro', 'associates', 'lawyers', 'cracking', 'melania', 'sings', 'garden', 'melaniatrump', 'philippine', 'communications', 'pbcom', 'makati', 'balloon', 'ke', 'unki', 'gyi', 'sad', 'se', 'pucho', 'ki', 'av', 'chuki', 'kon', 'resposible', 'lagta', 'hoga', 'baki', 'bhagane', 'lage', 'codes', 'preview', 'imagined', 'rebuild', 'ourselves', 'sustainability', 'campinas', 'dismantled', 'supplements', 'ci', 'swear', 'gargle', 'terrified', 'muddying', 'virologist', 'limengyan', 'ccpvirus', 'zhoushan', 'takedowntheccp', 'ccpliedpeopledied', 'brasilian', 'dhb', 'northcote', 'henderson', 'grafton', 'wiri', 'vargas', 'santojanni', 'queens', 'essentialworker', 'bioengineer', 'osmania', 'lay', 'defend', 'justify', 'asympt', 'film', 'star', 'convert', 'instituting', 'replaced', 'slippery', 'hype', 'requirement', 'nitp', 'laborday', 'labordaysafe', 'bronx', 'bronxzoo', 'zoodirector', 'anniversary', 'pulse', 'pride', 'fenugreek', 'tape', 'strip', 'doublechecking', 'rejoice', 'facilitates', 'mobilize', 'eid', 'hospitalists', 'redeployed', 'redefined', 'stretched', 'howwehospitalist', 'cra', 'citing', 'meaninglessness', 'taxday', 'poisons', 'ink', 'toward', 'j', 'suspending', 'subcategories', 'visas', 'suspension', 'insights', 'erath', 'discipline', 'stephenville', 'directors', 'faints', 'yedikule', 'usb', 'flash', 'drives', 'bioshield', 'existent', 'telephone', 'epicentres', 'deg', 'latitude', 'researched', 'hemisphere', 'americas', 'stole', 'weaponized', 'punches', 'assault', 'punchandjudy', 'boone', 'pollutants', 'sudan', 'juba', 'emirates', 'thali', 'bajaav', 'cowdung', 'cakes', 'worest', 'hydroquinone', 'homeopathy', 'kadhas', 'downed', 'kathleen', 'soar', 'selfdepricating', 'limitations', 'jewish', 'hide', 'excellent', 'taiwanese', 'tightness', 'abdul', 'rahman', 'youbi', 'abdulaziz', 'summon', 'spirit', 'togetherness', 'cleanest', 'hn', 'arrange', 'synchronised', 'executives', 'imf', 'wef', 'complicit', 'creted', 'grieving', 'instability', 'appreciative', 'covi', 'attractive', 'retracted', 'td', 'targeted', 'retention', 'tsunami', 'bn', 'kickstart', 'clips', 'guard', 'srinivas', 'waiters', 'taxi', 'dwarfs', 'muy', 'interesante', 'magazine', 'soldier', 'erred', 'assaulting', 'invested', 'rebuilt', 'methodological', 'fundamentally', 'tortuous', 'conferences', 'outcome', 'intact', 'trick', 'cream', 'davey', 'whilst', 'spiritual', 'corrector', 'downing', 'competitive', 'hints', 'preliminary', 'vo', 'surveys', 'serial', 'interval', 'welcoming', 'kayleigh', 'mcenany', 'argue', 'macedonian', 'venko', 'filipce', 'fee', 'experiencing', 'contract', 'outpacing', 'skinned', 'canadians', 'docters', 'nersus', 'whith', 'bros', 'sis', 'vp', 'compiles', 'assisted', 'indoor', 'outdoor', 'akira', 'movie', 'apocalyptic', 'tokyo', 'shooter', 'tasmac', 'lenox', 'hill', 'schwabe', 'schwabeindia', 'immunitybooster', 'immunesystem', 'healthylife', 'floating', 'downwards', 'overreaction', 'weakened', 'dysfunctional', 'compliant', 'enforced', 'ketamine', 'ema', 'chmp', 'filgotinib', 'mykowitz', 'exposes', 'accuses', 'fabricating', 'conjunction', 'dexamethsaone', 'shelf', 'stuff', 'colchicine', 'gout', 'rheumatic', 'investigations', 'acti', 'haematology', 'easyoff', 'febreeze', 'appoint', 'jerad', 'captain', 'theodore', 'ball', 'gavinnewsom', 'poisoned', 'mutiny', 'birac', 'facilitating', 'vsv', 'biopharma', 'famine', 'williambarr', 'vicepresidentmikepence', 'stevenseagal', 'videograph', 'celcius', 'cannon', 'license', 'awarded', 'bucaramanga', 'nostradamus', 'devices', 'laughter', 'joke', 'teenager', 'sudima', 'akl', 'alerts', 'wh', 'nau', 'analyses', 'atlanta', 'toothpaste', 'jenner', 'cosmetic', 'pmnrf', 'muradabad', 'dka', 'cafes', 'playgrounds', 'essex', 'overcome', 'underground', 'amply', 'sentence', 'makers', 'realizing', 'forgot', 'goofy', 'disneymagicmoments', 'kasturba', 'boosted', 'ryan', 'thankful', 'montana', 'administrations', 'pundits', 'examiner', 'editor', 'utilitising', 'software', 'dangers', 'reflection', 'vk', 'bharath', 'goldfish', 'reimbursement', 'counsel', 'terminated', 'finished', 'tycoon', 'lauds', 'courageous', 'wwii', 'generation', 'seemingly', 'inconvenient', 'acutely', 'cup', 'sugar', 'walker', 'predictive', 'analytics', 'hitsolutions', 'hitequity', 'bottlenecks', 'paved', 'plight', 'entitlements', 'queue', 'wayne', 'excludes', 'punishing', 'airlocked', 'forest', 'cotton', 'somebody', 'ulsan', 'compute', 'beating', 'chorley', 'lancashire', 'unite', 'gilead', 'mandates', 'colored', 'adhaan', 'kuwait', 'hayya', 'salah', 'salatu', 'fi', 'buyutikum', 'prophet', 'heavy', 'rain', 'bloke', 'misso', 'fork', 'toaster', 'lie', 'plenty', 'coworking', 'wifi', 'conveniently', 'bicester', 'pratapgarh', 'karol', 'sikora', 'harveyweinstein', 'switch', 'advisories', 'dashboards', 'revoked', 'sporadic', 'imperative', 'joy', 'arackal', 'alukas', 'sft', 'cant', 'freedoms', 'eminent', 'professors', 'bumper', 'dot', 'covert', 'doorway', 'jam', 'unnecessarily', 'kdu', 'vip', 'aest', 'dal', 'lalu', 'prasad', 'yadav', 'attendants', 'charleslieber', 'hod', 'chemistry', 'harvarduniversity', 'nahua', 'yeah', 'irs', 'viralvideo', 'tumor', 'ramzaan', 'papaya', 'mosumbi', 'grape', 'sugandhi', 'banana', 'mangalore', 'shimoga', 'chikmagalur', 'thru', 'ksrtc', 'mlas', 'motivate', 'lining', 'initial', 'rtpcr', 'marred', 'outages', 'sufficiently', 'dude', 'hack', 'revokes', 'tallying', 'capture', 'requirements', 'introduction', 'focussing', 'purport', 'habit', 'remarkably', 'qq', 'unemployed', 'prospects', 'bleak', 'taxes', 'sociopathic', 'refrigerator', 'flaunts', 'blooded', 'kidnapped', 'spilled', 'underserved', 'ihme', 'leaflet', 'mailbox', 'starbug', 'eileen', 'ignorance', 'newdelhi', 'explaining', 'turnaround', 'invention', 'reflected', 'russians', 'lambert', 'roadblock', 'virality', 'trusts', 'helm', 'sharply', 'nuns', 'madhav', 'unit', 'ravindra', 'raina', 'incorrect', 'errors', 'raise', 'profit', 'psu', 'farmer', 'simplified', 'installment', 'ys', 'jagan', 'reddy', 'ormoc', 'gomez', 'poses', 'ignores', 'plates', 'relevant', 'differ', 'planted', 'fabunan', 'zambales', 'oxygenation', 'homeopath', 'crocodile', 'mosquitos', 'summers', 'resolution', 'leftover', 'ketchup', 'stephen', 'reicher', 'hotline', 'zombie', 'zombies', 'unusually', 'asymmetry', 'entities', 'outbid', 'buyers', 'demonstrations', 'accounted', 'feasible', 'visor', 'bullfighters', 'swears', 'bull', 'bulls', 'inspector', 'baroness', 'multiples', 'locals', 'fort', 'detrick', 'attack', 'rely', 'commemorate', 'reinforce', 'pns', 'sauna', 'hairdryer', 'realize', 'diseasedetective', 'rachael', 'zacks', 'unevenly', 'excerpt', 'tremendous', 'ncdcrrt', 'sormas', 'notification', 'pillar', 'consistency', 'unsafely', 'improperly', 'empower', 'rcafro', 'soccer', 'tightened', 'promotion', 'mobilization', 'sensitisation', 'ko', 'nahi', 'hota', 'weather', 'astounding', 'remembering', 'shiva', 'ciyal', 'kota', 'pakisthan', 'choke', 'tension', 'cystic', 'reversible', 'fatali', 'abruptly', 'inactivated', 'authoritarian', 'inc', 'inadvertently', 'pattinson', 'msnbc', 'harms', 'paraguayans', 'comparative', 'julius', 'berger', 'lifecamp', 'accordingly', 'perfectly', 'confined', 'louis', 'authenticity', 'aoc', 'assiduously', 'outer', 'dwaynejohnson', 'gregorypeck', 'onthebeach', 'bidding', 'irregular', 'dark', 'standardize', 'blackout', 'korean', 'drama', 'terrius', 'emerge', 'learnt', 'stayhealthy', 'livelife', 'covidlockdown', 'barotrauma', 'ards', 'newer', 'abating', 'axios', 'verifying', 'molecule', 'pink', 'someday', 'aerosolized', 'elders', 'smartphone', 'elucidate', 'subtle', 'casteism', 'doomed', 'committing', 'disappointed', 'relieved', 'facebut', 'cried', 'baffled', 'realise', 'nowdouble', 'exclamation', 'sharedouble', 'wuhaninstituteofvirologylaboratory', 'enemas', 'williambryan', 'himanta', 'biswa', 'sarma', 'alberta', 'emissions', 'wed', 'acceptable', 'stolen', 'aide', 'witzel', 'scope', 'oversight', 'eau', 'demonstrates', 'achievement', 'marist', 'reluctance', 'hardships', 'uphold', 'parasite', 'whitehouse', 'parasites', 'cutoff', 'similarly', 'alertness', 'gradual', 'liberal', 'imply', 'causal', 'protesters', 'sheets', 'unfrozen', 'eleven', 'manifestations', 'ukrainian', 'caregivers', 'afterward', 'refunds', 'changer', 'delivers', 'stamped', 'renewed', 'neighbours', 'hav', 'suspects', 'poker', 'convince', 'botafogo', 'blindingly', 'dribbling', 'basketballs', 'faded', 'sunset', 'basketball', 'lebronjames', 'christine', 'lagarde', 'smoked', 'gyani', 'cautions', 'neglecting', 'funneled', 'viralogy', 'bidensooetoro', 'rebounded', 'seventh', 'stopthespreadofcorona', 'sorts', 'saluting', 'incompletely', 'helplessness', 'detective', 'inflection', 'positioned', 'pushed', 'lets', 'panel', 'setup', 'satyendar', 'jain', 'deteriorates', 'implant', 'samoa', 'unfulfilled', 'creams', 'koolfee', 'preserved', 'milkshake', 'rough', 'colas', 'atleast', 'translates', 'tiktok', 'traveler', 'volume', 'transited', 'customs', 'vietnam', 'consumed', 'unmasked', 'biologicalweapon', 'backfired', 'biologicalweapons', 'smt', 'purnima', 'pandeyji', 'knowledgeable', 'ghiya', 'tori', 'roti', 'coronilvati', 'powers', 'legislature', 'arises', 'disappeared', 'bureaucracts', 'antennas', 'favor', 'noninvasive', 'stably', 'practiced', 'emphasizes', 'markaz', 'tabloid', 'hydroxychloroquin', 'maid', 'lpg', 'cylinders', 'briefs', 'idlis', 'dosas', 'meals', 'revenue', 'immanuel', 'soared', 'author', 'chen', 'ming', 'fang', 'dong', 'cheng', 'variations', 'unequivocally', 'wv', 'seemed', 'legitimately', 'legitfund', 'com', 'abubakar', 'weeping', 'universities', 'suppression', 'believes', 'swamped', 'grade', 'regularity', 'impacts', 'rows', 'sprawled', 'avenue', 'eamc', 'notified', 'secon', 'saadia', 'afzaal', 'studied', 'studying', 'corner', 'answered', 'maked', 'mars', 'frauds', 'spends', 'negotiating', 'consists', 'windows', 'ncdcteam', 'demystifying', 'adverse', 'reactions', 'differential', 'rec', 'fridge', 'defunding', 'madison', 'declaration', 'independence', 'immunologist', 'aucklandd', 'waitkato', 'boosts', 'denis', 'mukwege', 'congolese', 'fabricate', 'nanded', 'reaney', 'valve', 'exhaled', 'seal', 'facd', 'ingress', 'paint', 'lol', 'wobble', 'mate', 'adjust', 'ufc', 'anticipated', 'snuck', 'unforeseen', 'disagreed', 'proposing', 'lawsuits', 'jonathan', 'ashworth', 'lnjp', 'foodsafety', 'spoil', 'meats', 'eggs', 'yr', 'beaches', 'los', 'angeles', 'buenaventura', 'valle', 'cauca', 'ctor', 'hugo', 'vidal', 'complaint', 'attorney', 'functions', 'reinfection', 'friendly', 'humour', 'lgbtq', 'diversity', 'onion', 'pinch', 'helmet', 'pothole', 'targeting', 'amal', 'clooney', 'quits', 'envoy', 'emotions', 'respecting', 'lately', 'flare', 'nightly', 'portland', 'politifact', 'antifa', 'anarchists', 'marxist', 'revered', 'ego', 'satanic', 'wrecking', 'havoc', 'swiftly', 'decisively', 'ditch', 'dearicai', 'modigovtfailed', 'chenqiushi', 'zhangzhan', 'strike', 'fangbin', 'exhaustion', 'loneliness', 'backdate', 'unanimously', 'constitutes', 'cutest', 'anahita', 'stoner', 'strung', 'ttsi', 'secondly', 'eighth', 'snake', 'coronabeer', 'tireless', 'curative', 'takeresponslibility', 'paz', 'blankets', 'breakinghot', 'artificial', 'secures', 'vegetarians', 'fain', 'tosurvive', 'tailored', 'geographically', 'matches', 'fwiw', 'prophetic', 'encounters', 'goulding', 'amazed', 'bahia', 'dismissed', 'appealed', 'inaccurate', 'insects', 'camera', 'recite', 'hanuman', 'chalisa', 'misusing', 'tramps', 'inflation', 'piltdown', 'camilla', 'parker', 'bowls', 'rescuing', 'archie', 'secr', 'shoes', 'mic', 'insulting', 'statistical', 'ayurved', 'advertising', 'tennis', 'champion', 'novak', 'djokovic', 'adria', 'recipes', 'osha', 'unauthorized', 'plot', 'clintons', 'technically', 'evinindia', 'wastage', 'penalty', 'specialized', 'quantities', 'usama', 'cuz', 'mazaak', 'nahin', 'hai', 'achieves', 'reversal', 'toppling', 'meghalaya', 'poet', 'varvara', 'accused', 'bhima', 'koregaon', 'nat', 'cooling', 'hixenbaugh', 'succeeded', 'covidol', 'emotional', 'cholera', 'epidemics', 'wreaked', 'overwhelmingly', 'efficaciously', 'redouble', 'eg', 'pioneering', 'julian', 'knight', 'disastrous', 'letterbox', 'pamphlets', 'flyers', 'hairstylist', 'iowa', 'clients', 'placebopills', 'accuracy', 'historically', 'roberto', 'gazolla', 'compensated', 'inflating', 'organize', 'disposal', 'furious', 'veil', 'reluctantly', 'sucks', 'prioritize', 'simulated', 'sultanpuri', 'questioned', 'crow', 'ona', 'foghornleghorn', 'heneryhawk', 'william', 'jeanine', 'deck', 'deeper', 'cheb', 'khaled', 'algerian', 'automation', 'rehome', 'bucket', 'ac', 'ncaa', 'searching', 'exploit', 'madness', 'marchmadness', 'nfl', 'prohibit', 'stadiums', 'footballamerican', 'smart', 'anubis', 'exploratory', 'lak', 'coronavrus', 'etsy', 'chloroxylenol', 'benzalkonium', 'chloride', 'instruction', 'triggered', 'certainly', 'considerable', 'typical', 'voluntarily', 'kochi', 'prefectural', 'displaying', 'hopeful', 'filmed', 'moinhos', 'vento', 'porto', 'alegre', 'translated', 'indecipherable', 'slang', 'rudolph', 'presenting', 'triple', 'pulaski', 'overloading', 'impaired', 'dnc', 'recreated', 'powerpoint', 'sanders', 'firewood', 'rundown', 'bachelorette', 'stranger', 'rashid', 'buttar', 'solely', 'throws', 'currency', 'petrol', 'pump', 'navsari', 'tvnews', 'jockeys', 'churchill', 'kentuckyderby', 'heaven', 'uae', 'infusing', 'masturbate', 'tirur', 'escaped', 'leni', 'robredo', 'suck', 'potent', 'inhibitor', 'avoidable', 'wipes', 'mesenchymal', 'stem', 'reconsidered', 'practise', 'cardiovascular', 'superimposed', 'abbasi', 'shaheed', 'karachi', 'tricks', 'completion', 'pfms', 'tsa', 'shouldering', 'entrusted', 'nutrition', 'schooling', 'puerta', 'hierro', 'geographical', 'sampling', 'cons', 'muhammadu', 'buhari', 'shaking', 'mohammed', 'isa', 'antidote', 'retreating', 'clownvirus', 'sjws', 'apocalypse', 'islander', 'recommending', 'evidenced', 'pumps', 'carmarthen', 'neath', 'morrisons', 'coordinator', 'sniffing', 'clove', 'camphor', 'spelled', 'backwards', 'nahuw', 'richardnixon', 'napoleon', 'flooded', 'dietary', 'personalized', 'crescent', 'reductions', 'outpatient', 'invites', 'mere', 'shab', 'azadi', 'spree', 'absolutely', 'madhu', 'haldi', 'thrice', 'kadha', 'pack', 'swasari', 'grobse', 'impt', 'ventillated', 'bitte', 'blowers', 'drs', 'fur', 'im', 'merci', 'entschuldigung', 'swizerdeutsch', 'countin', 'flowers', 'nothin', 'boredom', 'augustamasters', 'islamist', 'pp', 'precious', 'woke', 'byer', 'tablet', 'midcourse', 'mailinvoting', 'achha', 'chalta', 'hu', 'breathed', 'hast', 'bask', 'warmer', 'temperatures', 'straightforward', 'fourths', 'collaborated', 'benchmark', 'independenceday', 'probe', 'justicfortarun', 'tarun', 'hum', 'sawaal', 'utakar', 'hownsle', 'todti', 'sergienko', 'hardy', 'ops', 'grueling', 'visualizations', 'damaged', 'lungtransplant', 'southdelhi', 'sergio', 'quintero', 'venezuelan', 'argued', 'ml', 'spicy', 'ours', 'raw', 'urologists', 'resists', 'mandetta', 'singles', 'denialism', 'believing', 'patronize', 'pleads', 'realistic', 'expectations', 'melasma', 'sarcastic', 'separating', 'tincture', 'betadine', 'ensures', 'stimuluschecks', 'trumppressconf', 'surrounded', 'greatwallofchina', 'ocular', 'cited', 'retrovirus', 'disinformation', 'discredited', 'immuntiy', 'promoting', 'intentional', 'filipinos', 'catastrophic', 'suckers', 'warps', 'orbit', 'frontier', 'playboy', 'ana', 'brnabic', 'agents', 'vax', 'sterility', 'fad', 'sweeping', 'headlines', 'groupies', 'orlando', 'sourabhkp', 'balanced', 'streamlining', 'flow', 'planting', 'microchips', 'showrunner', 'recast', 'nhk', 'tired', 'homeschooling', 'watches', 'wishing', 'selfisolation', 'marvin', 'humes', 'rochelle', 'shite', 'usual', 'mustafa', 'londoners', 'strange', 'construction', 'huoshenshan', 'thaali', 'bajao', 'bhabhi', 'petal', 'showers', 'lights', 'mat', 'fantasy', 'nerd', 'primate', 'rasmussen', 'finger', 'gof', 'bury', 'balasore', 'shahrukh', 'complacent', 'blackpool', 'arif', 'rajpura', 'parameters', 'approvals', 'kingswood', 'morrinsville', 'miles', 'mas', 'separated', 'exhaustive', 'homoeopathic', 'spo', 'anybody', 'plotting', 'boe', 'guided', 'sabotage', 'reliance', 'jio', 'telecom', 'transfer', 'vulgar', 'intentionally', 'reinfected', 'subsequent', 'wards', 'aroha', 'described', 'bigpharmapuppets', 'ftse', 'pound', 'investors', 'prospect', 'tougher', 'tasty', 'fry', 'refreshing', 'alcoholic', 'beverage', 'headed', 'athens', 'antiseptic', 'lowering', 'correctional', 'detention', 'organizers', 'alternatives', 'handshakes', 'reassurance', 'rigorous', 'threads', 'keqiang', 'antivirus', 'nrl', 'unwashed', 'isabel', 'cela', 'purple', 'demonstration', 'afraid', 'nr', 'waitemat', 'hailed', 'doug', 'entertained', 'shark', 'btk', 'acalabrutinib', 'creeping', 'approving', 'encorafenib', 'cetuximab', 'braf', 'mcrc', 'pearls', 'jidea', 'refactor', 'extend', 'npis', 'codecheck', 'bel', 'inch', 'earned', 'godelhiites', 'willto', 'defended', 'retweet', 'declines', 'gemma', 'collins', 'anatomy', 'nuc', 'vrs', 'realism', 'respirator', 'shrime', 'exaggerating', 'cocktails', 'pibfactcheck', 'drauzio', 'varella', 'defends', 'lockout', 'fruition', 'solving', 'cccs', 'outset', 'authoritie', 'mobilise', 'msmes', 'disbursed', 'mahila', 'arogya', 'samitis', 'necessities', 'hy', 'systematic', 'ghaziabad', 'dripping', 'covidstudy', 'novotel', 'outstanding', 'progressives', 'martial', 'singer', 'sharda', 'sinha', 'sender', 'mergecaexamsjulyandnov', 'icai', 'icairespondnow', 'pls', 'gods', 'priests', 'mac', 'phd', 'tent', 'viamed', 'calahorra', 'rioja', 'threshold', 'imminent', 'occasionally', 'lengthy', 'divided', 'stickers', 'alternate', 'seats', 'signages', 'metrobackontrack', 'philosophy', 'presidents', 'hearings', 'courtrooms', 'fungus', 'characterised', 'shincheonji', 'perspective', 'confusion', 'impression', 'concentrating', 'forbidding', 'relationships', 'personalised', 'thrombotic', 'meharry', 'hildreth', 'backtrack', 'coronavaccine', 'implicitly', 'nervous', 'democraticdebate', 'datasets', 'huckabee', 'odd', 'insurgency', 'unleashed', 'listing', 'advisor', 'partnering', 'enlist', 'lows', 'gaiman', 'faerie', 'folk', 'sampoerna', 'cigarette', 'critiqued', 'thumbs', 'panama', 'canal', 'cruiseships', 'panamacanal', 'frenzy', 'malaysian', 'remarkable', 'avifavir', 'shopper', 'taskforce', 'constituted', 'qatar', 'rinascer', 'rinascerai', 'ills', 'expensive', 'bracelet', 'placed', 'bounced', 'artifact', 'dems', 'tobacconists', 'stars', 'socialism', 'saves', 'berniesanders', 'fidelcastro', 'rishi', 'sunak', 'campai', 'bolivar', 'sdsm', 'muhamed', 'zekiri', 'shoot', 'ceiling', 'theaters', 'whistling', 'charm', 'norway', 'oslo', 'mylan', 'innovative', 'infinity', 'congregations', 'phenomenon', 'incontext', 'arizonans', 'widening', 'toi', 'ohomai', 'raam', 'worlds', 'disastrously', 'transparently', 'reiterated', 'reinforced', 'nigella', 'fevers', 'prattle', 'unequally', 'mentalhealth', 'sharechat', 'publichealthreports', 'papers', 'inviting', 'publichealth', 'eager', 'upside', 'bitter', 'gourd', 'nodal', 'andrews', 'selfish', 'outlined', 'fom', 'constructed', 'downloaded', 'entries', 'labels', 'hapless', 'pharmacological', 'perspectives', 'derivatives', 'hardworking', 'unsung', 'guillermo', 'responder', 'tallied', 'responsibly', 'directing', 'cessation', 'mortuary', 'eerily', 'unofficial', 'rollingstones', 'imposters', 'hazmat', 'suits', 'stockton', 'calif', 'robbery', 'jessica', 'travels', 'whining', 'btw', 'weights', 'usurped', 'technologies', 'utilized', 'drain', 'swamp', 'relieve', 'lessen', 'localised', 'clinician', 'underscore', 'junos', 'reconfigure', 'participated', 'lugansk', 'separatist', 'scattered', 'sanitized', 'pna', 'disobeying', 'falsely', 'huawei', 'distracting', 'huaweiwatchgt', 'chinacoronavirus', 'corononavirus', 'swabbing', 'preferred', 'implanting', 'thirteen', 'jean', 'roger', 'rivals', 'outline', 'mates', 'hunting', 'activation', 'afriglobal', 'medicare', 'sahel', 'intake', 'toxin', 'shuts', 'ophthalmologist', 'untoward', 'morbidityas', 'abandoned', 'hut', 'brick', 'tray', 'cups', 'disheveled', 'confident', 'indianarmy', 'coronawarriorsindia', 'salutecoronawarriors', 'sang', 'anthem', 'itaperuna', 'exclusion', 'docs', 'pharmacy', 'bendigo', 'actuals', 'nassarawa', 'salwar', 'bailed', 'floors', 'electric', 'flies', 'makhi', 'goverment', 'empowered', 'preppers', 'constant', 'announcements', 'humidity', 'jewellry', 'joyalukkas', 'grief', 'miscarriage', 'legend', 'rollingstonevaccineforcv', 'keithholdskeytovirusvaccine', 'rockandrollvaccine', 'resolutely', 'moh', 'inauguration', 'adiabo', 'carlos', 'unimed', 'michigans', 'tommy', 'tuberville', 'clue', 'positions', 'coats', 'foretold', 'havard', 'shi', 'reservoir', 'demolished', 'stations', 'henry', 'kissinger', 'unified', 'racist', 'wuflu', 'knowing', 'faced', 'conclusions', 'contrary', 'assertions', 'undercount', 'parameter', 'projected', 'ruining', 'wedge', 'lime', 'insolvency', 'broadest', 'unreliable', 'aggregate', 'reasonably', 'taj', 'mahal', 'cremations', 'ferrari', 'disgrace', 'dealt', 'projection', 'astrologer', 'abhigyan', 'anand', 'thecoronavirus', 'builds', 'stabilise', 'functioning', 'muammar', 'gaddafi', 'antidotes', 'solvent', 'recalling', 'ducey', 'collaborates', 'mckesson', 'hiding', 'amatitl', 'brisbane', 'recruiting', 'confront', 'ya', 'fluent', 'physics', 'patiently', 'slurry', 'rocked', 'elvis', 'elvispresley', 'rocknroll', 'memphis', 'elvislives', 'gracelands', 'hv', 'infra', 'spreader', 'stigmas', 'hang', 'policewoman', 'dizzy', 'horrified', 'controllable', 'synagogue', 'requisition', 'motorway', 'leaning', 'snapchat', 'koreans', 'bandwagon', 'swept', 'unhealthy', 'environments', 'flatlands', 'hills', 'disparate', 'ugly', 'compatible', 'secondary', 'pulmonologists', 'orleans', 'pelicans', 'allocating', 'scarce', 'medics', 'enhancement', 'policeman', 'migrating', 'ghebreyesus', 'voiceover', 'interactive', 'texts', 'portraying', 'catastrophe', 'imagine', 'inundated', 'cautioning', 'jamati', 'misbehavior', 'trainees', 'jkuat', 'cone', 'visors', 'sewage', 'dwarf', 'photographs', 'prostrate', 'remotely', 'agent', 'inferring', 'predicament', 'combine', 'dirty', 'cpap', 'rohini', 'flyover', 'kilos', 'bullet', 'holes', 'corruption', 'newyorkcity', 'rackets', 'unstable', 'freeze', 'hig', 'custody', 'usable', 'gloriously', 'otoh', 'shade', 'flatter', 'bacchan', 'subject', 'advisers', 'birx', 'audience', 'rating', 'downtown', 'adtd', 'versus', 'correlation', 'mandate', 'exp', 'yangon', 'havent', 'weekday', 'excluding', 'outlier', 'reminding', 'buddhist', 'smugly', 'buddhism', 'casually', 'props', 'karimganj', 'sierra', 'seroprevalence', 'igg', 'iga', 'igm', 'concerts', 'scraper', 'pioneer', 'jaroslav', 'belsky', 'bean', 'collapsed', 'sinn', 'varadkar', 'debunks', 'ownership', 'sleepless', 'nights', 'selfless', 'troops', 'indicative', 'checker', 'downloads', 'violations', 'defeated', 'meddling', 'gently', 'runni', 'lea', 'disproven', 'masked', 'sexyteens', 'attract', 'punishment', 'strengthened', 'cent', 'wits', 'chinatown', 'edited', 'vih', 'hockey', 'nhl', 'cancers', 'demi', 'lovato', 'ghazibad', 'stemi', 'depended', 'rex', 'johnwayne', 'cabin', 'mainland', 'renovations', 'implying', 'distractions', 'rheaarrested', 'swung', 'suntan', 'nicely', 'thesun', 'tan', 'physique', 'sunbathing', 'salman', 'namaskar', 'adaab', 'assalamu', 'alaikum', 'bidhuri', 'immunoglobulin', 'encephalitis', 'marginally', 'cobey', 'evolutionary', 'biologist', 'neighbors', 'cannabis', 'embassy', 'unsure', 'journalists', 'ceremonial', 'unto', 'inhibits', 'tc', 'increas', 'reiterates', 'inaugural', 'invest', 'maks', 'goggles', 'universally', 'shock', 'diligence', 'unverified', 'evolves', 'empress', 'astonishingly', 'cru', 'nursinghome', 'loredo', 'weird', 'clogged', 'hurdles', 'emergencies', 'fluv', 'forgive', 'flattenthecurve', 'mortgage', 'shea', 'periodic', 'kazakhstanis', 'anosmia', 'diminished', 'ageusia', 'telltale', 'sindh', 'humvee', 'epicentre', 'explosive', 'spirullina', 'anise', 'carries', 'tamiflu', 'dissimilar', 'niv', 'kashmir', 'misuse', 'esophagus', 'tummy', 'dhbs', 'adventure', 'mali', 'reclassified', 'banlic', 'cabuyao', 'laguna', 'sorrow', 'audi', 'demonstrate', 'chanakya', 'lotus', 'glare', 'pretence', 'savarkar', 'peddled', 'constructing', 'bigly', 'retractable', 'dome', 'bryan', 'steil', 'tru', 'westminster', 'parlors', 'letting', 'utpol', 'depicts', 'cheerleaders', 'wring', 'aworldindisorder', 'mural', 'legitimate', 'portend', 'pak', 'rrt', 'ramp', 'tinapa', 'qd', 'illustrations', 'patience', 'dominated', 'continuo', 'bayer', 'ag', 'woods', 'bigpharma', 'repositories', 'guidances', 'catfish', 'reais', 'asprin', 'folic', 'manifests', 'multiplies', 'inthe', 'chlorhexidine', 'sums', 'overheard', 'perfected', 'hosting', 'bhanhealth', 'plunge', 'nigh', 'opposes', 'kennedy', 'unsafe', 'reward', 'hippocratic', 'oath', 'mathematically', 'renew', 'pmet', 'revise', 'darin', 'lahood', 'casesare', 'gassed', 'ghislainemaxwell', 'crematorium', 'parmeshwar', 'arora', 'consultant', 'gangaram', 'colony', 'gurgaon', 'briefed', 'crashed', 'karipurairport', 'supplying', 'engages', 'phoning', 'emailing', 'wondrous', 'painted', 'lactancy', 'socioeconomic', 'dimension', 'pinpoint', 'pied', 'piper', 'potomac', 'disbands', 'unbands', 'cardiotwitter', 'lopez', 'sheltering', 'inches', 'jlo', 'wheelchairs', 'abakaliki', 'germaphobe', 'howie', 'mandel', 'simoncowell', 'criticizing', 'placing', 'bioengineered', 'reacting', 'rfid', 'beast', 'bubonic', 'carts', 'lurk', 'dilute', 'distanc', 'billiion', 'deferral', 'shady', 'sanction', 'ftc', 'chennai', 'catalyst', 'preventable', 'pneumococcal', 'tunisians', 'manila', 'jetpark', 'cutlery', 'owned', 'exhibit', 'mannequins', 'deceive', 'relaxing', 'congrasswoman', 'ilhan', 'omar', 'wars', 'cashew', 'checken', 'cashewchicken', 'plasmatherapy', 'incorporated', 'clemson', 'mascot', 'southcarolina', 'supress', 'fixes', 'violently', 'handcuffs', 'cnbc', 'survives', 'recognizing', 'autohemotherapy', 'rome', 'devbhatt', 'operated', 'handled', 'disheartening', 'stoned', 'statins', 'meta', 'retrospective', 'blogger', 'overseeing', 'sgrh', 'nites', 'manaus', 'nelson', 'teich', 'fraudulent', 'llano', 'corrientes', 'tablik', 'possession', 'lacks', 'recap', 'journeys', 'safer', 'drakeford', 'unstoppable', 'beet', 'understood', 'speeches', 'scathing', 'indictment', 'noel', 'gallagher', 'queuing', 'nm', 'chaco', 'tone', 'award', 'rightward', 'forecasting', 'exceeding', 'sleeping', 'soundly', 'facewine', 'secluedo', 'twatty', 'staggered', 'atul', 'garg', 'oldies', 'liberate', 'hsipaw', 'township', 'marked', 'nabarro', 'bother', 'doubles', 'dig', 'argues', 'compose', 'activecases', 'dhs', 'hid', 'dhsreport', 'stalling', 'diphtheria', 'tetanus', 'pertussis', 'dtp', 'measle', 'assassination', 'mahmoud', 'bazarti', 'exceptional', 'dimensions', 'acquire', 'tangled', 'gums', 'laxative', 'andywarhol', 'ayurveda', 'practitioner', 'devender', 'sharma', 'motivation', 'keeppushing', 'deliberating', 'contempl', 'confidential', 'kissing', 'blarney', 'combating', 'palermo', 'favipravir', 'inadequate', 'financing', 'inefficiency', 'inability', 'dots', 'reserved', 'ashley', 'intubate', 'dargah', 'covidnet', 'infertility']\n"
          ]
        }
      ]
    },
    {
      "cell_type": "code",
      "source": [
        "print (\"prediction scores:       \",   scores)\n",
        "print (\"\\nSA/GI target class:      \", target_class)\n",
        "print (\"\\nSA relevances:\")\n",
        "for idx, w in enumerate(words):\n",
        "    print (\"\\t\\t\\t\" + \"{:8.2f}\".format(R_words_SA[idx]) + \"\\t\" + w)\n",
        "print (\"\\nSA heatmap:\")    \n",
        "display(HTML(html_heatmap(words, R_words_SA)))\n",
        "print (\"\\nGI relevances:\")\n",
        "for idx, w in enumerate(words):\n",
        "    print (\"\\t\\t\\t\" + \"{:8.2f}\".format(R_words_GI[idx]) + \"\\t\" + w)\n",
        "print (\"\\nGI heatmap:\")    \n",
        "display(HTML(html_heatmap(words, R_words_GI)))"
      ],
      "metadata": {
        "id": "VknOZb-wP3KU",
        "colab": {
          "base_uri": "https://localhost:8080/",
          "height": 937
        },
        "outputId": "a01f5757-ce0d-4c03-d89d-6ac9259179c6"
      },
      "execution_count": null,
      "outputs": [
        {
          "output_type": "stream",
          "name": "stdout",
          "text": [
            "prediction scores:        [-4.43595332 -1.39615754  1.29417753  1.7439628  -0.06750484]\n",
            "\n",
            "SA/GI target class:       3\n",
            "\n",
            "SA relevances:\n",
            "\t\t\t    2.10\tindiafightscorona\n",
            "\t\t\t    0.89\twe\n",
            "\t\t\t    1.44\thave\n",
            "\t\t\t    0.85\tcovid\n",
            "\t\t\t    0.28\ttesting\n",
            "\t\t\t    1.11\tlaboratories\n",
            "\t\t\t    0.23\tin\n",
            "\t\t\t    0.02\tindia\n",
            "\t\t\t    0.01\tand\n",
            "\t\t\t    0.05\tas\n",
            "\t\t\t    0.19\ton\n",
            "\t\t\t    0.17\tth\n",
            "\t\t\t    0.08\taugust\n",
            "\t\t\t    0.09\ttests\n",
            "\t\t\t    0.26\thave\n",
            "\t\t\t    0.51\tbeen\n",
            "\t\t\t    0.90\tdone\n",
            "\t\t\t    0.07\tdg\n",
            "\t\t\t    0.03\tstaysafe\n",
            "\t\t\t    0.17\tindiawillwin\n",
            "\n",
            "SA heatmap:\n"
          ]
        },
        {
          "output_type": "display_data",
          "data": {
            "text/plain": [
              "<IPython.core.display.HTML object>"
            ],
            "text/html": [
              "<span style=\"background-color:#ff0000\">indiafightscorona</span> <span style=\"background-color:#ff9292\">we</span> <span style=\"background-color:#ff5050\">have</span> <span style=\"background-color:#ff9898\">covid</span> <span style=\"background-color:#ffdcdc\">testing</span> <span style=\"background-color:#ff7878\">laboratories</span> <span style=\"background-color:#ffe4e4\">in</span> <span style=\"background-color:#fffcfc\">india</span> <span style=\"background-color:#fffefe\">and</span> <span style=\"background-color:#fff8f8\">as</span> <span style=\"background-color:#ffe8e8\">on</span> <span style=\"background-color:#ffeaea\">th</span> <span style=\"background-color:#fff6f6\">august</span> <span style=\"background-color:#fff4f4\">tests</span> <span style=\"background-color:#ffdede\">have</span> <span style=\"background-color:#ffc0c0\">been</span> <span style=\"background-color:#ff9090\">done</span> <span style=\"background-color:#fff6f6\">dg</span> <span style=\"background-color:#fffcfc\">staysafe</span> <span style=\"background-color:#ffeaea\">indiawillwin</span> \n"
            ]
          },
          "metadata": {}
        },
        {
          "output_type": "stream",
          "name": "stdout",
          "text": [
            "\n",
            "GI relevances:\n",
            "\t\t\t    0.12\tindiafightscorona\n",
            "\t\t\t   -0.01\twe\n",
            "\t\t\t   -0.03\thave\n",
            "\t\t\t    0.17\tcovid\n",
            "\t\t\t   -0.03\ttesting\n",
            "\t\t\t    0.15\tlaboratories\n",
            "\t\t\t    0.18\tin\n",
            "\t\t\t    0.09\tindia\n",
            "\t\t\t    0.02\tand\n",
            "\t\t\t    0.08\tas\n",
            "\t\t\t    0.06\ton\n",
            "\t\t\t    0.06\tth\n",
            "\t\t\t    0.09\taugust\n",
            "\t\t\t    0.09\ttests\n",
            "\t\t\t    0.10\thave\n",
            "\t\t\t    0.12\tbeen\n",
            "\t\t\t    0.07\tdone\n",
            "\t\t\t    0.03\tdg\n",
            "\t\t\t   -0.01\tstaysafe\n",
            "\t\t\t    0.10\tindiawillwin\n",
            "\n",
            "GI heatmap:\n"
          ]
        },
        {
          "output_type": "display_data",
          "data": {
            "text/plain": [
              "<IPython.core.display.HTML object>"
            ],
            "text/html": [
              "<span style=\"background-color:#ff5656\">indiafightscorona</span> <span style=\"background-color:#f2f2ff\">we</span> <span style=\"background-color:#ccccff\">have</span> <span style=\"background-color:#ff0808\">covid</span> <span style=\"background-color:#d2d2ff\">testing</span> <span style=\"background-color:#ff2626\">laboratories</span> <span style=\"background-color:#ff0000\">in</span> <span style=\"background-color:#ff7979\">india</span> <span style=\"background-color:#ffe6e6\">and</span> <span style=\"background-color:#ff8a8a\">as</span> <span style=\"background-color:#ffa8a8\">on</span> <span style=\"background-color:#ffacac\">th</span> <span style=\"background-color:#ff7474\">august</span> <span style=\"background-color:#ff7878\">tests</span> <span style=\"background-color:#ff6c6c\">have</span> <span style=\"background-color:#ff4949\">been</span> <span style=\"background-color:#ff9e9e\">done</span> <span style=\"background-color:#ffd8d8\">dg</span> <span style=\"background-color:#f3f3ff\">staysafe</span> <span style=\"background-color:#ff6868\">indiawillwin</span> \n"
            ]
          },
          "metadata": {}
        }
      ]
    }
  ]
}